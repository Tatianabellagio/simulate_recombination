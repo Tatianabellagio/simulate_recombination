{
 "cells": [
  {
   "attachments": {},
   "cell_type": "markdown",
   "metadata": {},
   "source": [
    "In this script i will generate from the vcf files from slim a table of allele counts per snp for all the populations as an input for baypass \n",
    "so the ouput should be, each row a snp positions and each colum the number of population X 2 since the first column is allele ref, the second alt allele"
   ]
  },
  {
   "cell_type": "code",
   "execution_count": 2,
   "metadata": {},
   "outputs": [],
   "source": [
    "import numpy as np\n",
    "import pandas as pd\n",
    "import seaborn as sns\n",
    "import scipy.stats as stats\n",
    "import math \n",
    "import os\n",
    "\n",
    "import matplotlib.pyplot as plt\n",
    "\n",
    "import allel\n",
    "import subprocess"
   ]
  },
  {
   "cell_type": "code",
   "execution_count": 3,
   "metadata": {},
   "outputs": [],
   "source": [
    "def chek_indivn(df):\n",
    "    # get the number of columns in the dataframe\n",
    "    n_cols = len(df.columns)\n",
    "    # create a list of column indices, each representing a pair of columns to be summed\n",
    "    col_indices = [(2*i, 2*i+1) for i in range(n_cols//2)]   \n",
    "    # sum the pairs of columns and concatenate the resulting series\n",
    "    return pd.concat([df.iloc[:,i].add(df.iloc[:,j]) for (i,j) in col_indices], axis=1)"
   ]
  },
  {
   "cell_type": "code",
   "execution_count": 4,
   "metadata": {},
   "outputs": [],
   "source": [
    "dir_cluster =  '/Users/tbellagio/tbellagio_cluster/simulations/slim_grenenet/vcf_slim/'"
   ]
  },
  {
   "cell_type": "code",
   "execution_count": 23,
   "metadata": {},
   "outputs": [
    {
     "name": "stdout",
     "output_type": "stream",
     "text": [
      "optima0\n",
      "['subp9.vcf', 'subp0.vcf', 'subp7.vcf', 'subp6.vcf', 'subp1.vcf', 'subp8.vcf', 'subp11.vcf', 'subp2.vcf', 'subp5.vcf', 'subp10.vcf', 'subp4.vcf', 'subp3.vcf']\n",
      "optima3\n",
      "['subp8.vcf', 'subp1.vcf', 'subp6.vcf', 'subp7.vcf', 'subp0.vcf', 'subp9.vcf', 'subp3.vcf', 'subp4.vcf', 'subp11.vcf', 'subp5.vcf', 'subp2.vcf', 'subp10.vcf']\n",
      "optima1\n",
      "['subp10.vcf', 'subp4.vcf', 'subp3.vcf', 'subp2.vcf', 'subp11.vcf', 'subp5.vcf', 'subp6.vcf', 'subp1.vcf', 'subp8.vcf', 'subp9.vcf', 'subp0.vcf', 'subp7.vcf']\n",
      "optima2\n",
      "['subp5.vcf', 'subp11.vcf', 'subp2.vcf', 'subp3.vcf', 'subp4.vcf', 'subp10.vcf', 'subp9.vcf', 'subp7.vcf', 'subp0.vcf', 'subp1.vcf', 'subp6.vcf', 'subp8.vcf']\n"
     ]
    }
   ],
   "source": [
    "for optima in os.listdir(dir_cluster):\n",
    "  \n",
    " optima_subp = os.listdir(dir_cluster + optima + '/') \n",
    " if len(optima_subp)>0:\n",
    "    print(optima)\n",
    "    print(optima_subp)"
   ]
  },
  {
   "cell_type": "code",
   "execution_count": 9,
   "metadata": {},
   "outputs": [
    {
     "name": "stdout",
     "output_type": "stream",
     "text": [
      "67354\n",
      "900.0\n",
      "55306\n",
      "900.0\n",
      "67331\n",
      "900.0\n",
      "67355\n",
      "900.0\n",
      "74063\n",
      "900.0\n",
      "67347\n",
      "900.0\n",
      "67353\n",
      "900.0\n",
      "67354\n",
      "900.0\n",
      "67332\n",
      "900.0\n",
      "73047\n",
      "900.0\n",
      "55306\n",
      "900.0\n",
      "55306\n",
      "900.0\n"
     ]
    }
   ],
   "source": [
    "### create a dictionary where 1 dataframe containing all the replicates for each optima is saved \n",
    "\n",
    "allele_counts = pd.DataFrame()\n",
    "indiv_number = pd.DataFrame()\n",
    "#  take all the vcf files in the folder \n",
    "for optima in ['optima0', ]: #os.listdir(dir_cluster):\n",
    "    optima_subp = os.listdir(dir_cluster + optima + '/')\n",
    "    subps = [i for i in optima_subp if '.vcf' in i ]\n",
    "    \n",
    "    for subp in subps:\n",
    "        vcf = allel.read_vcf(dir_cluster + optima + '/' + subp)\n",
    "        print(len(vcf['variants/POS']))\n",
    "        genotypes = allel.GenotypeArray(vcf['calldata/GT'])\n",
    "        ref_allele_counts = genotypes.count_alleles()[:, 0]\n",
    "        alt_allele_counts = genotypes.count_alleles()[:, 1]\n",
    "\n",
    "        subp0 = pd.DataFrame(data ={'ref_' + optima+subp[:-4]:ref_allele_counts, 'alt_'+ optima + subp[:-4]: alt_allele_counts}, index = vcf['variants/POS'], )\n",
    "        number_of_ind = (subp0.iloc[0, 0] + subp0.iloc[0, 1]) / 2 \n",
    "        print(number_of_ind)\n",
    "        indiv_number[optima + subp[:-4]] = [number_of_ind]\n",
    "        allele_counts = pd.concat([allele_counts, subp0], axis=1)"
   ]
  },
  {
   "cell_type": "code",
   "execution_count": 20,
   "metadata": {},
   "outputs": [],
   "source": [
    "### if the alt is nan is because it is 0, and if the ref is nan is because it is the max number (number of individuals)\n",
    "\n",
    "for col in allele_counts.columns:\n",
    "    if 'ref_' in col: \n",
    "        allele_counts.loc[:,col] = allele_counts.loc[:, col].fillna(indiv_number.loc[0, col[4:]])\n",
    "    elif 'alt_' in col:\n",
    "        allele_counts.loc[:,col] = allele_counts.loc[:, col].fillna(0)"
   ]
  },
  {
   "cell_type": "code",
   "execution_count": 29,
   "metadata": {},
   "outputs": [],
   "source": [
    "allele_counts = allele_counts.reset_index().rename(columns={'index': 'pos'})"
   ]
  },
  {
   "cell_type": "code",
   "execution_count": 31,
   "metadata": {},
   "outputs": [],
   "source": [
    "allele_counts.to_csv('results_slim/pi0.001beta5/allele_counts.csv')"
   ]
  },
  {
   "cell_type": "code",
   "execution_count": 33,
   "metadata": {},
   "outputs": [],
   "source": [
    "indiv_number.to_csv('results_slim/pi0.001beta5/pool_sizes.csv', index=None)"
   ]
  },
  {
   "cell_type": "code",
   "execution_count": null,
   "metadata": {},
   "outputs": [],
   "source": []
  }
 ],
 "metadata": {
  "kernelspec": {
   "display_name": "Python 3 (ipykernel)",
   "language": "python",
   "name": "python3"
  },
  "language_info": {
   "codemirror_mode": {
    "name": "ipython",
    "version": 3
   },
   "file_extension": ".py",
   "mimetype": "text/x-python",
   "name": "python",
   "nbconvert_exporter": "python",
   "pygments_lexer": "ipython3",
   "version": "3.9.15"
  },
  "vscode": {
   "interpreter": {
    "hash": "2c170c2cafb8c65435a744e157724b3d1ad9140b45d60c0c766e814f0b07766e"
   }
  }
 },
 "nbformat": 4,
 "nbformat_minor": 2
}
