{
 "cells": [
  {
   "attachments": {},
   "cell_type": "markdown",
   "metadata": {},
   "source": [
    "Calculating a recombination map from crossovers\n",
    "\n",
    "So I found a paper https://www.nature.com/articles/hdy201195#Sec15 where thye show recombination maps in all the chromosomes of arabidopsis thaliana. \n",
    "I downloaded their data and they only have XO counts, so basically crossover event counts across SNPs in all the populations they grew\n",
    "\n",
    "They grew 17 different populations and had approximately 64 markers (SNPS), so they have information about the number of crosses in between markers, the location of the markers, and an estimation of where the cross happened (this is just a middlepoint in between the markers).\n",
    "\n",
    "The recombination rate will be:\n",
    "\n",
    "Recombination rate = Genetic distance / Physical distance\n",
    "\n",
    "So for that, i took they data they have on genetic distance calculated based on the Haldane fromula (notice that they have it as an acumulation across markers), so first i had to caclulate the actual genetic distance among the markers, and then calculate the physical distance (distance in mbp between markers) and with all that calculate the recombination rate. \n",
    "\n"
   ]
  },
  {
   "attachments": {},
   "cell_type": "markdown",
   "metadata": {},
   "source": [
    "Imports"
   ]
  },
  {
   "cell_type": "code",
   "execution_count": 743,
   "metadata": {},
   "outputs": [],
   "source": [
    "import numpy as np\n",
    "import pandas as pd\n",
    "import xlrd\n",
    "import random\n",
    "\n",
    "import seaborn as sns\n",
    "import matplotlib.pyplot as plt"
   ]
  },
  {
   "attachments": {},
   "cell_type": "markdown",
   "metadata": {},
   "source": [
    "Code"
   ]
  },
  {
   "cell_type": "code",
   "execution_count": 744,
   "metadata": {},
   "outputs": [],
   "source": [
    "gd = pd.ExcelFile(\"maps K H CF.xls\")"
   ]
  },
  {
   "cell_type": "code",
   "execution_count": 745,
   "metadata": {},
   "outputs": [],
   "source": [
    "all_pop = pd.DataFrame()\n",
    "for sheet in gd.sheet_names: \n",
    "    sheetdf = gd.parse(sheet)\n",
    "    row, col = np.where(sheetdf == 'chromosome 5')\n",
    "    row, col = row[0], col[0]\n",
    "    chr5 = sheetdf.iloc[row:, col:]\n",
    "    chr5.columns = chr5.iloc[2]\n",
    "    chr5['snp_right'] = chr5['SNP'].str.replace('5-', '')\n",
    "    chr5['snp_left'] = chr5['snp_right']\n",
    "    chr5['snp_left'] = chr5['snp_left'].shift(1)\n",
    "\n",
    "    chr5 = chr5.drop([1,2,3,4]) \n",
    "    chr5['physical_distance'] = chr5['snp_right'].astype(float) - chr5['snp_left'].astype(float) \n",
    "    chr5['physical_distance_mbp'] = chr5['physical_distance'] / 1000000\n",
    "    chr5['midpoint'] = (chr5['snp_right'].astype(float) + chr5['snp_left'].astype(float))/2\n",
    "    chr5['midpoint_mbp'] = chr5['midpoint'] /1000000\n",
    "\n",
    "    chr5['gd'] = chr5['H'].diff()\n",
    "    chr5 = chr5.reset_index(drop=True)\n",
    "    chr5.loc[0,'gd'] =  chr5.loc[0,'H']\n",
    "    chr5['recomb_rate'] = chr5['gd'] / chr5['physical_distance_mbp']\n",
    "    chr5['pop'] = sheet.split()[0]\n",
    "    all_pop= pd.concat([all_pop, chr5],axis=0)\n",
    "    "
   ]
  },
  {
   "cell_type": "code",
   "execution_count": 746,
   "metadata": {},
   "outputs": [],
   "source": [
    "all_pop = all_pop.dropna()"
   ]
  },
  {
   "cell_type": "code",
   "execution_count": 747,
   "metadata": {},
   "outputs": [],
   "source": [
    "recomb_rate_mean = all_pop.groupby(['midpoint_mbp'])['recomb_rate'].mean().reset_index()"
   ]
  },
  {
   "cell_type": "code",
   "execution_count": 748,
   "metadata": {},
   "outputs": [],
   "source": [
    "recomb_rate_mean['pop'] = 'mean'"
   ]
  },
  {
   "cell_type": "code",
   "execution_count": 749,
   "metadata": {},
   "outputs": [],
   "source": [
    "recomb_rate = all_pop.groupby(['midpoint_mbp','pop'])['recomb_rate'].mean().reset_index()"
   ]
  },
  {
   "cell_type": "code",
   "execution_count": 753,
   "metadata": {},
   "outputs": [
    {
     "data": {
      "text/plain": [
       "3.7494082526297445"
      ]
     },
     "execution_count": 753,
     "metadata": {},
     "output_type": "execute_result"
    }
   ],
   "source": [
    "recomb_rate['recomb_rate'].mean()"
   ]
  },
  {
   "cell_type": "code",
   "execution_count": 763,
   "metadata": {},
   "outputs": [
    {
     "data": {
      "text/plain": [
       "(0.25307401, 0.23772973, 0.48316271)"
      ]
     },
     "execution_count": 763,
     "metadata": {},
     "output_type": "execute_result"
    }
   ],
   "source": [
    "sns.color_palette(\"mako\")[1]"
   ]
  },
  {
   "cell_type": "code",
   "execution_count": 762,
   "metadata": {},
   "outputs": [
    {
     "data": {
      "text/html": [
       "<svg  width=\"330\" height=\"55\"><rect x=\"0\" y=\"0\" width=\"55\" height=\"55\" style=\"fill:#f77189;stroke-width:2;stroke:rgb(255,255,255)\"/><rect x=\"55\" y=\"0\" width=\"55\" height=\"55\" style=\"fill:#bb9832;stroke-width:2;stroke:rgb(255,255,255)\"/><rect x=\"110\" y=\"0\" width=\"55\" height=\"55\" style=\"fill:#50b131;stroke-width:2;stroke:rgb(255,255,255)\"/><rect x=\"165\" y=\"0\" width=\"55\" height=\"55\" style=\"fill:#36ada4;stroke-width:2;stroke:rgb(255,255,255)\"/><rect x=\"220\" y=\"0\" width=\"55\" height=\"55\" style=\"fill:#3ba3ec;stroke-width:2;stroke:rgb(255,255,255)\"/><rect x=\"275\" y=\"0\" width=\"55\" height=\"55\" style=\"fill:#e866f4;stroke-width:2;stroke:rgb(255,255,255)\"/></svg>"
      ],
      "text/plain": [
       "[(0.9677975592919913, 0.44127456009157356, 0.5358103155058701),\n",
       " (0.7350228985632719, 0.5952719904750953, 0.1944419133847522),\n",
       " (0.3126890019504329, 0.6928754610296064, 0.1923704830330379),\n",
       " (0.21044753832183283, 0.6773105080456748, 0.6433941168468681),\n",
       " (0.23299120924703914, 0.639586552066035, 0.9260706093977744),\n",
       " (0.9082572436765556, 0.40195790729656516, 0.9576909250290225)]"
      ]
     },
     "execution_count": 762,
     "metadata": {},
     "output_type": "execute_result"
    }
   ],
   "source": [
    "sns.husl_palette()"
   ]
  },
  {
   "cell_type": "code",
   "execution_count": 761,
   "metadata": {},
   "outputs": [
    {
     "ename": "AttributeError",
     "evalue": "module 'seaborn' has no attribute 'mako'",
     "output_type": "error",
     "traceback": [
      "\u001b[0;31m---------------------------------------------------------------------------\u001b[0m",
      "\u001b[0;31mAttributeError\u001b[0m                            Traceback (most recent call last)",
      "Cell \u001b[0;32mIn[761], line 1\u001b[0m\n\u001b[0;32m----> 1\u001b[0m palette \u001b[39m=\u001b[39m \u001b[39miter\u001b[39m(sns\u001b[39m.\u001b[39;49mmako(\u001b[39m2\u001b[39m))\n",
      "\u001b[0;31mAttributeError\u001b[0m: module 'seaborn' has no attribute 'mako'"
     ]
    }
   ],
   "source": [
    "palette = iter(sns.husl_palette(2))"
   ]
  },
  {
   "cell_type": "code",
   "execution_count": 774,
   "metadata": {},
   "outputs": [
    {
     "data": {
      "image/png": "[encoded data removed]",
      "text/plain": [
       "<Figure size 1000x500 with 1 Axes>"
      ]
     },
     "metadata": {},
     "output_type": "display_data"
    }
   ],
   "source": [
    "fig, ax = plt.subplots(figsize=(10, 5))\n",
    "\n",
    "sns.lineplot(data=recomb_rate, x='midpoint_mbp', y='recomb_rate',hue='pop',ax=ax, palette=['lightgrey']*16)\n",
    "sns.lineplot(data=recomb_rate_mean, x='midpoint_mbp', y='recomb_rate',ax=ax, color=sns.color_palette(\"Blues\")[3])\n",
    "ax.legend(loc='upper right', fontsize='small', ncol=3)\n",
    "\n",
    "\n",
    "title_font = {'family': 'Roboto', 'size': 12,}\n",
    "label_font = {'family': 'Roboto', 'size': 12, 'weight': 'normal', 'style': 'italic'}\n",
    "\n",
    "plt.xlabel('Mbp Chr5',  fontdict=label_font)\n",
    "plt.ylabel('Recomb rate (Cm/Mbp)', fontdict=label_font)\n",
    "plt.title('Recombination rate across Chr5', fontdict=title_font)\n",
    "\n",
    "# Add horizontal asymptote, mean recomb rate \n",
    "plt.axhline(y=recomb_rate['recomb_rate'].mean(), color=sns.color_palette(\"Blues\")[4], linestyle='--')\n",
    "\n",
    "plt.show()"
   ]
  },
  {
   "cell_type": "code",
   "execution_count": null,
   "metadata": {},
   "outputs": [],
   "source": [
    "#### but for slim format i have to give the rate and the end of the chunk "
   ]
  },
  {
   "cell_type": "code",
   "execution_count": 723,
   "metadata": {},
   "outputs": [
    {
     "data": {
      "text/html": [
       "<div>\n",
       "<style scoped>\n",
       "    .dataframe tbody tr th:only-of-type {\n",
       "        vertical-align: middle;\n",
       "    }\n",
       "\n",
       "    .dataframe tbody tr th {\n",
       "        vertical-align: top;\n",
       "    }\n",
       "\n",
       "    .dataframe thead th {\n",
       "        text-align: right;\n",
       "    }\n",
       "</style>\n",
       "<table border=\"1\" class=\"dataframe\">\n",
       "  <thead>\n",
       "    <tr style=\"text-align: right;\">\n",
       "      <th>3</th>\n",
       "      <th>SNP</th>\n",
       "      <th>K</th>\n",
       "      <th>H</th>\n",
       "      <th>CF</th>\n",
       "      <th>snp_right</th>\n",
       "      <th>snp_left</th>\n",
       "      <th>physical_distance</th>\n",
       "      <th>physical_distance_mbp</th>\n",
       "      <th>midpoint</th>\n",
       "      <th>midpoint_mbp</th>\n",
       "      <th>gd</th>\n",
       "      <th>recomb_rate</th>\n",
       "      <th>pop</th>\n",
       "    </tr>\n",
       "  </thead>\n",
       "  <tbody>\n",
       "    <tr>\n",
       "      <th>0</th>\n",
       "      <td>5-271377</td>\n",
       "      <td>3.086587</td>\n",
       "      <td>3.181797</td>\n",
       "      <td>3.082682</td>\n",
       "      <td>271377</td>\n",
       "      <td>27343</td>\n",
       "      <td>244034.0</td>\n",
       "      <td>0.244034</td>\n",
       "      <td>149360.0</td>\n",
       "      <td>0.149360</td>\n",
       "      <td>3.181797</td>\n",
       "      <td>13.038335</td>\n",
       "      <td>P2</td>\n",
       "    </tr>\n",
       "    <tr>\n",
       "      <th>1</th>\n",
       "      <td>5-508090</td>\n",
       "      <td>7.361843</td>\n",
       "      <td>7.639608</td>\n",
       "      <td>7.347593</td>\n",
       "      <td>508090</td>\n",
       "      <td>271377</td>\n",
       "      <td>236713.0</td>\n",
       "      <td>0.236713</td>\n",
       "      <td>389733.5</td>\n",
       "      <td>0.389734</td>\n",
       "      <td>4.457811</td>\n",
       "      <td>18.832134</td>\n",
       "      <td>P2</td>\n",
       "    </tr>\n",
       "    <tr>\n",
       "      <th>2</th>\n",
       "      <td>5-1384732</td>\n",
       "      <td>12.486854</td>\n",
       "      <td>13.026818</td>\n",
       "      <td>12.454843</td>\n",
       "      <td>1384732</td>\n",
       "      <td>508090</td>\n",
       "      <td>876642.0</td>\n",
       "      <td>0.876642</td>\n",
       "      <td>946411.0</td>\n",
       "      <td>0.946411</td>\n",
       "      <td>5.38721</td>\n",
       "      <td>6.145279</td>\n",
       "      <td>P2</td>\n",
       "    </tr>\n",
       "    <tr>\n",
       "      <th>3</th>\n",
       "      <td>5-1603469</td>\n",
       "      <td>13.109519</td>\n",
       "      <td>13.65336</td>\n",
       "      <td>13.077475</td>\n",
       "      <td>1603469</td>\n",
       "      <td>1384732</td>\n",
       "      <td>218737.0</td>\n",
       "      <td>0.218737</td>\n",
       "      <td>1494100.5</td>\n",
       "      <td>1.494101</td>\n",
       "      <td>0.626542</td>\n",
       "      <td>2.864362</td>\n",
       "      <td>P2</td>\n",
       "    </tr>\n",
       "    <tr>\n",
       "      <th>4</th>\n",
       "      <td>5-1917139</td>\n",
       "      <td>14.742004</td>\n",
       "      <td>15.31249</td>\n",
       "      <td>14.709381</td>\n",
       "      <td>1917139</td>\n",
       "      <td>1603469</td>\n",
       "      <td>313670.0</td>\n",
       "      <td>0.313670</td>\n",
       "      <td>1760304.0</td>\n",
       "      <td>1.760304</td>\n",
       "      <td>1.65913</td>\n",
       "      <td>5.289412</td>\n",
       "      <td>P2</td>\n",
       "    </tr>\n",
       "    <tr>\n",
       "      <th>...</th>\n",
       "      <td>...</td>\n",
       "      <td>...</td>\n",
       "      <td>...</td>\n",
       "      <td>...</td>\n",
       "      <td>...</td>\n",
       "      <td>...</td>\n",
       "      <td>...</td>\n",
       "      <td>...</td>\n",
       "      <td>...</td>\n",
       "      <td>...</td>\n",
       "      <td>...</td>\n",
       "      <td>...</td>\n",
       "      <td>...</td>\n",
       "    </tr>\n",
       "    <tr>\n",
       "      <th>46</th>\n",
       "      <td>5-23447475</td>\n",
       "      <td>72.118906</td>\n",
       "      <td>74.22347</td>\n",
       "      <td>72.009874</td>\n",
       "      <td>23447475</td>\n",
       "      <td>23272788</td>\n",
       "      <td>174687.0</td>\n",
       "      <td>0.174687</td>\n",
       "      <td>23360131.5</td>\n",
       "      <td>23.360132</td>\n",
       "      <td>1.062074</td>\n",
       "      <td>6.079869</td>\n",
       "      <td>P169</td>\n",
       "    </tr>\n",
       "    <tr>\n",
       "      <th>47</th>\n",
       "      <td>5-23796622</td>\n",
       "      <td>72.416622</td>\n",
       "      <td>74.522072</td>\n",
       "      <td>72.307586</td>\n",
       "      <td>23796622</td>\n",
       "      <td>23447475</td>\n",
       "      <td>349147.0</td>\n",
       "      <td>0.349147</td>\n",
       "      <td>23622048.5</td>\n",
       "      <td>23.622048</td>\n",
       "      <td>0.298602</td>\n",
       "      <td>0.855233</td>\n",
       "      <td>P169</td>\n",
       "    </tr>\n",
       "    <tr>\n",
       "      <th>48</th>\n",
       "      <td>5-24757037</td>\n",
       "      <td>75.082381</td>\n",
       "      <td>77.258861</td>\n",
       "      <td>74.970827</td>\n",
       "      <td>24757037</td>\n",
       "      <td>23796622</td>\n",
       "      <td>960415.0</td>\n",
       "      <td>0.960415</td>\n",
       "      <td>24276829.5</td>\n",
       "      <td>24.276830</td>\n",
       "      <td>2.736789</td>\n",
       "      <td>2.84959</td>\n",
       "      <td>P169</td>\n",
       "    </tr>\n",
       "    <tr>\n",
       "      <th>49</th>\n",
       "      <td>5-25683652</td>\n",
       "      <td>77.513474</td>\n",
       "      <td>79.749032</td>\n",
       "      <td>77.400008</td>\n",
       "      <td>25683652</td>\n",
       "      <td>24757037</td>\n",
       "      <td>926615.0</td>\n",
       "      <td>0.926615</td>\n",
       "      <td>25220344.5</td>\n",
       "      <td>25.220344</td>\n",
       "      <td>2.490171</td>\n",
       "      <td>2.687385</td>\n",
       "      <td>P169</td>\n",
       "    </tr>\n",
       "    <tr>\n",
       "      <th>50</th>\n",
       "      <td>5-26783646</td>\n",
       "      <td>82.880342</td>\n",
       "      <td>85.403382</td>\n",
       "      <td>82.7465</td>\n",
       "      <td>26783646</td>\n",
       "      <td>25683652</td>\n",
       "      <td>1099994.0</td>\n",
       "      <td>1.099994</td>\n",
       "      <td>26233649.0</td>\n",
       "      <td>26.233649</td>\n",
       "      <td>5.65435</td>\n",
       "      <td>5.140346</td>\n",
       "      <td>P169</td>\n",
       "    </tr>\n",
       "  </tbody>\n",
       "</table>\n",
       "<p>839 rows × 13 columns</p>\n",
       "</div>"
      ],
      "text/plain": [
       "3          SNP          K          H         CF snp_right  snp_left  \\\n",
       "0     5-271377   3.086587   3.181797   3.082682    271377     27343   \n",
       "1     5-508090   7.361843   7.639608   7.347593    508090    271377   \n",
       "2    5-1384732  12.486854  13.026818  12.454843   1384732    508090   \n",
       "3    5-1603469  13.109519   13.65336  13.077475   1603469   1384732   \n",
       "4    5-1917139  14.742004   15.31249  14.709381   1917139   1603469   \n",
       "..         ...        ...        ...        ...       ...       ...   \n",
       "46  5-23447475  72.118906   74.22347  72.009874  23447475  23272788   \n",
       "47  5-23796622  72.416622  74.522072  72.307586  23796622  23447475   \n",
       "48  5-24757037  75.082381  77.258861  74.970827  24757037  23796622   \n",
       "49  5-25683652  77.513474  79.749032  77.400008  25683652  24757037   \n",
       "50  5-26783646  82.880342  85.403382    82.7465  26783646  25683652   \n",
       "\n",
       "3   physical_distance  physical_distance_mbp    midpoint  midpoint_mbp  \\\n",
       "0            244034.0               0.244034    149360.0      0.149360   \n",
       "1            236713.0               0.236713    389733.5      0.389734   \n",
       "2            876642.0               0.876642    946411.0      0.946411   \n",
       "3            218737.0               0.218737   1494100.5      1.494101   \n",
       "4            313670.0               0.313670   1760304.0      1.760304   \n",
       "..                ...                    ...         ...           ...   \n",
       "46           174687.0               0.174687  23360131.5     23.360132   \n",
       "47           349147.0               0.349147  23622048.5     23.622048   \n",
       "48           960415.0               0.960415  24276829.5     24.276830   \n",
       "49           926615.0               0.926615  25220344.5     25.220344   \n",
       "50          1099994.0               1.099994  26233649.0     26.233649   \n",
       "\n",
       "3         gd recomb_rate   pop  \n",
       "0   3.181797   13.038335    P2  \n",
       "1   4.457811   18.832134    P2  \n",
       "2    5.38721    6.145279    P2  \n",
       "3   0.626542    2.864362    P2  \n",
       "4    1.65913    5.289412    P2  \n",
       "..       ...         ...   ...  \n",
       "46  1.062074    6.079869  P169  \n",
       "47  0.298602    0.855233  P169  \n",
       "48  2.736789     2.84959  P169  \n",
       "49  2.490171    2.687385  P169  \n",
       "50   5.65435    5.140346  P169  \n",
       "\n",
       "[839 rows x 13 columns]"
      ]
     },
     "execution_count": 723,
     "metadata": {},
     "output_type": "execute_result"
    }
   ],
   "source": [
    "all_pop"
   ]
  },
  {
   "cell_type": "code",
   "execution_count": 737,
   "metadata": {},
   "outputs": [],
   "source": [
    "recomb_rate_slim = all_pop.groupby(['snp_left','snp_right'])['recomb_rate'].mean().reset_index()"
   ]
  },
  {
   "cell_type": "code",
   "execution_count": 738,
   "metadata": {},
   "outputs": [],
   "source": [
    "recomb_rate_slim['snp_right'] = recomb_rate_slim['snp_right'].astype(int)"
   ]
  },
  {
   "cell_type": "code",
   "execution_count": null,
   "metadata": {},
   "outputs": [],
   "source": []
  },
  {
   "cell_type": "code",
   "execution_count": 739,
   "metadata": {},
   "outputs": [],
   "source": [
    "## also the rate for slim. from cm/mbp to we ahve to multiply *  1e-8 becuase cM/Mbp to a rate per base \n",
    "#pair per gamete, as used by SLiM, by multiplying by 10−8, a conversion ratio that comes from the  units involved.  1 cM means that there is a probability of 0.01 of crossover during meiosis.  \n",
    "# Therefore, 1 cM/Mbp = 10−6 cM/bp = 10−8 probability of crossover per base pair."
   ]
  },
  {
   "cell_type": "code",
   "execution_count": 740,
   "metadata": {},
   "outputs": [],
   "source": [
    "recomb_rate_slim['recomb_rate'] = recomb_rate_slim['recomb_rate'] * 1e-8"
   ]
  },
  {
   "cell_type": "code",
   "execution_count": 741,
   "metadata": {},
   "outputs": [],
   "source": [
    "recomb_rate_slim = recomb_rate_slim.sort_values(by='snp_right', ascending=True)"
   ]
  },
  {
   "cell_type": "code",
   "execution_count": 742,
   "metadata": {},
   "outputs": [
    {
     "data": {
      "text/html": [
       "<div>\n",
       "<style scoped>\n",
       "    .dataframe tbody tr th:only-of-type {\n",
       "        vertical-align: middle;\n",
       "    }\n",
       "\n",
       "    .dataframe tbody tr th {\n",
       "        vertical-align: top;\n",
       "    }\n",
       "\n",
       "    .dataframe thead th {\n",
       "        text-align: right;\n",
       "    }\n",
       "</style>\n",
       "<table border=\"1\" class=\"dataframe\">\n",
       "  <thead>\n",
       "    <tr style=\"text-align: right;\">\n",
       "      <th></th>\n",
       "      <th>snp_left</th>\n",
       "      <th>snp_right</th>\n",
       "      <th>recomb_rate</th>\n",
       "    </tr>\n",
       "  </thead>\n",
       "  <tbody>\n",
       "    <tr>\n",
       "      <th>146</th>\n",
       "      <td>27343</td>\n",
       "      <td>271377</td>\n",
       "      <td>8.463229e-08</td>\n",
       "    </tr>\n",
       "    <tr>\n",
       "      <th>147</th>\n",
       "      <td>27343</td>\n",
       "      <td>508090</td>\n",
       "      <td>8.501235e-08</td>\n",
       "    </tr>\n",
       "    <tr>\n",
       "      <th>144</th>\n",
       "      <td>271377</td>\n",
       "      <td>508090</td>\n",
       "      <td>1.338074e-07</td>\n",
       "    </tr>\n",
       "    <tr>\n",
       "      <th>148</th>\n",
       "      <td>27343</td>\n",
       "      <td>778236</td>\n",
       "      <td>5.668129e-08</td>\n",
       "    </tr>\n",
       "    <tr>\n",
       "      <th>174</th>\n",
       "      <td>508090</td>\n",
       "      <td>778236</td>\n",
       "      <td>9.297339e-08</td>\n",
       "    </tr>\n",
       "    <tr>\n",
       "      <th>145</th>\n",
       "      <td>271377</td>\n",
       "      <td>778236</td>\n",
       "      <td>7.443236e-08</td>\n",
       "    </tr>\n",
       "    <tr>\n",
       "      <th>197</th>\n",
       "      <td>778236</td>\n",
       "      <td>1166716</td>\n",
       "      <td>6.071844e-08</td>\n",
       "    </tr>\n",
       "    <tr>\n",
       "      <th>142</th>\n",
       "      <td>271377</td>\n",
       "      <td>1166716</td>\n",
       "      <td>6.722037e-08</td>\n",
       "    </tr>\n",
       "    <tr>\n",
       "      <th>172</th>\n",
       "      <td>508090</td>\n",
       "      <td>1384732</td>\n",
       "      <td>6.145279e-08</td>\n",
       "    </tr>\n",
       "    <tr>\n",
       "      <th>12</th>\n",
       "      <td>1166716</td>\n",
       "      <td>1384732</td>\n",
       "      <td>4.579438e-08</td>\n",
       "    </tr>\n",
       "    <tr>\n",
       "      <th>143</th>\n",
       "      <td>271377</td>\n",
       "      <td>1384732</td>\n",
       "      <td>5.622560e-08</td>\n",
       "    </tr>\n",
       "    <tr>\n",
       "      <th>198</th>\n",
       "      <td>778236</td>\n",
       "      <td>1384732</td>\n",
       "      <td>5.645574e-08</td>\n",
       "    </tr>\n",
       "    <tr>\n",
       "      <th>173</th>\n",
       "      <td>508090</td>\n",
       "      <td>1603469</td>\n",
       "      <td>4.621896e-08</td>\n",
       "    </tr>\n",
       "    <tr>\n",
       "      <th>13</th>\n",
       "      <td>1166716</td>\n",
       "      <td>1603469</td>\n",
       "      <td>3.033417e-08</td>\n",
       "    </tr>\n",
       "    <tr>\n",
       "      <th>30</th>\n",
       "      <td>1384732</td>\n",
       "      <td>1603469</td>\n",
       "      <td>4.996351e-08</td>\n",
       "    </tr>\n",
       "    <tr>\n",
       "      <th>199</th>\n",
       "      <td>778236</td>\n",
       "      <td>1603469</td>\n",
       "      <td>5.486607e-08</td>\n",
       "    </tr>\n",
       "    <tr>\n",
       "      <th>31</th>\n",
       "      <td>1384732</td>\n",
       "      <td>1917139</td>\n",
       "      <td>3.525739e-08</td>\n",
       "    </tr>\n",
       "    <tr>\n",
       "      <th>56</th>\n",
       "      <td>1603469</td>\n",
       "      <td>1917139</td>\n",
       "      <td>3.097458e-08</td>\n",
       "    </tr>\n",
       "    <tr>\n",
       "      <th>32</th>\n",
       "      <td>1384732</td>\n",
       "      <td>2229415</td>\n",
       "      <td>3.586318e-08</td>\n",
       "    </tr>\n",
       "    <tr>\n",
       "      <th>14</th>\n",
       "      <td>1166716</td>\n",
       "      <td>2229415</td>\n",
       "      <td>2.409843e-08</td>\n",
       "    </tr>\n",
       "  </tbody>\n",
       "</table>\n",
       "</div>"
      ],
      "text/plain": [
       "    snp_left  snp_right   recomb_rate\n",
       "146    27343     271377  8.463229e-08\n",
       "147    27343     508090  8.501235e-08\n",
       "144   271377     508090  1.338074e-07\n",
       "148    27343     778236  5.668129e-08\n",
       "174   508090     778236  9.297339e-08\n",
       "145   271377     778236  7.443236e-08\n",
       "197   778236    1166716  6.071844e-08\n",
       "142   271377    1166716  6.722037e-08\n",
       "172   508090    1384732  6.145279e-08\n",
       "12   1166716    1384732  4.579438e-08\n",
       "143   271377    1384732  5.622560e-08\n",
       "198   778236    1384732  5.645574e-08\n",
       "173   508090    1603469  4.621896e-08\n",
       "13   1166716    1603469  3.033417e-08\n",
       "30   1384732    1603469  4.996351e-08\n",
       "199   778236    1603469  5.486607e-08\n",
       "31   1384732    1917139  3.525739e-08\n",
       "56   1603469    1917139  3.097458e-08\n",
       "32   1384732    2229415  3.586318e-08\n",
       "14   1166716    2229415  2.409843e-08"
      ]
     },
     "execution_count": 742,
     "metadata": {},
     "output_type": "execute_result"
    }
   ],
   "source": [
    "recomb_rate_slim.head(20)"
   ]
  },
  {
   "cell_type": "code",
   "execution_count": 699,
   "metadata": {},
   "outputs": [],
   "source": [
    "recomb_rate_mean['pos'] = (recomb_rate_mean['midpoint_mbp'] * 1000000).round().astype(int)"
   ]
  },
  {
   "cell_type": "code",
   "execution_count": 703,
   "metadata": {},
   "outputs": [],
   "source": [
    "recomb_rate_mean = recomb_rate_mean.drop('midpoint_mbp',axis=1)[['pos', 'recomb_rate']]"
   ]
  },
  {
   "cell_type": "code",
   "execution_count": 704,
   "metadata": {},
   "outputs": [
    {
     "data": {
      "text/html": [
       "<div>\n",
       "<style scoped>\n",
       "    .dataframe tbody tr th:only-of-type {\n",
       "        vertical-align: middle;\n",
       "    }\n",
       "\n",
       "    .dataframe tbody tr th {\n",
       "        vertical-align: top;\n",
       "    }\n",
       "\n",
       "    .dataframe thead th {\n",
       "        text-align: right;\n",
       "    }\n",
       "</style>\n",
       "<table border=\"1\" class=\"dataframe\">\n",
       "  <thead>\n",
       "    <tr style=\"text-align: right;\">\n",
       "      <th></th>\n",
       "      <th>pos</th>\n",
       "      <th>recomb_rate</th>\n",
       "    </tr>\n",
       "  </thead>\n",
       "  <tbody>\n",
       "    <tr>\n",
       "      <th>0</th>\n",
       "      <td>149360</td>\n",
       "      <td>8.463229</td>\n",
       "    </tr>\n",
       "    <tr>\n",
       "      <th>1</th>\n",
       "      <td>267716</td>\n",
       "      <td>8.501235</td>\n",
       "    </tr>\n",
       "    <tr>\n",
       "      <th>2</th>\n",
       "      <td>389734</td>\n",
       "      <td>13.380742</td>\n",
       "    </tr>\n",
       "    <tr>\n",
       "      <th>3</th>\n",
       "      <td>402790</td>\n",
       "      <td>5.668129</td>\n",
       "    </tr>\n",
       "    <tr>\n",
       "      <th>4</th>\n",
       "      <td>524806</td>\n",
       "      <td>7.443236</td>\n",
       "    </tr>\n",
       "    <tr>\n",
       "      <th>...</th>\n",
       "      <td>...</td>\n",
       "      <td>...</td>\n",
       "    </tr>\n",
       "    <tr>\n",
       "      <th>211</th>\n",
       "      <td>25969894</td>\n",
       "      <td>6.960439</td>\n",
       "    </tr>\n",
       "    <tr>\n",
       "      <th>212</th>\n",
       "      <td>26197334</td>\n",
       "      <td>18.524188</td>\n",
       "    </tr>\n",
       "    <tr>\n",
       "      <th>213</th>\n",
       "      <td>26233649</td>\n",
       "      <td>5.051908</td>\n",
       "    </tr>\n",
       "    <tr>\n",
       "      <th>214</th>\n",
       "      <td>26341660</td>\n",
       "      <td>5.912034</td>\n",
       "    </tr>\n",
       "    <tr>\n",
       "      <th>215</th>\n",
       "      <td>26411881</td>\n",
       "      <td>7.831764</td>\n",
       "    </tr>\n",
       "  </tbody>\n",
       "</table>\n",
       "<p>216 rows × 2 columns</p>\n",
       "</div>"
      ],
      "text/plain": [
       "          pos  recomb_rate\n",
       "0      149360     8.463229\n",
       "1      267716     8.501235\n",
       "2      389734    13.380742\n",
       "3      402790     5.668129\n",
       "4      524806     7.443236\n",
       "..        ...          ...\n",
       "211  25969894     6.960439\n",
       "212  26197334    18.524188\n",
       "213  26233649     5.051908\n",
       "214  26341660     5.912034\n",
       "215  26411881     7.831764\n",
       "\n",
       "[216 rows x 2 columns]"
      ]
     },
     "execution_count": 704,
     "metadata": {},
     "output_type": "execute_result"
    }
   ],
   "source": [
    "recomb_rate_mean"
   ]
  },
  {
   "cell_type": "code",
   "execution_count": 706,
   "metadata": {},
   "outputs": [],
   "source": [
    "recomb_rate_mean.to_csv('recomb_map.csv',header=None, index=None)"
   ]
  },
  {
   "cell_type": "code",
   "execution_count": 707,
   "metadata": {},
   "outputs": [
    {
     "data": {
      "text/plain": [
       "26900000.0"
      ]
     },
     "execution_count": 707,
     "metadata": {},
     "output_type": "execute_result"
    }
   ],
   "source": [
    "26.9 * 1000000"
   ]
  },
  {
   "cell_type": "code",
   "execution_count": null,
   "metadata": {},
   "outputs": [],
   "source": [
    "pd.read_csv()"
   ]
  }
 ],
 "metadata": {
  "kernelspec": {
   "display_name": "simulations",
   "language": "python",
   "name": "python3"
  },
  "language_info": {
   "codemirror_mode": {
    "name": "ipython",
    "version": 3
   },
   "file_extension": ".py",
   "mimetype": "text/x-python",
   "name": "python",
   "nbconvert_exporter": "python",
   "pygments_lexer": "ipython3",
   "version": "3.10.9"
  },
  "orig_nbformat": 4,
  "vscode": {
   "interpreter": {
    "hash": "2c170c2cafb8c65435a744e157724b3d1ad9140b45d60c0c766e814f0b07766e"
   }
  }
 },
 "nbformat": 4,
 "nbformat_minor": 2
}
