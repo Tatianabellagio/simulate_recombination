{
 "cells": [
  {
   "attachments": {},
   "cell_type": "markdown",
   "metadata": {
    "tags": [
     "power calc"
    ]
   },
   "source": [
    "# Power calculation in GEA\n",
    "\n",
    "In this notebook im gonna try to gather info about power calculation in GWAS, to apply it to GEA\n",
    "One of the questions would be: is there a difference between dealing with individuals (aka genotypes) than dealing with populations (aka allele frequencies)?\n",
    "\n",
    "**Power** refers to the probability of detecting a true genetic association\n",
    "\n",
    "Power calculations depend on various factors, inclusing: \n",
    "- Sample size (population size)\n",
    "- Effect size of the variants (0.01 -1?)\n",
    "- Maf: minor allele frequency\n",
    "- LD between molecular markers (SNPS) and the causal variants\n",
    "\n",
    "MAF: for a given variant, the MAF is the minor allele frequency. For example given a SNP1 the might be 2 alleles, allele 1 at 20% freq and allele 2 at 80% freq. For this variant the MAF would be 0.2. \n",
    "This parameter is relevant for GWAS power caclulation, since rare variants (MAF < 0.05) will have a low power since, to detect the association between them and a trait would be very hard (is like the sample size is shrinking just because it is very rare in the population)\n",
    "\n",
    "The potential of GWAS to detect a variant, biologically, depend on: \n",
    "- how many loci affecting the trait segregate in the population\n",
    "- the joint distribution of effect size and allele frequency at those loci (sometimes called genetic architecture)\n",
    "- the experimental sample size\n",
    "- the panel of genome- wide variants that are used in the GWAS\n",
    "- how heterogeneous the trait or disease being studied is\n",
    "\n",
    "\n"
   ]
  },
  {
   "cell_type": "code",
   "execution_count": 1,
   "metadata": {},
   "outputs": [
    {
     "data": {
      "text/plain": [
       "0.1"
      ]
     },
     "execution_count": 1,
     "metadata": {},
     "output_type": "execute_result"
    }
   ],
   "source": [
    "1/10"
   ]
  },
  {
   "cell_type": "code",
   "execution_count": 8,
   "metadata": {},
   "outputs": [
    {
     "data": {
      "text/plain": [
       "99.95"
      ]
     },
     "execution_count": 8,
     "metadata": {},
     "output_type": "execute_result"
    }
   ],
   "source": [
    "100000*2*(0.0005)*(1-0.0005)*1"
   ]
  },
  {
   "cell_type": "code",
   "execution_count": 6,
   "metadata": {},
   "outputs": [
    {
     "data": {
      "text/plain": [
       "0.0005"
      ]
     },
     "execution_count": 6,
     "metadata": {},
     "output_type": "execute_result"
    }
   ],
   "source": [
    "5/10000"
   ]
  },
  {
   "cell_type": "code",
   "execution_count": 7,
   "metadata": {},
   "outputs": [
    {
     "data": {
      "text/plain": [
       "100000"
      ]
     },
     "execution_count": 7,
     "metadata": {},
     "output_type": "execute_result"
    }
   ],
   "source": [
    "10**5"
   ]
  },
  {
   "cell_type": "code",
   "execution_count": null,
   "metadata": {},
   "outputs": [],
   "source": []
  }
 ],
 "metadata": {
  "kernelspec": {
   "display_name": "simulations",
   "language": "python",
   "name": "python3"
  },
  "language_info": {
   "codemirror_mode": {
    "name": "ipython",
    "version": 3
   },
   "file_extension": ".py",
   "mimetype": "text/x-python",
   "name": "python",
   "nbconvert_exporter": "python",
   "pygments_lexer": "ipython3",
   "version": "3.10.9"
  },
  "orig_nbformat": 4,
  "vscode": {
   "interpreter": {
    "hash": "2c170c2cafb8c65435a744e157724b3d1ad9140b45d60c0c766e814f0b07766e"
   }
  }
 },
 "nbformat": 4,
 "nbformat_minor": 2
}
