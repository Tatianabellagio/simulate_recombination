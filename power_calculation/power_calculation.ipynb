{
 "cells": [
  {
   "attachments": {},
   "cell_type": "markdown",
   "metadata": {
    "tags": [
     "power calc"
    ]
   },
   "source": [
    "# Power calculation in GEA\n",
    "\n",
    "In this notebook im gonna try to gather info about power calculation in GWAS, to apply it to GEA\n",
    "One of the questions would be: is there a difference between dealing with individuals (aka genotypes) than dealing with populations (aka allele frequencies)?\n",
    "\n",
    "**Power** refers to the probability of detecting a true genetic association\n",
    "\n",
    "Power calculations depend on various factors, inclusing: \n",
    "- Sample size (population size)\n",
    "- Effect size of the variants (0.01 -1?)\n",
    "- Maf: minor allele frequency\n",
    "- LD between molecular markers (SNPS) and the causal variants\n",
    "\n",
    "MAF: for a given variant, the MAF is the minor allele frequency. For example given a SNP1 the might be 2 alleles, allele 1 at 20% freq and allele 2 at 80% freq. For this variant the MAF would be 0.2. \n",
    "This parameter is relevant for GWAS power caclulation, since rare variants (MAF < 0.05) will have a low power since, to detect the association between them and a trait would be very hard (is like the sample size is shrinking just because it is very rare in the population)\n",
    "\n",
    "The potential of GWAS to detect a variant, biologically, depend on: \n",
    "- how many loci affecting the trait segregate in the population\n",
    "- the joint distribution of effect size and allele frequency at those loci (sometimes called genetic architecture)\n",
    "- the experimental sample size\n",
    "- the panel of genome- wide variants that are used in the GWAS\n",
    "- how heterogeneous the trait or disease being studied is\n",
    "\n",
    "\n"
   ]
  },
  {
   "attachments": {},
   "cell_type": "markdown",
   "metadata": {},
   "source": [
    "Imports"
   ]
  },
  {
   "cell_type": "code",
   "execution_count": 20,
   "metadata": {},
   "outputs": [],
   "source": [
    "import pandas as pd\n",
    "import seaborn as sns"
   ]
  },
  {
   "attachments": {},
   "cell_type": "markdown",
   "metadata": {},
   "source": [
    "Code"
   ]
  },
  {
   "cell_type": "code",
   "execution_count": 18,
   "metadata": {},
   "outputs": [],
   "source": [
    "## ok so what about my simulations \n",
    "effect_sizes = pd.read_csv('../selection_coef_qtl1_contrib.bed', sep= '\\t',header=None)\n",
    "## drop the first column, it was used only to do efficient annotation of vcf file \n",
    "effect_sizes = effect_sizes[[2,3]].rename(columns ={2:'pos', 3:'effect_size'})"
   ]
  },
  {
   "cell_type": "code",
   "execution_count": 21,
   "metadata": {},
   "outputs": [
    {
     "data": {
      "text/plain": [
       "<AxesSubplot:xlabel='effect_size', ylabel='Count'>"
      ]
     },
     "execution_count": 21,
     "metadata": {},
     "output_type": "execute_result"
    },
    {
     "data": {
      "image/png": "[encoded data removed]",
      "text/plain": [
       "<Figure size 640x480 with 1 Axes>"
      ]
     },
     "metadata": {},
     "output_type": "display_data"
    }
   ],
   "source": [
    "sns.histplot(effect_sizes['effect_size'])"
   ]
  },
  {
   "cell_type": "code",
   "execution_count": 23,
   "metadata": {},
   "outputs": [
    {
     "data": {
      "text/plain": [
       "count    196.000000\n",
       "mean      -0.034262\n",
       "std        0.993345\n",
       "min       -2.780000\n",
       "25%       -0.628525\n",
       "50%        0.029750\n",
       "75%        0.554525\n",
       "max        2.325100\n",
       "Name: effect_size, dtype: float64"
      ]
     },
     "execution_count": 23,
     "metadata": {},
     "output_type": "execute_result"
    }
   ],
   "source": [
    "effect_sizes['effect_size'].describe()"
   ]
  },
  {
   "cell_type": "code",
   "execution_count": 1,
   "metadata": {},
   "outputs": [
    {
     "data": {
      "text/plain": [
       "0.1"
      ]
     },
     "execution_count": 1,
     "metadata": {},
     "output_type": "execute_result"
    }
   ],
   "source": [
    "# what i am observing is that the power to distinguish beta of -2.78 or 2.35 is going to be very different from the power to distinguish variant of 0.1"
   ]
  },
  {
   "cell_type": "code",
   "execution_count": null,
   "metadata": {},
   "outputs": [],
   "source": []
  }
 ],
 "metadata": {
  "kernelspec": {
   "display_name": "simulations",
   "language": "python",
   "name": "python3"
  },
  "language_info": {
   "codemirror_mode": {
    "name": "ipython",
    "version": 3
   },
   "file_extension": ".py",
   "mimetype": "text/x-python",
   "name": "python",
   "nbconvert_exporter": "python",
   "pygments_lexer": "ipython3",
   "version": "3.10.9"
  },
  "orig_nbformat": 4,
  "vscode": {
   "interpreter": {
    "hash": "2c170c2cafb8c65435a744e157724b3d1ad9140b45d60c0c766e814f0b07766e"
   }
  }
 },
 "nbformat": 4,
 "nbformat_minor": 2
}
