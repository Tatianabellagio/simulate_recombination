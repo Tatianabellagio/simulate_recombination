{
 "cells": [
  {
   "cell_type": "code",
   "execution_count": 113,
   "metadata": {},
   "outputs": [],
   "source": [
    "## here i will generate the input for bypass from the vcf file generates by slim \n",
    "## Baypass needs 3 data input to run the core + the covariates (environmental) model \n",
    "\n",
    "# 1) genotyping data file\n",
    "# 2) pool (haploid) size file \n",
    "# 3) covariate data file"
   ]
  },
  {
   "cell_type": "code",
   "execution_count": 14,
   "metadata": {},
   "outputs": [
    {
     "data": {
      "text/plain": [
       "360.0"
      ]
     },
     "execution_count": 14,
     "metadata": {},
     "output_type": "execute_result"
    }
   ],
   "source": [
    "#2025\n",
    "1800/5"
   ]
  },
  {
   "cell_type": "code",
   "execution_count": 2,
   "metadata": {},
   "outputs": [],
   "source": [
    "import numpy as np\n",
    "import pandas as pd\n",
    "import seaborn as sns\n",
    "import scipy.stats as stats\n",
    "import math \n",
    "import os\n",
    "\n",
    "import allel\n",
    "import subprocess"
   ]
  },
  {
   "cell_type": "code",
   "execution_count": 132,
   "metadata": {},
   "outputs": [],
   "source": [
    "#check when used in snakemake \n",
    "path = 'arq_pi0.001_beta'"
   ]
  },
  {
   "cell_type": "code",
   "execution_count": 206,
   "metadata": {},
   "outputs": [],
   "source": [
    "## The genotyping data file\n",
    "## matrix with nsnp rows and 2 ∗ npop columns\n",
    "## The row field separator is a space\n",
    "## each row corresponds to one marker and the number of columns is\n",
    "## twice the number of populations because each pair of numbers corresponds to\n",
    "## each allele (or read counts for PoolSeq experiment) counts in one population\n",
    "\n",
    "## so basically is need a ref and alt column for each pop in each snp \n",
    "allele_counts = pd.read_csv('../test/arq_pi0.001_beta5_allele_counts_filtered.csv',header=None,index_col=0)\n",
    "columns_names = pd.read_csv('../test/arq_pi0.001_beta5_allele_counts.csv',nrows=1).columns[1:]\n",
    "allele_counts.columns = columns_names"
   ]
  },
  {
   "cell_type": "code",
   "execution_count": 210,
   "metadata": {},
   "outputs": [],
   "source": [
    "allele_counts = allele_counts.astype(int)"
   ]
  },
  {
   "cell_type": "code",
   "execution_count": 217,
   "metadata": {},
   "outputs": [],
   "source": [
    "allele_counts.to_csv( path + '/geno_table', header=None, sep = ' ', index=False)"
   ]
  },
  {
   "cell_type": "code",
   "execution_count": 216,
   "metadata": {},
   "outputs": [
    {
     "data": {
      "text/html": [
       "<div>\n",
       "<style scoped>\n",
       "    .dataframe tbody tr th:only-of-type {\n",
       "        vertical-align: middle;\n",
       "    }\n",
       "\n",
       "    .dataframe tbody tr th {\n",
       "        vertical-align: top;\n",
       "    }\n",
       "\n",
       "    .dataframe thead th {\n",
       "        text-align: right;\n",
       "    }\n",
       "</style>\n",
       "<table border=\"1\" class=\"dataframe\">\n",
       "  <thead>\n",
       "    <tr style=\"text-align: right;\">\n",
       "      <th></th>\n",
       "      <th>ref_optima10_subp6.vcf</th>\n",
       "      <th>alt_optima10_subp6.vcf</th>\n",
       "      <th>ref_optima10_subp1.vcf</th>\n",
       "      <th>alt_optima10_subp1.vcf</th>\n",
       "      <th>ref_optima10_subp8.vcf</th>\n",
       "      <th>alt_optima10_subp8.vcf</th>\n",
       "      <th>ref_optima10_subp9.vcf</th>\n",
       "      <th>alt_optima10_subp9.vcf</th>\n",
       "      <th>ref_optima10_subp0.vcf</th>\n",
       "      <th>alt_optima10_subp0.vcf</th>\n",
       "      <th>...</th>\n",
       "      <th>ref_optima6_subp1.vcf</th>\n",
       "      <th>alt_optima6_subp1.vcf</th>\n",
       "      <th>ref_optima6_subp8.vcf</th>\n",
       "      <th>alt_optima6_subp8.vcf</th>\n",
       "      <th>ref_optima6_subp9.vcf</th>\n",
       "      <th>alt_optima6_subp9.vcf</th>\n",
       "      <th>ref_optima6_subp0.vcf</th>\n",
       "      <th>alt_optima6_subp0.vcf</th>\n",
       "      <th>ref_optima6_subp7.vcf</th>\n",
       "      <th>alt_optima6_subp7.vcf</th>\n",
       "    </tr>\n",
       "    <tr>\n",
       "      <th>0</th>\n",
       "      <th></th>\n",
       "      <th></th>\n",
       "      <th></th>\n",
       "      <th></th>\n",
       "      <th></th>\n",
       "      <th></th>\n",
       "      <th></th>\n",
       "      <th></th>\n",
       "      <th></th>\n",
       "      <th></th>\n",
       "      <th></th>\n",
       "      <th></th>\n",
       "      <th></th>\n",
       "      <th></th>\n",
       "      <th></th>\n",
       "      <th></th>\n",
       "      <th></th>\n",
       "      <th></th>\n",
       "      <th></th>\n",
       "      <th></th>\n",
       "      <th></th>\n",
       "    </tr>\n",
       "  </thead>\n",
       "  <tbody>\n",
       "    <tr>\n",
       "      <th>62</th>\n",
       "      <td>370</td>\n",
       "      <td>24</td>\n",
       "      <td>224</td>\n",
       "      <td>10</td>\n",
       "      <td>352</td>\n",
       "      <td>14</td>\n",
       "      <td>340</td>\n",
       "      <td>60</td>\n",
       "      <td>296</td>\n",
       "      <td>6</td>\n",
       "      <td>...</td>\n",
       "      <td>0</td>\n",
       "      <td>400</td>\n",
       "      <td>0</td>\n",
       "      <td>400</td>\n",
       "      <td>0</td>\n",
       "      <td>400</td>\n",
       "      <td>0</td>\n",
       "      <td>400</td>\n",
       "      <td>0</td>\n",
       "      <td>400</td>\n",
       "    </tr>\n",
       "    <tr>\n",
       "      <th>188</th>\n",
       "      <td>370</td>\n",
       "      <td>24</td>\n",
       "      <td>224</td>\n",
       "      <td>10</td>\n",
       "      <td>352</td>\n",
       "      <td>14</td>\n",
       "      <td>340</td>\n",
       "      <td>60</td>\n",
       "      <td>296</td>\n",
       "      <td>6</td>\n",
       "      <td>...</td>\n",
       "      <td>200</td>\n",
       "      <td>0</td>\n",
       "      <td>200</td>\n",
       "      <td>0</td>\n",
       "      <td>200</td>\n",
       "      <td>0</td>\n",
       "      <td>200</td>\n",
       "      <td>0</td>\n",
       "      <td>200</td>\n",
       "      <td>0</td>\n",
       "    </tr>\n",
       "    <tr>\n",
       "      <th>269</th>\n",
       "      <td>24</td>\n",
       "      <td>370</td>\n",
       "      <td>10</td>\n",
       "      <td>224</td>\n",
       "      <td>14</td>\n",
       "      <td>352</td>\n",
       "      <td>60</td>\n",
       "      <td>340</td>\n",
       "      <td>6</td>\n",
       "      <td>296</td>\n",
       "      <td>...</td>\n",
       "      <td>200</td>\n",
       "      <td>0</td>\n",
       "      <td>200</td>\n",
       "      <td>0</td>\n",
       "      <td>200</td>\n",
       "      <td>0</td>\n",
       "      <td>200</td>\n",
       "      <td>0</td>\n",
       "      <td>200</td>\n",
       "      <td>0</td>\n",
       "    </tr>\n",
       "    <tr>\n",
       "      <th>591</th>\n",
       "      <td>370</td>\n",
       "      <td>24</td>\n",
       "      <td>224</td>\n",
       "      <td>10</td>\n",
       "      <td>352</td>\n",
       "      <td>14</td>\n",
       "      <td>340</td>\n",
       "      <td>60</td>\n",
       "      <td>296</td>\n",
       "      <td>6</td>\n",
       "      <td>...</td>\n",
       "      <td>200</td>\n",
       "      <td>0</td>\n",
       "      <td>200</td>\n",
       "      <td>0</td>\n",
       "      <td>200</td>\n",
       "      <td>0</td>\n",
       "      <td>200</td>\n",
       "      <td>0</td>\n",
       "      <td>200</td>\n",
       "      <td>0</td>\n",
       "    </tr>\n",
       "    <tr>\n",
       "      <th>1155</th>\n",
       "      <td>0</td>\n",
       "      <td>394</td>\n",
       "      <td>0</td>\n",
       "      <td>234</td>\n",
       "      <td>0</td>\n",
       "      <td>366</td>\n",
       "      <td>0</td>\n",
       "      <td>400</td>\n",
       "      <td>0</td>\n",
       "      <td>302</td>\n",
       "      <td>...</td>\n",
       "      <td>0</td>\n",
       "      <td>400</td>\n",
       "      <td>0</td>\n",
       "      <td>400</td>\n",
       "      <td>0</td>\n",
       "      <td>400</td>\n",
       "      <td>0</td>\n",
       "      <td>400</td>\n",
       "      <td>0</td>\n",
       "      <td>400</td>\n",
       "    </tr>\n",
       "    <tr>\n",
       "      <th>...</th>\n",
       "      <td>...</td>\n",
       "      <td>...</td>\n",
       "      <td>...</td>\n",
       "      <td>...</td>\n",
       "      <td>...</td>\n",
       "      <td>...</td>\n",
       "      <td>...</td>\n",
       "      <td>...</td>\n",
       "      <td>...</td>\n",
       "      <td>...</td>\n",
       "      <td>...</td>\n",
       "      <td>...</td>\n",
       "      <td>...</td>\n",
       "      <td>...</td>\n",
       "      <td>...</td>\n",
       "      <td>...</td>\n",
       "      <td>...</td>\n",
       "      <td>...</td>\n",
       "      <td>...</td>\n",
       "      <td>...</td>\n",
       "      <td>...</td>\n",
       "    </tr>\n",
       "    <tr>\n",
       "      <th>26866522</th>\n",
       "      <td>197</td>\n",
       "      <td>0</td>\n",
       "      <td>117</td>\n",
       "      <td>0</td>\n",
       "      <td>183</td>\n",
       "      <td>0</td>\n",
       "      <td>200</td>\n",
       "      <td>0</td>\n",
       "      <td>151</td>\n",
       "      <td>0</td>\n",
       "      <td>...</td>\n",
       "      <td>0</td>\n",
       "      <td>400</td>\n",
       "      <td>0</td>\n",
       "      <td>400</td>\n",
       "      <td>0</td>\n",
       "      <td>400</td>\n",
       "      <td>0</td>\n",
       "      <td>400</td>\n",
       "      <td>0</td>\n",
       "      <td>400</td>\n",
       "    </tr>\n",
       "    <tr>\n",
       "      <th>26917201</th>\n",
       "      <td>197</td>\n",
       "      <td>0</td>\n",
       "      <td>117</td>\n",
       "      <td>0</td>\n",
       "      <td>183</td>\n",
       "      <td>0</td>\n",
       "      <td>200</td>\n",
       "      <td>0</td>\n",
       "      <td>151</td>\n",
       "      <td>0</td>\n",
       "      <td>...</td>\n",
       "      <td>0</td>\n",
       "      <td>400</td>\n",
       "      <td>0</td>\n",
       "      <td>400</td>\n",
       "      <td>0</td>\n",
       "      <td>400</td>\n",
       "      <td>0</td>\n",
       "      <td>400</td>\n",
       "      <td>0</td>\n",
       "      <td>400</td>\n",
       "    </tr>\n",
       "    <tr>\n",
       "      <th>26933021</th>\n",
       "      <td>197</td>\n",
       "      <td>0</td>\n",
       "      <td>117</td>\n",
       "      <td>0</td>\n",
       "      <td>183</td>\n",
       "      <td>0</td>\n",
       "      <td>200</td>\n",
       "      <td>0</td>\n",
       "      <td>151</td>\n",
       "      <td>0</td>\n",
       "      <td>...</td>\n",
       "      <td>0</td>\n",
       "      <td>400</td>\n",
       "      <td>0</td>\n",
       "      <td>400</td>\n",
       "      <td>0</td>\n",
       "      <td>400</td>\n",
       "      <td>0</td>\n",
       "      <td>400</td>\n",
       "      <td>0</td>\n",
       "      <td>400</td>\n",
       "    </tr>\n",
       "    <tr>\n",
       "      <th>26938514</th>\n",
       "      <td>197</td>\n",
       "      <td>0</td>\n",
       "      <td>117</td>\n",
       "      <td>0</td>\n",
       "      <td>183</td>\n",
       "      <td>0</td>\n",
       "      <td>200</td>\n",
       "      <td>0</td>\n",
       "      <td>151</td>\n",
       "      <td>0</td>\n",
       "      <td>...</td>\n",
       "      <td>0</td>\n",
       "      <td>400</td>\n",
       "      <td>0</td>\n",
       "      <td>400</td>\n",
       "      <td>0</td>\n",
       "      <td>400</td>\n",
       "      <td>0</td>\n",
       "      <td>400</td>\n",
       "      <td>0</td>\n",
       "      <td>400</td>\n",
       "    </tr>\n",
       "    <tr>\n",
       "      <th>26958541</th>\n",
       "      <td>197</td>\n",
       "      <td>0</td>\n",
       "      <td>117</td>\n",
       "      <td>0</td>\n",
       "      <td>183</td>\n",
       "      <td>0</td>\n",
       "      <td>200</td>\n",
       "      <td>0</td>\n",
       "      <td>151</td>\n",
       "      <td>0</td>\n",
       "      <td>...</td>\n",
       "      <td>0</td>\n",
       "      <td>400</td>\n",
       "      <td>0</td>\n",
       "      <td>400</td>\n",
       "      <td>0</td>\n",
       "      <td>400</td>\n",
       "      <td>0</td>\n",
       "      <td>400</td>\n",
       "      <td>0</td>\n",
       "      <td>400</td>\n",
       "    </tr>\n",
       "  </tbody>\n",
       "</table>\n",
       "<p>183541 rows × 360 columns</p>\n",
       "</div>"
      ],
      "text/plain": [
       "          ref_optima10_subp6.vcf  alt_optima10_subp6.vcf   \n",
       "0                                                          \n",
       "62                           370                      24  \\\n",
       "188                          370                      24   \n",
       "269                           24                     370   \n",
       "591                          370                      24   \n",
       "1155                           0                     394   \n",
       "...                          ...                     ...   \n",
       "26866522                     197                       0   \n",
       "26917201                     197                       0   \n",
       "26933021                     197                       0   \n",
       "26938514                     197                       0   \n",
       "26958541                     197                       0   \n",
       "\n",
       "          ref_optima10_subp1.vcf  alt_optima10_subp1.vcf   \n",
       "0                                                          \n",
       "62                           224                      10  \\\n",
       "188                          224                      10   \n",
       "269                           10                     224   \n",
       "591                          224                      10   \n",
       "1155                           0                     234   \n",
       "...                          ...                     ...   \n",
       "26866522                     117                       0   \n",
       "26917201                     117                       0   \n",
       "26933021                     117                       0   \n",
       "26938514                     117                       0   \n",
       "26958541                     117                       0   \n",
       "\n",
       "          ref_optima10_subp8.vcf  alt_optima10_subp8.vcf   \n",
       "0                                                          \n",
       "62                           352                      14  \\\n",
       "188                          352                      14   \n",
       "269                           14                     352   \n",
       "591                          352                      14   \n",
       "1155                           0                     366   \n",
       "...                          ...                     ...   \n",
       "26866522                     183                       0   \n",
       "26917201                     183                       0   \n",
       "26933021                     183                       0   \n",
       "26938514                     183                       0   \n",
       "26958541                     183                       0   \n",
       "\n",
       "          ref_optima10_subp9.vcf  alt_optima10_subp9.vcf   \n",
       "0                                                          \n",
       "62                           340                      60  \\\n",
       "188                          340                      60   \n",
       "269                           60                     340   \n",
       "591                          340                      60   \n",
       "1155                           0                     400   \n",
       "...                          ...                     ...   \n",
       "26866522                     200                       0   \n",
       "26917201                     200                       0   \n",
       "26933021                     200                       0   \n",
       "26938514                     200                       0   \n",
       "26958541                     200                       0   \n",
       "\n",
       "          ref_optima10_subp0.vcf  alt_optima10_subp0.vcf  ...   \n",
       "0                                                         ...   \n",
       "62                           296                       6  ...  \\\n",
       "188                          296                       6  ...   \n",
       "269                            6                     296  ...   \n",
       "591                          296                       6  ...   \n",
       "1155                           0                     302  ...   \n",
       "...                          ...                     ...  ...   \n",
       "26866522                     151                       0  ...   \n",
       "26917201                     151                       0  ...   \n",
       "26933021                     151                       0  ...   \n",
       "26938514                     151                       0  ...   \n",
       "26958541                     151                       0  ...   \n",
       "\n",
       "          ref_optima6_subp1.vcf  alt_optima6_subp1.vcf  ref_optima6_subp8.vcf   \n",
       "0                                                                               \n",
       "62                            0                    400                      0  \\\n",
       "188                         200                      0                    200   \n",
       "269                         200                      0                    200   \n",
       "591                         200                      0                    200   \n",
       "1155                          0                    400                      0   \n",
       "...                         ...                    ...                    ...   \n",
       "26866522                      0                    400                      0   \n",
       "26917201                      0                    400                      0   \n",
       "26933021                      0                    400                      0   \n",
       "26938514                      0                    400                      0   \n",
       "26958541                      0                    400                      0   \n",
       "\n",
       "          alt_optima6_subp8.vcf  ref_optima6_subp9.vcf  alt_optima6_subp9.vcf   \n",
       "0                                                                               \n",
       "62                          400                      0                    400  \\\n",
       "188                           0                    200                      0   \n",
       "269                           0                    200                      0   \n",
       "591                           0                    200                      0   \n",
       "1155                        400                      0                    400   \n",
       "...                         ...                    ...                    ...   \n",
       "26866522                    400                      0                    400   \n",
       "26917201                    400                      0                    400   \n",
       "26933021                    400                      0                    400   \n",
       "26938514                    400                      0                    400   \n",
       "26958541                    400                      0                    400   \n",
       "\n",
       "          ref_optima6_subp0.vcf  alt_optima6_subp0.vcf  ref_optima6_subp7.vcf   \n",
       "0                                                                               \n",
       "62                            0                    400                      0  \\\n",
       "188                         200                      0                    200   \n",
       "269                         200                      0                    200   \n",
       "591                         200                      0                    200   \n",
       "1155                          0                    400                      0   \n",
       "...                         ...                    ...                    ...   \n",
       "26866522                      0                    400                      0   \n",
       "26917201                      0                    400                      0   \n",
       "26933021                      0                    400                      0   \n",
       "26938514                      0                    400                      0   \n",
       "26958541                      0                    400                      0   \n",
       "\n",
       "          alt_optima6_subp7.vcf  \n",
       "0                                \n",
       "62                          400  \n",
       "188                           0  \n",
       "269                           0  \n",
       "591                           0  \n",
       "1155                        400  \n",
       "...                         ...  \n",
       "26866522                    400  \n",
       "26917201                    400  \n",
       "26933021                    400  \n",
       "26938514                    400  \n",
       "26958541                    400  \n",
       "\n",
       "[183541 rows x 360 columns]"
      ]
     },
     "execution_count": 216,
     "metadata": {},
     "output_type": "execute_result"
    }
   ],
   "source": [
    "allele_counts"
   ]
  },
  {
   "cell_type": "code",
   "execution_count": null,
   "metadata": {},
   "outputs": [],
   "source": [
    "# 2.3.2 The pool (haploid) size file [only required for Pool–Seq data]\n",
    "#  (twice the number of pooled individuals for diploid species) of each population should be provided\n",
    "# each population in each columns, if there are 20 population, then there should be 20 columns "
   ]
  },
  {
   "cell_type": "code",
   "execution_count": 3,
   "metadata": {},
   "outputs": [],
   "source": [
    "pool_sizes = pd.read_csv('../test/arq_pi0.001_beta5_indiv_number.csv', index_col= 0)"
   ]
  },
  {
   "cell_type": "code",
   "execution_count": 4,
   "metadata": {},
   "outputs": [],
   "source": [
    "## multiply so we get the pool haploid size \n",
    "pool_sizes = pool_sizes.astype(int) * 2"
   ]
  },
  {
   "cell_type": "code",
   "execution_count": 194,
   "metadata": {},
   "outputs": [],
   "source": [
    "pool_sizes.to_csv( path +'/pool_size', header=None, sep = ' ', index=False)"
   ]
  },
  {
   "cell_type": "code",
   "execution_count": 11,
   "metadata": {},
   "outputs": [
    {
     "data": {
      "text/plain": [
       "180"
      ]
     },
     "execution_count": 11,
     "metadata": {},
     "output_type": "execute_result"
    }
   ],
   "source": [
    "len(pool_sizes.T)"
   ]
  },
  {
   "cell_type": "code",
   "execution_count": 10,
   "metadata": {},
   "outputs": [
    {
     "data": {
      "text/plain": [
       "30.0"
      ]
     },
     "execution_count": 10,
     "metadata": {},
     "output_type": "execute_result"
    }
   ],
   "source": [
    "# d0yij for \n",
    "pool_sizes.T[0].min() / 5"
   ]
  },
  {
   "cell_type": "code",
   "execution_count": 163,
   "metadata": {},
   "outputs": [],
   "source": [
    "# 2.3.3 The covariate data file [required for the covariate modes]\n",
    "# populations (columns) and covariates (row)\n",
    "# Note that in most cases, it is (strongly) recommended to scale each covariate (so that\n",
    "# µˆ = 0 and σc2 = 1 \n",
    "\n",
    "## extraction fo the env variable: \n",
    "columns_names = pd.read_csv('../test/arq_pi0.001_beta5_allele_counts.csv',nrows=1).columns[1:]\n",
    "\n",
    "env_var_mapper = pd.read_csv('/Users/tbellagio/tbellagio_cluster/simulations/snakemake/results/arq_pi0.001_beta5/optima_files/optima.csv', usecols=[2])\n",
    "\n",
    "## get the columnname, ONE PER EACH SUBP AND OPTIMA, becuase they are duplciated based on alt/ref allele counts\n",
    "## adn then just extract the optima index to then map that to the actual value of the env variable \n",
    "env_var_index = pd.Series(columns_names.str[4:]).drop_duplicates().str.split('_').str[0].str.replace('optima', '').astype(int)\n",
    "\n"
   ]
  },
  {
   "cell_type": "code",
   "execution_count": 171,
   "metadata": {},
   "outputs": [],
   "source": [
    "env_var = pd.DataFrame(env_var_index).rename(columns={0:'bio1'})\n"
   ]
  },
  {
   "cell_type": "code",
   "execution_count": 173,
   "metadata": {},
   "outputs": [],
   "source": [
    "env_var['bio1'] = env_var['bio1'].replace(env_var_mapper['bio1'])"
   ]
  },
  {
   "cell_type": "code",
   "execution_count": 165,
   "metadata": {},
   "outputs": [],
   "source": [
    "# scaling since recommenede in baypass manual "
   ]
  },
  {
   "cell_type": "code",
   "execution_count": 174,
   "metadata": {},
   "outputs": [],
   "source": [
    "# Scale the column using NumPy\n",
    "env_var['bio1'] = (env_var['bio1'] - np.mean(env_var['bio1'])) / np.std(env_var['bio1'])"
   ]
  },
  {
   "cell_type": "code",
   "execution_count": 175,
   "metadata": {},
   "outputs": [],
   "source": [
    "# round since too many decimals (10+) \n",
    "env_var['bio1'] = env_var['bio1'].round(4)"
   ]
  },
  {
   "cell_type": "code",
   "execution_count": 176,
   "metadata": {},
   "outputs": [],
   "source": [
    "env_var.T.to_csv(path + '/cov_data',header=None, sep = ' ', index=False)"
   ]
  },
  {
   "cell_type": "code",
   "execution_count": 177,
   "metadata": {},
   "outputs": [
    {
     "data": {
      "text/html": [
       "<div>\n",
       "<style scoped>\n",
       "    .dataframe tbody tr th:only-of-type {\n",
       "        vertical-align: middle;\n",
       "    }\n",
       "\n",
       "    .dataframe tbody tr th {\n",
       "        vertical-align: top;\n",
       "    }\n",
       "\n",
       "    .dataframe thead th {\n",
       "        text-align: right;\n",
       "    }\n",
       "</style>\n",
       "<table border=\"1\" class=\"dataframe\">\n",
       "  <thead>\n",
       "    <tr style=\"text-align: right;\">\n",
       "      <th></th>\n",
       "      <th>bio1</th>\n",
       "    </tr>\n",
       "  </thead>\n",
       "  <tbody>\n",
       "    <tr>\n",
       "      <th>0</th>\n",
       "      <td>-1.9105</td>\n",
       "    </tr>\n",
       "    <tr>\n",
       "      <th>2</th>\n",
       "      <td>-1.9105</td>\n",
       "    </tr>\n",
       "    <tr>\n",
       "      <th>4</th>\n",
       "      <td>-1.9105</td>\n",
       "    </tr>\n",
       "    <tr>\n",
       "      <th>6</th>\n",
       "      <td>-1.9105</td>\n",
       "    </tr>\n",
       "    <tr>\n",
       "      <th>8</th>\n",
       "      <td>-1.9105</td>\n",
       "    </tr>\n",
       "    <tr>\n",
       "      <th>...</th>\n",
       "      <td>...</td>\n",
       "    </tr>\n",
       "    <tr>\n",
       "      <th>350</th>\n",
       "      <td>-0.5280</td>\n",
       "    </tr>\n",
       "    <tr>\n",
       "      <th>352</th>\n",
       "      <td>-0.5280</td>\n",
       "    </tr>\n",
       "    <tr>\n",
       "      <th>354</th>\n",
       "      <td>-0.5280</td>\n",
       "    </tr>\n",
       "    <tr>\n",
       "      <th>356</th>\n",
       "      <td>-0.5280</td>\n",
       "    </tr>\n",
       "    <tr>\n",
       "      <th>358</th>\n",
       "      <td>-0.5280</td>\n",
       "    </tr>\n",
       "  </tbody>\n",
       "</table>\n",
       "<p>180 rows × 1 columns</p>\n",
       "</div>"
      ],
      "text/plain": [
       "       bio1\n",
       "0   -1.9105\n",
       "2   -1.9105\n",
       "4   -1.9105\n",
       "6   -1.9105\n",
       "8   -1.9105\n",
       "..      ...\n",
       "350 -0.5280\n",
       "352 -0.5280\n",
       "354 -0.5280\n",
       "356 -0.5280\n",
       "358 -0.5280\n",
       "\n",
       "[180 rows x 1 columns]"
      ]
     },
     "execution_count": 177,
     "metadata": {},
     "output_type": "execute_result"
    }
   ],
   "source": [
    "env_var"
   ]
  },
  {
   "cell_type": "code",
   "execution_count": 183,
   "metadata": {},
   "outputs": [],
   "source": [
    "pool_size = pd.read_csv('arq_pi0.001_beta/pool_size', sep =' ')"
   ]
  },
  {
   "cell_type": "code",
   "execution_count": 220,
   "metadata": {},
   "outputs": [],
   "source": [
    "geno_table = pd.read_csv('arq_pi0.001_beta/geno_table',sep =' ',header=None)"
   ]
  },
  {
   "cell_type": "code",
   "execution_count": 186,
   "metadata": {},
   "outputs": [],
   "source": [
    "cov_data = pd.read_csv('arq_pi0.001_beta/cov_data',sep =' ')"
   ]
  },
  {
   "cell_type": "code",
   "execution_count": 187,
   "metadata": {},
   "outputs": [
    {
     "data": {
      "text/html": [
       "<div>\n",
       "<style scoped>\n",
       "    .dataframe tbody tr th:only-of-type {\n",
       "        vertical-align: middle;\n",
       "    }\n",
       "\n",
       "    .dataframe tbody tr th {\n",
       "        vertical-align: top;\n",
       "    }\n",
       "\n",
       "    .dataframe thead th {\n",
       "        text-align: right;\n",
       "    }\n",
       "</style>\n",
       "<table border=\"1\" class=\"dataframe\">\n",
       "  <thead>\n",
       "    <tr style=\"text-align: right;\">\n",
       "      <th></th>\n",
       "      <th>394.0</th>\n",
       "      <th>234.0</th>\n",
       "      <th>366.0</th>\n",
       "      <th>400.0</th>\n",
       "      <th>302.0</th>\n",
       "      <th>150.0</th>\n",
       "      <th>400.0.1</th>\n",
       "      <th>400.0.2</th>\n",
       "      <th>400.0.3</th>\n",
       "      <th>400.0.4</th>\n",
       "      <th>...</th>\n",
       "      <th>400.0.163</th>\n",
       "      <th>400.0.164</th>\n",
       "      <th>400.0.165</th>\n",
       "      <th>400.0.166</th>\n",
       "      <th>278.0</th>\n",
       "      <th>400.0.167</th>\n",
       "      <th>400.0.168</th>\n",
       "      <th>400.0.169</th>\n",
       "      <th>400.0.170</th>\n",
       "      <th>400.0.171</th>\n",
       "    </tr>\n",
       "  </thead>\n",
       "  <tbody>\n",
       "  </tbody>\n",
       "</table>\n",
       "<p>0 rows × 180 columns</p>\n",
       "</div>"
      ],
      "text/plain": [
       "Empty DataFrame\n",
       "Columns: [394.0, 234.0, 366.0, 400.0, 302.0, 150.0, 400.0.1, 400.0.2, 400.0.3, 400.0.4, 226.0, 400.0.5, 400.0.6, 400.0.7, 400.0.8, 400.0.9, 400.0.10, 400.0.11, 400.0.12, 400.0.13, 400.0.14, 400.0.15, 400.0.16, 400.0.17, 400.0.18, 400.0.19, 400.0.20, 400.0.21, 400.0.22, 400.0.23, 400.0.24, 400.0.25, 400.0.26, 400.0.27, 400.0.28, 400.0.29, 400.0.30, 400.0.31, 400.0.32, 400.0.33, 400.0.34, 400.0.35, 400.0.36, 400.0.37, 400.0.38, 400.0.39, 400.0.40, 400.0.41, 400.0.42, 400.0.43, 400.0.44, 400.0.45, 400.0.46, 400.0.47, 400.0.48, 400.0.49, 400.0.50, 400.0.51, 400.0.52, 400.0.53, 400.0.54, 400.0.55, 400.0.56, 400.0.57, 400.0.58, 400.0.59, 400.0.60, 400.0.61, 400.0.62, 400.0.63, 400.0.64, 400.0.65, 400.0.66, 400.0.67, 400.0.68, 400.0.69, 400.0.70, 400.0.71, 400.0.72, 400.0.73, 400.0.74, 400.0.75, 400.0.76, 400.0.77, 400.0.78, 400.0.79, 400.0.80, 400.0.81, 400.0.82, 400.0.83, 400.0.84, 400.0.85, 400.0.86, 400.0.87, 400.0.88, 400.0.89, 400.0.90, 400.0.91, 400.0.92, 400.0.93, ...]\n",
       "Index: []\n",
       "\n",
       "[0 rows x 180 columns]"
      ]
     },
     "execution_count": 187,
     "metadata": {},
     "output_type": "execute_result"
    }
   ],
   "source": [
    "pool_size"
   ]
  },
  {
   "cell_type": "code",
   "execution_count": 222,
   "metadata": {},
   "outputs": [
    {
     "data": {
      "text/plain": [
       "0      int64\n",
       "1      int64\n",
       "2      int64\n",
       "3      int64\n",
       "4      int64\n",
       "       ...  \n",
       "355    int64\n",
       "356    int64\n",
       "357    int64\n",
       "358    int64\n",
       "359    int64\n",
       "Length: 360, dtype: object"
      ]
     },
     "execution_count": 222,
     "metadata": {},
     "output_type": "execute_result"
    }
   ],
   "source": [
    "geno_table.dtypes"
   ]
  },
  {
   "cell_type": "code",
   "execution_count": 223,
   "metadata": {},
   "outputs": [
    {
     "data": {
      "text/plain": [
       "False"
      ]
     },
     "execution_count": 223,
     "metadata": {},
     "output_type": "execute_result"
    }
   ],
   "source": [
    "'.' in geno_table"
   ]
  },
  {
   "cell_type": "code",
   "execution_count": 12,
   "metadata": {},
   "outputs": [
    {
     "data": {
      "text/plain": [
       "102400.0"
      ]
     },
     "execution_count": 12,
     "metadata": {},
     "output_type": "execute_result"
    }
   ],
   "source": [
    "204800/2"
   ]
  },
  {
   "cell_type": "code",
   "execution_count": null,
   "metadata": {},
   "outputs": [],
   "source": []
  }
 ],
 "metadata": {
  "kernelspec": {
   "display_name": "simulations",
   "language": "python",
   "name": "python3"
  },
  "language_info": {
   "codemirror_mode": {
    "name": "ipython",
    "version": 3
   },
   "file_extension": ".py",
   "mimetype": "text/x-python",
   "name": "python",
   "nbconvert_exporter": "python",
   "pygments_lexer": "ipython3",
   "version": "3.9.16"
  },
  "orig_nbformat": 4
 },
 "nbformat": 4,
 "nbformat_minor": 2
}
