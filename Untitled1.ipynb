{
 "cells": [
  {
   "cell_type": "code",
   "execution_count": null,
   "id": "383d6786",
   "metadata": {},
   "outputs": [],
   "source": [
    "import numpy as np\n",
    "import pandas as pd\n",
    "import seaborn as sns\n",
    "import scipy.stats as stats\n",
    "import math \n",
    "import os\n",
    "\n",
    "import allel\n",
    "import subprocess"
   ]
  },
  {
   "cell_type": "code",
   "execution_count": null,
   "id": "00515560",
   "metadata": {},
   "outputs": [],
   "source": []
  }
 ],
 "metadata": {
  "kernelspec": {
   "display_name": "simulations",
   "language": "python",
   "name": "simulations"
  }
 },
 "nbformat": 4,
 "nbformat_minor": 5
}
