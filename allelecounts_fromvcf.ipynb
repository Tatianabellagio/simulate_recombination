{
 "cells": [
  {
   "attachments": {},
   "cell_type": "markdown",
   "metadata": {},
   "source": [
    "In this script i will generate from the vcf files from slim a table of allele counts per snp for all the populations as an input for baypass \n",
    "so the ouput should be, each row a snp positions and each colum the number of population X 2 since the first column is allele ref, the second alt allele"
   ]
  },
  {
   "cell_type": "code",
   "execution_count": 1,
   "metadata": {},
   "outputs": [],
   "source": [
    "import numpy as np\n",
    "import pandas as pd\n",
    "import seaborn as sns\n",
    "import scipy.stats as stats\n",
    "import math \n",
    "import os\n",
    "\n",
    "import allel\n",
    "import subprocess"
   ]
  },
  {
   "cell_type": "code",
   "execution_count": 80,
   "metadata": {},
   "outputs": [],
   "source": [
    "# take all the vcf files in the folder \n",
    "subps = os.listdir( 'vcf_slim/')\n",
    "subps = [i for i in subps if '.vcf' in i ]"
   ]
  },
  {
   "cell_type": "code",
   "execution_count": 88,
   "metadata": {},
   "outputs": [],
   "source": [
    "## order manually because lazy\n",
    "\n",
    "subps = ['subp0.vcf',\n",
    " 'subp1.vcf','subp2.vcf',\n",
    " 'subp3.vcf',\n",
    " 'subp4.vcf',\n",
    " 'subp5.vcf',\n",
    " 'subp6.vcf',\n",
    " 'subp7.vcf',\n",
    " 'subp8.vcf',\n",
    " 'subp9.vcf','subp10.vcf',\n",
    " 'subp11.vcf',\n",
    " 'subp12.vcf',\n",
    " 'subp13.vcf',\n",
    " 'subp14.vcf',\n",
    " 'subp15.vcf',]"
   ]
  },
  {
   "cell_type": "code",
   "execution_count": 91,
   "metadata": {},
   "outputs": [],
   "source": [
    "## so basically i will generate one table for eaach subpop where al the snps where they are variant will be named \n",
    "## and then i will merge all these tables getting the total variation \n",
    "all_subp = pd.DataFrame()\n",
    "for subp in subps:\n",
    "    vcf = allel.read_vcf('vcf_slim/' + subp)\n",
    "\n",
    "    genotypes = allel.GenotypeArray(vcf['calldata/GT'])\n",
    "    ref_allele_counts = genotypes.count_alleles()[:, 0]\n",
    "    alt_allele_counts = genotypes.count_alleles()[:, 1]\n",
    "\n",
    "    subp0 = pd.DataFrame(data ={'ref_'+ subp[:-4]:ref_allele_counts, 'alt_'+ subp[:-4]: alt_allele_counts}, index = vcf['variants/POS'], )\n",
    "    all_subp = pd.concat([all_subp, subp0], axis=1)\n",
    "\n",
    "\n",
    "## be careful here, because this are the positions that are variant, but the "
   ]
  },
  {
   "cell_type": "code",
   "execution_count": 92,
   "metadata": {},
   "outputs": [],
   "source": [
    "all_subp.to_csv('allele_counts_slim_full_cov.csv')\n",
    "\n",
    "## ok so my final talbe has 10933 variants. this means that all the others, like 9 thousands are all equal to teh reference and there is no new information there "
   ]
  },
  {
   "cell_type": "code",
   "execution_count": null,
   "metadata": {},
   "outputs": [],
   "source": []
  }
 ],
 "metadata": {
  "kernelspec": {
   "display_name": "simulations",
   "language": "python",
   "name": "python3"
  },
  "language_info": {
   "codemirror_mode": {
    "name": "ipython",
    "version": 3
   },
   "file_extension": ".py",
   "mimetype": "text/x-python",
   "name": "python",
   "nbconvert_exporter": "python",
   "pygments_lexer": "ipython3",
   "version": "3.10.9"
  },
  "orig_nbformat": 4
 },
 "nbformat": 4,
 "nbformat_minor": 2
}
