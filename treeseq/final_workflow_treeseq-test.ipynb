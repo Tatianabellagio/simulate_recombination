{
 "cells": [
  {
   "cell_type": "code",
   "execution_count": 2,
   "id": "8cc9b21e-1ee2-4072-8ab2-d198d388d7ba",
   "metadata": {},
   "outputs": [],
   "source": [
    "import cyvcf2\n",
    "import numpy as np\n",
    "import tsinfer\n",
    "import tskit\n",
    "from tskit import MISSING_DATA\n",
    "import pandas as pd\n",
    "import pyslim\n",
    "import allel\n",
    "from tqdm import tqdm"
   ]
  },
  {
   "cell_type": "markdown",
   "id": "f200c945-8798-46e2-93ea-266b2d9dc8ab",
   "metadata": {
    "tags": []
   },
   "source": [
    "## files \n",
    "greneNet_final_v1.1.recode.vcf: og vcf file\n",
    "\n",
    "wholegenome_offset.vcf : same vcf file but with the positions values changed with the awk command\n",
    "\n",
    "wholegenome_offset_samplefile: the result of converting the vcf file into a samplefile object (the one needed to infer the tree with tsinfer)\n",
    "\n",
    "wholegenome_offset.trees: the tree after inference keeping procesesd = False\n",
    "\n",
    "wholegenome_offset_processed.trees: the tree after running process but keeping flanking sites \n",
    "\n",
    "wholegenome_offset_baselinetree.trees: tree with all the structure of the metadata to be taken by slim but with all the mutations. this tree is the baseline to eliminate mutations based on teh different genetic architectures \n",
    "\n",
    "mapper_realid_metadataid_wholegenome: the mapper from our id nodes to the og tree id nodes \n",
    "\n",
    "output_completegenome.vcf : the result of the simulation with addded mutations\n",
    "\n",
    "output_completegenome_chr.vcf: the results with corrected chromosomes positions "
   ]
  },
  {
   "cell_type": "markdown",
   "id": "d1a22996-a5d1-4ada-a80d-289d4fbb4fcb",
   "metadata": {},
   "source": [
    "bcftools view greneNet_final_v1.1.recode.vcf.gz --regions 1 -o chr1.vcf\n",
    "\n",
    "chr1.vcf  : onyl chromosme 1 to test \n",
    "\n",
    "two_samples : is a. vcf file with only 2 samples, and chr from \n",
    "\n",
    "bcftools view -s 159,265 -r 1:1-3042767 greneNet_final_v1.1.recode.vcf.gz > two_samples.vcf\n",
    "\n",
    "greneNet_final_v1.1_nohet.recode.vcf : no heterozygous sites\n",
    "\n",
    "wholegenome_offset_nohet.vcf no heterozygous sites and the posiitons shifted\n",
    "\n",
    "wholegenome_offset_nohet_samplefile : the sample file"
   ]
  },
  {
   "cell_type": "markdown",
   "id": "8ad8e156-9640-4ebe-b6a2-d011cb712a80",
   "metadata": {
    "tags": []
   },
   "source": [
    "## Part 0: Modifications in vcf file\n",
    "Becuase tsinfer is builed to get one chromosome, we will need to provide vcf file with no overlapping positions, this means that the positions column in the vcf file should go from 0 to 119146348. For that:"
   ]
  },
  {
   "cell_type": "code",
   "execution_count": 71,
   "id": "ac958255-24a7-4f6c-8e1d-6fbf85ba7fb4",
   "metadata": {},
   "outputs": [
    {
     "ename": "SyntaxError",
     "evalue": "EOL while scanning string literal (2066762022.py, line 1)",
     "output_type": "error",
     "traceback": [
      "\u001b[0;36m  Cell \u001b[0;32mIn[71], line 1\u001b[0;36m\u001b[0m\n\u001b[0;31m    awk 'BEGIN {OFS=\"\\t\"} /^#/ {print} !/^#/\u001b[0m\n\u001b[0m                                               ^\u001b[0m\n\u001b[0;31mSyntaxError\u001b[0m\u001b[0;31m:\u001b[0m EOL while scanning string literal\n"
     ]
    }
   ],
   "source": [
    "awk 'BEGIN {OFS=\"\\t\"} /^#/ {print} !/^#/   \n",
    "                {if ($1 == \"2\") $2 = $2 + 30427671; \n",
    "                else if ($1 == \"3\") $2 = $2 + 50125960;    \n",
    "                else if ($1 == \"4\") $2 = $2 + 73585790; \n",
    "                else if ($1 == \"5\") $2 = $2 + 92170846;        \n",
    "                print}' greneNet_final_v1.1_nohet.recode.vcf > wholegenome_offset_nohet.vcf"
   ]
  },
  {
   "cell_type": "markdown",
   "id": "f507701a-ca33-415d-9c15-a5242ddfbc56",
   "metadata": {
    "tags": []
   },
   "source": [
    "## First part: runs only once \n",
    "Import VCF -> create samplefile -> estimate tree seq -> annotate tree seq so is readabale by SLiM + create a mapper of nodes so mutations can be overlaied in the future"
   ]
  },
  {
   "cell_type": "code",
   "execution_count": null,
   "id": "5c8cad40-6bfe-40c2-bf21-c605fe95559b",
   "metadata": {},
   "outputs": [],
   "source": [
    "## define chromosome length (for whole genome is 119146348)\n",
    "##contig=<ID=Chr1,length=30427671>\n",
    "##contig=<ID=Chr2,length=19698289>\n",
    "##contig=<ID=Chr3,length=23459830>\n",
    "##contig=<ID=Chr4,length=18585056>\n",
    "##contig=<ID=Chr5,length=26975502>\n",
    "chromosome_length = 30427671# 119146348  ## thsi is for the two samples 3042767"
   ]
  },
  {
   "cell_type": "code",
   "execution_count": null,
   "id": "6f2bedb7-294f-4661-b9f8-97688412175c",
   "metadata": {},
   "outputs": [],
   "source": [
    "def add_populations(vcf, samples):\n",
    "    \"\"\"\n",
    "    Add tsinfer Population objects and returns a list of IDs corresponding to the VCF samples.\n",
    "    \"\"\"\n",
    "    # this function in my case just creates a list of 0 indicating the pop id, for \n",
    "    # the x amount of samples the vcf file has \n",
    "    \n",
    "    pop_lookup = {}\n",
    "    pop_lookup[\"0\"] = samples.add_population()\n",
    "    population_belong = []\n",
    "    for sample in vcf.samples:\n",
    "        population_belong.append(0)\n",
    "    \n",
    "    return population_belong"
   ]
  },
  {
   "cell_type": "code",
   "execution_count": 72,
   "id": "c21459aa-1138-45fa-9bcb-770a43564768",
   "metadata": {},
   "outputs": [],
   "source": [
    "def add_diploid_individuals(vcf, samples, populations):\n",
    "    ## this function just iterate through the samples (individual) names and then assign \n",
    "    ## them to the populations and most importatntly states that they are diploid individuals \n",
    "    for name, population in zip(vcf.samples, populations):\n",
    "        samples.add_individual(ploidy=2, metadata={\"name\": name}, population=population)"
   ]
  },
  {
   "cell_type": "code",
   "execution_count": 73,
   "id": "4f32e7d1-4a98-4aae-ac86-d7b9853bba1b",
   "metadata": {},
   "outputs": [],
   "source": [
    "def add_diploid_sites(vcf, samples):\n",
    "    \"\"\"\n",
    "    Read the sites in the vcf and add them to the samples object.\n",
    "    \"\"\"\n",
    "    # You may want to change the following line, e.g. here we allow\n",
    "    # \"*\" (a spanning deletion) to be a valid allele state\n",
    "    allele_chars = set(\"ATGCatgc*\")\n",
    "    pos = 0\n",
    "    progressbar = tqdm(total=30427671, desc=\"Read VCF\", unit='bp')\n",
    "\n",
    "    #progressbar = tqdm(total=samples.sequence_length, desc=\"Read VCF\", unit='bp')\n",
    "    for variant in vcf:  # Loop over variants, each assumed at a unique site\n",
    "        progressbar.update(variant.POS - pos)\n",
    "\n",
    "        ## each variant in the cyvcf2 library is just one line in the vcf file \n",
    "        ## ignoring of course the info lines\n",
    "        #progressbar.update(variant.POS - pos)\n",
    "        \n",
    "        ## access the position of the variant \n",
    "        if pos == variant.POS:\n",
    "            print(f\"Duplicate entries at position {pos}, ignoring all but the first\")\n",
    "            continue\n",
    "        else:\n",
    "            pos = variant.POS\n",
    "        #print(pos)\n",
    "        ## check that the variants are phased \n",
    "        if any([not phased for _, _, phased in variant.genotypes]):\n",
    "            raise ValueError(\"Unphased genotypes for variant at position\", pos)\n",
    "        alleles = [variant.REF.upper()] + [v.upper() for v in variant.ALT]\n",
    "        \n",
    "        # in my case the ancestral allele is always the ref \n",
    "        ancestral = variant.REF.upper()\n",
    "        if ancestral == \".\" or ancestral == \"\":\n",
    "            ancestral_allele = MISSING_DATA\n",
    "            # alternatively, you could specify `ancestral = variant.REF.upper()`\n",
    "        else:\n",
    "            ancestral_allele = alleles.index(ancestral)\n",
    "        # Check we have ATCG alleles\n",
    "        for a in alleles:\n",
    "            if len(set(a) - allele_chars) > 0:\n",
    "                print(f\"Ignoring site at pos {pos}: allele {a} not in {allele_chars}\")\n",
    "                continue\n",
    "\n",
    "        # Map original allele indexes to their indexes in the new alleles list.\n",
    "        genotypes = [g for row in variant.genotypes for g in row[0:2]]\n",
    "\n",
    "        ## now actually adding the info based on the thigns retrieved before\n",
    "        samples.add_site(pos, genotypes, alleles, ancestral_allele=ancestral_allele)"
   ]
  },
  {
   "cell_type": "markdown",
   "id": "b3cbaa90-a45a-469c-899d-14d9030b28ad",
   "metadata": {},
   "source": [
    "### Import VCF"
   ]
  },
  {
   "cell_type": "code",
   "execution_count": 74,
   "id": "03cc9444-b06f-4332-8cc1-fe2f5d49c035",
   "metadata": {},
   "outputs": [],
   "source": [
    "vcf_location = \"qtl2_contrib_correct.vcf\""
   ]
  },
  {
   "cell_type": "code",
   "execution_count": 75,
   "id": "685b631f-6139-43ab-aa3a-9b3699be6623",
   "metadata": {},
   "outputs": [],
   "source": [
    "chromosome_name = vcf_location.split('.')[0]"
   ]
  },
  {
   "cell_type": "code",
   "execution_count": 76,
   "id": "58556f80-7717-42cd-851f-bc8ff17c3bde",
   "metadata": {},
   "outputs": [
    {
     "data": {
      "text/plain": [
       "'qtl2_contrib_correct'"
      ]
     },
     "execution_count": 76,
     "metadata": {},
     "output_type": "execute_result"
    }
   ],
   "source": [
    "chromosome_name"
   ]
  },
  {
   "cell_type": "code",
   "execution_count": 77,
   "id": "9918c2a3-29b4-4a8f-905e-ce8d04c41ffd",
   "metadata": {},
   "outputs": [],
   "source": [
    "## read the vcf file with the cyvcf2 library \n",
    "vcf = cyvcf2.VCF(vcf_location)"
   ]
  },
  {
   "cell_type": "code",
   "execution_count": 78,
   "id": "71ac5c91-8ba5-4c81-a052-d1d43b4b27b8",
   "metadata": {},
   "outputs": [
    {
     "name": "stderr",
     "output_type": "stream",
     "text": [
      "Read VCF:  76%|███████▋  | 23223457/30427671 [00:00<00:00, 57203771.32bp/s] "
     ]
    },
    {
     "name": "stdout",
     "output_type": "stream",
     "text": [
      "Sample file created for 450 samples (225 individuals) with 652 variable sites.\n"
     ]
    },
    {
     "name": "stderr",
     "output_type": "stream",
     "text": [
      "\n"
     ]
    }
   ],
   "source": [
    "with tsinfer.SampleData(\n",
    "    path=chromosome_name +\"_samplefile\", sequence_length=chromosome_length) as samples:\n",
    "    ## add dipplod individuals and populations\n",
    "    populations = add_populations(vcf, samples)\n",
    "    add_diploid_individuals(vcf, samples, populations)\n",
    "    #####\n",
    "    add_diploid_sites(vcf, samples)\n",
    "\n",
    "print(\n",
    "    \"Sample file created for {} samples \".format(samples.num_samples)\n",
    "    + \"({} individuals) \".format(samples.num_individuals)\n",
    "    + \"with {} variable sites.\".format(samples.num_sites),\n",
    "    flush=True,\n",
    ")"
   ]
  },
  {
   "cell_type": "code",
   "execution_count": null,
   "id": "d9b2a2a2-b729-4a52-b7bb-648f35ff2b34",
   "metadata": {},
   "outputs": [],
   "source": []
  },
  {
   "cell_type": "code",
   "execution_count": null,
   "id": "04d7d481-bbf8-4cbc-a5ad-93aa810dace0",
   "metadata": {},
   "outputs": [],
   "source": []
  },
  {
   "cell_type": "code",
   "execution_count": 12,
   "id": "532e4ca1-49fb-4401-94f0-70630f9d7ad8",
   "metadata": {},
   "outputs": [],
   "source": [
    "#samples = tsinfer.load('wholegenome_offset_subset_samplefile')"
   ]
  },
  {
   "cell_type": "markdown",
   "id": "048cc9a4-a729-46f7-bf74-6a8b45044ce2",
   "metadata": {
    "tags": []
   },
   "source": [
    "### Infer tree seq "
   ]
  },
  {
   "cell_type": "markdown",
   "id": "a139d0ba-fcda-4b1c-bfec-e754f66a369d",
   "metadata": {},
   "source": [
    "python tree_infer_noprocess.py wholegenome_offset_nohet_samplefile wholegenome_offset_nohet.trees\n",
    "python tree_infer.py chr1_samplefile chr1.trees"
   ]
  },
  {
   "cell_type": "code",
   "execution_count": 3,
   "id": "eb0e0e98-5293-4903-bb21-c8b2c614bbb4",
   "metadata": {},
   "outputs": [
    {
     "ename": "NameError",
     "evalue": "name 'samples' is not defined",
     "output_type": "error",
     "traceback": [
      "\u001b[0;31m---------------------------------------------------------------------------\u001b[0m",
      "\u001b[0;31mNameError\u001b[0m                                 Traceback (most recent call last)",
      "Cell \u001b[0;32mIn[3], line 1\u001b[0m\n\u001b[0;32m----> 1\u001b[0m ts \u001b[38;5;241m=\u001b[39m tsinfer\u001b[38;5;241m.\u001b[39minfer(\u001b[43msamples\u001b[49m,num_threads\u001b[38;5;241m=\u001b[39m\u001b[38;5;241m10\u001b[39m)\n",
      "\u001b[0;31mNameError\u001b[0m: name 'samples' is not defined"
     ]
    }
   ],
   "source": [
    "ts = tsinfer.infer(samples,num_threads=10)"
   ]
  },
  {
   "cell_type": "code",
   "execution_count": 80,
   "id": "48fae427-dce7-44cf-930b-99a0d3f80bcc",
   "metadata": {},
   "outputs": [
    {
     "data": {
      "text/html": [
       "\n",
       "            <div>\n",
       "              <style>\n",
       "                .tskit-table thead tr th {text-align: left;padding: 0.5em 0.5em;}\n",
       "                .tskit-table tbody tr td {padding: 0.5em 0.5em;}\n",
       "                .tskit-table tbody tr td:first-of-type {text-align: left;}\n",
       "                .tskit-details-label {vertical-align: top; padding-right:5px;}\n",
       "                .tskit-table-set {display: inline-flex;flex-wrap: wrap;margin: -12px 0 0 -12px;width: calc(100% + 12px);}\n",
       "                .tskit-table-set-table {margin: 12px 0 0 12px;}\n",
       "                details {display: inline-block;}\n",
       "                summary {cursor: pointer; outline: 0; display: list-item;}\n",
       "              </style>\n",
       "              <div class=\"tskit-table-set\">\n",
       "                <div class=\"tskit-table-set-table\">\n",
       "                  <table class=\"tskit-table\">\n",
       "                    <thead>\n",
       "                      <tr>\n",
       "                        <th style=\"padding:0;line-height:21px;\">\n",
       "                          <img style=\"height: 32px;display: inline-block;padding: 3px 5px 3px 0;\" src=\"https://raw.githubusercontent.com/tskit-dev/administrative/main/tskit_logo.svg\"/>\n",
       "                          <a target=\"_blank\" href=\"https://tskit.dev/tskit/docs/latest/python-api.html#the-treesequence-class\"> Tree Sequence </a>\n",
       "                        </th>\n",
       "                      </tr>\n",
       "                    </thead>\n",
       "                    <tbody>\n",
       "                      <tr><td>Trees</td><td>501</td></tr>\n",
       "                      <tr><td>Sequence Length</td><td>30427671.0</td></tr>\n",
       "                      <tr><td>Time Units</td><td>uncalibrated</td></tr>\n",
       "                      <tr><td>Sample Nodes</td><td>450</td></tr>\n",
       "                      <tr><td>Total Size</td><td>429.6 KiB</td></tr>\n",
       "                      <tr>\n",
       "                        <td>Metadata</td><td style=\"text-align: left;\">\n",
       "                <div>\n",
       "                  <span class=\"tskit-details-label\"></span>\n",
       "                  <details open>\n",
       "                    <summary>dict</summary>\n",
       "                    \n",
       "                  </details>\n",
       "                </div>\n",
       "                </td></tr>\n",
       "                    </tbody>\n",
       "                  </table>\n",
       "                </div>\n",
       "                <div class=\"tskit-table-set-table\">\n",
       "                  <table class=\"tskit-table\">\n",
       "                    <thead>\n",
       "                      <tr>\n",
       "                        <th style=\"line-height:21px;\">Table</th>\n",
       "                        <th>Rows</th>\n",
       "                        <th>Size</th>\n",
       "                        <th>Has Metadata</th>\n",
       "                      </tr>\n",
       "                    </thead>\n",
       "                    <tbody>\n",
       "                    \n",
       "                  <tr>\n",
       "                    <td>Edges</td>\n",
       "                      <td>7881</td>\n",
       "                      <td>246.3 KiB</td>\n",
       "                      <td style=\"text-align: center;\">\n",
       "                        \n",
       "                      </td>\n",
       "                    </tr>\n",
       "                \n",
       "                  <tr>\n",
       "                    <td>Individuals</td>\n",
       "                      <td>225</td>\n",
       "                      <td>9.7 KiB</td>\n",
       "                      <td style=\"text-align: center;\">\n",
       "                        ✅\n",
       "                      </td>\n",
       "                    </tr>\n",
       "                \n",
       "                  <tr>\n",
       "                    <td>Migrations</td>\n",
       "                      <td>0</td>\n",
       "                      <td>8 Bytes</td>\n",
       "                      <td style=\"text-align: center;\">\n",
       "                        \n",
       "                      </td>\n",
       "                    </tr>\n",
       "                \n",
       "                  <tr>\n",
       "                    <td>Mutations</td>\n",
       "                      <td>652</td>\n",
       "                      <td>23.6 KiB</td>\n",
       "                      <td style=\"text-align: center;\">\n",
       "                        \n",
       "                      </td>\n",
       "                    </tr>\n",
       "                \n",
       "                  <tr>\n",
       "                    <td>Nodes</td>\n",
       "                      <td>1360</td>\n",
       "                      <td>55.3 KiB</td>\n",
       "                      <td style=\"text-align: center;\">\n",
       "                        ✅\n",
       "                      </td>\n",
       "                    </tr>\n",
       "                \n",
       "                  <tr>\n",
       "                    <td>Populations</td>\n",
       "                      <td>1</td>\n",
       "                      <td>18 Bytes</td>\n",
       "                      <td style=\"text-align: center;\">\n",
       "                        ✅\n",
       "                      </td>\n",
       "                    </tr>\n",
       "                \n",
       "                  <tr>\n",
       "                    <td>Provenances</td>\n",
       "                      <td>1</td>\n",
       "                      <td>613 Bytes</td>\n",
       "                      <td style=\"text-align: center;\">\n",
       "                        \n",
       "                      </td>\n",
       "                    </tr>\n",
       "                \n",
       "                  <tr>\n",
       "                    <td>Sites</td>\n",
       "                      <td>652</td>\n",
       "                      <td>32.5 KiB</td>\n",
       "                      <td style=\"text-align: center;\">\n",
       "                        ✅\n",
       "                      </td>\n",
       "                    </tr>\n",
       "                \n",
       "                    </tbody>\n",
       "                  </table>\n",
       "                </div>\n",
       "              </div>\n",
       "            </div>\n",
       "            "
      ],
      "text/plain": [
       "<tskit.trees.TreeSequence at 0x7f8f04b10190>"
      ]
     },
     "execution_count": 80,
     "metadata": {},
     "output_type": "execute_result"
    }
   ],
   "source": [
    "ts"
   ]
  },
  {
   "cell_type": "code",
   "execution_count": null,
   "id": "302324dc-3c87-4145-ae64-14a892316c8a",
   "metadata": {},
   "outputs": [],
   "source": []
  },
  {
   "cell_type": "markdown",
   "id": "e52c3a8a-cf0f-4086-8515-f3af5f578955",
   "metadata": {
    "tags": []
   },
   "source": [
    "### Annotate treeseq "
   ]
  },
  {
   "cell_type": "code",
   "execution_count": 15,
   "id": "13312c14-ce54-4a13-b3cb-d711ddac05fc",
   "metadata": {},
   "outputs": [],
   "source": [
    "#ts = tskit.load('../treeseq/wholegenome_offset.trees')\n",
    "\n",
    "#ts_processed = tsinfer.post_process(ts, erase_flanks=False) \n",
    "\n",
    "#ts_processed.dump('../treeseq/wholegenome_offset_processed.trees')"
   ]
  },
  {
   "cell_type": "code",
   "execution_count": null,
   "id": "3f3f5cc9-3213-4f1d-88c8-8b324c0b4b39",
   "metadata": {},
   "outputs": [],
   "source": []
  },
  {
   "cell_type": "code",
   "execution_count": 6,
   "id": "aba6a27f-4cde-47be-878b-a601b4546233",
   "metadata": {},
   "outputs": [],
   "source": [
    "ts = tskit.load('qtl2_contrib.trees')"
   ]
  },
  {
   "cell_type": "code",
   "execution_count": 7,
   "id": "9a0227d7-08c9-41db-9dab-cd4053f2fa3e",
   "metadata": {},
   "outputs": [
    {
     "data": {
      "text/html": [
       "\n",
       "            <div>\n",
       "              <style>\n",
       "                .tskit-table thead tr th {text-align: left;padding: 0.5em 0.5em;}\n",
       "                .tskit-table tbody tr td {padding: 0.5em 0.5em;}\n",
       "                .tskit-table tbody tr td:first-of-type {text-align: left;}\n",
       "                .tskit-details-label {vertical-align: top; padding-right:5px;}\n",
       "                .tskit-table-set {display: inline-flex;flex-wrap: wrap;margin: -12px 0 0 -12px;width: calc(100% + 12px);}\n",
       "                .tskit-table-set-table {margin: 12px 0 0 12px;}\n",
       "                details {display: inline-block;}\n",
       "                summary {cursor: pointer; outline: 0; display: list-item;}\n",
       "              </style>\n",
       "              <div class=\"tskit-table-set\">\n",
       "                <div class=\"tskit-table-set-table\">\n",
       "                  <table class=\"tskit-table\">\n",
       "                    <thead>\n",
       "                      <tr>\n",
       "                        <th style=\"padding:0;line-height:21px;\">\n",
       "                          <img style=\"height: 32px;display: inline-block;padding: 3px 5px 3px 0;\" src=\"https://raw.githubusercontent.com/tskit-dev/administrative/main/tskit_logo.svg\"/>\n",
       "                          <a target=\"_blank\" href=\"https://tskit.dev/tskit/docs/latest/python-api.html#the-treesequence-class\"> Tree Sequence </a>\n",
       "                        </th>\n",
       "                      </tr>\n",
       "                    </thead>\n",
       "                    <tbody>\n",
       "                      <tr><td>Trees</td><td>501</td></tr>\n",
       "                      <tr><td>Sequence Length</td><td>30427671.0</td></tr>\n",
       "                      <tr><td>Time Units</td><td>uncalibrated</td></tr>\n",
       "                      <tr><td>Sample Nodes</td><td>450</td></tr>\n",
       "                      <tr><td>Total Size</td><td>388.4 KiB</td></tr>\n",
       "                      <tr>\n",
       "                        <td>Metadata</td><td style=\"text-align: left;\">\n",
       "                <div>\n",
       "                  <span class=\"tskit-details-label\"></span>\n",
       "                  <details open>\n",
       "                    <summary>dict</summary>\n",
       "                    \n",
       "                <div>\n",
       "                  <span class=\"tskit-details-label\">SLiM:</span>\n",
       "                  <details >\n",
       "                    <summary>dict</summary>\n",
       "                    cycle: 1<br/>description: <br/>file_version: 0.8<br/>model_type: nonWF<br/>name: <br/>nucleotide_based: False<br/>separate_sexes: False<br/>spatial_dimensionality: <br/>spatial_periodicity: <br/>stage: early<br/>tick: 1<br/>\n",
       "                  </details>\n",
       "                </div>\n",
       "                <br/>\n",
       "                  </details>\n",
       "                </div>\n",
       "                </td></tr>\n",
       "                    </tbody>\n",
       "                  </table>\n",
       "                </div>\n",
       "                <div class=\"tskit-table-set-table\">\n",
       "                  <table class=\"tskit-table\">\n",
       "                    <thead>\n",
       "                      <tr>\n",
       "                        <th style=\"line-height:21px;\">Table</th>\n",
       "                        <th>Rows</th>\n",
       "                        <th>Size</th>\n",
       "                        <th>Has Metadata</th>\n",
       "                      </tr>\n",
       "                    </thead>\n",
       "                    <tbody>\n",
       "                    \n",
       "                  <tr>\n",
       "                    <td>Edges</td>\n",
       "                      <td>7881</td>\n",
       "                      <td>246.3 KiB</td>\n",
       "                      <td style=\"text-align: center;\">\n",
       "                        \n",
       "                      </td>\n",
       "                    </tr>\n",
       "                \n",
       "                  <tr>\n",
       "                    <td>Individuals</td>\n",
       "                      <td>225</td>\n",
       "                      <td>22.0 KiB</td>\n",
       "                      <td style=\"text-align: center;\">\n",
       "                        ✅\n",
       "                      </td>\n",
       "                    </tr>\n",
       "                \n",
       "                  <tr>\n",
       "                    <td>Migrations</td>\n",
       "                      <td>0</td>\n",
       "                      <td>8 Bytes</td>\n",
       "                      <td style=\"text-align: center;\">\n",
       "                        \n",
       "                      </td>\n",
       "                    </tr>\n",
       "                \n",
       "                  <tr>\n",
       "                    <td>Mutations</td>\n",
       "                      <td>10</td>\n",
       "                      <td>1.7 KiB</td>\n",
       "                      <td style=\"text-align: center;\">\n",
       "                        ✅\n",
       "                      </td>\n",
       "                    </tr>\n",
       "                \n",
       "                  <tr>\n",
       "                    <td>Nodes</td>\n",
       "                      <td>1360</td>\n",
       "                      <td>51.1 KiB</td>\n",
       "                      <td style=\"text-align: center;\">\n",
       "                        ✅\n",
       "                      </td>\n",
       "                    </tr>\n",
       "                \n",
       "                  <tr>\n",
       "                    <td>Populations</td>\n",
       "                      <td>1</td>\n",
       "                      <td>2.5 KiB</td>\n",
       "                      <td style=\"text-align: center;\">\n",
       "                        ✅\n",
       "                      </td>\n",
       "                    </tr>\n",
       "                \n",
       "                  <tr>\n",
       "                    <td>Provenances</td>\n",
       "                      <td>1</td>\n",
       "                      <td>613 Bytes</td>\n",
       "                      <td style=\"text-align: center;\">\n",
       "                        \n",
       "                      </td>\n",
       "                    </tr>\n",
       "                \n",
       "                  <tr>\n",
       "                    <td>Sites</td>\n",
       "                      <td>10</td>\n",
       "                      <td>516 Bytes</td>\n",
       "                      <td style=\"text-align: center;\">\n",
       "                        ✅\n",
       "                      </td>\n",
       "                    </tr>\n",
       "                \n",
       "                    </tbody>\n",
       "                  </table>\n",
       "                </div>\n",
       "              </div>\n",
       "            </div>\n",
       "            "
      ],
      "text/plain": [
       "<tskit.trees.TreeSequence at 0x7f7d900871f0>"
      ]
     },
     "execution_count": 7,
     "metadata": {},
     "output_type": "execute_result"
    }
   ],
   "source": [
    "ts"
   ]
  },
  {
   "cell_type": "code",
   "execution_count": 8,
   "id": "98b2e37b-95f6-4a55-bd84-42560aba867a",
   "metadata": {},
   "outputs": [],
   "source": [
    "tables = ts.dump_tables()"
   ]
  },
  {
   "cell_type": "code",
   "execution_count": 9,
   "id": "91cd4bbc-9ec9-43ba-af41-fa65b362555c",
   "metadata": {},
   "outputs": [],
   "source": [
    "## modify metadata to make it compatible with slim\n",
    "tables.metadata_schema = pyslim.slim_metadata_schemas['tree_sequence']\n",
    "\n",
    "pyslim.annotate_tables(tables, model_type=\"nonWF\", tick=1,annotate_mutations=False)"
   ]
  },
  {
   "cell_type": "markdown",
   "id": "aba6843c-93a3-442c-9f97-4d56d357589a",
   "metadata": {},
   "source": [
    "### Create mapper for nodes"
   ]
  },
  {
   "cell_type": "code",
   "execution_count": 10,
   "id": "31653154-d58c-4528-ad80-ea11ac747aec",
   "metadata": {},
   "outputs": [],
   "source": [
    "## change nodes id in metadata to remember them and create mapper_realid_metadataid which will serve to map mutations back in their nodes\n",
    "tables.nodes.clear()\n",
    "\n",
    "counter_for_samples = 0 \n",
    "counter_for_ancestral = -1\n",
    "\n",
    "for n in ts.nodes():\n",
    "    if n.flags == 1:\n",
    "        tables.nodes.append(n.replace(metadata={'slim_id': counter_for_samples, 'is_null': False, 'genome_type': 0}))\n",
    "        counter_for_samples += 1\n",
    "    else:\n",
    "        tables.nodes.append(n.replace(metadata={'slim_id': counter_for_ancestral, 'is_null': True, 'genome_type': 0}))\n",
    "        counter_for_ancestral -= 1"
   ]
  },
  {
   "cell_type": "code",
   "execution_count": 11,
   "id": "b2134509-1029-455d-9187-1ef37d88d526",
   "metadata": {},
   "outputs": [],
   "source": [
    "my_ids=[]\n",
    "for i in tables.nodes:\n",
    "    my_ids.append(i.metadata['slim_id'])\n",
    "\n",
    "mapper_realid_metadataid = pd.DataFrame({'real_id':range(0, len(tables.nodes)), 'my_ids_metadata':my_ids})"
   ]
  },
  {
   "cell_type": "code",
   "execution_count": 12,
   "id": "f1e5cada-d23b-49e6-9479-010454b51ac7",
   "metadata": {},
   "outputs": [
    {
     "data": {
      "text/html": [
       "<div>\n",
       "<style scoped>\n",
       "    .dataframe tbody tr th:only-of-type {\n",
       "        vertical-align: middle;\n",
       "    }\n",
       "\n",
       "    .dataframe tbody tr th {\n",
       "        vertical-align: top;\n",
       "    }\n",
       "\n",
       "    .dataframe thead th {\n",
       "        text-align: right;\n",
       "    }\n",
       "</style>\n",
       "<table border=\"1\" class=\"dataframe\">\n",
       "  <thead>\n",
       "    <tr style=\"text-align: right;\">\n",
       "      <th></th>\n",
       "      <th>real_id</th>\n",
       "      <th>my_ids_metadata</th>\n",
       "    </tr>\n",
       "  </thead>\n",
       "  <tbody>\n",
       "    <tr>\n",
       "      <th>0</th>\n",
       "      <td>0</td>\n",
       "      <td>0</td>\n",
       "    </tr>\n",
       "    <tr>\n",
       "      <th>1</th>\n",
       "      <td>1</td>\n",
       "      <td>1</td>\n",
       "    </tr>\n",
       "    <tr>\n",
       "      <th>2</th>\n",
       "      <td>2</td>\n",
       "      <td>2</td>\n",
       "    </tr>\n",
       "    <tr>\n",
       "      <th>3</th>\n",
       "      <td>3</td>\n",
       "      <td>3</td>\n",
       "    </tr>\n",
       "    <tr>\n",
       "      <th>4</th>\n",
       "      <td>4</td>\n",
       "      <td>4</td>\n",
       "    </tr>\n",
       "    <tr>\n",
       "      <th>...</th>\n",
       "      <td>...</td>\n",
       "      <td>...</td>\n",
       "    </tr>\n",
       "    <tr>\n",
       "      <th>1355</th>\n",
       "      <td>1355</td>\n",
       "      <td>-906</td>\n",
       "    </tr>\n",
       "    <tr>\n",
       "      <th>1356</th>\n",
       "      <td>1356</td>\n",
       "      <td>-907</td>\n",
       "    </tr>\n",
       "    <tr>\n",
       "      <th>1357</th>\n",
       "      <td>1357</td>\n",
       "      <td>-908</td>\n",
       "    </tr>\n",
       "    <tr>\n",
       "      <th>1358</th>\n",
       "      <td>1358</td>\n",
       "      <td>-909</td>\n",
       "    </tr>\n",
       "    <tr>\n",
       "      <th>1359</th>\n",
       "      <td>1359</td>\n",
       "      <td>-910</td>\n",
       "    </tr>\n",
       "  </tbody>\n",
       "</table>\n",
       "<p>1360 rows × 2 columns</p>\n",
       "</div>"
      ],
      "text/plain": [
       "      real_id  my_ids_metadata\n",
       "0           0                0\n",
       "1           1                1\n",
       "2           2                2\n",
       "3           3                3\n",
       "4           4                4\n",
       "...       ...              ...\n",
       "1355     1355             -906\n",
       "1356     1356             -907\n",
       "1357     1357             -908\n",
       "1358     1358             -909\n",
       "1359     1359             -910\n",
       "\n",
       "[1360 rows x 2 columns]"
      ]
     },
     "execution_count": 12,
     "metadata": {},
     "output_type": "execute_result"
    }
   ],
   "source": [
    "mapper_realid_metadataid"
   ]
  },
  {
   "cell_type": "code",
   "execution_count": 13,
   "id": "0423cad8-b34e-4695-8aa1-b251ff0b61c0",
   "metadata": {},
   "outputs": [],
   "source": [
    "mapper_realid_metadataid.to_csv('mapper_realid_metadataid_short_tree_4test.csv')"
   ]
  },
  {
   "cell_type": "markdown",
   "id": "e48ed4e7-a959-4200-9064-2fffcf074d07",
   "metadata": {},
   "source": [
    "### Save common tree for all simulations "
   ]
  },
  {
   "cell_type": "code",
   "execution_count": 14,
   "id": "2c5db88e-a4b7-4a93-a665-e690a96261a0",
   "metadata": {},
   "outputs": [],
   "source": [
    "new_ts = tables.tree_sequence()"
   ]
  },
  {
   "cell_type": "code",
   "execution_count": 15,
   "id": "e9bd5ded-c174-4117-9047-8447685ca46f",
   "metadata": {},
   "outputs": [],
   "source": [
    "new_ts.dump('short_tree_4test.trees')"
   ]
  },
  {
   "cell_type": "markdown",
   "id": "bddc0964-8a19-4912-8eb3-2d435b425521",
   "metadata": {
    "tags": []
   },
   "source": [
    "## Part 2 : specific to each trait architecture\n",
    "\n",
    "Delete all the sites and mutations that are not causal -> save tree ready for SLiM"
   ]
  },
  {
   "cell_type": "code",
   "execution_count": 16,
   "id": "0d80d0d9-94ef-48bd-a6ad-da868fc92a2d",
   "metadata": {},
   "outputs": [],
   "source": [
    "selected_sites = [16786062., 17435486., 18722427., 19304820., 19535796., 20546789.,\n",
    "       21204718., 21956162., 22302386., 22575472.]\n",
    "\n",
    "sc = [-0.5, -0.5, -0.5, -0.5, -0.5, -0.5, -0.5, 0.5, 0.5, 0.5]\n",
    "\n",
    "pos_sc = pd.DataFrame({'pos': selected_sites, 'sc': sc})\n",
    "\n",
    "\n",
    "tables = new_ts.dump_tables()"
   ]
  },
  {
   "cell_type": "markdown",
   "id": "d1d619dd-8946-4688-84ef-3f56ced1fd79",
   "metadata": {},
   "source": [
    "### Delete all the sites and mutations that are not causal "
   ]
  },
  {
   "cell_type": "code",
   "execution_count": 17,
   "id": "cafe04db-2028-46d9-b6a4-4a188a3145de",
   "metadata": {},
   "outputs": [],
   "source": [
    "complete_sites = pd.Series(tables.sites.position)\n",
    "\n",
    "complete_sites.name = 'complete_sites'\n",
    "\n",
    "mask_delete_sites = pd.merge(complete_sites, pos_sc['pos'], left_on = 'complete_sites', right_on = 'pos', how = 'left')['pos'].notna()\n",
    "\n",
    "tables.sites.replace_with(tables.sites[mask_delete_sites])\n",
    "\n",
    "tables.mutations.replace_with(tables.mutations[mask_delete_sites])\n",
    "\n",
    "tables.mutations.site = np.array(range(0, len(tables.mutations))).astype('int32')\n",
    "\n",
    "new_ts = tables.tree_sequence()\n",
    "\n",
    "pos_table = pd.Series(tables.sites.position).reset_index()\n",
    "\n",
    "right_order_pos = pos_sc.merge(pos_table, left_on='pos',right_on =0 ).sort_values('index')\n",
    "\n",
    "new_ts = tables.tree_sequence()\n",
    "\n"
   ]
  },
  {
   "cell_type": "code",
   "execution_count": 18,
   "id": "cd049859-278f-4f56-b8c5-442e10f44e34",
   "metadata": {},
   "outputs": [
    {
     "data": {
      "text/html": [
       "\n",
       "            <div>\n",
       "              <style>\n",
       "                .tskit-table thead tr th {text-align: left;padding: 0.5em 0.5em;}\n",
       "                .tskit-table tbody tr td {padding: 0.5em 0.5em;}\n",
       "                .tskit-table tbody tr td:first-of-type {text-align: left;}\n",
       "                .tskit-details-label {vertical-align: top; padding-right:5px;}\n",
       "                .tskit-table-set {display: inline-flex;flex-wrap: wrap;margin: -12px 0 0 -12px;width: calc(100% + 12px);}\n",
       "                .tskit-table-set-table {margin: 12px 0 0 12px;}\n",
       "                details {display: inline-block;}\n",
       "                summary {cursor: pointer; outline: 0; display: list-item;}\n",
       "              </style>\n",
       "              <div class=\"tskit-table-set\">\n",
       "                <div class=\"tskit-table-set-table\">\n",
       "                  <table class=\"tskit-table\">\n",
       "                    <thead>\n",
       "                      <tr>\n",
       "                        <th style=\"padding:0;line-height:21px;\">\n",
       "                          <img style=\"height: 32px;display: inline-block;padding: 3px 5px 3px 0;\" src=\"https://raw.githubusercontent.com/tskit-dev/administrative/main/tskit_logo.svg\"/>\n",
       "                          <a target=\"_blank\" href=\"https://tskit.dev/tskit/docs/latest/python-api.html#the-treesequence-class\"> Tree Sequence </a>\n",
       "                        </th>\n",
       "                      </tr>\n",
       "                    </thead>\n",
       "                    <tbody>\n",
       "                      <tr><td>Trees</td><td>501</td></tr>\n",
       "                      <tr><td>Sequence Length</td><td>30427671.0</td></tr>\n",
       "                      <tr><td>Time Units</td><td>uncalibrated</td></tr>\n",
       "                      <tr><td>Sample Nodes</td><td>450</td></tr>\n",
       "                      <tr><td>Total Size</td><td>388.4 KiB</td></tr>\n",
       "                      <tr>\n",
       "                        <td>Metadata</td><td style=\"text-align: left;\">\n",
       "                <div>\n",
       "                  <span class=\"tskit-details-label\"></span>\n",
       "                  <details open>\n",
       "                    <summary>dict</summary>\n",
       "                    \n",
       "                <div>\n",
       "                  <span class=\"tskit-details-label\">SLiM:</span>\n",
       "                  <details >\n",
       "                    <summary>dict</summary>\n",
       "                    cycle: 1<br/>description: <br/>file_version: 0.8<br/>model_type: nonWF<br/>name: <br/>nucleotide_based: False<br/>separate_sexes: False<br/>spatial_dimensionality: <br/>spatial_periodicity: <br/>stage: early<br/>tick: 1<br/>\n",
       "                  </details>\n",
       "                </div>\n",
       "                <br/>\n",
       "                  </details>\n",
       "                </div>\n",
       "                </td></tr>\n",
       "                    </tbody>\n",
       "                  </table>\n",
       "                </div>\n",
       "                <div class=\"tskit-table-set-table\">\n",
       "                  <table class=\"tskit-table\">\n",
       "                    <thead>\n",
       "                      <tr>\n",
       "                        <th style=\"line-height:21px;\">Table</th>\n",
       "                        <th>Rows</th>\n",
       "                        <th>Size</th>\n",
       "                        <th>Has Metadata</th>\n",
       "                      </tr>\n",
       "                    </thead>\n",
       "                    <tbody>\n",
       "                    \n",
       "                  <tr>\n",
       "                    <td>Edges</td>\n",
       "                      <td>7881</td>\n",
       "                      <td>246.3 KiB</td>\n",
       "                      <td style=\"text-align: center;\">\n",
       "                        \n",
       "                      </td>\n",
       "                    </tr>\n",
       "                \n",
       "                  <tr>\n",
       "                    <td>Individuals</td>\n",
       "                      <td>225</td>\n",
       "                      <td>22.0 KiB</td>\n",
       "                      <td style=\"text-align: center;\">\n",
       "                        ✅\n",
       "                      </td>\n",
       "                    </tr>\n",
       "                \n",
       "                  <tr>\n",
       "                    <td>Migrations</td>\n",
       "                      <td>0</td>\n",
       "                      <td>8 Bytes</td>\n",
       "                      <td style=\"text-align: center;\">\n",
       "                        \n",
       "                      </td>\n",
       "                    </tr>\n",
       "                \n",
       "                  <tr>\n",
       "                    <td>Mutations</td>\n",
       "                      <td>10</td>\n",
       "                      <td>1.7 KiB</td>\n",
       "                      <td style=\"text-align: center;\">\n",
       "                        ✅\n",
       "                      </td>\n",
       "                    </tr>\n",
       "                \n",
       "                  <tr>\n",
       "                    <td>Nodes</td>\n",
       "                      <td>1360</td>\n",
       "                      <td>51.1 KiB</td>\n",
       "                      <td style=\"text-align: center;\">\n",
       "                        ✅\n",
       "                      </td>\n",
       "                    </tr>\n",
       "                \n",
       "                  <tr>\n",
       "                    <td>Populations</td>\n",
       "                      <td>1</td>\n",
       "                      <td>2.5 KiB</td>\n",
       "                      <td style=\"text-align: center;\">\n",
       "                        ✅\n",
       "                      </td>\n",
       "                    </tr>\n",
       "                \n",
       "                  <tr>\n",
       "                    <td>Provenances</td>\n",
       "                      <td>1</td>\n",
       "                      <td>613 Bytes</td>\n",
       "                      <td style=\"text-align: center;\">\n",
       "                        \n",
       "                      </td>\n",
       "                    </tr>\n",
       "                \n",
       "                  <tr>\n",
       "                    <td>Sites</td>\n",
       "                      <td>10</td>\n",
       "                      <td>516 Bytes</td>\n",
       "                      <td style=\"text-align: center;\">\n",
       "                        ✅\n",
       "                      </td>\n",
       "                    </tr>\n",
       "                \n",
       "                    </tbody>\n",
       "                  </table>\n",
       "                </div>\n",
       "              </div>\n",
       "            </div>\n",
       "            "
      ],
      "text/plain": [
       "<tskit.trees.TreeSequence at 0x7f7d4b87f700>"
      ]
     },
     "execution_count": 18,
     "metadata": {},
     "output_type": "execute_result"
    }
   ],
   "source": [
    "new_ts"
   ]
  },
  {
   "cell_type": "code",
   "execution_count": 19,
   "id": "a63612ba-792c-4640-99eb-f3c8f26381de",
   "metadata": {},
   "outputs": [],
   "source": [
    "tables = new_ts.dump_tables()"
   ]
  },
  {
   "cell_type": "code",
   "execution_count": null,
   "id": "79d1c26e-325b-4e3e-85db-54aba6ecb6c0",
   "metadata": {},
   "outputs": [],
   "source": []
  },
  {
   "cell_type": "code",
   "execution_count": 20,
   "id": "5f98d2fa-80a6-4295-a368-42ec4db45f36",
   "metadata": {},
   "outputs": [],
   "source": [
    "\n",
    "\n",
    "tables.sites.clear()\n",
    "for s in new_ts.sites():\n",
    "    tables.sites.append(s.replace(ancestral_state=\"\"))\n",
    "\n",
    "tables.mutations.clear()\n",
    "for k, (m, sc) in enumerate(zip(new_ts.mutations(), right_order_pos['sc'])):\n",
    "    mm = pyslim.default_slim_metadata('mutation_list_entry')\n",
    "    mm['selection_coeff'] = sc\n",
    "    tables.mutations.append(\n",
    "        m.replace(derived_state=str(k), metadata={'mutation_list': [mm]})\n",
    "    )"
   ]
  },
  {
   "cell_type": "code",
   "execution_count": 21,
   "id": "ad8b86c3-018d-4a00-8174-ef629c4ea2f8",
   "metadata": {},
   "outputs": [],
   "source": [
    "## aca trasnforma todos los nodes a pertenecientes a la pobalcion 0 \n",
    "#tables.nodes.clear()\n",
    "#for n in new_ts.nodes():\n",
    "#    tables.nodes.append(n.replace(population=0))"
   ]
  },
  {
   "cell_type": "code",
   "execution_count": null,
   "id": "8f67b9a1-5977-47d4-ba08-a5c953f163d7",
   "metadata": {},
   "outputs": [],
   "source": []
  },
  {
   "cell_type": "code",
   "execution_count": 22,
   "id": "4adeb139-ea63-4583-ab5d-cebadbd84b3d",
   "metadata": {},
   "outputs": [],
   "source": [
    "## testing to delete all mutations "
   ]
  },
  {
   "cell_type": "code",
   "execution_count": 23,
   "id": "1bfc79ec-718f-411b-a545-c0e681b20eff",
   "metadata": {},
   "outputs": [
    {
     "data": {
      "text/html": [
       "\n",
       "            <div>\n",
       "              <style>\n",
       "                .tskit-table thead tr th {text-align: left;padding: 0.5em 0.5em;}\n",
       "                .tskit-table tbody tr td {padding: 0.5em 0.5em;}\n",
       "                .tskit-table tbody tr td:first-of-type {text-align: left;}\n",
       "                .tskit-details-label {vertical-align: top; padding-right:5px;}\n",
       "                .tskit-table-set {display: inline-flex;flex-wrap: wrap;margin: -12px 0 0 -12px;width: calc(100% + 12px);}\n",
       "                .tskit-table-set-table {margin: 12px 0 0 12px;}\n",
       "                details {display: inline-block;}\n",
       "                summary {cursor: pointer; outline: 0; display: list-item;}\n",
       "              </style>\n",
       "              <div class=\"tskit-table-set\">\n",
       "                <div class=\"tskit-table-set-table\">\n",
       "                  <table class=\"tskit-table\">\n",
       "                    <thead>\n",
       "                      <tr>\n",
       "                        <th style=\"padding:0;line-height:21px;\">\n",
       "                          <img style=\"height: 32px;display: inline-block;padding: 3px 5px 3px 0;\" src=\"https://raw.githubusercontent.com/tskit-dev/administrative/main/tskit_logo.svg\"/>\n",
       "                          <a target=\"_blank\" href=\"https://tskit.dev/tskit/docs/latest/python-api.html#the-treesequence-class\"> Tree Sequence </a>\n",
       "                        </th>\n",
       "                      </tr>\n",
       "                    </thead>\n",
       "                    <tbody>\n",
       "                      <tr><td>Trees</td><td>501</td></tr>\n",
       "                      <tr><td>Sequence Length</td><td>30427671.0</td></tr>\n",
       "                      <tr><td>Time Units</td><td>uncalibrated</td></tr>\n",
       "                      <tr><td>Sample Nodes</td><td>450</td></tr>\n",
       "                      <tr><td>Total Size</td><td>388.4 KiB</td></tr>\n",
       "                      <tr>\n",
       "                        <td>Metadata</td><td style=\"text-align: left;\">\n",
       "                <div>\n",
       "                  <span class=\"tskit-details-label\"></span>\n",
       "                  <details open>\n",
       "                    <summary>dict</summary>\n",
       "                    \n",
       "                <div>\n",
       "                  <span class=\"tskit-details-label\">SLiM:</span>\n",
       "                  <details >\n",
       "                    <summary>dict</summary>\n",
       "                    cycle: 1<br/>description: <br/>file_version: 0.8<br/>model_type: nonWF<br/>name: <br/>nucleotide_based: False<br/>separate_sexes: False<br/>spatial_dimensionality: <br/>spatial_periodicity: <br/>stage: early<br/>tick: 1<br/>\n",
       "                  </details>\n",
       "                </div>\n",
       "                <br/>\n",
       "                  </details>\n",
       "                </div>\n",
       "                </td></tr>\n",
       "                    </tbody>\n",
       "                  </table>\n",
       "                </div>\n",
       "                <div class=\"tskit-table-set-table\">\n",
       "                  <table class=\"tskit-table\">\n",
       "                    <thead>\n",
       "                      <tr>\n",
       "                        <th style=\"line-height:21px;\">Table</th>\n",
       "                        <th>Rows</th>\n",
       "                        <th>Size</th>\n",
       "                        <th>Has Metadata</th>\n",
       "                      </tr>\n",
       "                    </thead>\n",
       "                    <tbody>\n",
       "                    \n",
       "                  <tr>\n",
       "                    <td>Edges</td>\n",
       "                      <td>7881</td>\n",
       "                      <td>246.3 KiB</td>\n",
       "                      <td style=\"text-align: center;\">\n",
       "                        \n",
       "                      </td>\n",
       "                    </tr>\n",
       "                \n",
       "                  <tr>\n",
       "                    <td>Individuals</td>\n",
       "                      <td>225</td>\n",
       "                      <td>22.0 KiB</td>\n",
       "                      <td style=\"text-align: center;\">\n",
       "                        ✅\n",
       "                      </td>\n",
       "                    </tr>\n",
       "                \n",
       "                  <tr>\n",
       "                    <td>Migrations</td>\n",
       "                      <td>0</td>\n",
       "                      <td>8 Bytes</td>\n",
       "                      <td style=\"text-align: center;\">\n",
       "                        \n",
       "                      </td>\n",
       "                    </tr>\n",
       "                \n",
       "                  <tr>\n",
       "                    <td>Mutations</td>\n",
       "                      <td>10</td>\n",
       "                      <td>1.7 KiB</td>\n",
       "                      <td style=\"text-align: center;\">\n",
       "                        ✅\n",
       "                      </td>\n",
       "                    </tr>\n",
       "                \n",
       "                  <tr>\n",
       "                    <td>Nodes</td>\n",
       "                      <td>1360</td>\n",
       "                      <td>51.1 KiB</td>\n",
       "                      <td style=\"text-align: center;\">\n",
       "                        ✅\n",
       "                      </td>\n",
       "                    </tr>\n",
       "                \n",
       "                  <tr>\n",
       "                    <td>Populations</td>\n",
       "                      <td>1</td>\n",
       "                      <td>2.5 KiB</td>\n",
       "                      <td style=\"text-align: center;\">\n",
       "                        ✅\n",
       "                      </td>\n",
       "                    </tr>\n",
       "                \n",
       "                  <tr>\n",
       "                    <td>Provenances</td>\n",
       "                      <td>1</td>\n",
       "                      <td>613 Bytes</td>\n",
       "                      <td style=\"text-align: center;\">\n",
       "                        \n",
       "                      </td>\n",
       "                    </tr>\n",
       "                \n",
       "                  <tr>\n",
       "                    <td>Sites</td>\n",
       "                      <td>10</td>\n",
       "                      <td>516 Bytes</td>\n",
       "                      <td style=\"text-align: center;\">\n",
       "                        ✅\n",
       "                      </td>\n",
       "                    </tr>\n",
       "                \n",
       "                    </tbody>\n",
       "                  </table>\n",
       "                </div>\n",
       "              </div>\n",
       "            </div>\n",
       "            "
      ],
      "text/plain": [
       "<tskit.trees.TreeSequence at 0x7f7d4b87f700>"
      ]
     },
     "execution_count": 23,
     "metadata": {},
     "output_type": "execute_result"
    }
   ],
   "source": [
    "new_ts"
   ]
  },
  {
   "cell_type": "code",
   "execution_count": 24,
   "id": "adc930d6-0164-4643-a876-5b19396bd61d",
   "metadata": {},
   "outputs": [],
   "source": [
    "tables = ts.dump_tables()"
   ]
  },
  {
   "cell_type": "code",
   "execution_count": 25,
   "id": "73fc4a9b-b68e-4abc-9cf9-c9a70b15218b",
   "metadata": {},
   "outputs": [
    {
     "data": {
      "text/html": [
       "\n",
       "        <div>\n",
       "            <style scoped=\"\">\n",
       "                .tskit-table tbody tr th:only-of-type {vertical-align: middle;}\n",
       "                .tskit-table tbody tr th {vertical-align: top;}\n",
       "                .tskit-table tbody td {text-align: right;padding: 0.5em 0.5em;}\n",
       "                .tskit-table tbody th {padding: 0.5em 0.5em;}\n",
       "            </style>\n",
       "            <table border=\"1\" class=\"tskit-table\">\n",
       "                <thead>\n",
       "                    <tr>\n",
       "                        <th>id</th><th>site</th><th>node</th><th>time</th><th>derived_state</th><th>parent</th><th>metadata</th>\n",
       "                    </tr>\n",
       "                </thead>\n",
       "                <tbody>\n",
       "                    <tr><td>0</td><td>0</td><td>572</td><td>nan</td><td>0</td><td>-1</td><td>{'mutation_list': [{'mutation_type': ...</td></tr>\n",
       "<tr><td>1</td><td>1</td><td>1095</td><td>nan</td><td>1</td><td>-1</td><td>{'mutation_list': [{'mutation_type': ...</td></tr>\n",
       "<tr><td>2</td><td>2</td><td>768</td><td>nan</td><td>2</td><td>-1</td><td>{'mutation_list': [{'mutation_type': ...</td></tr>\n",
       "<tr><td>3</td><td>3</td><td>707</td><td>nan</td><td>3</td><td>-1</td><td>{'mutation_list': [{'mutation_type': ...</td></tr>\n",
       "<tr><td>4</td><td>4</td><td>822</td><td>nan</td><td>4</td><td>-1</td><td>{'mutation_list': [{'mutation_type': ...</td></tr>\n",
       "<tr><td>5</td><td>5</td><td>635</td><td>nan</td><td>5</td><td>-1</td><td>{'mutation_list': [{'mutation_type': ...</td></tr>\n",
       "<tr><td>6</td><td>6</td><td>868</td><td>nan</td><td>6</td><td>-1</td><td>{'mutation_list': [{'mutation_type': ...</td></tr>\n",
       "<tr><td>7</td><td>7</td><td>565</td><td>nan</td><td>7</td><td>-1</td><td>{'mutation_list': [{'mutation_type': ...</td></tr>\n",
       "<tr><td>8</td><td>8</td><td>876</td><td>nan</td><td>8</td><td>-1</td><td>{'mutation_list': [{'mutation_type': ...</td></tr>\n",
       "<tr><td>9</td><td>9</td><td>671</td><td>nan</td><td>9</td><td>-1</td><td>{'mutation_list': [{'mutation_type': ...</td></tr>\n",
       "\n",
       "                </tbody>\n",
       "            </table>\n",
       "        </div>\n",
       "    "
      ],
      "text/plain": [
       "<tskit.tables.MutationTable at 0x7f7d43889fd0>"
      ]
     },
     "execution_count": 25,
     "metadata": {},
     "output_type": "execute_result"
    }
   ],
   "source": [
    "tables.mutations"
   ]
  },
  {
   "cell_type": "code",
   "execution_count": 26,
   "id": "a23c9c07-7236-49d1-b790-52af3ae1748c",
   "metadata": {},
   "outputs": [],
   "source": [
    "tables.sites.clear()\n",
    "tables.mutations.clear()"
   ]
  },
  {
   "cell_type": "code",
   "execution_count": 27,
   "id": "bf0ce7f1-d542-4d17-8167-404a6f731940",
   "metadata": {},
   "outputs": [
    {
     "ename": "NameError",
     "evalue": "name 'new_tsm' is not defined",
     "output_type": "error",
     "traceback": [
      "\u001b[0;31m---------------------------------------------------------------------------\u001b[0m",
      "\u001b[0;31mNameError\u001b[0m                                 Traceback (most recent call last)",
      "Cell \u001b[0;32mIn[27], line 1\u001b[0m\n\u001b[0;32m----> 1\u001b[0m \u001b[43mnew_tsm\u001b[49m\n",
      "\u001b[0;31mNameError\u001b[0m: name 'new_tsm' is not defined"
     ]
    }
   ],
   "source": [
    "new_tsm"
   ]
  },
  {
   "cell_type": "code",
   "execution_count": 28,
   "id": "0107c45e-6b3a-4b65-aae6-296108c072ec",
   "metadata": {},
   "outputs": [
    {
     "ename": "NameError",
     "evalue": "name 'new_tsm' is not defined",
     "output_type": "error",
     "traceback": [
      "\u001b[0;31m---------------------------------------------------------------------------\u001b[0m",
      "\u001b[0;31mNameError\u001b[0m                                 Traceback (most recent call last)",
      "Cell \u001b[0;32mIn[28], line 2\u001b[0m\n\u001b[1;32m      1\u001b[0m tables\u001b[38;5;241m.\u001b[39msites\u001b[38;5;241m.\u001b[39mclear()\n\u001b[0;32m----> 2\u001b[0m \u001b[38;5;28;01mfor\u001b[39;00m s \u001b[38;5;129;01min\u001b[39;00m \u001b[43mnew_tsm\u001b[49m\u001b[38;5;241m.\u001b[39msites():\n\u001b[1;32m      3\u001b[0m     tables\u001b[38;5;241m.\u001b[39msites\u001b[38;5;241m.\u001b[39mappend(s\u001b[38;5;241m.\u001b[39mreplace(ancestral_state\u001b[38;5;241m=\u001b[39m\u001b[38;5;124m\"\u001b[39m\u001b[38;5;124m\"\u001b[39m))\n\u001b[1;32m      5\u001b[0m tables\u001b[38;5;241m.\u001b[39mmutations\u001b[38;5;241m.\u001b[39mclear()\n",
      "\u001b[0;31mNameError\u001b[0m: name 'new_tsm' is not defined"
     ]
    }
   ],
   "source": [
    "tables.sites.clear()\n",
    "for s in new_tsm.sites():\n",
    "    tables.sites.append(s.replace(ancestral_state=\"\"))\n",
    "\n",
    "tables.mutations.clear()\n",
    "for k, m in enumerate(new_tsm.mutations()):\n",
    "    mm = pyslim.default_slim_metadata('mutation_list_entry')\n",
    "    tables.mutations.append(\n",
    "        m.replace(derived_state=str(k), metadata={'mutation_list': [mm]})\n",
    "    )"
   ]
  },
  {
   "cell_type": "code",
   "execution_count": 29,
   "id": "259ae830-d9eb-49a5-83c8-fdef8e647391",
   "metadata": {},
   "outputs": [
    {
     "ename": "NameError",
     "evalue": "name 'new_tsm' is not defined",
     "output_type": "error",
     "traceback": [
      "\u001b[0;31m---------------------------------------------------------------------------\u001b[0m",
      "\u001b[0;31mNameError\u001b[0m                                 Traceback (most recent call last)",
      "Cell \u001b[0;32mIn[29], line 1\u001b[0m\n\u001b[0;32m----> 1\u001b[0m \u001b[43mnew_tsm\u001b[49m\n",
      "\u001b[0;31mNameError\u001b[0m: name 'new_tsm' is not defined"
     ]
    }
   ],
   "source": [
    "new_tsm"
   ]
  },
  {
   "cell_type": "code",
   "execution_count": 108,
   "id": "77572e72-2917-462c-ba4e-a2695095cb1c",
   "metadata": {},
   "outputs": [],
   "source": [
    "tablesn = new_tsm.dump_tables()"
   ]
  },
  {
   "cell_type": "code",
   "execution_count": 111,
   "id": "81baf4b8-49b5-425f-bd2f-efed3a6b602d",
   "metadata": {},
   "outputs": [
    {
     "data": {
      "text/html": [
       "\n",
       "        <div>\n",
       "            <style scoped=\"\">\n",
       "                .tskit-table tbody tr th:only-of-type {vertical-align: middle;}\n",
       "                .tskit-table tbody tr th {vertical-align: top;}\n",
       "                .tskit-table tbody td {text-align: right;padding: 0.5em 0.5em;}\n",
       "                .tskit-table tbody th {padding: 0.5em 0.5em;}\n",
       "            </style>\n",
       "            <table border=\"1\" class=\"tskit-table\">\n",
       "                <thead>\n",
       "                    <tr>\n",
       "                        <th>id</th><th>position</th><th>ancestral_state</th><th>metadata</th>\n",
       "                    </tr>\n",
       "                </thead>\n",
       "                <tbody>\n",
       "                    \n",
       "                </tbody>\n",
       "            </table>\n",
       "        </div>\n",
       "    "
      ],
      "text/plain": [
       "<tskit.tables.SiteTable at 0x7f8f04be6e80>"
      ]
     },
     "execution_count": 111,
     "metadata": {},
     "output_type": "execute_result"
    }
   ],
   "source": [
    "tablesn.sites"
   ]
  },
  {
   "cell_type": "code",
   "execution_count": 101,
   "id": "9a0098c1-54e1-44d6-8b87-bb63cf2d8974",
   "metadata": {},
   "outputs": [],
   "source": [
    "new_tsm = tables.tree_sequence()"
   ]
  },
  {
   "cell_type": "code",
   "execution_count": 102,
   "id": "797cfc7e-d39a-492a-9e94-a51ced7041bf",
   "metadata": {},
   "outputs": [],
   "source": [
    "new_ts.dump('testing_nomutationstree.trees')"
   ]
  },
  {
   "cell_type": "markdown",
   "id": "2960d0f7-bdea-40dc-920e-5e60ab0df5e3",
   "metadata": {},
   "source": [
    "### Save tree ready for SLiM"
   ]
  },
  {
   "cell_type": "code",
   "execution_count": 67,
   "id": "d1ac8bc2-eafb-416a-9ba7-ad521b88706a",
   "metadata": {},
   "outputs": [],
   "source": [
    "new_ts = tables.tree_sequence()\n",
    "\n",
    "new_ts.dump('qtl2_contrib.trees')\n"
   ]
  },
  {
   "cell_type": "code",
   "execution_count": 68,
   "id": "95b2efee-a30c-4fd8-ac49-2838a94709b8",
   "metadata": {},
   "outputs": [
    {
     "data": {
      "text/html": [
       "\n",
       "            <div>\n",
       "              <style>\n",
       "                .tskit-table thead tr th {text-align: left;padding: 0.5em 0.5em;}\n",
       "                .tskit-table tbody tr td {padding: 0.5em 0.5em;}\n",
       "                .tskit-table tbody tr td:first-of-type {text-align: left;}\n",
       "                .tskit-details-label {vertical-align: top; padding-right:5px;}\n",
       "                .tskit-table-set {display: inline-flex;flex-wrap: wrap;margin: -12px 0 0 -12px;width: calc(100% + 12px);}\n",
       "                .tskit-table-set-table {margin: 12px 0 0 12px;}\n",
       "                details {display: inline-block;}\n",
       "                summary {cursor: pointer; outline: 0; display: list-item;}\n",
       "              </style>\n",
       "              <div class=\"tskit-table-set\">\n",
       "                <div class=\"tskit-table-set-table\">\n",
       "                  <table class=\"tskit-table\">\n",
       "                    <thead>\n",
       "                      <tr>\n",
       "                        <th style=\"padding:0;line-height:21px;\">\n",
       "                          <img style=\"height: 32px;display: inline-block;padding: 3px 5px 3px 0;\" src=\"https://raw.githubusercontent.com/tskit-dev/administrative/main/tskit_logo.svg\"/>\n",
       "                          <a target=\"_blank\" href=\"https://tskit.dev/tskit/docs/latest/python-api.html#the-treesequence-class\"> Tree Sequence </a>\n",
       "                        </th>\n",
       "                      </tr>\n",
       "                    </thead>\n",
       "                    <tbody>\n",
       "                      <tr><td>Trees</td><td>501</td></tr>\n",
       "                      <tr><td>Sequence Length</td><td>30427671.0</td></tr>\n",
       "                      <tr><td>Time Units</td><td>uncalibrated</td></tr>\n",
       "                      <tr><td>Sample Nodes</td><td>450</td></tr>\n",
       "                      <tr><td>Total Size</td><td>388.4 KiB</td></tr>\n",
       "                      <tr>\n",
       "                        <td>Metadata</td><td style=\"text-align: left;\">\n",
       "                <div>\n",
       "                  <span class=\"tskit-details-label\"></span>\n",
       "                  <details open>\n",
       "                    <summary>dict</summary>\n",
       "                    \n",
       "                <div>\n",
       "                  <span class=\"tskit-details-label\">SLiM:</span>\n",
       "                  <details >\n",
       "                    <summary>dict</summary>\n",
       "                    cycle: 1<br/>description: <br/>file_version: 0.8<br/>model_type: nonWF<br/>name: <br/>nucleotide_based: False<br/>separate_sexes: False<br/>spatial_dimensionality: <br/>spatial_periodicity: <br/>stage: early<br/>tick: 1<br/>\n",
       "                  </details>\n",
       "                </div>\n",
       "                <br/>\n",
       "                  </details>\n",
       "                </div>\n",
       "                </td></tr>\n",
       "                    </tbody>\n",
       "                  </table>\n",
       "                </div>\n",
       "                <div class=\"tskit-table-set-table\">\n",
       "                  <table class=\"tskit-table\">\n",
       "                    <thead>\n",
       "                      <tr>\n",
       "                        <th style=\"line-height:21px;\">Table</th>\n",
       "                        <th>Rows</th>\n",
       "                        <th>Size</th>\n",
       "                        <th>Has Metadata</th>\n",
       "                      </tr>\n",
       "                    </thead>\n",
       "                    <tbody>\n",
       "                    \n",
       "                  <tr>\n",
       "                    <td>Edges</td>\n",
       "                      <td>7881</td>\n",
       "                      <td>246.3 KiB</td>\n",
       "                      <td style=\"text-align: center;\">\n",
       "                        \n",
       "                      </td>\n",
       "                    </tr>\n",
       "                \n",
       "                  <tr>\n",
       "                    <td>Individuals</td>\n",
       "                      <td>225</td>\n",
       "                      <td>22.0 KiB</td>\n",
       "                      <td style=\"text-align: center;\">\n",
       "                        ✅\n",
       "                      </td>\n",
       "                    </tr>\n",
       "                \n",
       "                  <tr>\n",
       "                    <td>Migrations</td>\n",
       "                      <td>0</td>\n",
       "                      <td>8 Bytes</td>\n",
       "                      <td style=\"text-align: center;\">\n",
       "                        \n",
       "                      </td>\n",
       "                    </tr>\n",
       "                \n",
       "                  <tr>\n",
       "                    <td>Mutations</td>\n",
       "                      <td>10</td>\n",
       "                      <td>1.7 KiB</td>\n",
       "                      <td style=\"text-align: center;\">\n",
       "                        ✅\n",
       "                      </td>\n",
       "                    </tr>\n",
       "                \n",
       "                  <tr>\n",
       "                    <td>Nodes</td>\n",
       "                      <td>1360</td>\n",
       "                      <td>51.1 KiB</td>\n",
       "                      <td style=\"text-align: center;\">\n",
       "                        ✅\n",
       "                      </td>\n",
       "                    </tr>\n",
       "                \n",
       "                  <tr>\n",
       "                    <td>Populations</td>\n",
       "                      <td>1</td>\n",
       "                      <td>2.5 KiB</td>\n",
       "                      <td style=\"text-align: center;\">\n",
       "                        ✅\n",
       "                      </td>\n",
       "                    </tr>\n",
       "                \n",
       "                  <tr>\n",
       "                    <td>Provenances</td>\n",
       "                      <td>1</td>\n",
       "                      <td>613 Bytes</td>\n",
       "                      <td style=\"text-align: center;\">\n",
       "                        \n",
       "                      </td>\n",
       "                    </tr>\n",
       "                \n",
       "                  <tr>\n",
       "                    <td>Sites</td>\n",
       "                      <td>10</td>\n",
       "                      <td>516 Bytes</td>\n",
       "                      <td style=\"text-align: center;\">\n",
       "                        ✅\n",
       "                      </td>\n",
       "                    </tr>\n",
       "                \n",
       "                    </tbody>\n",
       "                  </table>\n",
       "                </div>\n",
       "              </div>\n",
       "            </div>\n",
       "            "
      ],
      "text/plain": [
       "<tskit.trees.TreeSequence at 0x7f8f04b409a0>"
      ]
     },
     "execution_count": 68,
     "metadata": {},
     "output_type": "execute_result"
    }
   ],
   "source": [
    "new_ts"
   ]
  },
  {
   "cell_type": "code",
   "execution_count": null,
   "id": "16eca12d-d27a-4faf-b958-740608493480",
   "metadata": {},
   "outputs": [],
   "source": []
  },
  {
   "cell_type": "markdown",
   "id": "231fe94d-87ef-4d47-b46c-48ebe49b4a0f",
   "metadata": {
    "tags": []
   },
   "source": [
    "## Part3: Run simulationS SLiM"
   ]
  },
  {
   "cell_type": "markdown",
   "id": "aa0232b0-01c6-4994-81b9-a8787657f4de",
   "metadata": {},
   "source": [
    "## Part 4: Overlay deleted mutations "
   ]
  },
  {
   "cell_type": "code",
   "execution_count": 1,
   "id": "edee07fe-ca72-4e06-a392-795a80824654",
   "metadata": {},
   "outputs": [
    {
     "ename": "NameError",
     "evalue": "name 'tskit' is not defined",
     "output_type": "error",
     "traceback": [
      "\u001b[0;31m---------------------------------------------------------------------------\u001b[0m",
      "\u001b[0;31mNameError\u001b[0m                                 Traceback (most recent call last)",
      "Cell \u001b[0;32mIn[1], line 2\u001b[0m\n\u001b[1;32m      1\u001b[0m \u001b[38;5;66;03m## import the new and the old tree\u001b[39;00m\n\u001b[0;32m----> 2\u001b[0m ts_new \u001b[38;5;241m=\u001b[39m \u001b[43mtskit\u001b[49m\u001b[38;5;241m.\u001b[39mload(\u001b[38;5;124m\"\u001b[39m\u001b[38;5;124mtest_output_tree.trees\u001b[39m\u001b[38;5;124m\"\u001b[39m)\n\u001b[1;32m      3\u001b[0m ts \u001b[38;5;241m=\u001b[39m tskit\u001b[38;5;241m.\u001b[39mload(\u001b[38;5;124m\"\u001b[39m\u001b[38;5;124mcommon_tree_whole_genome.trees\u001b[39m\u001b[38;5;124m\"\u001b[39m)\n",
      "\u001b[0;31mNameError\u001b[0m: name 'tskit' is not defined"
     ]
    }
   ],
   "source": [
    "## import the new and the old tree\n",
    "ts_new = tskit.load(\"test_output_tree.trees\")\n",
    "ts = tskit.load(\"common_tree_whole_genome.trees\")"
   ]
  },
  {
   "cell_type": "code",
   "execution_count": 318,
   "id": "55d72a55-0cc3-42b3-aed3-2853a8c050ea",
   "metadata": {},
   "outputs": [],
   "source": [
    "## extract surviving ndoes and comapre them to our old ndoes to place mtuations in the right place\n",
    "surviving_nodes = []\n",
    "for i in ts_new.tables.nodes:\n",
    "    surviving_nodes.append(i.metadata['slim_id'])"
   ]
  },
  {
   "cell_type": "code",
   "execution_count": 319,
   "id": "593882a8-5961-47a0-a72d-9f632030fc6c",
   "metadata": {},
   "outputs": [],
   "source": [
    "## new nodes id and the ids i gave them in the past\n",
    "new_mapper = pd.DataFrame({'new_ids': range(0, len(ts_new.tables.nodes)), 'my_ids_metadata':surviving_nodes})"
   ]
  },
  {
   "cell_type": "code",
   "execution_count": 320,
   "id": "0823cd40-d95c-4a5f-bc18-c2c77c87c75f",
   "metadata": {},
   "outputs": [],
   "source": [
    "## map old nodes with new nodes\n",
    "mapper_lost_nodes = new_mapper.merge(mapper_realid_metadataid, left_on = 'my_ids_metadata', right_on = 'my_ids_metadata', how= 'right')"
   ]
  },
  {
   "cell_type": "code",
   "execution_count": 322,
   "id": "dd7de8f1-60b5-4eaf-91ac-8bc38959a3fa",
   "metadata": {},
   "outputs": [],
   "source": [
    "## create a mask to only keep from the old nodes the ones that survived the simulation\n",
    "mask = mapper_lost_nodes['new_ids'].notna()"
   ]
  },
  {
   "cell_type": "code",
   "execution_count": 323,
   "id": "36541d85-5c01-4a71-af4c-719d4257a9d8",
   "metadata": {},
   "outputs": [],
   "source": [
    "tables_og = ts.dump_tables()"
   ]
  },
  {
   "cell_type": "code",
   "execution_count": 324,
   "id": "16c6f09c-fe66-4a62-97ac-bb72a8b7f9d9",
   "metadata": {},
   "outputs": [],
   "source": [
    "## now filter old tables only based on surviving nodes \n",
    "tables_og.nodes.replace_with(tables_og.nodes[mask])"
   ]
  },
  {
   "cell_type": "code",
   "execution_count": 326,
   "id": "47ea34e9-e47e-4725-bd3f-e8324e33d270",
   "metadata": {},
   "outputs": [],
   "source": [
    "## now filter mutation table based on the surviving nodes, for that, extract the nodes \n",
    "old_nodes = tables_og.mutations.node"
   ]
  },
  {
   "cell_type": "code",
   "execution_count": 327,
   "id": "5f67a12f-9a3c-4252-813c-55fa1fb14227",
   "metadata": {},
   "outputs": [],
   "source": [
    "old_nodes = pd.Series(old_nodes)"
   ]
  },
  {
   "cell_type": "code",
   "execution_count": 328,
   "id": "d6092bb8-4da2-4fae-a799-da6a7c6296f8",
   "metadata": {},
   "outputs": [],
   "source": [
    "old_nodes.name = 'old_nodes'"
   ]
  },
  {
   "cell_type": "code",
   "execution_count": 329,
   "id": "ef7b91aa-014d-428a-8dd8-f8a1839583fa",
   "metadata": {},
   "outputs": [],
   "source": [
    "## create a dataframe relating the new and old nodes\n",
    "replace_oldbynew_nodes = pd.merge(old_nodes, mapper_lost_nodes, left_on ='old_nodes', right_on = 'real_id', how= 'left')"
   ]
  },
  {
   "cell_type": "code",
   "execution_count": 330,
   "id": "bdf85c2f-0513-443e-9db1-f43926014ed2",
   "metadata": {},
   "outputs": [],
   "source": [
    "## create a mask to filter out all the mutations than has been lost \n",
    "mask_mutations_lost = replace_oldbynew_nodes['new_ids'].notna()"
   ]
  },
  {
   "cell_type": "code",
   "execution_count": 332,
   "id": "39c07f0f-9e5f-437a-9f94-b836435212d0",
   "metadata": {},
   "outputs": [],
   "source": [
    "## filter out mutations that has been lost \n",
    "table_mutations = tables_og.mutations[mask_mutations_lost]"
   ]
  },
  {
   "cell_type": "code",
   "execution_count": 333,
   "id": "7a63b141-bf96-42b7-8f47-655d4b27e831",
   "metadata": {},
   "outputs": [],
   "source": [
    "## now replace the old nodes ids by the new nodes ids with the mapper\n",
    "ids_to_replace = replace_oldbynew_nodes.dropna()['new_ids']\n",
    "table_mutations.node = np.array(ids_to_replace.astype('int32'))"
   ]
  },
  {
   "cell_type": "code",
   "execution_count": 334,
   "id": "075842b8-2521-44fd-82b4-ba5d29fb53bb",
   "metadata": {},
   "outputs": [],
   "source": [
    "## and jsut set the sites from 0 to the length of mutation table \n",
    "table_mutations.site = np.array(range(0, len(table_mutations))).astype('int32')"
   ]
  },
  {
   "cell_type": "code",
   "execution_count": 335,
   "id": "d41b6c43-19d8-4ba6-92d1-45faabcc58a0",
   "metadata": {},
   "outputs": [],
   "source": [
    "## apply the same filter from the mutations table to the sites table \n",
    "table_sites = tables_og.sites[mask_mutations_lost]  "
   ]
  },
  {
   "cell_type": "code",
   "execution_count": 336,
   "id": "d74b479f-8ae2-4649-962b-85cbcbf6d6d9",
   "metadata": {},
   "outputs": [],
   "source": [
    "## now replace all this filter old tables in the new tree seq! \n",
    "new_tables = ts_new.dump_tables()"
   ]
  },
  {
   "cell_type": "code",
   "execution_count": 337,
   "id": "1c20f10f-ccbe-476c-8dd2-5024a0d37626",
   "metadata": {},
   "outputs": [],
   "source": [
    "new_tables.mutations.replace_with(table_mutations)"
   ]
  },
  {
   "cell_type": "code",
   "execution_count": 338,
   "id": "b73f6c4b-8273-4140-9df3-149fe9583721",
   "metadata": {},
   "outputs": [],
   "source": [
    "new_tables.sites.replace_with(table_sites)"
   ]
  },
  {
   "cell_type": "code",
   "execution_count": 339,
   "id": "65fec200-9487-450b-9c9e-87d3b8531a08",
   "metadata": {},
   "outputs": [],
   "source": [
    "## make sure to compure mutations parents\n",
    "new_tables.compute_mutation_parents()"
   ]
  },
  {
   "cell_type": "code",
   "execution_count": 340,
   "id": "65f00117-8083-4261-94e5-3e9e3aac1350",
   "metadata": {},
   "outputs": [],
   "source": [
    "## create tree seq based on tables\n",
    "new_ts_plusmut = new_tables.tree_sequence()"
   ]
  },
  {
   "cell_type": "code",
   "execution_count": null,
   "id": "a1dfb4d7-3427-42a8-82aa-d74b94dd5b88",
   "metadata": {},
   "outputs": [],
   "source": [
    "## simplify tree to get rid of all the nodes that are not related to the sample nodes (individuals that survived)\n",
    "new_ts_plusmut = new_ts_plusmut.simplify()"
   ]
  },
  {
   "cell_type": "code",
   "execution_count": 341,
   "id": "cf90c9c1-d778-4758-9e8a-339cb5578c88",
   "metadata": {},
   "outputs": [],
   "source": [
    "## save treee with overlay neutral mutations \n",
    "new_ts_plusmut.dump('tree_output_completegenome.trees')"
   ]
  },
  {
   "cell_type": "code",
   "execution_count": null,
   "id": "c456f6a8-c6db-481b-b3ae-ed2f302355ea",
   "metadata": {},
   "outputs": [],
   "source": [
    "# create a vcf file from the treeseq \n",
    "with open('test_output_tree_wmut.vcf', 'w') as file:\n",
    "    # Pass the file object as the output parameter\n",
    "    new_ts_plusmut.write_vcf(output=file)"
   ]
  },
  {
   "cell_type": "markdown",
   "id": "c45887df-9cbd-4f85-9555-f66b435b5ed2",
   "metadata": {},
   "source": [
    "## Part 5: Generate chromosomes and real positions in vcf file "
   ]
  },
  {
   "cell_type": "code",
   "execution_count": null,
   "id": "72674fb8-cb5f-49e7-8fbb-39b3fd4615fb",
   "metadata": {},
   "outputs": [],
   "source": [
    "awk -F'\\t' 'BEGIN{OFS=\"\\t\"} $1 ~ /^#/ {print} $1 !~ /^#/ {pos=$2; \n",
    "    if (pos > 30427671 && pos <= 50125959) {pos -= 30427671; $1=\"2\"} \n",
    "    else if (pos > 50125959 && pos <= 73585789) {pos -= 50125960; $1=\"3\"} \n",
    "    else if (pos > 73585789 && pos <= 92170845) {pos -= 73585790; $1=\"4\"} \n",
    "    else if (pos > 92170845 && pos <= 119146348) {pos -= 92170846; $1=\"5\"} \n",
    "    $2=pos; print}' output_completegenome.vcf > output_completegenome_chr.vcf"
   ]
  },
  {
   "cell_type": "markdown",
   "id": "d7f381de-4994-4d53-a301-bb337abe94e8",
   "metadata": {
    "tags": []
   },
   "source": [
    "## checks \n",
    "Checks consist on comparing the simulation done from vcf file with the one from tree seq "
   ]
  },
  {
   "cell_type": "code",
   "execution_count": 344,
   "id": "1ef6cd1e-915d-4605-935f-38352b6d77e4",
   "metadata": {},
   "outputs": [],
   "source": [
    "# Path to the VCF file\n",
    "vcf_file_path = 'test_output.vcf'\n",
    "\n",
    "# Open the VCF file\n",
    "callset_from_vcf = allel.read_vcf(vcf_file_path)\n",
    "\n",
    "# Path to the VCF file\n",
    "vcf_file_path = 'test_output_tree_wmut.vcf'\n",
    "# Open the VCF file\n",
    "callset_from_tree = allel.read_vcf(vcf_file_path)"
   ]
  },
  {
   "cell_type": "code",
   "execution_count": 346,
   "id": "38778324-cba2-445c-85e2-5da4f2c65340",
   "metadata": {},
   "outputs": [
    {
     "data": {
      "text/plain": [
       "542"
      ]
     },
     "execution_count": 346,
     "metadata": {},
     "output_type": "execute_result"
    }
   ],
   "source": [
    "len(callset_from_vcf['variants/POS'])"
   ]
  },
  {
   "cell_type": "code",
   "execution_count": 347,
   "id": "0c5c6f93-115e-44bb-9d43-fd196a5b2fd9",
   "metadata": {},
   "outputs": [
    {
     "data": {
      "text/plain": [
       "542"
      ]
     },
     "execution_count": 347,
     "metadata": {},
     "output_type": "execute_result"
    }
   ],
   "source": [
    "len(callset_from_tree['variants/POS'])"
   ]
  },
  {
   "cell_type": "code",
   "execution_count": 350,
   "id": "4f90b710-0b03-4fac-824b-679c2a99e092",
   "metadata": {},
   "outputs": [],
   "source": [
    "gtfrom_tree = allel.GenotypeArray(callset_from_tree['calldata/GT'])\n",
    "gtfrom_vcf = allel.GenotypeArray(callset_from_vcf['calldata/GT'])"
   ]
  },
  {
   "cell_type": "code",
   "execution_count": 351,
   "id": "6dac51f3-a96b-4971-af57-339a708bb004",
   "metadata": {},
   "outputs": [],
   "source": [
    "missing_fromvcf = [i for i in callset_from_tree['variants/POS'] if i not in callset_from_vcf['variants/POS']]"
   ]
  },
  {
   "cell_type": "code",
   "execution_count": 352,
   "id": "74c2383b-b8cf-4b7f-b719-185f321ccc36",
   "metadata": {},
   "outputs": [],
   "source": [
    "missing_fromtree = [i for i in callset_from_vcf['variants/POS'] if i not in callset_from_tree['variants/POS']]"
   ]
  },
  {
   "cell_type": "code",
   "execution_count": 353,
   "id": "bb9e8054-1b76-4a3c-abe1-dad1ac17945a",
   "metadata": {},
   "outputs": [
    {
     "data": {
      "text/plain": [
       "0"
      ]
     },
     "execution_count": 353,
     "metadata": {},
     "output_type": "execute_result"
    }
   ],
   "source": [
    "len(missing_fromvcf)"
   ]
  },
  {
   "cell_type": "code",
   "execution_count": 354,
   "id": "dba7e8bf-a364-422f-964d-782080c90192",
   "metadata": {},
   "outputs": [
    {
     "data": {
      "text/plain": [
       "[]"
      ]
     },
     "execution_count": 354,
     "metadata": {},
     "output_type": "execute_result"
    }
   ],
   "source": [
    "missing_fromtree"
   ]
  },
  {
   "cell_type": "code",
   "execution_count": 355,
   "id": "0c022758-b278-4d2c-b918-fe84549ca00e",
   "metadata": {},
   "outputs": [
    {
     "data": {
      "text/plain": [
       "True"
      ]
     },
     "execution_count": 355,
     "metadata": {},
     "output_type": "execute_result"
    }
   ],
   "source": [
    "(gtfrom_tree == gtfrom_vcf).all()"
   ]
  },
  {
   "cell_type": "code",
   "execution_count": null,
   "id": "4c099c9f-55a0-4e6b-9d82-9578d44adc45",
   "metadata": {},
   "outputs": [],
   "source": []
  },
  {
   "cell_type": "code",
   "execution_count": null,
   "id": "70ad38c2-d30b-4e32-9cc8-4ffb145ec76f",
   "metadata": {},
   "outputs": [],
   "source": []
  },
  {
   "cell_type": "code",
   "execution_count": 22,
   "id": "b9e095bf-5949-4d6e-ad97-d98766c5518b",
   "metadata": {},
   "outputs": [],
   "source": [
    "# Path to the VCF file\n",
    "vcf_file_path = 'two_samples.vcf'\n",
    "\n",
    "# Open the VCF file\n",
    "callset_from_vcf = allel.read_vcf(vcf_file_path)"
   ]
  },
  {
   "cell_type": "code",
   "execution_count": 23,
   "id": "d972137f-6f33-4850-b6c2-95348b5d0726",
   "metadata": {},
   "outputs": [
    {
     "data": {
      "text/plain": [
       "(60943, 2, 2)"
      ]
     },
     "execution_count": 23,
     "metadata": {},
     "output_type": "execute_result"
    }
   ],
   "source": [
    "callset_from_vcf['calldata/GT'].shape"
   ]
  },
  {
   "cell_type": "code",
   "execution_count": null,
   "id": "ece7cb7a-d890-4e1a-9455-a85dd8d48b15",
   "metadata": {},
   "outputs": [],
   "source": []
  }
 ],
 "metadata": {
  "kernelspec": {
   "display_name": "Python (pipeline_snakemake)",
   "language": "python",
   "name": "pipeline_snakemake"
  },
  "language_info": {
   "codemirror_mode": {
    "name": "ipython",
    "version": 3
   },
   "file_extension": ".py",
   "mimetype": "text/x-python",
   "name": "python",
   "nbconvert_exporter": "python",
   "pygments_lexer": "ipython3",
   "version": "3.9.16"
  }
 },
 "nbformat": 4,
 "nbformat_minor": 5
}
