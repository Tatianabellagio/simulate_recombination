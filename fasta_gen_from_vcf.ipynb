{
 "cells": [
  {
   "attachments": {},
   "cell_type": "markdown",
   "metadata": {},
   "source": [
    "This script will generate fasta files from vcf files generated from slim in order to use those fasta fiels to generate reads, that would be the ouput of poolseq "
   ]
  },
  {
   "cell_type": "code",
   "execution_count": 1,
   "metadata": {},
   "outputs": [],
   "source": [
    "import numpy as np\n",
    "import pandas as pd\n",
    "import seaborn as sns\n",
    "import scipy.stats as statsß\n",
    "import math \n",
    "import os\n",
    "\n",
    "import allel\n",
    "import subprocess"
   ]
  },
  {
   "cell_type": "code",
   "execution_count": 28,
   "metadata": {},
   "outputs": [],
   "source": [
    "def from_vcf_to_fasta(vcf_file_name, path_vcf, path_fasta):\n",
    "    vcf = allel.read_vcf(path_vcf + vcf_file_name)\n",
    "    samples = vcf['samples']\n",
    "\n",
    "    ## first, make sure that if the file exists, delete it because otherwise it will add lines to an existing file \n",
    "    if os.path.exists(path_fasta + vcf_file_name[:-4] + '.fasta'):\n",
    "        os.remove(path_fasta + vcf_file_name[:-4] + '.fasta')\n",
    "\n",
    "## will just do it for 20 \n",
    "    for individual in samples: \n",
    "        #print(individual)\n",
    "        vcf = allel.read_vcf('vcf_slim/subp0.vcf', samples=[individual])\n",
    "        gt = vcf['calldata/GT']\n",
    "        ref = vcf['variants/REF']\n",
    "        alt = vcf['variants/ALT']\n",
    "\n",
    "        ## i will only keep the ones in the first column for the alt \n",
    "        alt = alt[:, 0] \n",
    "        first_chr = gt[:, 0, 0]\n",
    "        second_chr = gt[:, 0, 1]\n",
    "\n",
    "        # Retrieve the reference sequence for the genomic region covered by the VCF file\n",
    "\n",
    "        ## here i will have to pretend that each organisms is a chromosome \n",
    "        #chrom = vcf['variants/CHROM'][0]\n",
    "        start = vcf['variants/POS'][0]\n",
    "        end = vcf['variants/POS'][-1]\n",
    "        # Convert the genotype information to a nucleotide sequence\n",
    "        seq_firstchr = ''\n",
    "        for i in range(0, len(first_chr)):\n",
    "            if first_chr[i] == 0:\n",
    "                seq_firstchr += ref[i]\n",
    "            else:\n",
    "                seq_firstchr += alt[i]\n",
    "        seq_firstchr\n",
    "        with open(path_fasta + vcf_file_name[:-4] + '.fasta', 'a') as f:\n",
    "            f.write(f'>{individual}:{start}-{end}\\n')\n",
    "            f.write(seq_firstchr + '\\n')"
   ]
  },
  {
   "cell_type": "code",
   "execution_count": 29,
   "metadata": {},
   "outputs": [],
   "source": [
    "from_vcf_to_fasta('subp0.vcf', 'vcf_slim/','vcf_slim/fasta_slim/')"
   ]
  },
  {
   "cell_type": "code",
   "execution_count": 5,
   "metadata": {},
   "outputs": [],
   "source": [
    "# take all the vcf files in the folder \n",
    "subp = os.listdir( 'vcf_slim/')\n",
    "subp = [i for i in subp if '.vcf' in i ]"
   ]
  },
  {
   "cell_type": "code",
   "execution_count": 6,
   "metadata": {},
   "outputs": [
    {
     "ename": "NameError",
     "evalue": "name 'from_vcf_to_fasta' is not defined",
     "output_type": "error",
     "traceback": [
      "\u001b[0;31m---------------------------------------------------------------------------\u001b[0m",
      "\u001b[0;31mNameError\u001b[0m                                 Traceback (most recent call last)",
      "Cell \u001b[0;32mIn[6], line 3\u001b[0m\n\u001b[1;32m      1\u001b[0m \u001b[39m## generate the fasta files for all the subpopulations \u001b[39;00m\n\u001b[1;32m      2\u001b[0m \u001b[39mfor\u001b[39;00m files \u001b[39min\u001b[39;00m subp:  \n\u001b[0;32m----> 3\u001b[0m     from_vcf_to_fasta(files, \u001b[39m'\u001b[39m\u001b[39mvcf_slim/\u001b[39m\u001b[39m'\u001b[39m,\u001b[39m'\u001b[39m\u001b[39mvcf_slim/fasta_slim/\u001b[39m\u001b[39m'\u001b[39m)\n",
      "\u001b[0;31mNameError\u001b[0m: name 'from_vcf_to_fasta' is not defined"
     ]
    }
   ],
   "source": [
    "## generate the fasta files for all the subpopulations \n",
    "for files in subp:  \n",
    "    from_vcf_to_fasta(files, 'vcf_slim/','vcf_slim/fasta_slim/')"
   ]
  },
  {
   "cell_type": "code",
   "execution_count": 30,
   "metadata": {},
   "outputs": [
    {
     "name": "stdout",
     "output_type": "stream",
     "text": [
      "    1000 vcf_slim/fasta_slim/subp0.fasta\n"
     ]
    }
   ],
   "source": [
    "## checking that is has the right amount of lines \n",
    "!wc -l vcf_slim/fasta_slim/subp0.fasta "
   ]
  },
  {
   "cell_type": "code",
   "execution_count": 16,
   "metadata": {},
   "outputs": [],
   "source": [
    "fasta = os.listdir( 'vcf_slim/fasta_slim/')\n",
    "fasta = [i for i in fasta if '.fasta' in i ]"
   ]
  },
  {
   "cell_type": "code",
   "execution_count": 18,
   "metadata": {},
   "outputs": [
    {
     "data": {
      "text/plain": [
       "'[subp1.fasta subp3.fasta subp15.fasta subp11.fasta subp7.fasta subp5.fasta subp13.fasta subp2.fasta subp14.fasta subp0.fasta subp4.fasta subp12.fasta subp10.fasta subp6.fasta subp8.fasta subp9.fasta]'"
      ]
     },
     "execution_count": 18,
     "metadata": {},
     "output_type": "execute_result"
    }
   ],
   "source": [
    "str(fasta).replace(',','').replace('\\'','')"
   ]
  },
  {
   "cell_type": "code",
   "execution_count": 2,
   "metadata": {},
   "outputs": [
    {
     "ename": "FileNotFoundError",
     "evalue": "[Errno 2] No such file or directory: 'art_illumina'",
     "output_type": "error",
     "traceback": [
      "\u001b[0;31m---------------------------------------------------------------------------\u001b[0m",
      "\u001b[0;31mFileNotFoundError\u001b[0m                         Traceback (most recent call last)",
      "Cell \u001b[0;32mIn[2], line 5\u001b[0m\n\u001b[1;32m      3\u001b[0m \u001b[39mfor\u001b[39;00m file_name \u001b[39min\u001b[39;00m file_names:\n\u001b[1;32m      4\u001b[0m     command \u001b[39m=\u001b[39m \u001b[39m\"\u001b[39m\u001b[39mart_illumina -ss HS25 -i \u001b[39m\u001b[39m{}\u001b[39;00m\u001b[39m -l 100 -f 30 -p -m 200 -s 10 -o \u001b[39m\u001b[39m{}\u001b[39;00m\u001b[39m_reads\u001b[39m\u001b[39m\"\u001b[39m\u001b[39m.\u001b[39mformat(file_name,file_name)\n\u001b[0;32m----> 5\u001b[0m     subprocess\u001b[39m.\u001b[39;49mrun(command\u001b[39m.\u001b[39;49msplit())\n",
      "File \u001b[0;32m~/opt/anaconda3/envs/simulations/lib/python3.10/subprocess.py:503\u001b[0m, in \u001b[0;36mrun\u001b[0;34m(input, capture_output, timeout, check, *popenargs, **kwargs)\u001b[0m\n\u001b[1;32m    500\u001b[0m     kwargs[\u001b[39m'\u001b[39m\u001b[39mstdout\u001b[39m\u001b[39m'\u001b[39m] \u001b[39m=\u001b[39m PIPE\n\u001b[1;32m    501\u001b[0m     kwargs[\u001b[39m'\u001b[39m\u001b[39mstderr\u001b[39m\u001b[39m'\u001b[39m] \u001b[39m=\u001b[39m PIPE\n\u001b[0;32m--> 503\u001b[0m \u001b[39mwith\u001b[39;00m Popen(\u001b[39m*\u001b[39;49mpopenargs, \u001b[39m*\u001b[39;49m\u001b[39m*\u001b[39;49mkwargs) \u001b[39mas\u001b[39;00m process:\n\u001b[1;32m    504\u001b[0m     \u001b[39mtry\u001b[39;00m:\n\u001b[1;32m    505\u001b[0m         stdout, stderr \u001b[39m=\u001b[39m process\u001b[39m.\u001b[39mcommunicate(\u001b[39minput\u001b[39m, timeout\u001b[39m=\u001b[39mtimeout)\n",
      "File \u001b[0;32m~/opt/anaconda3/envs/simulations/lib/python3.10/subprocess.py:971\u001b[0m, in \u001b[0;36mPopen.__init__\u001b[0;34m(self, args, bufsize, executable, stdin, stdout, stderr, preexec_fn, close_fds, shell, cwd, env, universal_newlines, startupinfo, creationflags, restore_signals, start_new_session, pass_fds, user, group, extra_groups, encoding, errors, text, umask, pipesize)\u001b[0m\n\u001b[1;32m    967\u001b[0m         \u001b[39mif\u001b[39;00m \u001b[39mself\u001b[39m\u001b[39m.\u001b[39mtext_mode:\n\u001b[1;32m    968\u001b[0m             \u001b[39mself\u001b[39m\u001b[39m.\u001b[39mstderr \u001b[39m=\u001b[39m io\u001b[39m.\u001b[39mTextIOWrapper(\u001b[39mself\u001b[39m\u001b[39m.\u001b[39mstderr,\n\u001b[1;32m    969\u001b[0m                     encoding\u001b[39m=\u001b[39mencoding, errors\u001b[39m=\u001b[39merrors)\n\u001b[0;32m--> 971\u001b[0m     \u001b[39mself\u001b[39;49m\u001b[39m.\u001b[39;49m_execute_child(args, executable, preexec_fn, close_fds,\n\u001b[1;32m    972\u001b[0m                         pass_fds, cwd, env,\n\u001b[1;32m    973\u001b[0m                         startupinfo, creationflags, shell,\n\u001b[1;32m    974\u001b[0m                         p2cread, p2cwrite,\n\u001b[1;32m    975\u001b[0m                         c2pread, c2pwrite,\n\u001b[1;32m    976\u001b[0m                         errread, errwrite,\n\u001b[1;32m    977\u001b[0m                         restore_signals,\n\u001b[1;32m    978\u001b[0m                         gid, gids, uid, umask,\n\u001b[1;32m    979\u001b[0m                         start_new_session)\n\u001b[1;32m    980\u001b[0m \u001b[39mexcept\u001b[39;00m:\n\u001b[1;32m    981\u001b[0m     \u001b[39m# Cleanup if the child failed starting.\u001b[39;00m\n\u001b[1;32m    982\u001b[0m     \u001b[39mfor\u001b[39;00m f \u001b[39min\u001b[39;00m \u001b[39mfilter\u001b[39m(\u001b[39mNone\u001b[39;00m, (\u001b[39mself\u001b[39m\u001b[39m.\u001b[39mstdin, \u001b[39mself\u001b[39m\u001b[39m.\u001b[39mstdout, \u001b[39mself\u001b[39m\u001b[39m.\u001b[39mstderr)):\n",
      "File \u001b[0;32m~/opt/anaconda3/envs/simulations/lib/python3.10/subprocess.py:1847\u001b[0m, in \u001b[0;36mPopen._execute_child\u001b[0;34m(self, args, executable, preexec_fn, close_fds, pass_fds, cwd, env, startupinfo, creationflags, shell, p2cread, p2cwrite, c2pread, c2pwrite, errread, errwrite, restore_signals, gid, gids, uid, umask, start_new_session)\u001b[0m\n\u001b[1;32m   1845\u001b[0m     \u001b[39mif\u001b[39;00m errno_num \u001b[39m!=\u001b[39m \u001b[39m0\u001b[39m:\n\u001b[1;32m   1846\u001b[0m         err_msg \u001b[39m=\u001b[39m os\u001b[39m.\u001b[39mstrerror(errno_num)\n\u001b[0;32m-> 1847\u001b[0m     \u001b[39mraise\u001b[39;00m child_exception_type(errno_num, err_msg, err_filename)\n\u001b[1;32m   1848\u001b[0m \u001b[39mraise\u001b[39;00m child_exception_type(err_msg)\n",
      "\u001b[0;31mFileNotFoundError\u001b[0m: [Errno 2] No such file or directory: 'art_illumina'"
     ]
    }
   ],
   "source": [
    "\n",
    "file_names = [\"subp0.fasta\", \"subp1.fasta\"]\n",
    "\n",
    "for file_name in file_names:\n",
    "    command = \"art_illumina -ss HS25 -i {} -l 100 -f 30 -p -m 200 -s 10 -o {}_reads\".format(file_name,file_name)\n",
    "    subprocess.run(command.split())"
   ]
  },
  {
   "cell_type": "code",
   "execution_count": null,
   "metadata": {},
   "outputs": [],
   "source": [
    "\n",
    "file_names = [\"subp0.fasta\", \"subp1.fasta\"]\n",
    "\n",
    "for file_name in file_names:\n",
    "    command = \"ls\"\n",
    "    subprocess.run(command.split())"
   ]
  },
  {
   "cell_type": "code",
   "execution_count": null,
   "metadata": {},
   "outputs": [],
   "source": [
    "art_illumina -ss HS25 -i vcf_slim/fasta_slim/subp0.fasta -l 100 -f 30 -p -m 200 -s 10 -o vcf_slim/fasta_slim/reads_slim/subp0.fasta_reads\n"
   ]
  },
  {
   "cell_type": "code",
   "execution_count": null,
   "metadata": {},
   "outputs": [],
   "source": [
    "art_illumina -ss HS25 /# right now im assuming HS25 - HiSeq 2500\n",
    "             -i i0.fasta /#input \n",
    "             -l 150 /#length of sequences\n",
    "             -f 7 /# depth \n",
    "             -p /# paired reads\n",
    "             -m 800 /#mean length \n",
    "             -s 100 /# \n",
    "             -o reads"
   ]
  }
 ],
 "metadata": {
  "kernelspec": {
   "display_name": "simulations",
   "language": "python",
   "name": "python3"
  },
  "language_info": {
   "codemirror_mode": {
    "name": "ipython",
    "version": 3
   },
   "file_extension": ".py",
   "mimetype": "text/x-python",
   "name": "python",
   "nbconvert_exporter": "python",
   "pygments_lexer": "ipython3",
   "version": "3.10.9"
  },
  "orig_nbformat": 4
 },
 "nbformat": 4,
 "nbformat_minor": 2
}
