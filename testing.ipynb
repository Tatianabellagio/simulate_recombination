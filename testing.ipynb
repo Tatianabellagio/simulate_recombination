{
 "cells": [
  {
   "cell_type": "code",
   "execution_count": 3,
   "metadata": {},
   "outputs": [
    {
     "name": "stdout",
     "output_type": "stream",
     "text": [
      "For this run the value of pi is 0.001 and the value of beta is 5 based on the number of positions being 196 the number of contributing SNPs is 0\n"
     ]
    }
   ],
   "source": [
    "import numpy as np\n",
    "import pandas as pd\n",
    "import allel\n",
    "import random\n",
    "import os\n",
    "import sys\n",
    "import snakemake\n",
    "\n",
    "### pi is 0.0001 since length_chr5 = 1702174 * 0.0001 = 170\n",
    "pi =  0.001\n",
    "beta = 5\n",
    "chr_number = 5\n",
    "######\n",
    "\n",
    "### calculation of the number of contributing positions and effect sizes of each ###################\n",
    "file_p = allel.read_vcf('chr5_grenenet.vcf', fields='variants/POS')\n",
    "## get all the pos from the vcf file\n",
    "#file_p = allel.read_vcf(vcf_file, fields='variants/POS')\n",
    "pos = file_p['variants/POS']\n",
    "n_pos = len(pos)\n",
    "n_pos_contr =round(pi*n_pos)\n",
    "## randomly select the positions that are going to contribute \n",
    "pos_contr = random.sample(pos.tolist(), k=n_pos_contr)\n",
    "## now im gonna sample the number of nps contributing from a normal distribution with mean 0 and sd defined by beta \n",
    "print('For this run the value of pi is ' + str(pi) + ' and the value of beta is ' + str(beta) + ' based on the number of positions being ' + str(n_pos) + ' the number of contributing SNPs is ' + str(n_pos_contr))\n",
    "mu, sigma = 0,beta # mean and standard deviation\n",
    "effect_sizes = np.random.normal(mu, sigma, n_pos_contr)\n",
    "effect_sizes = np.round(effect_sizes, 4)\n",
    "## now i have to create a bed file to add this infromation to the vcf file \n",
    "## create dataframe of the contributing pos \n",
    "## to caluclate the positions FROM in a bed file, the fist value is not included\n",
    "positions_from = [i-1 for i in pos]\n",
    "# Define the positions and values\n",
    "chromosome = [chr_number] * len(pos)\n",
    "# Create a DataFrame from the positions and values\n",
    "all_pos = pd.DataFrame({'chromosome':chromosome,'positions_from': positions_from, 'positions_to': pos})\n",
    "contrib_pos = pd.DataFrame({'positions_to': pos_contr, 'sel_coef':effect_sizes})\n",
    "# merge and fillna with 0 since that is the selection coefficient for all the non contributing snps \n",
    "all_pos = all_pos.merge(contrib_pos, left_on= 'positions_to', right_on= 'positions_to' ,how='left').fillna(0)\n",
    "# Write the DataFrame to a BED file\n",
    "\n"
   ]
  },
  {
   "cell_type": "code",
   "execution_count": 6,
   "metadata": {},
   "outputs": [
    {
     "data": {
      "text/plain": [
       "array([0., 0., 0., 0., 0., 0., 0., 0., 0., 0., 0., 0., 0., 0., 0., 0., 0.,\n",
       "       0., 0., 0., 0., 0., 0., 0., 0., 0., 0., 0., 0., 0., 0., 0., 0., 0.,\n",
       "       0., 0., 0., 0., 0., 0., 0., 0., 0., 0., 0., 0., 0., 0., 0., 0., 0.,\n",
       "       0., 0., 0., 0., 0., 0., 0., 0., 0., 0., 0., 0., 0., 0., 0., 0., 0.,\n",
       "       0., 0., 0., 0., 0., 0., 0., 0., 0., 0., 0., 0., 0., 0., 0., 0., 0.,\n",
       "       0., 0., 0., 0., 0., 0., 0., 0., 0., 0., 0., 0., 0., 0., 0., 0., 0.,\n",
       "       0., 0., 0., 0., 0., 0., 0., 0., 0., 0., 0., 0., 0., 0., 0., 0., 0.,\n",
       "       0., 0., 0., 0., 0., 0., 0., 0., 0., 0., 0., 0., 0., 0., 0., 0., 0.,\n",
       "       0., 0., 0., 0., 0., 0., 0., 0., 0., 0., 0., 0., 0., 0., 0., 0., 0.,\n",
       "       0., 0., 0., 0., 0., 0., 0., 0., 0., 0., 0., 0., 0., 0., 0., 0., 0.,\n",
       "       0., 0., 0., 0., 0., 0., 0., 0., 0., 0., 0., 0., 0., 0., 0., 0., 0.,\n",
       "       0., 0., 0., 0., 0., 0., 0., 0., 0.])"
      ]
     },
     "execution_count": 6,
     "metadata": {},
     "output_type": "execute_result"
    }
   ],
   "source": [
    "np.array(all_pos['sel_coef'])"
   ]
  },
  {
   "cell_type": "code",
   "execution_count": null,
   "metadata": {},
   "outputs": [],
   "source": [
    "## output \n",
    "all_pos.to_csv(bed_sc, sep='\\t', header=False, index=False) # selection_coef_chr5.bed\n",
    "print('Finished creating bed file to annotate vcf with effect sizes at each contributing position')"
   ]
  },
  {
   "cell_type": "code",
   "execution_count": 7,
   "metadata": {},
   "outputs": [],
   "source": [
    "hola = \"arq_pi{pi}_beta{beta}/vcf_files/optima{optima}/subp{replicates}.vcf\""
   ]
  },
  {
   "cell_type": "code",
   "execution_count": 22,
   "metadata": {},
   "outputs": [
    {
     "data": {
      "text/plain": [
       "'arq_pi{pi}_beta{beta}/vcf_files/'"
      ]
     },
     "execution_count": 22,
     "metadata": {},
     "output_type": "execute_result"
    }
   ],
   "source": [
    "hola.split('optima')[0]"
   ]
  },
  {
   "cell_type": "code",
   "execution_count": null,
   "metadata": {},
   "outputs": [],
   "source": [
    "\n",
    "optima_folder = snakemake.input[0].split('subp')[0]\n",
    "\n",
    "### create a dictionary where 1 dataframe containing all the replicates for each optima is saved \n",
    "\n",
    "allele_counts = pd.DataFrame()\n",
    "indiv_number = pd.DataFrame()\n",
    "#  take all the vcf files in the folder \n",
    "for optima in ['optima0', 'optima1', 'optima2']: #os.listdir(dir_cluster):\n",
    "    optima_subp = os.listdir(dir_cluster + optima + '/')\n",
    "    subps = [i for i in optima_subp if '.vcf' in i ]\n",
    "    \n",
    "    for subp in subps:\n",
    "        vcf = allel.read_vcf(dir_cluster + optima + '/' + subp)"
   ]
  },
  {
   "cell_type": "code",
   "execution_count": null,
   "metadata": {},
   "outputs": [],
   "source": []
  }
 ],
 "metadata": {
  "kernelspec": {
   "display_name": "pipeline_slim",
   "language": "python",
   "name": "python3"
  },
  "language_info": {
   "codemirror_mode": {
    "name": "ipython",
    "version": 3
   },
   "file_extension": ".py",
   "mimetype": "text/x-python",
   "name": "python",
   "nbconvert_exporter": "python",
   "pygments_lexer": "ipython3",
   "version": "3.9.16"
  },
  "orig_nbformat": 4
 },
 "nbformat": 4,
 "nbformat_minor": 2
}
