{
 "cells": [
  {
   "cell_type": "code",
   "execution_count": 2,
   "metadata": {},
   "outputs": [],
   "source": [
    "import numpy as np\n",
    "import pandas as pd\n",
    "import allel\n",
    "import random\n",
    "import os\n",
    "import sys\n",
    "\n",
    "#### default params \n",
    "## params for annotating vcf file with sc\n",
    "chr_number = 5\n",
    "vcf_file = 'chr5_grenenet.vcf'\n",
    "\n",
    "### pi is 0.0001 since length_chr5 = 1702174 * 0.0001 = 170\n",
    "pi =  0.01\n",
    "beta = 5\n",
    "\n",
    "#params for calculating optima \n",
    "grenenet_1001g_ecotypes = 'ecotypes_grenenet_1001g.txt'\n",
    "# cluster\n",
    "# safedata/ath_evo/grenephase1/data/worldclim_ecotypesdata.csv\n",
    "# local \n",
    "# worldclim_ecotypesdata.csv\n",
    "path_worldclim_ecotypesdata = 'worldclim_ecotypesdata.csv'\n",
    "bed_sc = 'selection_coef_chr5.bed'\n",
    "\n",
    "## params for gen of fasta from vcf \n",
    "or_fasta_file = 'chr5.fasta'\n",
    "slim_fasta_file = 'slim_' + or_fasta_file"
   ]
  },
  {
   "cell_type": "code",
   "execution_count": null,
   "metadata": {},
   "outputs": [],
   "source": [
    "########### params defined in command line ############################\n",
    "## the 2 params that i am going to be iterating through are pi and beta \n",
    "\n",
    "# Check if a command-line argument was provided\n",
    "\n",
    "#if len(sys.argv) > 1:\n",
    "    # If an argument was provided, use it to set the variable\n",
    "#    pi = sys.argv[1]\n",
    "\n",
    "\n",
    "#if len(sys.argv) > 2:\n",
    "#    # If an argument was provided, use it to set the variable\n",
    "#    beta = sys.argv[2]"
   ]
  },
  {
   "cell_type": "code",
   "execution_count": 3,
   "metadata": {},
   "outputs": [
    {
     "name": "stdout",
     "output_type": "stream",
     "text": [
      "For this run the value of pi is 0.01 and the value of beta is 5\n"
     ]
    }
   ],
   "source": [
    "\n",
    "print('For this run the value of pi is ' + str(pi) + ' and the value of beta is ' + str(beta) + ' based on the number of positions being ' + str(n_pos) + ' the number of contributing SNPs is ' str(n_pos_contr))\n",
    "########### params defined in command line ############################\n",
    "\n",
    "file_p = allel.read_vcf(vcf_file, fields='variants/POS')\n",
    "## get all the pos from the vcf file\n",
    "file_p = allel.read_vcf(vcf_file, fields='variants/POS')\n",
    "pos = file_p['variants/POS']\n",
    "n_pos = len(pos)\n",
    "n_pos_contr =round(pi*n_pos)"
   ]
  },
  {
   "cell_type": "code",
   "execution_count": 10,
   "metadata": {},
   "outputs": [
    {
     "data": {
      "text/plain": [
       "1702174"
      ]
     },
     "execution_count": 10,
     "metadata": {},
     "output_type": "execute_result"
    }
   ],
   "source": [
    "n_pos"
   ]
  },
  {
   "cell_type": "code",
   "execution_count": 9,
   "metadata": {},
   "outputs": [
    {
     "data": {
      "text/plain": [
       "17022"
      ]
     },
     "execution_count": 9,
     "metadata": {},
     "output_type": "execute_result"
    }
   ],
   "source": [
    "n_pos_contr"
   ]
  },
  {
   "cell_type": "code",
   "execution_count": 8,
   "metadata": {},
   "outputs": [
    {
     "data": {
      "text/plain": [
       "0.01"
      ]
     },
     "execution_count": 8,
     "metadata": {},
     "output_type": "execute_result"
    }
   ],
   "source": [
    "float(pi)"
   ]
  },
  {
   "cell_type": "code",
   "execution_count": 6,
   "metadata": {},
   "outputs": [
    {
     "data": {
      "text/plain": [
       "5"
      ]
     },
     "execution_count": 6,
     "metadata": {},
     "output_type": "execute_result"
    }
   ],
   "source": [
    "beta"
   ]
  },
  {
   "cell_type": "code",
   "execution_count": null,
   "metadata": {},
   "outputs": [],
   "source": [
    "\n",
    "\n",
    "\n",
    "## randomly select the positions that are going to contribute \n",
    "pos_contr = random.sample(pos.tolist(), k=n_pos_contr)\n",
    "## now im gonna sample the number of nps contributing from a normal distribution with mean 0 and sd defined by beta \n",
    "mu, sigma = 0,beta # mean and standard deviation\n",
    "effect_sizes = np.random.normal(mu, sigma, n_pos_contr)\n",
    "effect_sizes = np.round(effect_sizes, 4)\n",
    "## now i have to create a bed file to add this infromation to the vcf file \n",
    "## create dataframe of the contributing pos \n",
    "\n",
    "\n",
    "## to caluclate the positions FROM in a bed file, the fist value is not included\n",
    "positions_from = [i-1 for i in pos]\n",
    "# Define the positions and values\n",
    "chromosome = [chr_number] * len(pos)\n",
    "\n",
    "# Create a DataFrame from the positions and values\n",
    "all_pos = pd.DataFrame({'chromosome':chromosome,'positions_from': positions_from, 'positions_to': pos})\n",
    "contrib_pos = pd.DataFrame({'positions_to': pos_contr, 'sel_coef':effect_sizes})\n",
    "\n",
    "# merge and fillna with 0 since that is the selection coefficient for all the non contributing snps \n",
    "all_pos = all_pos.merge(contrib_pos, left_on= 'positions_to', right_on= 'positions_to' ,how='left').fillna(0)\n",
    "\n",
    "# Write the DataFrame to a BED file\n",
    "all_pos.to_csv(bed_sc, sep='\\t', header=False, index=False)"
   ]
  },
  {
   "cell_type": "code",
   "execution_count": null,
   "metadata": {},
   "outputs": [],
   "source": []
  },
  {
   "cell_type": "code",
   "execution_count": null,
   "metadata": {},
   "outputs": [],
   "source": [
    "\n",
    "\n",
    "vcf = allel.read_vcf(vcf_file)\n",
    "phenotypes = []\n",
    "for ecotype in samples['ecotypeid']:\n",
    "    vcf_ecotype = allel.read_vcf(vcf_file, samples=[str(ecotype)])\n",
    "    ## for each position this is the number of alterantive variants \n",
    "    alt_alleles_per_pos = vcf_ecotype['calldata/GT'].sum(axis=2)\n",
    "    gen_effectsize = np.multiply(alt_alleles_per_pos.flatten(), np.array(selection_coef))  ## select coef are actually effect sizes\n",
    "    phenotypes.append(gen_effectsize.sum())\n",
    "samples['phenotype'] = phenotypes\n",
    "samples['phenotype'] = samples['phenotype'].round(4)\n",
    "samples = samples.reset_index(drop=True)\n",
    "\n",
    "\n",
    "\n",
    "# write optimas and also create the folder where the vcf fiels will be dumped \n",
    "\n",
    "\n",
    "# Check if the folder already exists\n",
    "if os.path.exists(\"vcf_slim\"):\n",
    "    # If it does, delete the folder and all its contents\n",
    "    os.system(\"rm -r vcf_slim\")\n",
    "    os.makedirs(\"vcf_slim\")\n",
    "else: \n",
    "    os.makedirs(\"vcf_slim\")\n",
    "\n",
    "\n",
    "#os.makedirs(\"vcf_slim\")\n",
    "\n",
    "os.makedirs('optima_files')\n",
    "samples.to_csv('optima_files/optimas.csv')\n",
    "samples['phenotype'].to_csv('optima_files/optima_slim.txt', header=None, sep='\\n', index=None)\n",
    "\n",
    "for i in range(0,34):\n",
    "    path = os.path.join(\"vcf_slim\", str(f'optima{i}'))\n",
    "    os.makedirs(path)\n",
    "    print(f\"Folder '{folder_name}' and subfolder 'optima{i}' created successfully.\")"
   ]
  },
  {
   "cell_type": "code",
   "execution_count": null,
   "metadata": {},
   "outputs": [],
   "source": [
    "### generation of reference fasta from tair fasta with all chr\n",
    "\n",
    "# Execute this block of code only if the file does not exist aka if we dont have the fasta file in slim format for the chr\n",
    "if not os.path.exists(slim_fasta_file):\n",
    "    ## save the first line (chr name) and all the other lines (seq) separatedly \n",
    "    with open(or_fasta_file, 'r') as file:\n",
    "        chro = \"\"\n",
    "        seq = \"\"\n",
    "        for i, line in enumerate(file):\n",
    "            if i == 0:\n",
    "                chro += line.strip()\n",
    "            elif i != 0:\n",
    "                seq += line.strip()\n",
    "    ## replace unknown variant with acgt so slim can read it \n",
    "    replacement_dict = {\"M\": \"A\", \"R\": \"A\", \"W\": \"A\", \"S\": \"C\", \"Y\": \"C\", \"K\": \"G\", \"V\": \"A\", \"H\": \"A\", \"D\": \"A\", \"B\": \"C\", \"N\": \"A\"}\n",
    "\n",
    "    for key in replacement_dict:\n",
    "        seq = seq.replace(key, replacement_dict[key])\n",
    "\n",
    "    with open(slim_fasta_file, \"w\") as f:\n",
    "        f.write(f'{chro}\\n')\n",
    "        f.write(seq + '\\n')\n",
    "        # Write the string to the file"
   ]
  }
 ],
 "metadata": {
  "kernelspec": {
   "display_name": "simulations",
   "language": "python",
   "name": "python3"
  },
  "language_info": {
   "codemirror_mode": {
    "name": "ipython",
    "version": 3
   },
   "file_extension": ".py",
   "mimetype": "text/x-python",
   "name": "python",
   "nbconvert_exporter": "python",
   "pygments_lexer": "ipython3",
   "version": "3.9.15"
  },
  "orig_nbformat": 4
 },
 "nbformat": 4,
 "nbformat_minor": 2
}
