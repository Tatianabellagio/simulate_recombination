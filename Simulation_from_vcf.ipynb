{
 "cells": [
  {
   "cell_type": "code",
   "execution_count": 91,
   "id": "f30f2d46",
   "metadata": {},
   "outputs": [],
   "source": [
    "import numpy as np\n",
    "import pandas as pd\n",
    "import seaborn as sns\n",
    "import scipy.stats as stats\n",
    "import math "
   ]
  },
  {
   "cell_type": "code",
   "execution_count": null,
   "id": "085bc6ff",
   "metadata": {},
   "outputs": [],
   "source": [
    "vcf Chr1:9001000..9002000"
   ]
  },
  {
   "cell_type": "code",
   "execution_count": null,
   "id": "b1bda132",
   "metadata": {},
   "outputs": [],
   "source": [
    "8999999"
   ]
  },
  {
   "cell_type": "code",
   "execution_count": 80,
   "id": "bf78b0f8",
   "metadata": {
    "scrolled": true
   },
   "outputs": [],
   "source": [
    "import pysam\n",
    "\n",
    "# Open FASTA and VCF files\n",
    "fasta_file = pysam.FastaFile(\"referencevcf3.fasta\")\n",
    "vcf_file = pysam.VariantFile(\"test.vcf\")\n",
    "\n",
    "# Count number of positions in FASTA and VCF files\n",
    "num_positions_fasta = sum([len(fasta_file[contig]) for contig in fasta_file.references])\n",
    "num_positions_vcf = sum([1 for record in vcf_file])\n",
    "\n",
    "print(num_positions_fasta)\n",
    "print(num_positions_vcf)"
   ]
  },
  {
   "cell_type": "code",
   "execution_count": 81,
   "id": "348ce3b6",
   "metadata": {},
   "outputs": [
    {
     "data": {
      "text/plain": [
       "8001"
      ]
     },
     "execution_count": 81,
     "metadata": {},
     "output_type": "execute_result"
    }
   ],
   "source": []
  },
  {
   "cell_type": "code",
   "execution_count": 82,
   "id": "0c278859",
   "metadata": {},
   "outputs": [
    {
     "data": {
      "text/plain": [
       "8001"
      ]
     },
     "execution_count": 82,
     "metadata": {},
     "output_type": "execute_result"
    }
   ],
   "source": []
  },
  {
   "cell_type": "code",
   "execution_count": 54,
   "id": "5f4c401f",
   "metadata": {},
   "outputs": [],
   "source": [
    "import pysam\n",
    "\n",
    "# Open the VCF and FASTA files\n",
    "vcf_file = pysam.VariantFile(\"test.vcf\")\n",
    "fasta_file = pysam.FastaFile(\"test.fasta\")"
   ]
  },
  {
   "cell_type": "code",
   "execution_count": 55,
   "id": "caa8876c",
   "metadata": {
    "scrolled": true
   },
   "outputs": [
    {
     "name": "stdout",
     "output_type": "stream",
     "text": [
      "['1', '2', '3', '4', '5']\n"
     ]
    }
   ],
   "source": [
    "print(list((vcf_file.header.contigs)))"
   ]
  },
  {
   "cell_type": "code",
   "execution_count": 56,
   "id": "01097fbe",
   "metadata": {},
   "outputs": [
    {
     "data": {
      "text/plain": [
       "8999999"
      ]
     },
     "execution_count": 56,
     "metadata": {},
     "output_type": "execute_result"
    }
   ],
   "source": [
    "8999999"
   ]
  },
  {
   "cell_type": "code",
   "execution_count": 83,
   "id": "cf6c98ec",
   "metadata": {
    "scrolled": true
   },
   "outputs": [
    {
     "data": {
      "text/plain": [
       "['Chr1:9001000-9009000']"
      ]
     },
     "execution_count": 83,
     "metadata": {},
     "output_type": "execute_result"
    }
   ],
   "source": [
    "fasta_file.references"
   ]
  },
  {
   "cell_type": "code",
   "execution_count": 58,
   "id": "e318acd1",
   "metadata": {},
   "outputs": [
    {
     "data": {
      "text/plain": [
       "[8000]"
      ]
     },
     "execution_count": 58,
     "metadata": {},
     "output_type": "execute_result"
    }
   ],
   "source": [
    "fasta_file.lengths"
   ]
  },
  {
   "cell_type": "code",
   "execution_count": 41,
   "id": "528fa7a4",
   "metadata": {},
   "outputs": [
    {
     "ename": "AttributeError",
     "evalue": "'pysam.libcbcf.VariantFile' object has no attribute 'references'",
     "output_type": "error",
     "traceback": [
      "\u001b[0;31m---------------------------------------------------------------------------\u001b[0m",
      "\u001b[0;31mAttributeError\u001b[0m                            Traceback (most recent call last)",
      "Cell \u001b[0;32mIn[41], line 8\u001b[0m\n\u001b[1;32m      5\u001b[0m fasta_file \u001b[38;5;241m=\u001b[39m pysam\u001b[38;5;241m.\u001b[39mFastaFile(\u001b[38;5;124m\"\u001b[39m\u001b[38;5;124mtest.fasta\u001b[39m\u001b[38;5;124m\"\u001b[39m)\n\u001b[1;32m      7\u001b[0m \u001b[38;5;66;03m# Check if the chromosome names and lengths are the same in both files\u001b[39;00m\n\u001b[0;32m----> 8\u001b[0m \u001b[38;5;28;01mif\u001b[39;00m \u001b[43mvcf_file\u001b[49m\u001b[38;5;241;43m.\u001b[39;49m\u001b[43mreferences\u001b[49m \u001b[38;5;241m!=\u001b[39m fasta_file\u001b[38;5;241m.\u001b[39mreferences:\n\u001b[1;32m      9\u001b[0m     \u001b[38;5;28mprint\u001b[39m(\u001b[38;5;124m\"\u001b[39m\u001b[38;5;124mError: chromosome names in VCF file do not match chromosome names in FASTA file\u001b[39m\u001b[38;5;124m\"\u001b[39m)\n\u001b[1;32m     10\u001b[0m     exit()\n",
      "\u001b[0;31mAttributeError\u001b[0m: 'pysam.libcbcf.VariantFile' object has no attribute 'references'"
     ]
    }
   ],
   "source": [
    "\n",
    "\n",
    "# Check if the chromosome names and lengths are the same in both files\n",
    "if vcf_file.references != fasta_file.references:\n",
    "    print(\"Error: chromosome names in VCF file do not match chromosome names in FASTA file\")\n",
    "    exit()\n",
    "if vcf_file.header.contigs != fasta_file.lengths:\n",
    "    print(\"Error: chromosome lengths in VCF file do not match chromosome lengths in FASTA file\")\n",
    "    exit()\n",
    "\n",
    "# Get the genomic coordinates for chromosome 1\n",
    "chromosome_name = \"Chr1\"\n",
    "chromosome_length = fasta_file.get_reference_length(chromosome_name)\n",
    "vcf_positions = set()\n",
    "for record in vcf_file.fetch(chromosome_name, 0, chromosome_length):\n",
    "    vcf_positions.add(record.pos)\n",
    "fasta_positions = set(range(0, chromosome_length))\n",
    "\n",
    "# Check if the VCF and FASTA files cover the same positions for chromosome 1\n",
    "if vcf_positions != fasta_positions:\n",
    "    print(\"Error: VCF and FASTA files do not cover the same positions for chromosome 1\")\n",
    "    exit()\n",
    "\n",
    "print(\"VCF and FASTA files cover the same positions for chromosome 1\")\n"
   ]
  },
  {
   "cell_type": "code",
   "execution_count": 37,
   "id": "9ffcfba7",
   "metadata": {
    "scrolled": false
   },
   "outputs": [
    {
     "data": {
      "text/plain": [
       "['Chr1:9002000-9006000']"
      ]
     },
     "execution_count": 37,
     "metadata": {},
     "output_type": "execute_result"
    }
   ],
   "source": [
    "fasta_file.references  # 9.001.000"
   ]
  },
  {
   "cell_type": "code",
   "execution_count": 38,
   "id": "2a709913",
   "metadata": {},
   "outputs": [
    {
     "data": {
      "text/plain": [
       "4000"
      ]
     },
     "execution_count": 38,
     "metadata": {},
     "output_type": "execute_result"
    }
   ],
   "source": [
    "num_positions_fasta"
   ]
  },
  {
   "cell_type": "code",
   "execution_count": 39,
   "id": "532aff22",
   "metadata": {},
   "outputs": [
    {
     "data": {
      "text/plain": [
       "6001"
      ]
     },
     "execution_count": 39,
     "metadata": {},
     "output_type": "execute_result"
    }
   ],
   "source": [
    "num_positions_vcf"
   ]
  },
  {
   "cell_type": "code",
   "execution_count": null,
   "id": "77e3b140",
   "metadata": {},
   "outputs": [],
   "source": [
    "9001000 10001001\n"
   ]
  },
  {
   "cell_type": "code",
   "execution_count": null,
   "id": "a0a6ad5b",
   "metadata": {},
   "outputs": [],
   "source": []
  },
  {
   "cell_type": "code",
   "execution_count": 29,
   "id": "78035f43",
   "metadata": {},
   "outputs": [
    {
     "data": {
      "text/plain": [
       "1000001"
      ]
     },
     "execution_count": 29,
     "metadata": {},
     "output_type": "execute_result"
    }
   ],
   "source": [
    "num_positions_fasta"
   ]
  },
  {
   "cell_type": "code",
   "execution_count": 48,
   "id": "d7649b28",
   "metadata": {},
   "outputs": [],
   "source": [
    "positions = []"
   ]
  },
  {
   "cell_type": "code",
   "execution_count": 83,
   "id": "32e0b228",
   "metadata": {
    "scrolled": true
   },
   "outputs": [],
   "source": [
    "for rec in vcf_file.fetch():\n",
    "    positions.append(rec.pos)"
   ]
  },
  {
   "cell_type": "code",
   "execution_count": 51,
   "id": "58ad5156",
   "metadata": {
    "scrolled": false
   },
   "outputs": [
    {
     "data": {
      "text/plain": [
       "False"
      ]
     },
     "execution_count": 51,
     "metadata": {},
     "output_type": "execute_result"
    }
   ],
   "source": [
    "9.000.999 in positions"
   ]
  },
  {
   "cell_type": "code",
   "execution_count": null,
   "id": "4caf5b4e",
   "metadata": {},
   "outputs": [],
   "source": [
    "9 001 000 "
   ]
  },
  {
   "cell_type": "code",
   "execution_count": 69,
   "id": "54591158",
   "metadata": {},
   "outputs": [
    {
     "data": {
      "text/plain": [
       "True"
      ]
     },
     "execution_count": 69,
     "metadata": {},
     "output_type": "execute_result"
    }
   ],
   "source": [
    "9001000 in positions"
   ]
  },
  {
   "cell_type": "code",
   "execution_count": 81,
   "id": "e09935ef",
   "metadata": {},
   "outputs": [
    {
     "data": {
      "text/plain": [
       "0           9001000\n",
       "1           9001001\n",
       "2           9001002\n",
       "3           9001003\n",
       "4           9001004\n",
       "             ...   \n",
       "999996     10000996\n",
       "999997     10000997\n",
       "999998     10000998\n",
       "999999     10000999\n",
       "1000000    10001000\n",
       "Length: 1000001, dtype: int64"
      ]
     },
     "execution_count": 81,
     "metadata": {},
     "output_type": "execute_result"
    }
   ],
   "source": [
    "pos_series"
   ]
  },
  {
   "cell_type": "code",
   "execution_count": 80,
   "id": "e2d58d51",
   "metadata": {
    "scrolled": true
   },
   "outputs": [
    {
     "data": {
      "text/plain": [
       "0    9001000\n",
       "1    9001001\n",
       "5    9001005\n",
       "dtype: int64"
      ]
     },
     "execution_count": 80,
     "metadata": {},
     "output_type": "execute_result"
    }
   ],
   "source": [
    "pos_series[pos_series.isin([9001000, 9001001,9001005])]"
   ]
  },
  {
   "cell_type": "code",
   "execution_count": 75,
   "id": "1f38c880",
   "metadata": {},
   "outputs": [
    {
     "ename": "AttributeError",
     "evalue": "'list' object has no attribute 'filter'",
     "output_type": "error",
     "traceback": [
      "\u001b[0;31m---------------------------------------------------------------------------\u001b[0m",
      "\u001b[0;31mAttributeError\u001b[0m                            Traceback (most recent call last)",
      "Cell \u001b[0;32mIn[75], line 1\u001b[0m\n\u001b[0;32m----> 1\u001b[0m \u001b[43mpositions\u001b[49m\u001b[38;5;241;43m.\u001b[39;49m\u001b[43mfilter\u001b[49m(\u001b[38;5;241m9001000\u001b[39m)\n",
      "\u001b[0;31mAttributeError\u001b[0m: 'list' object has no attribute 'filter'"
     ]
    }
   ],
   "source": [
    "positions.filter(9001000)"
   ]
  },
  {
   "cell_type": "code",
   "execution_count": null,
   "id": "233d8022",
   "metadata": {},
   "outputs": [],
   "source": [
    "first: 9001000  last 10001000"
   ]
  },
  {
   "cell_type": "code",
   "execution_count": 62,
   "id": "3dba5f94",
   "metadata": {
    "scrolled": false
   },
   "outputs": [
    {
     "data": {
      "text/plain": [
       "1000001"
      ]
     },
     "execution_count": 62,
     "metadata": {},
     "output_type": "execute_result"
    }
   ],
   "source": [
    "len(positions)"
   ]
  },
  {
   "cell_type": "code",
   "execution_count": 76,
   "id": "6de3bc91",
   "metadata": {},
   "outputs": [],
   "source": [
    "pos_series = pd.Series(positions)"
   ]
  },
  {
   "cell_type": "code",
   "execution_count": 61,
   "id": "f325dde1",
   "metadata": {},
   "outputs": [
    {
     "data": {
      "text/plain": [
       "10001000"
      ]
     },
     "execution_count": 61,
     "metadata": {},
     "output_type": "execute_result"
    }
   ],
   "source": [
    "pd.Series(positions).max()"
   ]
  },
  {
   "cell_type": "code",
   "execution_count": 33,
   "id": "b0d79eb7",
   "metadata": {},
   "outputs": [
    {
     "data": {
      "text/plain": [
       "1000001"
      ]
     },
     "execution_count": 33,
     "metadata": {},
     "output_type": "execute_result"
    }
   ],
   "source": [
    "num_positions_vcf"
   ]
  },
  {
   "cell_type": "code",
   "execution_count": 82,
   "id": "069f893c",
   "metadata": {},
   "outputs": [],
   "source": [
    "for record in vcf_file:\n",
    "    print(record)"
   ]
  },
  {
   "cell_type": "code",
   "execution_count": 43,
   "id": "f5833556",
   "metadata": {},
   "outputs": [
    {
     "data": {
      "text/plain": [
       "[]"
      ]
     },
     "execution_count": 43,
     "metadata": {},
     "output_type": "execute_result"
    }
   ],
   "source": [
    "[record for record in vcf_file]"
   ]
  },
  {
   "cell_type": "code",
   "execution_count": 6,
   "id": "0db06feb",
   "metadata": {},
   "outputs": [],
   "source": [
    "import fwdpy11 as fp\n",
    "import pyslim"
   ]
  },
  {
   "cell_type": "code",
   "execution_count": null,
   "id": "104662b7",
   "metadata": {},
   "outputs": [],
   "source": [
    "http://localhost:8888/?token=adf48011db5035700d1434bb9906f59a473c540ee46f054a"
   ]
  },
  {
   "cell_type": "code",
   "execution_count": 19,
   "id": "edc250d2",
   "metadata": {},
   "outputs": [
    {
     "data": {
      "text/html": [
       "\n",
       "            <div>\n",
       "              <style>\n",
       "                .tskit-table thead tr th {text-align: left;padding: 0.5em 0.5em;}\n",
       "                .tskit-table tbody tr td {padding: 0.5em 0.5em;}\n",
       "                .tskit-table tbody tr td:first-of-type {text-align: left;}\n",
       "                .tskit-details-label {vertical-align: top; padding-right:5px;}\n",
       "                .tskit-table-set {display: inline-flex;flex-wrap: wrap;margin: -12px 0 0 -12px;width: calc(100% + 12px);}\n",
       "                .tskit-table-set-table {margin: 12px 0 0 12px;}\n",
       "                details {display: inline-block;}\n",
       "                summary {cursor: pointer; outline: 0; display: list-item;}\n",
       "              </style>\n",
       "              <div class=\"tskit-table-set\">\n",
       "                <div class=\"tskit-table-set-table\">\n",
       "                  <table class=\"tskit-table\">\n",
       "                    <thead>\n",
       "                      <tr>\n",
       "                        <th style=\"padding:0;line-height:21px;\">\n",
       "                          <img style=\"height: 32px;display: inline-block;padding: 3px 5px 3px 0;\" src=\"https://raw.githubusercontent.com/tskit-dev/administrative/main/tskit_logo.svg\"/>\n",
       "                          <a target=\"_blank\" href=\"https://tskit.dev/tskit/docs/latest/python-api.html#the-treesequence-class\"> Tree Sequence </a>\n",
       "                        </th>\n",
       "                      </tr>\n",
       "                    </thead>\n",
       "                    <tbody>\n",
       "                      <tr><td>Trees</td><td>2521</td></tr>\n",
       "                      <tr><td>Sequence Length</td><td>100000.0</td></tr>\n",
       "                      <tr><td>Time Units</td><td>ticks</td></tr>\n",
       "                      <tr><td>Sample Nodes</td><td>2000</td></tr>\n",
       "                      <tr><td>Total Size</td><td>1.5 MiB</td></tr>\n",
       "                      <tr>\n",
       "                        <td>Metadata</td><td style=\"text-align: left;\">\n",
       "                <div>\n",
       "                  <span class=\"tskit-details-label\"></span>\n",
       "                  <details open>\n",
       "                    <summary>dict</summary>\n",
       "                    \n",
       "                <div>\n",
       "                  <span class=\"tskit-details-label\">SLiM:</span>\n",
       "                  <details >\n",
       "                    <summary>dict</summary>\n",
       "                    cycle: 1000<br/>file_version: 0.8<br/>model_type: WF<br/>name: sim<br/>nucleotide_based: True<br/>separate_sexes: False<br/>spatial_dimensionality: <br/>spatial_periodicity: <br/>stage: late<br/>tick: 1000<br/>\n",
       "                  </details>\n",
       "                </div>\n",
       "                <br/>\n",
       "                  </details>\n",
       "                </div>\n",
       "                </td></tr>\n",
       "                    </tbody>\n",
       "                  </table>\n",
       "                </div>\n",
       "                <div class=\"tskit-table-set-table\">\n",
       "                  <table class=\"tskit-table\">\n",
       "                    <thead>\n",
       "                      <tr>\n",
       "                        <th style=\"line-height:21px;\">Table</th>\n",
       "                        <th>Rows</th>\n",
       "                        <th>Size</th>\n",
       "                        <th>Has Metadata</th>\n",
       "                      </tr>\n",
       "                    </thead>\n",
       "                    <tbody>\n",
       "                    \n",
       "                  <tr>\n",
       "                    <td>Edges</td>\n",
       "                      <td>12647</td>\n",
       "                      <td>395.2 KiB</td>\n",
       "                      <td style=\"text-align: center;\">\n",
       "                        \n",
       "                      </td>\n",
       "                    </tr>\n",
       "                \n",
       "                  <tr>\n",
       "                    <td>Individuals</td>\n",
       "                      <td>1000</td>\n",
       "                      <td>99.5 KiB</td>\n",
       "                      <td style=\"text-align: center;\">\n",
       "                        ✅\n",
       "                      </td>\n",
       "                    </tr>\n",
       "                \n",
       "                  <tr>\n",
       "                    <td>Migrations</td>\n",
       "                      <td>0</td>\n",
       "                      <td>8 Bytes</td>\n",
       "                      <td style=\"text-align: center;\">\n",
       "                        \n",
       "                      </td>\n",
       "                    </tr>\n",
       "                \n",
       "                  <tr>\n",
       "                    <td>Mutations</td>\n",
       "                      <td>7576</td>\n",
       "                      <td>437.5 KiB</td>\n",
       "                      <td style=\"text-align: center;\">\n",
       "                        ✅\n",
       "                      </td>\n",
       "                    </tr>\n",
       "                \n",
       "                  <tr>\n",
       "                    <td>Nodes</td>\n",
       "                      <td>5326</td>\n",
       "                      <td>198.3 KiB</td>\n",
       "                      <td style=\"text-align: center;\">\n",
       "                        ✅\n",
       "                      </td>\n",
       "                    </tr>\n",
       "                \n",
       "                  <tr>\n",
       "                    <td>Populations</td>\n",
       "                      <td>2</td>\n",
       "                      <td>2.3 KiB</td>\n",
       "                      <td style=\"text-align: center;\">\n",
       "                        ✅\n",
       "                      </td>\n",
       "                    </tr>\n",
       "                \n",
       "                  <tr>\n",
       "                    <td>Provenances</td>\n",
       "                      <td>1</td>\n",
       "                      <td>2.2 KiB</td>\n",
       "                      <td style=\"text-align: center;\">\n",
       "                        \n",
       "                      </td>\n",
       "                    </tr>\n",
       "                \n",
       "                  <tr>\n",
       "                    <td>Sites</td>\n",
       "                      <td>7290</td>\n",
       "                      <td>170.9 KiB</td>\n",
       "                      <td style=\"text-align: center;\">\n",
       "                        \n",
       "                      </td>\n",
       "                    </tr>\n",
       "                \n",
       "                    </tbody>\n",
       "                  </table>\n",
       "                </div>\n",
       "              </div>\n",
       "            </div>\n",
       "            "
      ],
      "text/plain": [
       "<tskit.trees.TreeSequence at 0x7f9ed92083d0>"
      ]
     },
     "execution_count": 19,
     "metadata": {},
     "output_type": "execute_result"
    }
   ],
   "source": [
    "ts"
   ]
  },
  {
   "cell_type": "code",
   "execution_count": 18,
   "id": "e580f793",
   "metadata": {},
   "outputs": [
    {
     "name": "stdout",
     "output_type": "stream",
     "text": [
      "ancestral\tderived\tcount\n",
      "A\tA\t0\n",
      "A\tC\t603\n",
      "A\tG\t632\n",
      "A\tT\t587\n",
      "C\tA\t638\n",
      "C\tC\t0\n",
      "C\tG\t653\n",
      "C\tT\t623\n",
      "G\tA\t621\n",
      "G\tC\t631\n",
      "G\tG\t0\n",
      "G\tT\t662\n",
      "T\tA\t635\n",
      "T\tC\t656\n",
      "T\tG\t635\n",
      "T\tT\t0\n"
     ]
    }
   ],
   "source": [
    "import tskit, pyslim \n",
    "import numpy as np \n",
    "ts = tskit.load(\"recipe_nucleotides.trees\") \n",
    "M = [[0 for _ in pyslim.NUCLEOTIDES] for _ in pyslim.NUCLEOTIDES] \n",
    "for mut in ts.mutations(): \n",
    "    mut_list = mut.metadata[\"mutation_list\"] \n",
    "    k = np.argmax([u[\"slim_time\"] for u in mut_list]) \n",
    "    derived_nuc = mut_list[k][\"nucleotide\"] \n",
    "    if mut.parent == -1: \n",
    "        acgt = ts.reference_sequence.data[int(ts.site(mut.site).position)]          \n",
    "        parent_nuc = pyslim.NUCLEOTIDES.index(acgt) \n",
    "    else: \n",
    "        parent_mut = ts.mutation(mut.parent) \n",
    "        assert(parent_mut.site == mut.site) \n",
    "        parent_nuc = parent_mut.metadata[\"mutation_list\"][0][\"nucleotide\"]      \n",
    "    M[parent_nuc][derived_nuc] += 1\n",
    "print(\"{}\\t{}\\t{}\".format('ancestral', 'derived', 'count')) \n",
    "for j, a in enumerate(pyslim.NUCLEOTIDES): \n",
    "    for k, b in enumerate(pyslim.NUCLEOTIDES): \n",
    "        print(\"{}\\t{}\\t{}\".format(a, b, M[j][k]))"
   ]
  },
  {
   "cell_type": "code",
   "execution_count": 4,
   "id": "f270f585",
   "metadata": {},
   "outputs": [
    {
     "ename": "AttributeError",
     "evalue": "module 'fwdpy11' has no attribute 'VariantFile'",
     "output_type": "error",
     "traceback": [
      "\u001b[0;31m---------------------------------------------------------------------------\u001b[0m",
      "\u001b[0;31mAttributeError\u001b[0m                            Traceback (most recent call last)",
      "Cell \u001b[0;32mIn[4], line 11\u001b[0m\n\u001b[1;32m      8\u001b[0m vcf_file \u001b[38;5;241m=\u001b[39m \u001b[38;5;124m\"\u001b[39m\u001b[38;5;124mcol0.vcf\u001b[39m\u001b[38;5;124m\"\u001b[39m\n\u001b[1;32m     10\u001b[0m \u001b[38;5;66;03m# Load the variants from the VCF file\u001b[39;00m\n\u001b[0;32m---> 11\u001b[0m \u001b[38;5;28;01mwith\u001b[39;00m \u001b[43mfp\u001b[49m\u001b[38;5;241;43m.\u001b[39;49m\u001b[43mVariantFile\u001b[49m(vcf_file) \u001b[38;5;28;01mas\u001b[39;00m f:\n\u001b[1;32m     12\u001b[0m     \u001b[38;5;28;01mfor\u001b[39;00m variant \u001b[38;5;129;01min\u001b[39;00m f:\n\u001b[1;32m     13\u001b[0m         \u001b[38;5;28mprint\u001b[39m(variant\u001b[38;5;241m.\u001b[39mposition)\n",
      "\u001b[0;31mAttributeError\u001b[0m: module 'fwdpy11' has no attribute 'VariantFile'"
     ]
    }
   ],
   "source": [
    "# Define the mutation rates, effective population size, and length of the genome\n",
    "mu = 1.2e-8\n",
    "theta = 4*mu*1e4\n",
    "Ne = 1e4\n",
    "L = 10000\n",
    "\n",
    "# Set the file path\n",
    "vcf_file = \"col0.vcf\"\n",
    "\n",
    "# Load the variants from the VCF file\n",
    "with fp.VariantFile(vcf_file) as f:\n",
    "    for variant in f:\n",
    "        print(variant.position)\n"
   ]
  },
  {
   "cell_type": "code",
   "execution_count": 5,
   "id": "d87c73b4",
   "metadata": {},
   "outputs": [
    {
     "ename": "ImportError",
     "evalue": "cannot import name 'vcfio' from 'fwdpy11' (/Users/tbellagio/opt/anaconda3/envs/simulations/lib/python3.10/site-packages/fwdpy11/__init__.py)",
     "output_type": "error",
     "traceback": [
      "\u001b[0;31m---------------------------------------------------------------------------\u001b[0m",
      "\u001b[0;31mImportError\u001b[0m                               Traceback (most recent call last)",
      "Cell \u001b[0;32mIn[5], line 2\u001b[0m\n\u001b[1;32m      1\u001b[0m \u001b[38;5;28;01mimport\u001b[39;00m \u001b[38;5;21;01mfwdpy11\u001b[39;00m \u001b[38;5;28;01mas\u001b[39;00m \u001b[38;5;21;01mfp\u001b[39;00m\n\u001b[0;32m----> 2\u001b[0m \u001b[38;5;28;01mfrom\u001b[39;00m \u001b[38;5;21;01mfwdpy11\u001b[39;00m \u001b[38;5;28;01mimport\u001b[39;00m vcfio\n\u001b[1;32m      4\u001b[0m \u001b[38;5;66;03m# Set simulation parameters\u001b[39;00m\n\u001b[1;32m      5\u001b[0m N \u001b[38;5;241m=\u001b[39m \u001b[38;5;241m10000\u001b[39m\n",
      "\u001b[0;31mImportError\u001b[0m: cannot import name 'vcfio' from 'fwdpy11' (/Users/tbellagio/opt/anaconda3/envs/simulations/lib/python3.10/site-packages/fwdpy11/__init__.py)"
     ]
    }
   ],
   "source": [
    "import fwdpy11 as fp\n",
    "from fwdpy11 import vcfio\n",
    "\n",
    "# Set simulation parameters\n",
    "N = 10000\n",
    "L = 10000\n",
    "\n",
    "# Load the variants from the VCF file\n",
    "vcf_file = vcfio.VariantFile(\"col0.vcf\")\n",
    "variants = list(vcf_file)"
   ]
  },
  {
   "cell_type": "code",
   "execution_count": null,
   "id": "bbb2c78a",
   "metadata": {},
   "outputs": [],
   "source": [
    "\n",
    "# Define the mutation model using the variants\n",
    "mutation_model = fp.ExpS(1.0/L, 1.0/L, 0.0)\n",
    "\n",
    "# Define the population size\n",
    "pop = fp.SlocusPop(Ne, mutation_model, 2*L)\n",
    "\n",
    "# Initialize the population with variants from the VCF file\n",
    "fp.initialize_from_vcf(pop, variants, L)\n",
    "\n",
    "# Define the simulation parameters\n",
    "rng = fp.GSLrng(101)\n",
    "Ngen = 100\n",
    "s = 0.1\n",
    "replicate = 1\n",
    "\n",
    "# Run the simulation\n",
    "for gen in range(Ngen):\n",
    "    pop.evolve(rng, Ne, s)\n",
    "    if gen % 10 == 0:\n",
    "        print(\"Generation\", gen)\n",
    "\n",
    "# Print some statistics\n",
    "print(\"Final number of variants:\", pop.generation_stats[\"n\"])\n",
    "print(\"Final mean heterozygosity:\", pop.generation_stats[\"h\"])\n"
   ]
  },
  {
   "cell_type": "code",
   "execution_count": 2,
   "id": "9428a8ec",
   "metadata": {},
   "outputs": [],
   "source": [
    "## testing the api from 1001 genome project\n",
    "import requests\n",
    "url = 'https://tools.1001genomes.org/api/v1/vcfsubset/strains/9998,9999/gids/AT1G01070.1,AT1G01070.2/type/fullgenome/format/vcf'\n"
   ]
  },
  {
   "cell_type": "code",
   "execution_count": 3,
   "id": "52854cc7",
   "metadata": {},
   "outputs": [],
   "source": [
    "req = requests.get(url)"
   ]
  },
  {
   "cell_type": "code",
   "execution_count": 4,
   "id": "d9aa0492",
   "metadata": {},
   "outputs": [
    {
     "data": {
      "text/plain": [
       "<Response [200]>"
      ]
     },
     "execution_count": 4,
     "metadata": {},
     "output_type": "execute_result"
    }
   ],
   "source": [
    "req"
   ]
  },
  {
   "cell_type": "code",
   "execution_count": 6,
   "id": "563b8b87",
   "metadata": {},
   "outputs": [
    {
     "data": {
      "text/plain": [
       "{'Date': 'Wed, 08 Mar 2023 18:00:36 GMT', 'Server': 'Apache/2.4.29 (Ubuntu)', 'Access-Control-Allow-Origin': '*', 'Content-Disposition': 'attachment; filename=\"9998,9999_1:38752-40944,1:38752-40927_fullgenome.vcf\"', 'Strict-Transport-Security': 'max-age=15552000; includeSubdomains;', 'Vary': 'User-Agent', 'Keep-Alive': 'timeout=5, max=100', 'Connection': 'Keep-Alive', 'Transfer-Encoding': 'chunked', 'Content-Type': 'text/x-vcard; charset=utf-8'}"
      ]
     },
     "execution_count": 6,
     "metadata": {},
     "output_type": "execute_result"
    }
   ],
   "source": [
    "req.headers"
   ]
  },
  {
   "cell_type": "code",
   "execution_count": 7,
   "id": "4a4434eb",
   "metadata": {},
   "outputs": [
    {
     "data": {
      "text/plain": [
       "278139"
      ]
     },
     "execution_count": 7,
     "metadata": {},
     "output_type": "execute_result"
    }
   ],
   "source": [
    "open('test.txt', 'wb').write(req.content)"
   ]
  },
  {
   "cell_type": "code",
   "execution_count": 106,
   "id": "75acd4f9",
   "metadata": {},
   "outputs": [],
   "source": [
    "ecotypes_grenenet = pd.read_csv('/Users/tbellagio/safedata/ath_evo/grenephase1/data/ecotypes_data.csv')"
   ]
  },
  {
   "cell_type": "code",
   "execution_count": 107,
   "id": "6659f168",
   "metadata": {},
   "outputs": [],
   "source": [
    "ecotypes_grenenet = ecotypes_grenenet[ecotypes_grenenet['source'] == '1001G']"
   ]
  },
  {
   "cell_type": "code",
   "execution_count": 73,
   "id": "e3d6ec12",
   "metadata": {},
   "outputs": [],
   "source": [
    "##find the ecotypes used in grenenet \n",
    "ecotypes_grenenet = pd.read_csv('/Users/tbellagio/safedata/ath_evo/grenephase1/data/ecotypes_data.csv') #['ecotypeid']\n",
    "ecotypes_grenenet = ecotypes_grenenet[ecotypes_grenenet['source'] == '1001G']['ecotypeid']\n",
    "#/Users/tbellagio/safedata/ath_evo/grenephase1/data"
   ]
  },
  {
   "cell_type": "code",
   "execution_count": 109,
   "id": "0e5bdb2c",
   "metadata": {},
   "outputs": [
    {
     "data": {
      "text/html": [
       "<div>\n",
       "<style scoped>\n",
       "    .dataframe tbody tr th:only-of-type {\n",
       "        vertical-align: middle;\n",
       "    }\n",
       "\n",
       "    .dataframe tbody tr th {\n",
       "        vertical-align: top;\n",
       "    }\n",
       "\n",
       "    .dataframe thead th {\n",
       "        text-align: right;\n",
       "    }\n",
       "</style>\n",
       "<table border=\"1\" class=\"dataframe\">\n",
       "  <thead>\n",
       "    <tr style=\"text-align: right;\">\n",
       "      <th></th>\n",
       "      <th>ecotypeid</th>\n",
       "      <th>source</th>\n",
       "      <th>longitude</th>\n",
       "      <th>latitude</th>\n",
       "      <th>csnumber</th>\n",
       "      <th>name</th>\n",
       "      <th>country</th>\n",
       "      <th>weightmasterseed</th>\n",
       "      <th>estimatedseednumber</th>\n",
       "      <th>seedsperplot</th>\n",
       "    </tr>\n",
       "  </thead>\n",
       "  <tbody>\n",
       "    <tr>\n",
       "      <th>0</th>\n",
       "      <td>159</td>\n",
       "      <td>1001G</td>\n",
       "      <td>3.93333</td>\n",
       "      <td>47.3500</td>\n",
       "      <td>CS77070</td>\n",
       "      <td>MAR2-3</td>\n",
       "      <td>France</td>\n",
       "      <td>0.3004</td>\n",
       "      <td>16638</td>\n",
       "      <td>17.331250</td>\n",
       "    </tr>\n",
       "    <tr>\n",
       "      <th>1</th>\n",
       "      <td>265</td>\n",
       "      <td>1001G</td>\n",
       "      <td>-1.16667</td>\n",
       "      <td>44.6500</td>\n",
       "      <td>CS77198</td>\n",
       "      <td>PYL-6</td>\n",
       "      <td>France</td>\n",
       "      <td>0.3250</td>\n",
       "      <td>18000</td>\n",
       "      <td>18.750000</td>\n",
       "    </tr>\n",
       "    <tr>\n",
       "      <th>2</th>\n",
       "      <td>763</td>\n",
       "      <td>1001G</td>\n",
       "      <td>74.36670</td>\n",
       "      <td>42.3000</td>\n",
       "      <td>CS76522</td>\n",
       "      <td>Kar-1</td>\n",
       "      <td>Kyrgyzstan</td>\n",
       "      <td>0.1827</td>\n",
       "      <td>10119</td>\n",
       "      <td>10.540625</td>\n",
       "    </tr>\n",
       "    <tr>\n",
       "      <th>3</th>\n",
       "      <td>765</td>\n",
       "      <td>1001G</td>\n",
       "      <td>73.40000</td>\n",
       "      <td>42.1833</td>\n",
       "      <td>CS76607</td>\n",
       "      <td>Sus-1</td>\n",
       "      <td>Kyrgyzstan</td>\n",
       "      <td>0.2994</td>\n",
       "      <td>16582</td>\n",
       "      <td>17.272917</td>\n",
       "    </tr>\n",
       "    <tr>\n",
       "      <th>4</th>\n",
       "      <td>766</td>\n",
       "      <td>1001G</td>\n",
       "      <td>73.63330</td>\n",
       "      <td>42.5833</td>\n",
       "      <td>CS76473</td>\n",
       "      <td>Dja-1</td>\n",
       "      <td>Kyrgyzstan</td>\n",
       "      <td>0.3004</td>\n",
       "      <td>16638</td>\n",
       "      <td>17.331250</td>\n",
       "    </tr>\n",
       "    <tr>\n",
       "      <th>...</th>\n",
       "      <td>...</td>\n",
       "      <td>...</td>\n",
       "      <td>...</td>\n",
       "      <td>...</td>\n",
       "      <td>...</td>\n",
       "      <td>...</td>\n",
       "      <td>...</td>\n",
       "      <td>...</td>\n",
       "      <td>...</td>\n",
       "      <td>...</td>\n",
       "    </tr>\n",
       "    <tr>\n",
       "      <th>224</th>\n",
       "      <td>10002</td>\n",
       "      <td>1001G</td>\n",
       "      <td>9.04000</td>\n",
       "      <td>48.5300</td>\n",
       "      <td>CS76405</td>\n",
       "      <td>TueWa1-2</td>\n",
       "      <td>Germany</td>\n",
       "      <td>0.2338</td>\n",
       "      <td>12949</td>\n",
       "      <td>13.488542</td>\n",
       "    </tr>\n",
       "    <tr>\n",
       "      <th>225</th>\n",
       "      <td>10006</td>\n",
       "      <td>1001G</td>\n",
       "      <td>34.38140</td>\n",
       "      <td>44.6419</td>\n",
       "      <td>CS76395</td>\n",
       "      <td>Kastel-1</td>\n",
       "      <td>Ukraine</td>\n",
       "      <td>0.3075</td>\n",
       "      <td>17031</td>\n",
       "      <td>17.740625</td>\n",
       "    </tr>\n",
       "    <tr>\n",
       "      <th>226</th>\n",
       "      <td>10011</td>\n",
       "      <td>1001G</td>\n",
       "      <td>45.36220</td>\n",
       "      <td>39.8692</td>\n",
       "      <td>CS76394</td>\n",
       "      <td>Yeg-1</td>\n",
       "      <td>Armenia</td>\n",
       "      <td>0.0489</td>\n",
       "      <td>2708</td>\n",
       "      <td>2.820833</td>\n",
       "    </tr>\n",
       "    <tr>\n",
       "      <th>227</th>\n",
       "      <td>10013</td>\n",
       "      <td>1001G</td>\n",
       "      <td>48.61310</td>\n",
       "      <td>38.7406</td>\n",
       "      <td>CS76388</td>\n",
       "      <td>Lerik1-3</td>\n",
       "      <td>Azerbaijan</td>\n",
       "      <td>0.1704</td>\n",
       "      <td>9438</td>\n",
       "      <td>9.831250</td>\n",
       "    </tr>\n",
       "    <tr>\n",
       "      <th>228</th>\n",
       "      <td>10014</td>\n",
       "      <td>1001G</td>\n",
       "      <td>48.79920</td>\n",
       "      <td>38.6536</td>\n",
       "      <td>CS76387</td>\n",
       "      <td>Xan-1</td>\n",
       "      <td>Azerbaijan</td>\n",
       "      <td>0.3026</td>\n",
       "      <td>16760</td>\n",
       "      <td>17.458333</td>\n",
       "    </tr>\n",
       "  </tbody>\n",
       "</table>\n",
       "<p>225 rows × 10 columns</p>\n",
       "</div>"
      ],
      "text/plain": [
       "     ecotypeid source  longitude  latitude csnumber      name     country  \\\n",
       "0          159  1001G    3.93333   47.3500  CS77070    MAR2-3      France   \n",
       "1          265  1001G   -1.16667   44.6500  CS77198     PYL-6      France   \n",
       "2          763  1001G   74.36670   42.3000  CS76522     Kar-1  Kyrgyzstan   \n",
       "3          765  1001G   73.40000   42.1833  CS76607     Sus-1  Kyrgyzstan   \n",
       "4          766  1001G   73.63330   42.5833  CS76473     Dja-1  Kyrgyzstan   \n",
       "..         ...    ...        ...       ...      ...       ...         ...   \n",
       "224      10002  1001G    9.04000   48.5300  CS76405  TueWa1-2     Germany   \n",
       "225      10006  1001G   34.38140   44.6419  CS76395  Kastel-1     Ukraine   \n",
       "226      10011  1001G   45.36220   39.8692  CS76394     Yeg-1     Armenia   \n",
       "227      10013  1001G   48.61310   38.7406  CS76388  Lerik1-3  Azerbaijan   \n",
       "228      10014  1001G   48.79920   38.6536  CS76387     Xan-1  Azerbaijan   \n",
       "\n",
       "     weightmasterseed  estimatedseednumber  seedsperplot  \n",
       "0              0.3004                16638     17.331250  \n",
       "1              0.3250                18000     18.750000  \n",
       "2              0.1827                10119     10.540625  \n",
       "3              0.2994                16582     17.272917  \n",
       "4              0.3004                16638     17.331250  \n",
       "..                ...                  ...           ...  \n",
       "224            0.2338                12949     13.488542  \n",
       "225            0.3075                17031     17.740625  \n",
       "226            0.0489                 2708      2.820833  \n",
       "227            0.1704                 9438      9.831250  \n",
       "228            0.3026                16760     17.458333  \n",
       "\n",
       "[225 rows x 10 columns]"
      ]
     },
     "execution_count": 109,
     "metadata": {},
     "output_type": "execute_result"
    }
   ],
   "source": [
    "ecotypes_grenenet"
   ]
  },
  {
   "cell_type": "code",
   "execution_count": 110,
   "id": "d00e3655",
   "metadata": {},
   "outputs": [],
   "source": [
    "ecotypes_grenenet = ecotypes_grenenet['ecotypeid'].tolist()"
   ]
  },
  {
   "cell_type": "code",
   "execution_count": 113,
   "id": "db8d2d03",
   "metadata": {},
   "outputs": [],
   "source": [
    "with open('ecotypes_grenenet.txt', 'w') as file:\n",
    "    file.write('\\n'.join(str(ecotypes) for ecotypes in ecotypes_grenenet))\n",
    "    "
   ]
  },
  {
   "cell_type": "code",
   "execution_count": null,
   "id": "d59649b2",
   "metadata": {},
   "outputs": [],
   "source": []
  },
  {
   "cell_type": "code",
   "execution_count": 50,
   "id": "17aa82b8",
   "metadata": {},
   "outputs": [],
   "source": [
    "ecotypes = str(lines).replace('[\\'', '').replace('\\']', '').replace(' ', '')\n"
   ]
  },
  {
   "cell_type": "code",
   "execution_count": 55,
   "id": "1ea6882d",
   "metadata": {},
   "outputs": [
    {
     "data": {
      "text/plain": [
       "str"
      ]
     },
     "execution_count": 55,
     "metadata": {},
     "output_type": "execute_result"
    }
   ],
   "source": [
    "type(ecotypes)"
   ]
  },
  {
   "cell_type": "code",
   "execution_count": 57,
   "id": "ab99edbc",
   "metadata": {},
   "outputs": [
    {
     "data": {
      "text/plain": [
       "'159,265,763,765,766,768,772,5151,5165,5768,5772,5784,5811,6013,6025,6040,6073,6074,6108,6150,6177,6180,6184,6188,6195,6209,6216,6243,6244,6898,6911,6915,6929,6932,6938,6939,6940,6945,6958,6961,6963,6979,6987,7000,7002,7003,7008,7013,7025,7028,7031,7036,7062,7063,7067,7071,7077,7092,7103,7106,7125,7126,7127,7143,7164,7165,7186,7203,7209,7217,7218,7244,7255,7268,7273,7276,7282,7287,7288,7296,7298,7316,7323,7333,7346,7347,7353,7372,7378,7384,7394,7404,7411,7521,8214,8230,8231,8240,8247,8249,8311,8312,8351,8354,8357,8376,8387,9057,9058,9323,9371,9394,9416,9427,9470,9481,9506,9507,9510,9512,9517,9518,9521,9522,9523,9524,9526,9527,9528,9529,9534,9535,9537,9539,9542,9544,9547,9548,9549,9555,9557,9559,9560,9562,9564,9565,9574,9577,9579,9584,9586,9587,9591,9594,9595,9596,9597,9598,9600,9602,9606,9612,9619,9625,9629,9632,9634,9637,9640,9643,9649,9653,9657,9659,9697,9698,9699,9713,9716,9719,9723,9726,9736,9737,9739,9741,9743,9748,9749,9758,9759,9761,9764,9766,9769,9774,9775,9779,9781,9782,9784,9803,9804,9813,9814,9820,9837,9857,9879,9910,9920,9921,9925,9933,9940,9941,9944,9947,9965,9966,9977,9978,9985,9992,10002,10006,10011,10013,10014,100001,100002'"
      ]
     },
     "execution_count": 57,
     "metadata": {},
     "output_type": "execute_result"
    }
   ],
   "source": [
    "ecotypes.replace(' ', '')"
   ]
  },
  {
   "cell_type": "code",
   "execution_count": null,
   "id": "08b2e28e",
   "metadata": {},
   "outputs": [],
   "source": []
  },
  {
   "cell_type": "code",
   "execution_count": 90,
   "id": "002a43e4",
   "metadata": {},
   "outputs": [
    {
     "name": "stderr",
     "output_type": "stream",
     "text": [
      "/var/folders/c7/0sb823gx22x79fkn0_lcmmqw0000gn/T/ipykernel_97014/1215055019.py:1: ParserWarning: Falling back to the 'python' engine because the 'c' engine does not support regex separators (separators > 1 char and different from '\\s+' are interpreted as regex); you can avoid this warning by specifying engine='python'.\n",
      "  len(pd.read_csv('ecotpyes_cluster_vcf.txt', sep= '/n'))\n"
     ]
    },
    {
     "data": {
      "text/plain": [
       "1134"
      ]
     },
     "execution_count": 90,
     "metadata": {},
     "output_type": "execute_result"
    }
   ],
   "source": [
    "len(pd.read_csv('ecotpyes_cluster_vcf.txt', sep= '/n'))"
   ]
  },
  {
   "cell_type": "code",
   "execution_count": 3,
   "id": "663e7b5f",
   "metadata": {},
   "outputs": [],
   "source": [
    "import pandas as pd"
   ]
  },
  {
   "cell_type": "code",
   "execution_count": 5,
   "id": "a38cdfde",
   "metadata": {},
   "outputs": [
    {
     "data": {
      "text/html": [
       "<div>\n",
       "<style scoped>\n",
       "    .dataframe tbody tr th:only-of-type {\n",
       "        vertical-align: middle;\n",
       "    }\n",
       "\n",
       "    .dataframe tbody tr th {\n",
       "        vertical-align: top;\n",
       "    }\n",
       "\n",
       "    .dataframe thead th {\n",
       "        text-align: right;\n",
       "    }\n",
       "</style>\n",
       "<table border=\"1\" class=\"dataframe\">\n",
       "  <thead>\n",
       "    <tr style=\"text-align: right;\">\n",
       "      <th></th>\n",
       "      <th>0</th>\n",
       "    </tr>\n",
       "  </thead>\n",
       "  <tbody>\n",
       "    <tr>\n",
       "      <th>0</th>\n",
       "      <td>-7</td>\n",
       "    </tr>\n",
       "    <tr>\n",
       "      <th>1</th>\n",
       "      <td>-4</td>\n",
       "    </tr>\n",
       "    <tr>\n",
       "      <th>2</th>\n",
       "      <td>1</td>\n",
       "    </tr>\n",
       "    <tr>\n",
       "      <th>3</th>\n",
       "      <td>-2</td>\n",
       "    </tr>\n",
       "    <tr>\n",
       "      <th>4</th>\n",
       "      <td>1</td>\n",
       "    </tr>\n",
       "    <tr>\n",
       "      <th>...</th>\n",
       "      <td>...</td>\n",
       "    </tr>\n",
       "    <tr>\n",
       "      <th>191</th>\n",
       "      <td>2</td>\n",
       "    </tr>\n",
       "    <tr>\n",
       "      <th>192</th>\n",
       "      <td>4</td>\n",
       "    </tr>\n",
       "    <tr>\n",
       "      <th>193</th>\n",
       "      <td>7</td>\n",
       "    </tr>\n",
       "    <tr>\n",
       "      <th>194</th>\n",
       "      <td>7</td>\n",
       "    </tr>\n",
       "    <tr>\n",
       "      <th>195</th>\n",
       "      <td>7</td>\n",
       "    </tr>\n",
       "  </tbody>\n",
       "</table>\n",
       "<p>196 rows × 1 columns</p>\n",
       "</div>"
      ],
      "text/plain": [
       "     0\n",
       "0   -7\n",
       "1   -4\n",
       "2    1\n",
       "3   -2\n",
       "4    1\n",
       "..  ..\n",
       "191  2\n",
       "192  4\n",
       "193  7\n",
       "194  7\n",
       "195  7\n",
       "\n",
       "[196 rows x 1 columns]"
      ]
     },
     "execution_count": 5,
     "metadata": {},
     "output_type": "execute_result"
    }
   ],
   "source": [
    "pd.read_csv('/Users/tbellagio/Documents/grenephase1/scratch_tati/simulations/moi_slim/BC_Map_environments.14x14.txt', header=None)"
   ]
  },
  {
   "cell_type": "code",
   "execution_count": 1,
   "id": "48d39a6f",
   "metadata": {},
   "outputs": [
    {
     "name": "stdout",
     "output_type": "stream",
     "text": [
      "/Users/tbellagio/Documents/grenephase1/scratch_tati/simulations\n"
     ]
    }
   ],
   "source": [
    "!pwd"
   ]
  },
  {
   "cell_type": "code",
   "execution_count": 6,
   "id": "1095ab81",
   "metadata": {},
   "outputs": [
    {
     "data": {
      "text/plain": [
       "196"
      ]
     },
     "execution_count": 6,
     "metadata": {},
     "output_type": "execute_result"
    }
   ],
   "source": [
    "14 * 14"
   ]
  },
  {
   "cell_type": "code",
   "execution_count": null,
   "id": "643b45bd",
   "metadata": {},
   "outputs": [],
   "source": []
  },
  {
   "cell_type": "code",
   "execution_count": null,
   "id": "a3edc528",
   "metadata": {},
   "outputs": [],
   "source": [
    "fitnessScaling = 1.5 - (phenotypes - 10.0)^2 * 0.005; "
   ]
  },
  {
   "cell_type": "code",
   "execution_count": null,
   "id": "aa720cda",
   "metadata": {},
   "outputs": [],
   "source": [
    "fitnessScaling = 1.5 - (phenotypes - 10.0)^2 * 0.005; "
   ]
  },
  {
   "cell_type": "code",
   "execution_count": null,
   "id": "8a7800c6",
   "metadata": {},
   "outputs": [],
   "source": [
    "fitnessEffect() { \n",
    " phenotype = sum(individual.genomes.countOfMutationsOfType(m2)); \n",
    " //print(individual.genomes.countOfMutationsOfType(m2));\n",
    " //print('hola');\n",
    " //print(phenotype);\n",
    " //print(1.5 - (phenotype - 10.0)^2 * 0.005);\n",
    " return 1.5 - (phenotype - 10.0)^2 * 0.005; b"
   ]
  },
  {
   "cell_type": "code",
   "execution_count": 7,
   "id": "2f890063",
   "metadata": {},
   "outputs": [
    {
     "ename": "NameError",
     "evalue": "name 'sqrt' is not defined",
     "output_type": "error",
     "traceback": [
      "\u001b[0;31m---------------------------------------------------------------------------\u001b[0m",
      "\u001b[0;31mNameError\u001b[0m                                 Traceback (most recent call last)",
      "Cell \u001b[0;32mIn[7], line 1\u001b[0m\n\u001b[0;32m----> 1\u001b[0m sqrt(\u001b[39m196\u001b[39m)\n",
      "\u001b[0;31mNameError\u001b[0m: name 'sqrt' is not defined"
     ]
    }
   ],
   "source": [
    "sqrt(196)"
   ]
  },
  {
   "cell_type": "code",
   "execution_count": 9,
   "id": "c848b89d",
   "metadata": {},
   "outputs": [
    {
     "data": {
      "text/plain": [
       "196"
      ]
     },
     "execution_count": 9,
     "metadata": {},
     "output_type": "execute_result"
    }
   ],
   "source": [
    "14 * 14\n"
   ]
  },
  {
   "cell_type": "code",
   "execution_count": 10,
   "id": "f2cdd8cf",
   "metadata": {},
   "outputs": [
    {
     "data": {
      "text/plain": [
       "16"
      ]
     },
     "execution_count": 10,
     "metadata": {},
     "output_type": "execute_result"
    }
   ],
   "source": [
    "4 * 4\n"
   ]
  },
  {
   "cell_type": "code",
   "execution_count": null,
   "id": "6ee3c818",
   "metadata": {},
   "outputs": [],
   "source": [
    "1.5 - (phenotypes - inds.subpopulation.tag)^2 * 0.005; "
   ]
  },
  {
   "cell_type": "code",
   "execution_count": 12,
   "id": "0ba992df",
   "metadata": {},
   "outputs": [
    {
     "data": {
      "text/plain": [
       "1.48"
      ]
     },
     "execution_count": 12,
     "metadata": {},
     "output_type": "execute_result"
    }
   ],
   "source": [
    "1.5 - ((0 - 2)**2) * 0.005"
   ]
  },
  {
   "cell_type": "code",
   "execution_count": 14,
   "id": "8c0f99c8",
   "metadata": {},
   "outputs": [],
   "source": [
    "phenotypes = 0\n",
    "indssubpopulationtag = -7"
   ]
  },
  {
   "cell_type": "code",
   "execution_count": 17,
   "id": "0485866c",
   "metadata": {},
   "outputs": [
    {
     "data": {
      "text/plain": [
       "1.255"
      ]
     },
     "execution_count": 17,
     "metadata": {},
     "output_type": "execute_result"
    }
   ],
   "source": [
    "1.5 - (phenotypes - indssubpopulationtag)**2 * 0.005"
   ]
  },
  {
   "cell_type": "code",
   "execution_count": 105,
   "id": "ca82bd00",
   "metadata": {},
   "outputs": [],
   "source": [
    "mu, sigma = 0.1, 2 # mean and standard deviation\n",
    "s = np.random.normal(mu, sigma, 100)"
   ]
  },
  {
   "cell_type": "code",
   "execution_count": 106,
   "id": "3dd879a3",
   "metadata": {},
   "outputs": [],
   "source": [
    "phenotype = sum(s)"
   ]
  },
  {
   "cell_type": "code",
   "execution_count": 107,
   "id": "3c5d201f",
   "metadata": {},
   "outputs": [
    {
     "data": {
      "text/plain": [
       "6.2749877549440045"
      ]
     },
     "execution_count": 107,
     "metadata": {},
     "output_type": "execute_result"
    }
   ],
   "source": [
    "phenotype"
   ]
  },
  {
   "cell_type": "code",
   "execution_count": 108,
   "id": "946dad2f",
   "metadata": {},
   "outputs": [
    {
     "data": {
      "text/plain": [
       "0.0046878913765051105"
      ]
     },
     "execution_count": 108,
     "metadata": {},
     "output_type": "execute_result"
    }
   ],
   "source": [
    "np.exp(-0.5 * (phenotype - 3)**2)"
   ]
  },
  {
   "cell_type": "code",
   "execution_count": 88,
   "id": "6e345b52",
   "metadata": {},
   "outputs": [
    {
     "data": {
      "text/plain": [
       "21.264550984034315"
      ]
     },
     "execution_count": 88,
     "metadata": {},
     "output_type": "execute_result"
    }
   ],
   "source": []
  },
  {
   "cell_type": "code",
   "execution_count": 84,
   "id": "7b8990c8",
   "metadata": {},
   "outputs": [
    {
     "data": {
      "text/plain": [
       "<AxesSubplot:ylabel='Count'>"
      ]
     },
     "execution_count": 84,
     "metadata": {},
     "output_type": "execute_result"
    },
    {
     "data": {
      "image/png": "[encoded data removed]",
      "text/plain": [
       "<Figure size 640x480 with 1 Axes>"
      ]
     },
     "metadata": {},
     "output_type": "display_data"
    }
   ],
   "source": [
    "sns.histplot(s)"
   ]
  },
  {
   "cell_type": "code",
   "execution_count": 38,
   "id": "b6264878",
   "metadata": {},
   "outputs": [],
   "source": [
    "mu, sigma = 1, 3 # mean and standard deviation\n",
    "s = np.random.normal(mu, sigma, 16)"
   ]
  },
  {
   "cell_type": "code",
   "execution_count": 39,
   "id": "d5ab7a02",
   "metadata": {},
   "outputs": [
    {
     "data": {
      "text/plain": [
       "<AxesSubplot:ylabel='Count'>"
      ]
     },
     "execution_count": 39,
     "metadata": {},
     "output_type": "execute_result"
    },
    {
     "data": {
      "image/png": "[encoded data removed]",
      "text/plain": [
       "<Figure size 640x480 with 1 Axes>"
      ]
     },
     "metadata": {},
     "output_type": "display_data"
    }
   ],
   "source": [
    "sns.histplot(s)"
   ]
  },
  {
   "cell_type": "code",
   "execution_count": null,
   "id": "99b75814",
   "metadata": {},
   "outputs": [],
   "source": [
    "## phenotypes will be the sum of random mutations taken from a normal with mu, sigma = 0.1, 0.01\n",
    "mu, sigma = 0.1, 0.01 # mean and standard deviation\n",
    "s = np.random.normal(mu, sigma, )"
   ]
  },
  {
   "cell_type": "code",
   "execution_count": 45,
   "id": "c350662a",
   "metadata": {},
   "outputs": [
    {
     "data": {
      "text/plain": [
       "0.23"
      ]
     },
     "execution_count": 45,
     "metadata": {},
     "output_type": "execute_result"
    }
   ],
   "source": [
    "# uniform mutation rate of  1e-7 (per base position per gamete) across the whole chromosome.\n",
    "#initializeMutationRate(1e-8) probabilidad de mutation de una base por gameta por cromosoma\n",
    "\n",
    "#Number of mutations = Mutation rate × Length of DNA sequence × Time period\n",
    "\n",
    "1e-8 * 1000000 * 23\n",
    "\n"
   ]
  },
  {
   "cell_type": "code",
   "execution_count": 46,
   "id": "dfff2b5f",
   "metadata": {},
   "outputs": [],
   "source": [
    "qtls = '0.0 0.0 0.0 0.0 0.00179957 0.0 0.0 0.0 0.0 0.0 0.0 3.35447e-26 0.0 0.0 0.0 0.0 0.0 0.0 0.0 0.0 2.14615e-13 0.0 1.4013e-45 0.0 0.0 3.35447e-26 0.0 0.0 0.0 0.00179957 4.38608e-30 0.0 0.00179957 0.00179957 0.0 0.0 0.0 0.0 0.0 0.0 2.14615e-13 0.0 0.0 0.0 0.0 0.0 0.0 0.0 0.0 0.0 0.0 0.0 0.0 6.65165e-09 1.4013e-45 3.35447e-26 0.00179957 0.0 0.0 0.0 0.0 0.0 0.0 0.0 0.0 0.0 0.0 0.0 0.0 0.0 0.0 0.0 0.0 0.0 0.0 0.0 0.0 0.00179957 0.0 0.0 0.0 0.0 0.0 0.0 0.0 0.00179957 0.0 0.0 0.0 0.0 1.4013e-45 0.00179957 0.0 0.0 0.0 0.0 4.38608e-30 0.0 0.0 0.0'"
   ]
  },
  {
   "cell_type": "code",
   "execution_count": 47,
   "id": "4b4e6bad",
   "metadata": {},
   "outputs": [
    {
     "data": {
      "text/plain": [
       "'0.0,0.0,0.0,0.0,0.00179957,0.0,0.0,0.0,0.0,0.0,0.0,3.35447e-26,0.0,0.0,0.0,0.0,0.0,0.0,0.0,0.0,2.14615e-13,0.0,1.4013e-45,0.0,0.0,3.35447e-26,0.0,0.0,0.0,0.00179957,4.38608e-30,0.0,0.00179957,0.00179957,0.0,0.0,0.0,0.0,0.0,0.0,2.14615e-13,0.0,0.0,0.0,0.0,0.0,0.0,0.0,0.0,0.0,0.0,0.0,0.0,6.65165e-09,1.4013e-45,3.35447e-26,0.00179957,0.0,0.0,0.0,0.0,0.0,0.0,0.0,0.0,0.0,0.0,0.0,0.0,0.0,0.0,0.0,0.0,0.0,0.0,0.0,0.0,0.00179957,0.0,0.0,0.0,0.0,0.0,0.0,0.0,0.00179957,0.0,0.0,0.0,0.0,1.4013e-45,0.00179957,0.0,0.0,0.0,0.0,4.38608e-30,0.0,0.0,0.0'"
      ]
     },
     "execution_count": 47,
     "metadata": {},
     "output_type": "execute_result"
    }
   ],
   "source": [
    "qtls = qtls.replace(' ', ',')"
   ]
  },
  {
   "cell_type": "code",
   "execution_count": 61,
   "id": "932e6a90",
   "metadata": {},
   "outputs": [],
   "source": [
    "## phenotypes are basically the sum of different effect sizes \n",
    "\n",
    "phenotypes = np.array([0.0,0.0,0.0,0.0,0.00179957,0.0,0.0,0.0,0.0,0.0,0.0,3.35447e-26,0.0,0.0,0.0,0.0,0.0,0.0,0.0,0.0,2.14615e-13,0.0,1.4013e-45,0.0,0.0,3.35447e-26,0.0,0.0,0.0,0.00179957,4.38608e-30,0.0,0.00179957,0.00179957,0.0,0.0,0.0,0.0,0.0,0.0,2.14615e-13,0.0,0.0,0.0,0.0,0.0,0.0,0.0,0.0,0.0,0.0,0.0,0.0,6.65165e-09,1.4013e-45,3.35447e-26,0.00179957,0.0,0.0,0.0,0.0,0.0,0.0,0.0,0.0,0.0,0.0,0.0,0.0,0.0,0.0,0.0,0.0,0.0,0.0,0.0,0.0,0.00179957,0.0,0.0,0.0,0.0,0.0,0.0,0.0,0.00179957,0.0,0.0,0.0,0.0,1.4013e-45,0.00179957,0.0,0.0,0.0,0.0,4.38608e-30,0.0,0.0,0.0])"
   ]
  },
  {
   "cell_type": "code",
   "execution_count": null,
   "id": "b3f3605b",
   "metadata": {},
   "outputs": [],
   "source": [
    "Fitness = exp(-0.5 * (phenotype - optimum)^2 / sigma^2)\n",
    "Fitness = exp(-0.5 * (phenotype - optimum)^2)\n",
    "\n",
    "## what i was using \n",
    "inds.fitnessScaling = 1.5 - (phenotypes - inds.subpopulation.tag)^2 * 0.005; \n"
   ]
  },
  {
   "cell_type": "code",
   "execution_count": null,
   "id": "30fd151b",
   "metadata": {},
   "outputs": [],
   "source": [
    "inds.fitnessScaling = 1.5 - (phenotypes - inds.subpopulation.tag)^2 * 0.005; \n"
   ]
  },
  {
   "cell_type": "code",
   "execution_count": 66,
   "id": "5ac6272f",
   "metadata": {},
   "outputs": [],
   "source": [
    "fitness = np.exp(-0.5 * (phenotypes - 2) ** 2)\n"
   ]
  },
  {
   "cell_type": "code",
   "execution_count": 67,
   "id": "52acc3cf",
   "metadata": {},
   "outputs": [
    {
     "data": {
      "text/plain": [
       "array([0.13533528, 0.13533528, 0.13533528, 0.13533528, 0.13582303,\n",
       "       0.13533528, 0.13533528, 0.13533528, 0.13533528, 0.13533528,\n",
       "       0.13533528, 0.13533528, 0.13533528, 0.13533528, 0.13533528,\n",
       "       0.13533528, 0.13533528, 0.13533528, 0.13533528, 0.13533528,\n",
       "       0.13533528, 0.13533528, 0.13533528, 0.13533528, 0.13533528,\n",
       "       0.13533528, 0.13533528, 0.13533528, 0.13533528, 0.13582303,\n",
       "       0.13533528, 0.13533528, 0.13582303, 0.13582303, 0.13533528,\n",
       "       0.13533528, 0.13533528, 0.13533528, 0.13533528, 0.13533528,\n",
       "       0.13533528, 0.13533528, 0.13533528, 0.13533528, 0.13533528,\n",
       "       0.13533528, 0.13533528, 0.13533528, 0.13533528, 0.13533528,\n",
       "       0.13533528, 0.13533528, 0.13533528, 0.13533529, 0.13533528,\n",
       "       0.13533528, 0.13582303, 0.13533528, 0.13533528, 0.13533528,\n",
       "       0.13533528, 0.13533528, 0.13533528, 0.13533528, 0.13533528,\n",
       "       0.13533528, 0.13533528, 0.13533528, 0.13533528, 0.13533528,\n",
       "       0.13533528, 0.13533528, 0.13533528, 0.13533528, 0.13533528,\n",
       "       0.13533528, 0.13533528, 0.13582303, 0.13533528, 0.13533528,\n",
       "       0.13533528, 0.13533528, 0.13533528, 0.13533528, 0.13533528,\n",
       "       0.13582303, 0.13533528, 0.13533528, 0.13533528, 0.13533528,\n",
       "       0.13533528, 0.13582303, 0.13533528, 0.13533528, 0.13533528,\n",
       "       0.13533528, 0.13533528, 0.13533528, 0.13533528, 0.13533528])"
      ]
     },
     "execution_count": 67,
     "metadata": {},
     "output_type": "execute_result"
    }
   ],
   "source": [
    "fitness"
   ]
  },
  {
   "cell_type": "code",
   "execution_count": null,
   "id": "dc7cdc61",
   "metadata": {},
   "outputs": [],
   "source": [
    "def calculate_fitness(phenotype, optimum, sigma):\n",
    "    exponent = \n",
    "    fitness = \n",
    "    return fitness"
   ]
  },
  {
   "cell_type": "code",
   "execution_count": 79,
   "id": "c0dd7ea4",
   "metadata": {},
   "outputs": [],
   "source": [
    "\n",
    "\n",
    "#define x-axis values\n",
    "x = np.linspace (0, 40, 100) \n",
    "\n",
    "#calculate pdf of Gamma distribution for each x-value\n",
    "y = stats.gamma.pdf(x, a=5, scale=3)\n"
   ]
  },
  {
   "cell_type": "code",
   "execution_count": 81,
   "id": "66fe943b",
   "metadata": {},
   "outputs": [
    {
     "data": {
      "text/plain": [
       "array([ 0.        ,  0.4040404 ,  0.80808081,  1.21212121,  1.61616162,\n",
       "        2.02020202,  2.42424242,  2.82828283,  3.23232323,  3.63636364,\n",
       "        4.04040404,  4.44444444,  4.84848485,  5.25252525,  5.65656566,\n",
       "        6.06060606,  6.46464646,  6.86868687,  7.27272727,  7.67676768,\n",
       "        8.08080808,  8.48484848,  8.88888889,  9.29292929,  9.6969697 ,\n",
       "       10.1010101 , 10.50505051, 10.90909091, 11.31313131, 11.71717172,\n",
       "       12.12121212, 12.52525253, 12.92929293, 13.33333333, 13.73737374,\n",
       "       14.14141414, 14.54545455, 14.94949495, 15.35353535, 15.75757576,\n",
       "       16.16161616, 16.56565657, 16.96969697, 17.37373737, 17.77777778,\n",
       "       18.18181818, 18.58585859, 18.98989899, 19.39393939, 19.7979798 ,\n",
       "       20.2020202 , 20.60606061, 21.01010101, 21.41414141, 21.81818182,\n",
       "       22.22222222, 22.62626263, 23.03030303, 23.43434343, 23.83838384,\n",
       "       24.24242424, 24.64646465, 25.05050505, 25.45454545, 25.85858586,\n",
       "       26.26262626, 26.66666667, 27.07070707, 27.47474747, 27.87878788,\n",
       "       28.28282828, 28.68686869, 29.09090909, 29.49494949, 29.8989899 ,\n",
       "       30.3030303 , 30.70707071, 31.11111111, 31.51515152, 31.91919192,\n",
       "       32.32323232, 32.72727273, 33.13131313, 33.53535354, 33.93939394,\n",
       "       34.34343434, 34.74747475, 35.15151515, 35.55555556, 35.95959596,\n",
       "       36.36363636, 36.76767677, 37.17171717, 37.57575758, 37.97979798,\n",
       "       38.38383838, 38.78787879, 39.19191919, 39.5959596 , 40.        ])"
      ]
     },
     "execution_count": 81,
     "metadata": {},
     "output_type": "execute_result"
    }
   ],
   "source": [
    "x"
   ]
  },
  {
   "cell_type": "code",
   "execution_count": 80,
   "id": "7e50e146",
   "metadata": {},
   "outputs": [
    {
     "name": "stderr",
     "output_type": "stream",
     "text": [
      "/Users/tbellagio/opt/anaconda3/envs/simulations/lib/python3.10/site-packages/seaborn/_decorators.py:36: FutureWarning: Pass the following variables as keyword args: x, y. From version 0.12, the only valid positional argument will be `data`, and passing other arguments without an explicit keyword will result in an error or misinterpretation.\n",
      "  warnings.warn(\n"
     ]
    },
    {
     "data": {
      "image/png": "[encoded data removed]",
      "text/plain": [
       "<Figure size 640x480 with 1 Axes>"
      ]
     },
     "metadata": {},
     "output_type": "display_data"
    }
   ],
   "source": [
    "sns.lineplot(x,y);"
   ]
  },
  {
   "cell_type": "code",
   "execution_count": 111,
   "id": "ca7b33ae",
   "metadata": {},
   "outputs": [
    {
     "data": {
      "text/plain": [
       "1969.055"
      ]
     },
     "execution_count": 111,
     "metadata": {},
     "output_type": "execute_result"
    }
   ],
   "source": [
    "1969055 * 0.001"
   ]
  },
  {
   "cell_type": "code",
   "execution_count": 113,
   "id": "d9d983ba",
   "metadata": {},
   "outputs": [
    {
     "data": {
      "text/plain": [
       "4920.25"
      ]
     },
     "execution_count": 113,
     "metadata": {},
     "output_type": "execute_result"
    }
   ],
   "source": [
    "19681/4"
   ]
  },
  {
   "cell_type": "code",
   "execution_count": 114,
   "id": "00b48c67",
   "metadata": {},
   "outputs": [
    {
     "data": {
      "text/plain": [
       "9840"
      ]
     },
     "execution_count": 114,
     "metadata": {},
     "output_type": "execute_result"
    }
   ],
   "source": [
    "4920 + 4920"
   ]
  },
  {
   "cell_type": "code",
   "execution_count": 115,
   "id": "c8061343",
   "metadata": {},
   "outputs": [
    {
     "data": {
      "text/plain": [
       "14760"
      ]
     },
     "execution_count": 115,
     "metadata": {},
     "output_type": "execute_result"
    }
   ],
   "source": [
    "9840 + 4920"
   ]
  },
  {
   "cell_type": "code",
   "execution_count": null,
   "id": "7163b5b7",
   "metadata": {},
   "outputs": [],
   "source": []
  }
 ],
 "metadata": {
  "kernelspec": {
   "display_name": "simulations",
   "language": "python",
   "name": "python3"
  },
  "language_info": {
   "codemirror_mode": {
    "name": "ipython",
    "version": 3
   },
   "file_extension": ".py",
   "mimetype": "text/x-python",
   "name": "python",
   "nbconvert_exporter": "python",
   "pygments_lexer": "ipython3",
   "version": "3.10.9"
  },
  "vscode": {
   "interpreter": {
    "hash": "2c170c2cafb8c65435a744e157724b3d1ad9140b45d60c0c766e814f0b07766e"
   }
  }
 },
 "nbformat": 4,
 "nbformat_minor": 5
}
