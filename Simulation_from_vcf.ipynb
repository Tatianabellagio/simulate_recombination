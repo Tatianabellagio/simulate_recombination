{
 "cells": [
  {
   "cell_type": "code",
   "execution_count": 91,
   "id": "f30f2d46",
   "metadata": {},
   "outputs": [],
   "source": [
    "import numpy as np\n",
    "import pandas as pd\n",
    "import seaborn as sns\n",
    "import scipy.stats as stats\n",
    "import math "
   ]
  },
  {
   "cell_type": "code",
   "execution_count": null,
   "id": "085bc6ff",
   "metadata": {},
   "outputs": [],
   "source": [
    "vcf Chr1:9001000..9002000"
   ]
  },
  {
   "cell_type": "code",
   "execution_count": null,
   "id": "b1bda132",
   "metadata": {},
   "outputs": [],
   "source": [
    "8999999"
   ]
  },
  {
   "cell_type": "code",
   "execution_count": 80,
   "id": "bf78b0f8",
   "metadata": {
    "scrolled": true
   },
   "outputs": [],
   "source": [
    "import pysam\n",
    "\n",
    "# Open FASTA and VCF files\n",
    "fasta_file = pysam.FastaFile(\"referencevcf3.fasta\")\n",
    "vcf_file = pysam.VariantFile(\"test.vcf\")\n",
    "\n",
    "# Count number of positions in FASTA and VCF files\n",
    "num_positions_fasta = sum([len(fasta_file[contig]) for contig in fasta_file.references])\n",
    "num_positions_vcf = sum([1 for record in vcf_file])\n",
    "\n",
    "print(num_positions_fasta)\n",
    "print(num_positions_vcf)"
   ]
  },
  {
   "cell_type": "code",
   "execution_count": 81,
   "id": "348ce3b6",
   "metadata": {},
   "outputs": [
    {
     "data": {
      "text/plain": [
       "8001"
      ]
     },
     "execution_count": 81,
     "metadata": {},
     "output_type": "execute_result"
    }
   ],
   "source": []
  },
  {
   "cell_type": "code",
   "execution_count": 82,
   "id": "0c278859",
   "metadata": {},
   "outputs": [
    {
     "data": {
      "text/plain": [
       "8001"
      ]
     },
     "execution_count": 82,
     "metadata": {},
     "output_type": "execute_result"
    }
   ],
   "source": []
  },
  {
   "cell_type": "code",
   "execution_count": 54,
   "id": "5f4c401f",
   "metadata": {},
   "outputs": [],
   "source": [
    "import pysam\n",
    "\n",
    "# Open the VCF and FASTA files\n",
    "vcf_file = pysam.VariantFile(\"test.vcf\")\n",
    "fasta_file = pysam.FastaFile(\"test.fasta\")"
   ]
  },
  {
   "cell_type": "code",
   "execution_count": 55,
   "id": "caa8876c",
   "metadata": {
    "scrolled": true
   },
   "outputs": [
    {
     "name": "stdout",
     "output_type": "stream",
     "text": [
      "['1', '2', '3', '4', '5']\n"
     ]
    }
   ],
   "source": [
    "print(list((vcf_file.header.contigs)))"
   ]
  },
  {
   "cell_type": "code",
   "execution_count": 56,
   "id": "01097fbe",
   "metadata": {},
   "outputs": [
    {
     "data": {
      "text/plain": [
       "8999999"
      ]
     },
     "execution_count": 56,
     "metadata": {},
     "output_type": "execute_result"
    }
   ],
   "source": [
    "8999999"
   ]
  },
  {
   "cell_type": "code",
   "execution_count": 83,
   "id": "cf6c98ec",
   "metadata": {
    "scrolled": true
   },
   "outputs": [
    {
     "data": {
      "text/plain": [
       "['Chr1:9001000-9009000']"
      ]
     },
     "execution_count": 83,
     "metadata": {},
     "output_type": "execute_result"
    }
   ],
   "source": [
    "fasta_file.references"
   ]
  },
  {
   "cell_type": "code",
   "execution_count": 58,
   "id": "e318acd1",
   "metadata": {},
   "outputs": [
    {
     "data": {
      "text/plain": [
       "[8000]"
      ]
     },
     "execution_count": 58,
     "metadata": {},
     "output_type": "execute_result"
    }
   ],
   "source": [
    "fasta_file.lengths"
   ]
  },
  {
   "cell_type": "code",
   "execution_count": 41,
   "id": "528fa7a4",
   "metadata": {},
   "outputs": [
    {
     "ename": "AttributeError",
     "evalue": "'pysam.libcbcf.VariantFile' object has no attribute 'references'",
     "output_type": "error",
     "traceback": [
      "\u001b[0;31m---------------------------------------------------------------------------\u001b[0m",
      "\u001b[0;31mAttributeError\u001b[0m                            Traceback (most recent call last)",
      "Cell \u001b[0;32mIn[41], line 8\u001b[0m\n\u001b[1;32m      5\u001b[0m fasta_file \u001b[38;5;241m=\u001b[39m pysam\u001b[38;5;241m.\u001b[39mFastaFile(\u001b[38;5;124m\"\u001b[39m\u001b[38;5;124mtest.fasta\u001b[39m\u001b[38;5;124m\"\u001b[39m)\n\u001b[1;32m      7\u001b[0m \u001b[38;5;66;03m# Check if the chromosome names and lengths are the same in both files\u001b[39;00m\n\u001b[0;32m----> 8\u001b[0m \u001b[38;5;28;01mif\u001b[39;00m \u001b[43mvcf_file\u001b[49m\u001b[38;5;241;43m.\u001b[39;49m\u001b[43mreferences\u001b[49m \u001b[38;5;241m!=\u001b[39m fasta_file\u001b[38;5;241m.\u001b[39mreferences:\n\u001b[1;32m      9\u001b[0m     \u001b[38;5;28mprint\u001b[39m(\u001b[38;5;124m\"\u001b[39m\u001b[38;5;124mError: chromosome names in VCF file do not match chromosome names in FASTA file\u001b[39m\u001b[38;5;124m\"\u001b[39m)\n\u001b[1;32m     10\u001b[0m     exit()\n",
      "\u001b[0;31mAttributeError\u001b[0m: 'pysam.libcbcf.VariantFile' object has no attribute 'references'"
     ]
    }
   ],
   "source": [
    "\n",
    "\n",
    "# Check if the chromosome names and lengths are the same in both files\n",
    "if vcf_file.references != fasta_file.references:\n",
    "    print(\"Error: chromosome names in VCF file do not match chromosome names in FASTA file\")\n",
    "    exit()\n",
    "if vcf_file.header.contigs != fasta_file.lengths:\n",
    "    print(\"Error: chromosome lengths in VCF file do not match chromosome lengths in FASTA file\")\n",
    "    exit()\n",
    "\n",
    "# Get the genomic coordinates for chromosome 1\n",
    "chromosome_name = \"Chr1\"\n",
    "chromosome_length = fasta_file.get_reference_length(chromosome_name)\n",
    "vcf_positions = set()\n",
    "for record in vcf_file.fetch(chromosome_name, 0, chromosome_length):\n",
    "    vcf_positions.add(record.pos)\n",
    "fasta_positions = set(range(0, chromosome_length))\n",
    "\n",
    "# Check if the VCF and FASTA files cover the same positions for chromosome 1\n",
    "if vcf_positions != fasta_positions:\n",
    "    print(\"Error: VCF and FASTA files do not cover the same positions for chromosome 1\")\n",
    "    exit()\n",
    "\n",
    "print(\"VCF and FASTA files cover the same positions for chromosome 1\")\n"
   ]
  },
  {
   "cell_type": "code",
   "execution_count": 37,
   "id": "9ffcfba7",
   "metadata": {
    "scrolled": false
   },
   "outputs": [
    {
     "data": {
      "text/plain": [
       "['Chr1:9002000-9006000']"
      ]
     },
     "execution_count": 37,
     "metadata": {},
     "output_type": "execute_result"
    }
   ],
   "source": [
    "fasta_file.references  # 9.001.000"
   ]
  },
  {
   "cell_type": "code",
   "execution_count": 38,
   "id": "2a709913",
   "metadata": {},
   "outputs": [
    {
     "data": {
      "text/plain": [
       "4000"
      ]
     },
     "execution_count": 38,
     "metadata": {},
     "output_type": "execute_result"
    }
   ],
   "source": [
    "num_positions_fasta"
   ]
  },
  {
   "cell_type": "code",
   "execution_count": 39,
   "id": "532aff22",
   "metadata": {},
   "outputs": [
    {
     "data": {
      "text/plain": [
       "6001"
      ]
     },
     "execution_count": 39,
     "metadata": {},
     "output_type": "execute_result"
    }
   ],
   "source": [
    "num_positions_vcf"
   ]
  },
  {
   "cell_type": "code",
   "execution_count": null,
   "id": "77e3b140",
   "metadata": {},
   "outputs": [],
   "source": [
    "9001000 10001001\n"
   ]
  },
  {
   "cell_type": "code",
   "execution_count": null,
   "id": "a0a6ad5b",
   "metadata": {},
   "outputs": [],
   "source": []
  },
  {
   "cell_type": "code",
   "execution_count": 29,
   "id": "78035f43",
   "metadata": {},
   "outputs": [
    {
     "data": {
      "text/plain": [
       "1000001"
      ]
     },
     "execution_count": 29,
     "metadata": {},
     "output_type": "execute_result"
    }
   ],
   "source": [
    "num_positions_fasta"
   ]
  },
  {
   "cell_type": "code",
   "execution_count": 48,
   "id": "d7649b28",
   "metadata": {},
   "outputs": [],
   "source": [
    "positions = []"
   ]
  },
  {
   "cell_type": "code",
   "execution_count": 83,
   "id": "32e0b228",
   "metadata": {
    "scrolled": true
   },
   "outputs": [],
   "source": [
    "for rec in vcf_file.fetch():\n",
    "    positions.append(rec.pos)"
   ]
  },
  {
   "cell_type": "code",
   "execution_count": 51,
   "id": "58ad5156",
   "metadata": {
    "scrolled": false
   },
   "outputs": [
    {
     "data": {
      "text/plain": [
       "False"
      ]
     },
     "execution_count": 51,
     "metadata": {},
     "output_type": "execute_result"
    }
   ],
   "source": [
    "9.000.999 in positions"
   ]
  },
  {
   "cell_type": "code",
   "execution_count": null,
   "id": "4caf5b4e",
   "metadata": {},
   "outputs": [],
   "source": [
    "9 001 000 "
   ]
  },
  {
   "cell_type": "code",
   "execution_count": 69,
   "id": "54591158",
   "metadata": {},
   "outputs": [
    {
     "data": {
      "text/plain": [
       "True"
      ]
     },
     "execution_count": 69,
     "metadata": {},
     "output_type": "execute_result"
    }
   ],
   "source": [
    "9001000 in positions"
   ]
  },
  {
   "cell_type": "code",
   "execution_count": 81,
   "id": "e09935ef",
   "metadata": {},
   "outputs": [
    {
     "data": {
      "text/plain": [
       "0           9001000\n",
       "1           9001001\n",
       "2           9001002\n",
       "3           9001003\n",
       "4           9001004\n",
       "             ...   \n",
       "999996     10000996\n",
       "999997     10000997\n",
       "999998     10000998\n",
       "999999     10000999\n",
       "1000000    10001000\n",
       "Length: 1000001, dtype: int64"
      ]
     },
     "execution_count": 81,
     "metadata": {},
     "output_type": "execute_result"
    }
   ],
   "source": [
    "pos_series"
   ]
  },
  {
   "cell_type": "code",
   "execution_count": 80,
   "id": "e2d58d51",
   "metadata": {
    "scrolled": true
   },
   "outputs": [
    {
     "data": {
      "text/plain": [
       "0    9001000\n",
       "1    9001001\n",
       "5    9001005\n",
       "dtype: int64"
      ]
     },
     "execution_count": 80,
     "metadata": {},
     "output_type": "execute_result"
    }
   ],
   "source": [
    "pos_series[pos_series.isin([9001000, 9001001,9001005])]"
   ]
  },
  {
   "cell_type": "code",
   "execution_count": 75,
   "id": "1f38c880",
   "metadata": {},
   "outputs": [
    {
     "ename": "AttributeError",
     "evalue": "'list' object has no attribute 'filter'",
     "output_type": "error",
     "traceback": [
      "\u001b[0;31m---------------------------------------------------------------------------\u001b[0m",
      "\u001b[0;31mAttributeError\u001b[0m                            Traceback (most recent call last)",
      "Cell \u001b[0;32mIn[75], line 1\u001b[0m\n\u001b[0;32m----> 1\u001b[0m \u001b[43mpositions\u001b[49m\u001b[38;5;241;43m.\u001b[39;49m\u001b[43mfilter\u001b[49m(\u001b[38;5;241m9001000\u001b[39m)\n",
      "\u001b[0;31mAttributeError\u001b[0m: 'list' object has no attribute 'filter'"
     ]
    }
   ],
   "source": [
    "positions.filter(9001000)"
   ]
  },
  {
   "cell_type": "code",
   "execution_count": null,
   "id": "233d8022",
   "metadata": {},
   "outputs": [],
   "source": [
    "first: 9001000  last 10001000"
   ]
  },
  {
   "cell_type": "code",
   "execution_count": 62,
   "id": "3dba5f94",
   "metadata": {
    "scrolled": false
   },
   "outputs": [
    {
     "data": {
      "text/plain": [
       "1000001"
      ]
     },
     "execution_count": 62,
     "metadata": {},
     "output_type": "execute_result"
    }
   ],
   "source": [
    "len(positions)"
   ]
  },
  {
   "cell_type": "code",
   "execution_count": 76,
   "id": "6de3bc91",
   "metadata": {},
   "outputs": [],
   "source": [
    "pos_series = pd.Series(positions)"
   ]
  },
  {
   "cell_type": "code",
   "execution_count": 61,
   "id": "f325dde1",
   "metadata": {},
   "outputs": [
    {
     "data": {
      "text/plain": [
       "10001000"
      ]
     },
     "execution_count": 61,
     "metadata": {},
     "output_type": "execute_result"
    }
   ],
   "source": [
    "pd.Series(positions).max()"
   ]
  },
  {
   "cell_type": "code",
   "execution_count": 33,
   "id": "b0d79eb7",
   "metadata": {},
   "outputs": [
    {
     "data": {
      "text/plain": [
       "1000001"
      ]
     },
     "execution_count": 33,
     "metadata": {},
     "output_type": "execute_result"
    }
   ],
   "source": [
    "num_positions_vcf"
   ]
  },
  {
   "cell_type": "code",
   "execution_count": 82,
   "id": "069f893c",
   "metadata": {},
   "outputs": [],
   "source": [
    "for record in vcf_file:\n",
    "    print(record)"
   ]
  },
  {
   "cell_type": "code",
   "execution_count": 43,
   "id": "f5833556",
   "metadata": {},
   "outputs": [
    {
     "data": {
      "text/plain": [
       "[]"
      ]
     },
     "execution_count": 43,
     "metadata": {},
     "output_type": "execute_result"
    }
   ],
   "source": [
    "[record for record in vcf_file]"
   ]
  },
  {
   "cell_type": "code",
   "execution_count": 6,
   "id": "0db06feb",
   "metadata": {},
   "outputs": [],
   "source": [
    "import fwdpy11 as fp\n",
    "import pyslim"
   ]
  },
  {
   "cell_type": "code",
   "execution_count": null,
   "id": "104662b7",
   "metadata": {},
   "outputs": [],
   "source": [
    "http://localhost:8888/?token=adf48011db5035700d1434bb9906f59a473c540ee46f054a"
   ]
  },
  {
   "cell_type": "code",
   "execution_count": 19,
   "id": "edc250d2",
   "metadata": {},
   "outputs": [
    {
     "data": {
      "text/html": [
       "\n",
       "            <div>\n",
       "              <style>\n",
       "                .tskit-table thead tr th {text-align: left;padding: 0.5em 0.5em;}\n",
       "                .tskit-table tbody tr td {padding: 0.5em 0.5em;}\n",
       "                .tskit-table tbody tr td:first-of-type {text-align: left;}\n",
       "                .tskit-details-label {vertical-align: top; padding-right:5px;}\n",
       "                .tskit-table-set {display: inline-flex;flex-wrap: wrap;margin: -12px 0 0 -12px;width: calc(100% + 12px);}\n",
       "                .tskit-table-set-table {margin: 12px 0 0 12px;}\n",
       "                details {display: inline-block;}\n",
       "                summary {cursor: pointer; outline: 0; display: list-item;}\n",
       "              </style>\n",
       "              <div class=\"tskit-table-set\">\n",
       "                <div class=\"tskit-table-set-table\">\n",
       "                  <table class=\"tskit-table\">\n",
       "                    <thead>\n",
       "                      <tr>\n",
       "                        <th style=\"padding:0;line-height:21px;\">\n",
       "                          <img style=\"height: 32px;display: inline-block;padding: 3px 5px 3px 0;\" src=\"https://raw.githubusercontent.com/tskit-dev/administrative/main/tskit_logo.svg\"/>\n",
       "                          <a target=\"_blank\" href=\"https://tskit.dev/tskit/docs/latest/python-api.html#the-treesequence-class\"> Tree Sequence </a>\n",
       "                        </th>\n",
       "                      </tr>\n",
       "                    </thead>\n",
       "                    <tbody>\n",
       "                      <tr><td>Trees</td><td>2521</td></tr>\n",
       "                      <tr><td>Sequence Length</td><td>100000.0</td></tr>\n",
       "                      <tr><td>Time Units</td><td>ticks</td></tr>\n",
       "                      <tr><td>Sample Nodes</td><td>2000</td></tr>\n",
       "                      <tr><td>Total Size</td><td>1.5 MiB</td></tr>\n",
       "                      <tr>\n",
       "                        <td>Metadata</td><td style=\"text-align: left;\">\n",
       "                <div>\n",
       "                  <span class=\"tskit-details-label\"></span>\n",
       "                  <details open>\n",
       "                    <summary>dict</summary>\n",
       "                    \n",
       "                <div>\n",
       "                  <span class=\"tskit-details-label\">SLiM:</span>\n",
       "                  <details >\n",
       "                    <summary>dict</summary>\n",
       "                    cycle: 1000<br/>file_version: 0.8<br/>model_type: WF<br/>name: sim<br/>nucleotide_based: True<br/>separate_sexes: False<br/>spatial_dimensionality: <br/>spatial_periodicity: <br/>stage: late<br/>tick: 1000<br/>\n",
       "                  </details>\n",
       "                </div>\n",
       "                <br/>\n",
       "                  </details>\n",
       "                </div>\n",
       "                </td></tr>\n",
       "                    </tbody>\n",
       "                  </table>\n",
       "                </div>\n",
       "                <div class=\"tskit-table-set-table\">\n",
       "                  <table class=\"tskit-table\">\n",
       "                    <thead>\n",
       "                      <tr>\n",
       "                        <th style=\"line-height:21px;\">Table</th>\n",
       "                        <th>Rows</th>\n",
       "                        <th>Size</th>\n",
       "                        <th>Has Metadata</th>\n",
       "                      </tr>\n",
       "                    </thead>\n",
       "                    <tbody>\n",
       "                    \n",
       "                  <tr>\n",
       "                    <td>Edges</td>\n",
       "                      <td>12647</td>\n",
       "                      <td>395.2 KiB</td>\n",
       "                      <td style=\"text-align: center;\">\n",
       "                        \n",
       "                      </td>\n",
       "                    </tr>\n",
       "                \n",
       "                  <tr>\n",
       "                    <td>Individuals</td>\n",
       "                      <td>1000</td>\n",
       "                      <td>99.5 KiB</td>\n",
       "                      <td style=\"text-align: center;\">\n",
       "                        ✅\n",
       "                      </td>\n",
       "                    </tr>\n",
       "                \n",
       "                  <tr>\n",
       "                    <td>Migrations</td>\n",
       "                      <td>0</td>\n",
       "                      <td>8 Bytes</td>\n",
       "                      <td style=\"text-align: center;\">\n",
       "                        \n",
       "                      </td>\n",
       "                    </tr>\n",
       "                \n",
       "                  <tr>\n",
       "                    <td>Mutations</td>\n",
       "                      <td>7576</td>\n",
       "                      <td>437.5 KiB</td>\n",
       "                      <td style=\"text-align: center;\">\n",
       "                        ✅\n",
       "                      </td>\n",
       "                    </tr>\n",
       "                \n",
       "                  <tr>\n",
       "                    <td>Nodes</td>\n",
       "                      <td>5326</td>\n",
       "                      <td>198.3 KiB</td>\n",
       "                      <td style=\"text-align: center;\">\n",
       "                        ✅\n",
       "                      </td>\n",
       "                    </tr>\n",
       "                \n",
       "                  <tr>\n",
       "                    <td>Populations</td>\n",
       "                      <td>2</td>\n",
       "                      <td>2.3 KiB</td>\n",
       "                      <td style=\"text-align: center;\">\n",
       "                        ✅\n",
       "                      </td>\n",
       "                    </tr>\n",
       "                \n",
       "                  <tr>\n",
       "                    <td>Provenances</td>\n",
       "                      <td>1</td>\n",
       "                      <td>2.2 KiB</td>\n",
       "                      <td style=\"text-align: center;\">\n",
       "                        \n",
       "                      </td>\n",
       "                    </tr>\n",
       "                \n",
       "                  <tr>\n",
       "                    <td>Sites</td>\n",
       "                      <td>7290</td>\n",
       "                      <td>170.9 KiB</td>\n",
       "                      <td style=\"text-align: center;\">\n",
       "                        \n",
       "                      </td>\n",
       "                    </tr>\n",
       "                \n",
       "                    </tbody>\n",
       "                  </table>\n",
       "                </div>\n",
       "              </div>\n",
       "            </div>\n",
       "            "
      ],
      "text/plain": [
       "<tskit.trees.TreeSequence at 0x7f9ed92083d0>"
      ]
     },
     "execution_count": 19,
     "metadata": {},
     "output_type": "execute_result"
    }
   ],
   "source": [
    "ts"
   ]
  },
  {
   "cell_type": "code",
   "execution_count": 18,
   "id": "e580f793",
   "metadata": {},
   "outputs": [
    {
     "name": "stdout",
     "output_type": "stream",
     "text": [
      "ancestral\tderived\tcount\n",
      "A\tA\t0\n",
      "A\tC\t603\n",
      "A\tG\t632\n",
      "A\tT\t587\n",
      "C\tA\t638\n",
      "C\tC\t0\n",
      "C\tG\t653\n",
      "C\tT\t623\n",
      "G\tA\t621\n",
      "G\tC\t631\n",
      "G\tG\t0\n",
      "G\tT\t662\n",
      "T\tA\t635\n",
      "T\tC\t656\n",
      "T\tG\t635\n",
      "T\tT\t0\n"
     ]
    }
   ],
   "source": [
    "import tskit, pyslim \n",
    "import numpy as np \n",
    "ts = tskit.load(\"recipe_nucleotides.trees\") \n",
    "M = [[0 for _ in pyslim.NUCLEOTIDES] for _ in pyslim.NUCLEOTIDES] \n",
    "for mut in ts.mutations(): \n",
    "    mut_list = mut.metadata[\"mutation_list\"] \n",
    "    k = np.argmax([u[\"slim_time\"] for u in mut_list]) \n",
    "    derived_nuc = mut_list[k][\"nucleotide\"] \n",
    "    if mut.parent == -1: \n",
    "        acgt = ts.reference_sequence.data[int(ts.site(mut.site).position)]          \n",
    "        parent_nuc = pyslim.NUCLEOTIDES.index(acgt) \n",
    "    else: \n",
    "        parent_mut = ts.mutation(mut.parent) \n",
    "        assert(parent_mut.site == mut.site) \n",
    "        parent_nuc = parent_mut.metadata[\"mutation_list\"][0][\"nucleotide\"]      \n",
    "    M[parent_nuc][derived_nuc] += 1\n",
    "print(\"{}\\t{}\\t{}\".format('ancestral', 'derived', 'count')) \n",
    "for j, a in enumerate(pyslim.NUCLEOTIDES): \n",
    "    for k, b in enumerate(pyslim.NUCLEOTIDES): \n",
    "        print(\"{}\\t{}\\t{}\".format(a, b, M[j][k]))"
   ]
  },
  {
   "cell_type": "code",
   "execution_count": 4,
   "id": "f270f585",
   "metadata": {},
   "outputs": [
    {
     "ename": "AttributeError",
     "evalue": "module 'fwdpy11' has no attribute 'VariantFile'",
     "output_type": "error",
     "traceback": [
      "\u001b[0;31m---------------------------------------------------------------------------\u001b[0m",
      "\u001b[0;31mAttributeError\u001b[0m                            Traceback (most recent call last)",
      "Cell \u001b[0;32mIn[4], line 11\u001b[0m\n\u001b[1;32m      8\u001b[0m vcf_file \u001b[38;5;241m=\u001b[39m \u001b[38;5;124m\"\u001b[39m\u001b[38;5;124mcol0.vcf\u001b[39m\u001b[38;5;124m\"\u001b[39m\n\u001b[1;32m     10\u001b[0m \u001b[38;5;66;03m# Load the variants from the VCF file\u001b[39;00m\n\u001b[0;32m---> 11\u001b[0m \u001b[38;5;28;01mwith\u001b[39;00m \u001b[43mfp\u001b[49m\u001b[38;5;241;43m.\u001b[39;49m\u001b[43mVariantFile\u001b[49m(vcf_file) \u001b[38;5;28;01mas\u001b[39;00m f:\n\u001b[1;32m     12\u001b[0m     \u001b[38;5;28;01mfor\u001b[39;00m variant \u001b[38;5;129;01min\u001b[39;00m f:\n\u001b[1;32m     13\u001b[0m         \u001b[38;5;28mprint\u001b[39m(variant\u001b[38;5;241m.\u001b[39mposition)\n",
      "\u001b[0;31mAttributeError\u001b[0m: module 'fwdpy11' has no attribute 'VariantFile'"
     ]
    }
   ],
   "source": [
    "# Define the mutation rates, effective population size, and length of the genome\n",
    "mu = 1.2e-8\n",
    "theta = 4*mu*1e4\n",
    "Ne = 1e4\n",
    "L = 10000\n",
    "\n",
    "# Set the file path\n",
    "vcf_file = \"col0.vcf\"\n",
    "\n",
    "# Load the variants from the VCF file\n",
    "with fp.VariantFile(vcf_file) as f:\n",
    "    for variant in f:\n",
    "        print(variant.position)\n"
   ]
  },
  {
   "cell_type": "code",
   "execution_count": 5,
   "id": "d87c73b4",
   "metadata": {},
   "outputs": [
    {
     "ename": "ImportError",
     "evalue": "cannot import name 'vcfio' from 'fwdpy11' (/Users/tbellagio/opt/anaconda3/envs/simulations/lib/python3.10/site-packages/fwdpy11/__init__.py)",
     "output_type": "error",
     "traceback": [
      "\u001b[0;31m---------------------------------------------------------------------------\u001b[0m",
      "\u001b[0;31mImportError\u001b[0m                               Traceback (most recent call last)",
      "Cell \u001b[0;32mIn[5], line 2\u001b[0m\n\u001b[1;32m      1\u001b[0m \u001b[38;5;28;01mimport\u001b[39;00m \u001b[38;5;21;01mfwdpy11\u001b[39;00m \u001b[38;5;28;01mas\u001b[39;00m \u001b[38;5;21;01mfp\u001b[39;00m\n\u001b[0;32m----> 2\u001b[0m \u001b[38;5;28;01mfrom\u001b[39;00m \u001b[38;5;21;01mfwdpy11\u001b[39;00m \u001b[38;5;28;01mimport\u001b[39;00m vcfio\n\u001b[1;32m      4\u001b[0m \u001b[38;5;66;03m# Set simulation parameters\u001b[39;00m\n\u001b[1;32m      5\u001b[0m N \u001b[38;5;241m=\u001b[39m \u001b[38;5;241m10000\u001b[39m\n",
      "\u001b[0;31mImportError\u001b[0m: cannot import name 'vcfio' from 'fwdpy11' (/Users/tbellagio/opt/anaconda3/envs/simulations/lib/python3.10/site-packages/fwdpy11/__init__.py)"
     ]
    }
   ],
   "source": [
    "import fwdpy11 as fp\n",
    "from fwdpy11 import vcfio\n",
    "\n",
    "# Set simulation parameters\n",
    "N = 10000\n",
    "L = 10000\n",
    "\n",
    "# Load the variants from the VCF file\n",
    "vcf_file = vcfio.VariantFile(\"col0.vcf\")\n",
    "variants = list(vcf_file)"
   ]
  },
  {
   "cell_type": "code",
   "execution_count": null,
   "id": "bbb2c78a",
   "metadata": {},
   "outputs": [],
   "source": [
    "\n",
    "# Define the mutation model using the variants\n",
    "mutation_model = fp.ExpS(1.0/L, 1.0/L, 0.0)\n",
    "\n",
    "# Define the population size\n",
    "pop = fp.SlocusPop(Ne, mutation_model, 2*L)\n",
    "\n",
    "# Initialize the population with variants from the VCF file\n",
    "fp.initialize_from_vcf(pop, variants, L)\n",
    "\n",
    "# Define the simulation parameters\n",
    "rng = fp.GSLrng(101)\n",
    "Ngen = 100\n",
    "s = 0.1\n",
    "replicate = 1\n",
    "\n",
    "# Run the simulation\n",
    "for gen in range(Ngen):\n",
    "    pop.evolve(rng, Ne, s)\n",
    "    if gen % 10 == 0:\n",
    "        print(\"Generation\", gen)\n",
    "\n",
    "# Print some statistics\n",
    "print(\"Final number of variants:\", pop.generation_stats[\"n\"])\n",
    "print(\"Final mean heterozygosity:\", pop.generation_stats[\"h\"])\n"
   ]
  },
  {
   "cell_type": "code",
   "execution_count": 2,
   "id": "9428a8ec",
   "metadata": {},
   "outputs": [],
   "source": [
    "## testing the api from 1001 genome project\n",
    "import requests\n",
    "url = 'https://tools.1001genomes.org/api/v1/vcfsubset/strains/9998,9999/gids/AT1G01070.1,AT1G01070.2/type/fullgenome/format/vcf'\n"
   ]
  },
  {
   "cell_type": "code",
   "execution_count": 3,
   "id": "52854cc7",
   "metadata": {},
   "outputs": [],
   "source": [
    "req = requests.get(url)"
   ]
  },
  {
   "cell_type": "code",
   "execution_count": 4,
   "id": "d9aa0492",
   "metadata": {},
   "outputs": [
    {
     "data": {
      "text/plain": [
       "<Response [200]>"
      ]
     },
     "execution_count": 4,
     "metadata": {},
     "output_type": "execute_result"
    }
   ],
   "source": [
    "req"
   ]
  },
  {
   "cell_type": "code",
   "execution_count": 6,
   "id": "563b8b87",
   "metadata": {},
   "outputs": [
    {
     "data": {
      "text/plain": [
       "{'Date': 'Wed, 08 Mar 2023 18:00:36 GMT', 'Server': 'Apache/2.4.29 (Ubuntu)', 'Access-Control-Allow-Origin': '*', 'Content-Disposition': 'attachment; filename=\"9998,9999_1:38752-40944,1:38752-40927_fullgenome.vcf\"', 'Strict-Transport-Security': 'max-age=15552000; includeSubdomains;', 'Vary': 'User-Agent', 'Keep-Alive': 'timeout=5, max=100', 'Connection': 'Keep-Alive', 'Transfer-Encoding': 'chunked', 'Content-Type': 'text/x-vcard; charset=utf-8'}"
      ]
     },
     "execution_count": 6,
     "metadata": {},
     "output_type": "execute_result"
    }
   ],
   "source": [
    "req.headers"
   ]
  },
  {
   "cell_type": "code",
   "execution_count": 7,
   "id": "4a4434eb",
   "metadata": {},
   "outputs": [
    {
     "data": {
      "text/plain": [
       "278139"
      ]
     },
     "execution_count": 7,
     "metadata": {},
     "output_type": "execute_result"
    }
   ],
   "source": [
    "open('test.txt', 'wb').write(req.content)"
   ]
  },
  {
   "cell_type": "code",
   "execution_count": 106,
   "id": "75acd4f9",
   "metadata": {},
   "outputs": [],
   "source": [
    "ecotypes_grenenet = pd.read_csv('/Users/tbellagio/safedata/ath_evo/grenephase1/data/ecotypes_data.csv')"
   ]
  },
  {
   "cell_type": "code",
   "execution_count": 107,
   "id": "6659f168",
   "metadata": {},
   "outputs": [],
   "source": [
    "ecotypes_grenenet = ecotypes_grenenet[ecotypes_grenenet['source'] == '1001G']"
   ]
  },
  {
   "cell_type": "code",
   "execution_count": 73,
   "id": "e3d6ec12",
   "metadata": {},
   "outputs": [],
   "source": [
    "##find the ecotypes used in grenenet \n",
    "ecotypes_grenenet = pd.read_csv('/Users/tbellagio/safedata/ath_evo/grenephase1/data/ecotypes_data.csv') #['ecotypeid']\n",
    "ecotypes_grenenet = ecotypes_grenenet[ecotypes_grenenet['source'] == '1001G']['ecotypeid']\n",
    "#/Users/tbellagio/safedata/ath_evo/grenephase1/data"
   ]
  },
  {
   "cell_type": "code",
   "execution_count": 109,
   "id": "0e5bdb2c",
   "metadata": {},
   "outputs": [
    {
     "data": {
      "text/html": [
       "<div>\n",
       "<style scoped>\n",
       "    .dataframe tbody tr th:only-of-type {\n",
       "        vertical-align: middle;\n",
       "    }\n",
       "\n",
       "    .dataframe tbody tr th {\n",
       "        vertical-align: top;\n",
       "    }\n",
       "\n",
       "    .dataframe thead th {\n",
       "        text-align: right;\n",
       "    }\n",
       "</style>\n",
       "<table border=\"1\" class=\"dataframe\">\n",
       "  <thead>\n",
       "    <tr style=\"text-align: right;\">\n",
       "      <th></th>\n",
       "      <th>ecotypeid</th>\n",
       "      <th>source</th>\n",
       "      <th>longitude</th>\n",
       "      <th>latitude</th>\n",
       "      <th>csnumber</th>\n",
       "      <th>name</th>\n",
       "      <th>country</th>\n",
       "      <th>weightmasterseed</th>\n",
       "      <th>estimatedseednumber</th>\n",
       "      <th>seedsperplot</th>\n",
       "    </tr>\n",
       "  </thead>\n",
       "  <tbody>\n",
       "    <tr>\n",
       "      <th>0</th>\n",
       "      <td>159</td>\n",
       "      <td>1001G</td>\n",
       "      <td>3.93333</td>\n",
       "      <td>47.3500</td>\n",
       "      <td>CS77070</td>\n",
       "      <td>MAR2-3</td>\n",
       "      <td>France</td>\n",
       "      <td>0.3004</td>\n",
       "      <td>16638</td>\n",
       "      <td>17.331250</td>\n",
       "    </tr>\n",
       "    <tr>\n",
       "      <th>1</th>\n",
       "      <td>265</td>\n",
       "      <td>1001G</td>\n",
       "      <td>-1.16667</td>\n",
       "      <td>44.6500</td>\n",
       "      <td>CS77198</td>\n",
       "      <td>PYL-6</td>\n",
       "      <td>France</td>\n",
       "      <td>0.3250</td>\n",
       "      <td>18000</td>\n",
       "      <td>18.750000</td>\n",
       "    </tr>\n",
       "    <tr>\n",
       "      <th>2</th>\n",
       "      <td>763</td>\n",
       "      <td>1001G</td>\n",
       "      <td>74.36670</td>\n",
       "      <td>42.3000</td>\n",
       "      <td>CS76522</td>\n",
       "      <td>Kar-1</td>\n",
       "      <td>Kyrgyzstan</td>\n",
       "      <td>0.1827</td>\n",
       "      <td>10119</td>\n",
       "      <td>10.540625</td>\n",
       "    </tr>\n",
       "    <tr>\n",
       "      <th>3</th>\n",
       "      <td>765</td>\n",
       "      <td>1001G</td>\n",
       "      <td>73.40000</td>\n",
       "      <td>42.1833</td>\n",
       "      <td>CS76607</td>\n",
       "      <td>Sus-1</td>\n",
       "      <td>Kyrgyzstan</td>\n",
       "      <td>0.2994</td>\n",
       "      <td>16582</td>\n",
       "      <td>17.272917</td>\n",
       "    </tr>\n",
       "    <tr>\n",
       "      <th>4</th>\n",
       "      <td>766</td>\n",
       "      <td>1001G</td>\n",
       "      <td>73.63330</td>\n",
       "      <td>42.5833</td>\n",
       "      <td>CS76473</td>\n",
       "      <td>Dja-1</td>\n",
       "      <td>Kyrgyzstan</td>\n",
       "      <td>0.3004</td>\n",
       "      <td>16638</td>\n",
       "      <td>17.331250</td>\n",
       "    </tr>\n",
       "    <tr>\n",
       "      <th>...</th>\n",
       "      <td>...</td>\n",
       "      <td>...</td>\n",
       "      <td>...</td>\n",
       "      <td>...</td>\n",
       "      <td>...</td>\n",
       "      <td>...</td>\n",
       "      <td>...</td>\n",
       "      <td>...</td>\n",
       "      <td>...</td>\n",
       "      <td>...</td>\n",
       "    </tr>\n",
       "    <tr>\n",
       "      <th>224</th>\n",
       "      <td>10002</td>\n",
       "      <td>1001G</td>\n",
       "      <td>9.04000</td>\n",
       "      <td>48.5300</td>\n",
       "      <td>CS76405</td>\n",
       "      <td>TueWa1-2</td>\n",
       "      <td>Germany</td>\n",
       "      <td>0.2338</td>\n",
       "      <td>12949</td>\n",
       "      <td>13.488542</td>\n",
       "    </tr>\n",
       "    <tr>\n",
       "      <th>225</th>\n",
       "      <td>10006</td>\n",
       "      <td>1001G</td>\n",
       "      <td>34.38140</td>\n",
       "      <td>44.6419</td>\n",
       "      <td>CS76395</td>\n",
       "      <td>Kastel-1</td>\n",
       "      <td>Ukraine</td>\n",
       "      <td>0.3075</td>\n",
       "      <td>17031</td>\n",
       "      <td>17.740625</td>\n",
       "    </tr>\n",
       "    <tr>\n",
       "      <th>226</th>\n",
       "      <td>10011</td>\n",
       "      <td>1001G</td>\n",
       "      <td>45.36220</td>\n",
       "      <td>39.8692</td>\n",
       "      <td>CS76394</td>\n",
       "      <td>Yeg-1</td>\n",
       "      <td>Armenia</td>\n",
       "      <td>0.0489</td>\n",
       "      <td>2708</td>\n",
       "      <td>2.820833</td>\n",
       "    </tr>\n",
       "    <tr>\n",
       "      <th>227</th>\n",
       "      <td>10013</td>\n",
       "      <td>1001G</td>\n",
       "      <td>48.61310</td>\n",
       "      <td>38.7406</td>\n",
       "      <td>CS76388</td>\n",
       "      <td>Lerik1-3</td>\n",
       "      <td>Azerbaijan</td>\n",
       "      <td>0.1704</td>\n",
       "      <td>9438</td>\n",
       "      <td>9.831250</td>\n",
       "    </tr>\n",
       "    <tr>\n",
       "      <th>228</th>\n",
       "      <td>10014</td>\n",
       "      <td>1001G</td>\n",
       "      <td>48.79920</td>\n",
       "      <td>38.6536</td>\n",
       "      <td>CS76387</td>\n",
       "      <td>Xan-1</td>\n",
       "      <td>Azerbaijan</td>\n",
       "      <td>0.3026</td>\n",
       "      <td>16760</td>\n",
       "      <td>17.458333</td>\n",
       "    </tr>\n",
       "  </tbody>\n",
       "</table>\n",
       "<p>225 rows × 10 columns</p>\n",
       "</div>"
      ],
      "text/plain": [
       "     ecotypeid source  longitude  latitude csnumber      name     country  \\\n",
       "0          159  1001G    3.93333   47.3500  CS77070    MAR2-3      France   \n",
       "1          265  1001G   -1.16667   44.6500  CS77198     PYL-6      France   \n",
       "2          763  1001G   74.36670   42.3000  CS76522     Kar-1  Kyrgyzstan   \n",
       "3          765  1001G   73.40000   42.1833  CS76607     Sus-1  Kyrgyzstan   \n",
       "4          766  1001G   73.63330   42.5833  CS76473     Dja-1  Kyrgyzstan   \n",
       "..         ...    ...        ...       ...      ...       ...         ...   \n",
       "224      10002  1001G    9.04000   48.5300  CS76405  TueWa1-2     Germany   \n",
       "225      10006  1001G   34.38140   44.6419  CS76395  Kastel-1     Ukraine   \n",
       "226      10011  1001G   45.36220   39.8692  CS76394     Yeg-1     Armenia   \n",
       "227      10013  1001G   48.61310   38.7406  CS76388  Lerik1-3  Azerbaijan   \n",
       "228      10014  1001G   48.79920   38.6536  CS76387     Xan-1  Azerbaijan   \n",
       "\n",
       "     weightmasterseed  estimatedseednumber  seedsperplot  \n",
       "0              0.3004                16638     17.331250  \n",
       "1              0.3250                18000     18.750000  \n",
       "2              0.1827                10119     10.540625  \n",
       "3              0.2994                16582     17.272917  \n",
       "4              0.3004                16638     17.331250  \n",
       "..                ...                  ...           ...  \n",
       "224            0.2338                12949     13.488542  \n",
       "225            0.3075                17031     17.740625  \n",
       "226            0.0489                 2708      2.820833  \n",
       "227            0.1704                 9438      9.831250  \n",
       "228            0.3026                16760     17.458333  \n",
       "\n",
       "[225 rows x 10 columns]"
      ]
     },
     "execution_count": 109,
     "metadata": {},
     "output_type": "execute_result"
    }
   ],
   "source": [
    "ecotypes_grenenet"
   ]
  },
  {
   "cell_type": "code",
   "execution_count": 110,
   "id": "d00e3655",
   "metadata": {},
   "outputs": [],
   "source": [
    "ecotypes_grenenet = ecotypes_grenenet['ecotypeid'].tolist()"
   ]
  },
  {
   "cell_type": "code",
   "execution_count": 113,
   "id": "db8d2d03",
   "metadata": {},
   "outputs": [],
   "source": [
    "with open('ecotypes_grenenet.txt', 'w') as file:\n",
    "    file.write('\\n'.join(str(ecotypes) for ecotypes in ecotypes_grenenet))\n",
    "    "
   ]
  },
  {
   "cell_type": "code",
   "execution_count": null,
   "id": "d59649b2",
   "metadata": {},
   "outputs": [],
   "source": []
  },
  {
   "cell_type": "code",
   "execution_count": 50,
   "id": "17aa82b8",
   "metadata": {},
   "outputs": [],
   "source": [
    "ecotypes = str(lines).replace('[\\'', '').replace('\\']', '').replace(' ', '')\n"
   ]
  },
  {
   "cell_type": "code",
   "execution_count": 55,
   "id": "1ea6882d",
   "metadata": {},
   "outputs": [
    {
     "data": {
      "text/plain": [
       "str"
      ]
     },
     "execution_count": 55,
     "metadata": {},
     "output_type": "execute_result"
    }
   ],
   "source": [
    "type(ecotypes)"
   ]
  },
  {
   "cell_type": "code",
   "execution_count": 57,
   "id": "ab99edbc",
   "metadata": {},
   "outputs": [
    {
     "data": {
      "text/plain": [
       "'159,265,763,765,766,768,772,5151,5165,5768,5772,5784,5811,6013,6025,6040,6073,6074,6108,6150,6177,6180,6184,6188,6195,6209,6216,6243,6244,6898,6911,6915,6929,6932,6938,6939,6940,6945,6958,6961,6963,6979,6987,7000,7002,7003,7008,7013,7025,7028,7031,7036,7062,7063,7067,7071,7077,7092,7103,7106,7125,7126,7127,7143,7164,7165,7186,7203,7209,7217,7218,7244,7255,7268,7273,7276,7282,7287,7288,7296,7298,7316,7323,7333,7346,7347,7353,7372,7378,7384,7394,7404,7411,7521,8214,8230,8231,8240,8247,8249,8311,8312,8351,8354,8357,8376,8387,9057,9058,9323,9371,9394,9416,9427,9470,9481,9506,9507,9510,9512,9517,9518,9521,9522,9523,9524,9526,9527,9528,9529,9534,9535,9537,9539,9542,9544,9547,9548,9549,9555,9557,9559,9560,9562,9564,9565,9574,9577,9579,9584,9586,9587,9591,9594,9595,9596,9597,9598,9600,9602,9606,9612,9619,9625,9629,9632,9634,9637,9640,9643,9649,9653,9657,9659,9697,9698,9699,9713,9716,9719,9723,9726,9736,9737,9739,9741,9743,9748,9749,9758,9759,9761,9764,9766,9769,9774,9775,9779,9781,9782,9784,9803,9804,9813,9814,9820,9837,9857,9879,9910,9920,9921,9925,9933,9940,9941,9944,9947,9965,9966,9977,9978,9985,9992,10002,10006,10011,10013,10014,100001,100002'"
      ]
     },
     "execution_count": 57,
     "metadata": {},
     "output_type": "execute_result"
    }
   ],
   "source": [
    "ecotypes.replace(' ', '')"
   ]
  },
  {
   "cell_type": "code",
   "execution_count": null,
   "id": "08b2e28e",
   "metadata": {},
   "outputs": [],
   "source": []
  },
  {
   "cell_type": "code",
   "execution_count": 90,
   "id": "002a43e4",
   "metadata": {},
   "outputs": [
    {
     "name": "stderr",
     "output_type": "stream",
     "text": [
      "/var/folders/c7/0sb823gx22x79fkn0_lcmmqw0000gn/T/ipykernel_97014/1215055019.py:1: ParserWarning: Falling back to the 'python' engine because the 'c' engine does not support regex separators (separators > 1 char and different from '\\s+' are interpreted as regex); you can avoid this warning by specifying engine='python'.\n",
      "  len(pd.read_csv('ecotpyes_cluster_vcf.txt', sep= '/n'))\n"
     ]
    },
    {
     "data": {
      "text/plain": [
       "1134"
      ]
     },
     "execution_count": 90,
     "metadata": {},
     "output_type": "execute_result"
    }
   ],
   "source": [
    "len(pd.read_csv('ecotpyes_cluster_vcf.txt', sep= '/n'))"
   ]
  },
  {
   "cell_type": "code",
   "execution_count": 3,
   "id": "663e7b5f",
   "metadata": {},
   "outputs": [],
   "source": [
    "import pandas as pd"
   ]
  },
  {
   "cell_type": "code",
   "execution_count": 5,
   "id": "a38cdfde",
   "metadata": {},
   "outputs": [
    {
     "data": {
      "text/html": [
       "<div>\n",
       "<style scoped>\n",
       "    .dataframe tbody tr th:only-of-type {\n",
       "        vertical-align: middle;\n",
       "    }\n",
       "\n",
       "    .dataframe tbody tr th {\n",
       "        vertical-align: top;\n",
       "    }\n",
       "\n",
       "    .dataframe thead th {\n",
       "        text-align: right;\n",
       "    }\n",
       "</style>\n",
       "<table border=\"1\" class=\"dataframe\">\n",
       "  <thead>\n",
       "    <tr style=\"text-align: right;\">\n",
       "      <th></th>\n",
       "      <th>0</th>\n",
       "    </tr>\n",
       "  </thead>\n",
       "  <tbody>\n",
       "    <tr>\n",
       "      <th>0</th>\n",
       "      <td>-7</td>\n",
       "    </tr>\n",
       "    <tr>\n",
       "      <th>1</th>\n",
       "      <td>-4</td>\n",
       "    </tr>\n",
       "    <tr>\n",
       "      <th>2</th>\n",
       "      <td>1</td>\n",
       "    </tr>\n",
       "    <tr>\n",
       "      <th>3</th>\n",
       "      <td>-2</td>\n",
       "    </tr>\n",
       "    <tr>\n",
       "      <th>4</th>\n",
       "      <td>1</td>\n",
       "    </tr>\n",
       "    <tr>\n",
       "      <th>...</th>\n",
       "      <td>...</td>\n",
       "    </tr>\n",
       "    <tr>\n",
       "      <th>191</th>\n",
       "      <td>2</td>\n",
       "    </tr>\n",
       "    <tr>\n",
       "      <th>192</th>\n",
       "      <td>4</td>\n",
       "    </tr>\n",
       "    <tr>\n",
       "      <th>193</th>\n",
       "      <td>7</td>\n",
       "    </tr>\n",
       "    <tr>\n",
       "      <th>194</th>\n",
       "      <td>7</td>\n",
       "    </tr>\n",
       "    <tr>\n",
       "      <th>195</th>\n",
       "      <td>7</td>\n",
       "    </tr>\n",
       "  </tbody>\n",
       "</table>\n",
       "<p>196 rows × 1 columns</p>\n",
       "</div>"
      ],
      "text/plain": [
       "     0\n",
       "0   -7\n",
       "1   -4\n",
       "2    1\n",
       "3   -2\n",
       "4    1\n",
       "..  ..\n",
       "191  2\n",
       "192  4\n",
       "193  7\n",
       "194  7\n",
       "195  7\n",
       "\n",
       "[196 rows x 1 columns]"
      ]
     },
     "execution_count": 5,
     "metadata": {},
     "output_type": "execute_result"
    }
   ],
   "source": [
    "pd.read_csv('/Users/tbellagio/Documents/grenephase1/scratch_tati/simulations/moi_slim/BC_Map_environments.14x14.txt', header=None)"
   ]
  },
  {
   "cell_type": "code",
   "execution_count": 1,
   "id": "48d39a6f",
   "metadata": {},
   "outputs": [
    {
     "name": "stdout",
     "output_type": "stream",
     "text": [
      "/Users/tbellagio/Documents/grenephase1/scratch_tati/simulations\n"
     ]
    }
   ],
   "source": [
    "!pwd"
   ]
  },
  {
   "cell_type": "code",
   "execution_count": 6,
   "id": "1095ab81",
   "metadata": {},
   "outputs": [
    {
     "data": {
      "text/plain": [
       "196"
      ]
     },
     "execution_count": 6,
     "metadata": {},
     "output_type": "execute_result"
    }
   ],
   "source": [
    "14 * 14"
   ]
  },
  {
   "cell_type": "code",
   "execution_count": null,
   "id": "643b45bd",
   "metadata": {},
   "outputs": [],
   "source": []
  },
  {
   "cell_type": "code",
   "execution_count": null,
   "id": "a3edc528",
   "metadata": {},
   "outputs": [],
   "source": [
    "fitnessScaling = 1.5 - (phenotypes - 10.0)^2 * 0.005; "
   ]
  },
  {
   "cell_type": "code",
   "execution_count": null,
   "id": "aa720cda",
   "metadata": {},
   "outputs": [],
   "source": [
    "fitnessScaling = 1.5 - (phenotypes - 10.0)^2 * 0.005; "
   ]
  },
  {
   "cell_type": "code",
   "execution_count": null,
   "id": "8a7800c6",
   "metadata": {},
   "outputs": [],
   "source": [
    "fitnessEffect() { \n",
    " phenotype = sum(individual.genomes.countOfMutationsOfType(m2)); \n",
    " //print(individual.genomes.countOfMutationsOfType(m2));\n",
    " //print('hola');\n",
    " //print(phenotype);\n",
    " //print(1.5 - (phenotype - 10.0)^2 * 0.005);\n",
    " return 1.5 - (phenotype - 10.0)^2 * 0.005; b"
   ]
  },
  {
   "cell_type": "code",
   "execution_count": 7,
   "id": "2f890063",
   "metadata": {},
   "outputs": [
    {
     "ename": "NameError",
     "evalue": "name 'sqrt' is not defined",
     "output_type": "error",
     "traceback": [
      "\u001b[0;31m---------------------------------------------------------------------------\u001b[0m",
      "\u001b[0;31mNameError\u001b[0m                                 Traceback (most recent call last)",
      "Cell \u001b[0;32mIn[7], line 1\u001b[0m\n\u001b[0;32m----> 1\u001b[0m sqrt(\u001b[39m196\u001b[39m)\n",
      "\u001b[0;31mNameError\u001b[0m: name 'sqrt' is not defined"
     ]
    }
   ],
   "source": [
    "sqrt(196)"
   ]
  },
  {
   "cell_type": "code",
   "execution_count": 9,
   "id": "c848b89d",
   "metadata": {},
   "outputs": [
    {
     "data": {
      "text/plain": [
       "196"
      ]
     },
     "execution_count": 9,
     "metadata": {},
     "output_type": "execute_result"
    }
   ],
   "source": [
    "14 * 14\n"
   ]
  },
  {
   "cell_type": "code",
   "execution_count": 10,
   "id": "f2cdd8cf",
   "metadata": {},
   "outputs": [
    {
     "data": {
      "text/plain": [
       "16"
      ]
     },
     "execution_count": 10,
     "metadata": {},
     "output_type": "execute_result"
    }
   ],
   "source": [
    "4 * 4\n"
   ]
  },
  {
   "cell_type": "code",
   "execution_count": null,
   "id": "6ee3c818",
   "metadata": {},
   "outputs": [],
   "source": [
    "1.5 - (phenotypes - inds.subpopulation.tag)^2 * 0.005; "
   ]
  },
  {
   "cell_type": "code",
   "execution_count": 12,
   "id": "0ba992df",
   "metadata": {},
   "outputs": [
    {
     "data": {
      "text/plain": [
       "1.48"
      ]
     },
     "execution_count": 12,
     "metadata": {},
     "output_type": "execute_result"
    }
   ],
   "source": [
    "1.5 - ((0 - 2)**2) * 0.005"
   ]
  },
  {
   "cell_type": "code",
   "execution_count": 14,
   "id": "8c0f99c8",
   "metadata": {},
   "outputs": [],
   "source": [
    "phenotypes = 0\n",
    "indssubpopulationtag = -7"
   ]
  },
  {
   "cell_type": "code",
   "execution_count": 17,
   "id": "0485866c",
   "metadata": {},
   "outputs": [
    {
     "data": {
      "text/plain": [
       "1.255"
      ]
     },
     "execution_count": 17,
     "metadata": {},
     "output_type": "execute_result"
    }
   ],
   "source": [
    "1.5 - (phenotypes - indssubpopulationtag)**2 * 0.005"
   ]
  },
  {
   "cell_type": "code",
   "execution_count": 105,
   "id": "ca82bd00",
   "metadata": {},
   "outputs": [],
   "source": [
    "mu, sigma = 0.1, 2 # mean and standard deviation\n",
    "s = np.random.normal(mu, sigma, 100)"
   ]
  },
  {
   "cell_type": "code",
   "execution_count": 106,
   "id": "3dd879a3",
   "metadata": {},
   "outputs": [],
   "source": [
    "phenotype = sum(s)"
   ]
  },
  {
   "cell_type": "code",
   "execution_count": 107,
   "id": "3c5d201f",
   "metadata": {},
   "outputs": [
    {
     "data": {
      "text/plain": [
       "6.2749877549440045"
      ]
     },
     "execution_count": 107,
     "metadata": {},
     "output_type": "execute_result"
    }
   ],
   "source": [
    "phenotype"
   ]
  },
  {
   "cell_type": "code",
   "execution_count": 108,
   "id": "946dad2f",
   "metadata": {},
   "outputs": [
    {
     "data": {
      "text/plain": [
       "0.0046878913765051105"
      ]
     },
     "execution_count": 108,
     "metadata": {},
     "output_type": "execute_result"
    }
   ],
   "source": [
    "np.exp(-0.5 * (phenotype - 3)**2)"
   ]
  },
  {
   "cell_type": "code",
   "execution_count": 88,
   "id": "6e345b52",
   "metadata": {},
   "outputs": [
    {
     "data": {
      "text/plain": [
       "21.264550984034315"
      ]
     },
     "execution_count": 88,
     "metadata": {},
     "output_type": "execute_result"
    }
   ],
   "source": []
  },
  {
   "cell_type": "code",
   "execution_count": 84,
   "id": "7b8990c8",
   "metadata": {},
   "outputs": [
    {
     "data": {
      "text/plain": [
       "<AxesSubplot:ylabel='Count'>"
      ]
     },
     "execution_count": 84,
     "metadata": {},
     "output_type": "execute_result"
    },
    {
     "data": {
      "image/png": "[encoded data removed]",
      "text/plain": [
       "<Figure size 640x480 with 1 Axes>"
      ]
     },
     "metadata": {},
     "output_type": "display_data"
    }
   ],
   "source": [
    "sns.histplot(s)"
   ]
  },
  {
   "cell_type": "code",
   "execution_count": 419,
   "id": "b6264878",
   "metadata": {},
   "outputs": [],
   "source": [
    "mu, sigma = 0, 4 # mean and standard deviation\n",
    "s = np.random.normal(mu, sigma, 16)"
   ]
  },
  {
   "cell_type": "code",
   "execution_count": 420,
   "id": "7e72c304",
   "metadata": {},
   "outputs": [
    {
     "data": {
      "text/plain": [
       "array([-2.84728646, -7.20876196, -5.37404373, -3.05957445, -7.23467007,\n",
       "       -3.54623151,  1.10476636, -3.02757584,  0.3501178 , -5.83005607,\n",
       "       -3.94292278, -1.92356415, -6.7358435 , -0.91369091, -2.86572204,\n",
       "        3.2266286 ])"
      ]
     },
     "execution_count": 420,
     "metadata": {},
     "output_type": "execute_result"
    }
   ],
   "source": [
    "s"
   ]
  },
  {
   "cell_type": "code",
   "execution_count": 421,
   "id": "d5ab7a02",
   "metadata": {},
   "outputs": [
    {
     "data": {
      "text/plain": [
       "<AxesSubplot:ylabel='Count'>"
      ]
     },
     "execution_count": 421,
     "metadata": {},
     "output_type": "execute_result"
    },
    {
     "data": {
      "image/png": "[encoded data removed]",
      "text/plain": [
       "<Figure size 640x480 with 1 Axes>"
      ]
     },
     "metadata": {},
     "output_type": "display_data"
    }
   ],
   "source": [
    "sns.histplot(s)"
   ]
  },
  {
   "cell_type": "code",
   "execution_count": null,
   "id": "99b75814",
   "metadata": {},
   "outputs": [],
   "source": [
    "## phenotypes will be the sum of random mutations taken from a normal with mu, sigma = 0.1, 0.01\n",
    "mu, sigma = 0.1, 0.01 # mean and standard deviation\n",
    "s = np.random.normal(mu, sigma, )"
   ]
  },
  {
   "cell_type": "code",
   "execution_count": 45,
   "id": "c350662a",
   "metadata": {},
   "outputs": [
    {
     "data": {
      "text/plain": [
       "0.23"
      ]
     },
     "execution_count": 45,
     "metadata": {},
     "output_type": "execute_result"
    }
   ],
   "source": [
    "# uniform mutation rate of  1e-7 (per base position per gamete) across the whole chromosome.\n",
    "#initializeMutationRate(1e-8) probabilidad de mutation de una base por gameta por cromosoma\n",
    "\n",
    "#Number of mutations = Mutation rate × Length of DNA sequence × Time period\n",
    "\n",
    "1e-8 * 1000000 * 23\n",
    "\n"
   ]
  },
  {
   "cell_type": "code",
   "execution_count": 46,
   "id": "dfff2b5f",
   "metadata": {},
   "outputs": [],
   "source": [
    "qtls = '0.0 0.0 0.0 0.0 0.00179957 0.0 0.0 0.0 0.0 0.0 0.0 3.35447e-26 0.0 0.0 0.0 0.0 0.0 0.0 0.0 0.0 2.14615e-13 0.0 1.4013e-45 0.0 0.0 3.35447e-26 0.0 0.0 0.0 0.00179957 4.38608e-30 0.0 0.00179957 0.00179957 0.0 0.0 0.0 0.0 0.0 0.0 2.14615e-13 0.0 0.0 0.0 0.0 0.0 0.0 0.0 0.0 0.0 0.0 0.0 0.0 6.65165e-09 1.4013e-45 3.35447e-26 0.00179957 0.0 0.0 0.0 0.0 0.0 0.0 0.0 0.0 0.0 0.0 0.0 0.0 0.0 0.0 0.0 0.0 0.0 0.0 0.0 0.0 0.00179957 0.0 0.0 0.0 0.0 0.0 0.0 0.0 0.00179957 0.0 0.0 0.0 0.0 1.4013e-45 0.00179957 0.0 0.0 0.0 0.0 4.38608e-30 0.0 0.0 0.0'"
   ]
  },
  {
   "cell_type": "code",
   "execution_count": 47,
   "id": "4b4e6bad",
   "metadata": {},
   "outputs": [
    {
     "data": {
      "text/plain": [
       "'0.0,0.0,0.0,0.0,0.00179957,0.0,0.0,0.0,0.0,0.0,0.0,3.35447e-26,0.0,0.0,0.0,0.0,0.0,0.0,0.0,0.0,2.14615e-13,0.0,1.4013e-45,0.0,0.0,3.35447e-26,0.0,0.0,0.0,0.00179957,4.38608e-30,0.0,0.00179957,0.00179957,0.0,0.0,0.0,0.0,0.0,0.0,2.14615e-13,0.0,0.0,0.0,0.0,0.0,0.0,0.0,0.0,0.0,0.0,0.0,0.0,6.65165e-09,1.4013e-45,3.35447e-26,0.00179957,0.0,0.0,0.0,0.0,0.0,0.0,0.0,0.0,0.0,0.0,0.0,0.0,0.0,0.0,0.0,0.0,0.0,0.0,0.0,0.0,0.00179957,0.0,0.0,0.0,0.0,0.0,0.0,0.0,0.00179957,0.0,0.0,0.0,0.0,1.4013e-45,0.00179957,0.0,0.0,0.0,0.0,4.38608e-30,0.0,0.0,0.0'"
      ]
     },
     "execution_count": 47,
     "metadata": {},
     "output_type": "execute_result"
    }
   ],
   "source": [
    "qtls = qtls.replace(' ', ',')"
   ]
  },
  {
   "cell_type": "code",
   "execution_count": 61,
   "id": "932e6a90",
   "metadata": {},
   "outputs": [],
   "source": [
    "## phenotypes are basically the sum of different effect sizes \n",
    "\n",
    "phenotypes = np.array([0.0,0.0,0.0,0.0,0.00179957,0.0,0.0,0.0,0.0,0.0,0.0,3.35447e-26,0.0,0.0,0.0,0.0,0.0,0.0,0.0,0.0,2.14615e-13,0.0,1.4013e-45,0.0,0.0,3.35447e-26,0.0,0.0,0.0,0.00179957,4.38608e-30,0.0,0.00179957,0.00179957,0.0,0.0,0.0,0.0,0.0,0.0,2.14615e-13,0.0,0.0,0.0,0.0,0.0,0.0,0.0,0.0,0.0,0.0,0.0,0.0,6.65165e-09,1.4013e-45,3.35447e-26,0.00179957,0.0,0.0,0.0,0.0,0.0,0.0,0.0,0.0,0.0,0.0,0.0,0.0,0.0,0.0,0.0,0.0,0.0,0.0,0.0,0.0,0.00179957,0.0,0.0,0.0,0.0,0.0,0.0,0.0,0.00179957,0.0,0.0,0.0,0.0,1.4013e-45,0.00179957,0.0,0.0,0.0,0.0,4.38608e-30,0.0,0.0,0.0])"
   ]
  },
  {
   "cell_type": "code",
   "execution_count": null,
   "id": "b3f3605b",
   "metadata": {},
   "outputs": [],
   "source": [
    "Fitness = exp(-0.5 * (phenotype - optimum)^2 / sigma^2)\n",
    "Fitness = exp(-0.5 * (phenotype - optimum)^2)\n",
    "\n",
    "## what i was using \n",
    "inds.fitnessScaling = 1.5 - (phenotypes - inds.subpopulation.tag)^2 * 0.005; \n"
   ]
  },
  {
   "cell_type": "code",
   "execution_count": null,
   "id": "30fd151b",
   "metadata": {},
   "outputs": [],
   "source": [
    "inds.fitnessScaling = 1.5 - (phenotypes - inds.subpopulation.tag)^2 * 0.005; \n"
   ]
  },
  {
   "cell_type": "code",
   "execution_count": 66,
   "id": "5ac6272f",
   "metadata": {},
   "outputs": [],
   "source": [
    "fitness = np.exp(-0.5 * (phenotypes - 2) ** 2)\n"
   ]
  },
  {
   "cell_type": "code",
   "execution_count": 67,
   "id": "52acc3cf",
   "metadata": {},
   "outputs": [
    {
     "data": {
      "text/plain": [
       "array([0.13533528, 0.13533528, 0.13533528, 0.13533528, 0.13582303,\n",
       "       0.13533528, 0.13533528, 0.13533528, 0.13533528, 0.13533528,\n",
       "       0.13533528, 0.13533528, 0.13533528, 0.13533528, 0.13533528,\n",
       "       0.13533528, 0.13533528, 0.13533528, 0.13533528, 0.13533528,\n",
       "       0.13533528, 0.13533528, 0.13533528, 0.13533528, 0.13533528,\n",
       "       0.13533528, 0.13533528, 0.13533528, 0.13533528, 0.13582303,\n",
       "       0.13533528, 0.13533528, 0.13582303, 0.13582303, 0.13533528,\n",
       "       0.13533528, 0.13533528, 0.13533528, 0.13533528, 0.13533528,\n",
       "       0.13533528, 0.13533528, 0.13533528, 0.13533528, 0.13533528,\n",
       "       0.13533528, 0.13533528, 0.13533528, 0.13533528, 0.13533528,\n",
       "       0.13533528, 0.13533528, 0.13533528, 0.13533529, 0.13533528,\n",
       "       0.13533528, 0.13582303, 0.13533528, 0.13533528, 0.13533528,\n",
       "       0.13533528, 0.13533528, 0.13533528, 0.13533528, 0.13533528,\n",
       "       0.13533528, 0.13533528, 0.13533528, 0.13533528, 0.13533528,\n",
       "       0.13533528, 0.13533528, 0.13533528, 0.13533528, 0.13533528,\n",
       "       0.13533528, 0.13533528, 0.13582303, 0.13533528, 0.13533528,\n",
       "       0.13533528, 0.13533528, 0.13533528, 0.13533528, 0.13533528,\n",
       "       0.13582303, 0.13533528, 0.13533528, 0.13533528, 0.13533528,\n",
       "       0.13533528, 0.13582303, 0.13533528, 0.13533528, 0.13533528,\n",
       "       0.13533528, 0.13533528, 0.13533528, 0.13533528, 0.13533528])"
      ]
     },
     "execution_count": 67,
     "metadata": {},
     "output_type": "execute_result"
    }
   ],
   "source": [
    "fitness"
   ]
  },
  {
   "cell_type": "code",
   "execution_count": null,
   "id": "dc7cdc61",
   "metadata": {},
   "outputs": [],
   "source": [
    "def calculate_fitness(phenotype, optimum, sigma):\n",
    "    exponent = \n",
    "    fitness = \n",
    "    return fitness"
   ]
  },
  {
   "cell_type": "code",
   "execution_count": 79,
   "id": "c0dd7ea4",
   "metadata": {},
   "outputs": [],
   "source": [
    "\n",
    "\n",
    "#define x-axis values\n",
    "x = np.linspace (0, 40, 100) \n",
    "\n",
    "#calculate pdf of Gamma distribution for each x-value\n",
    "y = stats.gamma.pdf(x, a=5, scale=3)\n"
   ]
  },
  {
   "cell_type": "code",
   "execution_count": 81,
   "id": "66fe943b",
   "metadata": {},
   "outputs": [
    {
     "data": {
      "text/plain": [
       "array([ 0.        ,  0.4040404 ,  0.80808081,  1.21212121,  1.61616162,\n",
       "        2.02020202,  2.42424242,  2.82828283,  3.23232323,  3.63636364,\n",
       "        4.04040404,  4.44444444,  4.84848485,  5.25252525,  5.65656566,\n",
       "        6.06060606,  6.46464646,  6.86868687,  7.27272727,  7.67676768,\n",
       "        8.08080808,  8.48484848,  8.88888889,  9.29292929,  9.6969697 ,\n",
       "       10.1010101 , 10.50505051, 10.90909091, 11.31313131, 11.71717172,\n",
       "       12.12121212, 12.52525253, 12.92929293, 13.33333333, 13.73737374,\n",
       "       14.14141414, 14.54545455, 14.94949495, 15.35353535, 15.75757576,\n",
       "       16.16161616, 16.56565657, 16.96969697, 17.37373737, 17.77777778,\n",
       "       18.18181818, 18.58585859, 18.98989899, 19.39393939, 19.7979798 ,\n",
       "       20.2020202 , 20.60606061, 21.01010101, 21.41414141, 21.81818182,\n",
       "       22.22222222, 22.62626263, 23.03030303, 23.43434343, 23.83838384,\n",
       "       24.24242424, 24.64646465, 25.05050505, 25.45454545, 25.85858586,\n",
       "       26.26262626, 26.66666667, 27.07070707, 27.47474747, 27.87878788,\n",
       "       28.28282828, 28.68686869, 29.09090909, 29.49494949, 29.8989899 ,\n",
       "       30.3030303 , 30.70707071, 31.11111111, 31.51515152, 31.91919192,\n",
       "       32.32323232, 32.72727273, 33.13131313, 33.53535354, 33.93939394,\n",
       "       34.34343434, 34.74747475, 35.15151515, 35.55555556, 35.95959596,\n",
       "       36.36363636, 36.76767677, 37.17171717, 37.57575758, 37.97979798,\n",
       "       38.38383838, 38.78787879, 39.19191919, 39.5959596 , 40.        ])"
      ]
     },
     "execution_count": 81,
     "metadata": {},
     "output_type": "execute_result"
    }
   ],
   "source": [
    "x"
   ]
  },
  {
   "cell_type": "code",
   "execution_count": 80,
   "id": "7e50e146",
   "metadata": {},
   "outputs": [
    {
     "name": "stderr",
     "output_type": "stream",
     "text": [
      "/Users/tbellagio/opt/anaconda3/envs/simulations/lib/python3.10/site-packages/seaborn/_decorators.py:36: FutureWarning: Pass the following variables as keyword args: x, y. From version 0.12, the only valid positional argument will be `data`, and passing other arguments without an explicit keyword will result in an error or misinterpretation.\n",
      "  warnings.warn(\n"
     ]
    },
    {
     "data": {
      "image/png": "[encoded data removed]",
      "text/plain": [
       "<Figure size 640x480 with 1 Axes>"
      ]
     },
     "metadata": {},
     "output_type": "display_data"
    }
   ],
   "source": [
    "sns.lineplot(x,y);"
   ]
  },
  {
   "cell_type": "code",
   "execution_count": 111,
   "id": "ca7b33ae",
   "metadata": {},
   "outputs": [
    {
     "data": {
      "text/plain": [
       "1969.055"
      ]
     },
     "execution_count": 111,
     "metadata": {},
     "output_type": "execute_result"
    }
   ],
   "source": [
    "1969055 * 0.001"
   ]
  },
  {
   "cell_type": "code",
   "execution_count": 113,
   "id": "d9d983ba",
   "metadata": {},
   "outputs": [
    {
     "data": {
      "text/plain": [
       "4920.25"
      ]
     },
     "execution_count": 113,
     "metadata": {},
     "output_type": "execute_result"
    }
   ],
   "source": [
    "19681/4"
   ]
  },
  {
   "cell_type": "code",
   "execution_count": 114,
   "id": "00b48c67",
   "metadata": {},
   "outputs": [
    {
     "data": {
      "text/plain": [
       "9840"
      ]
     },
     "execution_count": 114,
     "metadata": {},
     "output_type": "execute_result"
    }
   ],
   "source": [
    "4920 + 4920"
   ]
  },
  {
   "cell_type": "code",
   "execution_count": 116,
   "id": "c8061343",
   "metadata": {},
   "outputs": [
    {
     "data": {
      "text/plain": [
       "18969"
      ]
     },
     "execution_count": 116,
     "metadata": {},
     "output_type": "execute_result"
    }
   ],
   "source": [
    "14760 + 4209"
   ]
  },
  {
   "cell_type": "code",
   "execution_count": 117,
   "id": "7163b5b7",
   "metadata": {},
   "outputs": [
    {
     "data": {
      "text/plain": [
       "23178"
      ]
     },
     "execution_count": 117,
     "metadata": {},
     "output_type": "execute_result"
    }
   ],
   "source": [
    "18969 + 4209"
   ]
  },
  {
   "cell_type": "code",
   "execution_count": 125,
   "id": "e38a7b47",
   "metadata": {},
   "outputs": [
    {
     "data": {
      "text/plain": [
       "492.0"
      ]
     },
     "execution_count": 125,
     "metadata": {},
     "output_type": "execute_result"
    }
   ],
   "source": [
    "4920 * 0.1"
   ]
  },
  {
   "cell_type": "code",
   "execution_count": 126,
   "id": "c446ee38",
   "metadata": {},
   "outputs": [
    {
     "data": {
      "text/plain": [
       "4428.0"
      ]
     },
     "execution_count": 126,
     "metadata": {},
     "output_type": "execute_result"
    }
   ],
   "source": [
    "4920 * 0.9"
   ]
  },
  {
   "attachments": {},
   "cell_type": "markdown",
   "id": "ef820b7e",
   "metadata": {},
   "source": [
    "Create fasta files from vcf files code "
   ]
  },
  {
   "cell_type": "code",
   "execution_count": null,
   "id": "7e1b9d5f",
   "metadata": {},
   "outputs": [],
   "source": [
    "import allel\n"
   ]
  },
  {
   "cell_type": "code",
   "execution_count": 178,
   "id": "f43ee586",
   "metadata": {},
   "outputs": [],
   "source": [
    "#vcf.keys()\n",
    "vcf = allel.read_vcf('outputs/subp0.vcf', samples=['i0'])\n",
    "gt = vcf['calldata/GT']\n",
    "ref = vcf['variants/REF']\n",
    "alt = vcf['variants/ALT']\n",
    "\n",
    "## checking that all the values in the second column are empty \n",
    "np.all(alt[:, 1] == '')\n",
    "## checking that all the values in the third column are empty \n",
    "np.all(alt[:, 2] == '')\n",
    "## so i will only keep the ones in the first column \n",
    "alt = alt[:, 0] \n",
    "first_chr = gt[:, 0, 0]\n",
    "second_chr = gt[:, 0, 1]\n",
    "\n",
    "# Retrieve the reference sequence for the genomic region covered by the VCF file\n",
    "chrom = vcf['variants/CHROM'][0]\n",
    "start = vcf['variants/POS'][0]\n",
    "end = vcf['variants/POS'][-1]\n",
    "# Convert the genotype information to a nucleotide sequence\n",
    "seq_firstchr = ''\n",
    "for i in range(0, len(first_chr)):\n",
    "    if first_chr[i] == 0:\n",
    "        seq_firstchr += ref[i]\n",
    "    else:\n",
    "        seq_firstchr += alt[i]\n",
    "seq_firstchr\n",
    "with open(f'{sample}.fasta', 'w') as f:\n",
    "    f.write(f'>{chrom}:{start}-{end}\\n')\n",
    "    f.write(seq_firstchr + '\\n')\n"
   ]
  },
  {
   "cell_type": "code",
   "execution_count": null,
   "id": "d449abd4",
   "metadata": {},
   "outputs": [],
   "source": [
    "## make a loop to create a fasta file for all the individuals in one population"
   ]
  },
  {
   "cell_type": "code",
   "execution_count": 316,
   "id": "f0513254",
   "metadata": {},
   "outputs": [],
   "source": [
    "vcf = allel.read_vcf('vcf_slim/subp0.vcf')"
   ]
  },
  {
   "cell_type": "code",
   "execution_count": 318,
   "id": "8fbec0fe",
   "metadata": {},
   "outputs": [],
   "source": [
    "samples = vcf['samples']"
   ]
  },
  {
   "cell_type": "code",
   "execution_count": 330,
   "id": "70e7d856",
   "metadata": {},
   "outputs": [
    {
     "name": "stdout",
     "output_type": "stream",
     "text": [
      "i0\n",
      "i1\n",
      "i2\n",
      "i3\n",
      "i4\n",
      "i5\n",
      "i6\n",
      "i7\n",
      "i8\n",
      "i9\n",
      "i10\n",
      "i11\n",
      "i12\n",
      "i13\n",
      "i14\n",
      "i15\n",
      "i16\n",
      "i17\n",
      "i18\n",
      "i19\n"
     ]
    }
   ],
   "source": [
    "#vcf.keys()\n",
    "## will just do it for 20 \n",
    "for individual in samples[:20]: \n",
    "    print(individual)\n",
    "    vcf = allel.read_vcf('vcf_slim/subp0.vcf', samples=[individual])\n",
    "    gt = vcf['calldata/GT']\n",
    "    ref = vcf['variants/REF']\n",
    "    alt = vcf['variants/ALT']\n",
    "\n",
    "    ## i will only keep the ones in the first column for the alt \n",
    "    alt = alt[:, 0] \n",
    "    first_chr = gt[:, 0, 0]\n",
    "    second_chr = gt[:, 0, 1]\n",
    "\n",
    "    # Retrieve the reference sequence for the genomic region covered by the VCF file\n",
    "\n",
    "    ## here i will have to pretend that each organisms is a chromosome \n",
    "    #chrom = vcf['variants/CHROM'][0]\n",
    "    start = vcf['variants/POS'][0]\n",
    "    end = vcf['variants/POS'][-1]\n",
    "    # Convert the genotype information to a nucleotide sequence\n",
    "    seq_firstchr = ''\n",
    "    for i in range(0, len(first_chr)):\n",
    "        if first_chr[i] == 0:\n",
    "            seq_firstchr += ref[i]\n",
    "        else:\n",
    "            seq_firstchr += alt[i]\n",
    "    seq_firstchr\n",
    "    with open(f'vcf_slim/fasta_slim/subp0.fasta', 'a') as f:\n",
    "        f.write(f'>{individual}:{start}-{end}\\n')\n",
    "        f.write(seq_firstchr + '\\n')"
   ]
  },
  {
   "cell_type": "code",
   "execution_count": null,
   "id": "cea16dd0",
   "metadata": {},
   "outputs": [],
   "source": []
  },
  {
   "cell_type": "code",
   "execution_count": 312,
   "id": "a6e24d67",
   "metadata": {},
   "outputs": [],
   "source": [
    "## find heterocygous sites with scikit allele"
   ]
  },
  {
   "cell_type": "code",
   "execution_count": 313,
   "id": "56c03968",
   "metadata": {},
   "outputs": [
    {
     "ename": "FileNotFoundError",
     "evalue": "[Errno 2] No such file or directory: 'outputs/subp0.vcf'",
     "output_type": "error",
     "traceback": [
      "\u001b[0;31m---------------------------------------------------------------------------\u001b[0m",
      "\u001b[0;31mFileNotFoundError\u001b[0m                         Traceback (most recent call last)",
      "Cell \u001b[0;32mIn[313], line 1\u001b[0m\n\u001b[0;32m----> 1\u001b[0m callset \u001b[39m=\u001b[39m allel\u001b[39m.\u001b[39;49mread_vcf(\u001b[39m'\u001b[39;49m\u001b[39moutputs/subp0.vcf\u001b[39;49m\u001b[39m'\u001b[39;49m)\n",
      "File \u001b[0;32m~/opt/anaconda3/envs/simulations/lib/python3.10/site-packages/allel/io/vcf_read.py:304\u001b[0m, in \u001b[0;36mread_vcf\u001b[0;34m(input, fields, exclude_fields, rename_fields, types, numbers, alt_number, fills, region, tabix, samples, transformers, buffer_size, chunk_length, log)\u001b[0m\n\u001b[1;32m    301\u001b[0m store_samples, fields \u001b[39m=\u001b[39m _prep_fields_param(fields)\n\u001b[1;32m    303\u001b[0m \u001b[39m# setup\u001b[39;00m\n\u001b[0;32m--> 304\u001b[0m fields, samples, headers, it \u001b[39m=\u001b[39m iter_vcf_chunks(\n\u001b[1;32m    305\u001b[0m     \u001b[39minput\u001b[39;49m\u001b[39m=\u001b[39;49m\u001b[39minput\u001b[39;49m, fields\u001b[39m=\u001b[39;49mfields, exclude_fields\u001b[39m=\u001b[39;49mexclude_fields, types\u001b[39m=\u001b[39;49mtypes,\n\u001b[1;32m    306\u001b[0m     numbers\u001b[39m=\u001b[39;49mnumbers, alt_number\u001b[39m=\u001b[39;49malt_number, buffer_size\u001b[39m=\u001b[39;49mbuffer_size,\n\u001b[1;32m    307\u001b[0m     chunk_length\u001b[39m=\u001b[39;49mchunk_length, fills\u001b[39m=\u001b[39;49mfills, region\u001b[39m=\u001b[39;49mregion, tabix\u001b[39m=\u001b[39;49mtabix,\n\u001b[1;32m    308\u001b[0m     samples\u001b[39m=\u001b[39;49msamples, transformers\u001b[39m=\u001b[39;49mtransformers\n\u001b[1;32m    309\u001b[0m )\n\u001b[1;32m    311\u001b[0m \u001b[39m# handle field renaming\u001b[39;00m\n\u001b[1;32m    312\u001b[0m \u001b[39mif\u001b[39;00m rename_fields:\n",
      "File \u001b[0;32m~/opt/anaconda3/envs/simulations/lib/python3.10/site-packages/allel/io/vcf_read.py:1134\u001b[0m, in \u001b[0;36miter_vcf_chunks\u001b[0;34m(input, fields, exclude_fields, types, numbers, alt_number, fills, region, tabix, samples, transformers, buffer_size, chunk_length)\u001b[0m\n\u001b[1;32m   1129\u001b[0m kwds \u001b[39m=\u001b[39m \u001b[39mdict\u001b[39m(fields\u001b[39m=\u001b[39mfields, exclude_fields\u001b[39m=\u001b[39mexclude_fields, types\u001b[39m=\u001b[39mtypes,\n\u001b[1;32m   1130\u001b[0m             numbers\u001b[39m=\u001b[39mnumbers, alt_number\u001b[39m=\u001b[39malt_number, chunk_length\u001b[39m=\u001b[39mchunk_length,\n\u001b[1;32m   1131\u001b[0m             fills\u001b[39m=\u001b[39mfills, samples\u001b[39m=\u001b[39msamples, region\u001b[39m=\u001b[39mregion)\n\u001b[1;32m   1133\u001b[0m \u001b[39m# setup input stream\u001b[39;00m\n\u001b[0;32m-> 1134\u001b[0m stream \u001b[39m=\u001b[39m _setup_input_stream(\u001b[39minput\u001b[39;49m\u001b[39m=\u001b[39;49m\u001b[39minput\u001b[39;49m, region\u001b[39m=\u001b[39;49mregion, tabix\u001b[39m=\u001b[39;49mtabix,\n\u001b[1;32m   1135\u001b[0m                              buffer_size\u001b[39m=\u001b[39;49mbuffer_size)\n\u001b[1;32m   1137\u001b[0m \u001b[39m# setup iterator\u001b[39;00m\n\u001b[1;32m   1138\u001b[0m fields, samples, headers, it \u001b[39m=\u001b[39m _iter_vcf_stream(stream, \u001b[39m*\u001b[39m\u001b[39m*\u001b[39mkwds)\n",
      "File \u001b[0;32m~/opt/anaconda3/envs/simulations/lib/python3.10/site-packages/allel/io/vcf_read.py:1058\u001b[0m, in \u001b[0;36m_setup_input_stream\u001b[0;34m(input, region, tabix, buffer_size)\u001b[0m\n\u001b[1;32m   1054\u001b[0m         close \u001b[39m=\u001b[39m \u001b[39mTrue\u001b[39;00m\n\u001b[1;32m   1056\u001b[0m \u001b[39melif\u001b[39;00m \u001b[39misinstance\u001b[39m(\u001b[39minput\u001b[39m, \u001b[39mstr\u001b[39m):\n\u001b[1;32m   1057\u001b[0m     \u001b[39m# assume no compression\u001b[39;00m\n\u001b[0;32m-> 1058\u001b[0m     fileobj \u001b[39m=\u001b[39m \u001b[39mopen\u001b[39;49m(\u001b[39minput\u001b[39;49m, mode\u001b[39m=\u001b[39;49m\u001b[39m'\u001b[39;49m\u001b[39mrb\u001b[39;49m\u001b[39m'\u001b[39;49m, buffering\u001b[39m=\u001b[39;49m\u001b[39m0\u001b[39;49m)\n\u001b[1;32m   1059\u001b[0m     close \u001b[39m=\u001b[39m \u001b[39mTrue\u001b[39;00m\n\u001b[1;32m   1061\u001b[0m \u001b[39melif\u001b[39;00m \u001b[39mhasattr\u001b[39m(\u001b[39minput\u001b[39m, \u001b[39m'\u001b[39m\u001b[39mreadinto\u001b[39m\u001b[39m'\u001b[39m):\n",
      "\u001b[0;31mFileNotFoundError\u001b[0m: [Errno 2] No such file or directory: 'outputs/subp0.vcf'"
     ]
    }
   ],
   "source": [
    "callset = allel.read_vcf('outputs/subp0.vcf') #, samples=['i0'])"
   ]
  },
  {
   "cell_type": "code",
   "execution_count": null,
   "id": "2fb82492",
   "metadata": {},
   "outputs": [],
   "source": [
    "\n",
    "# Get genotype array\n",
    "gt = allel.GenotypeArray(callset['calldata/GT'])\n"
   ]
  },
  {
   "cell_type": "code",
   "execution_count": null,
   "id": "d3545005",
   "metadata": {},
   "outputs": [
    {
     "data": {
      "text/plain": [
       "array([[False, False, False, ..., False, False, False],\n",
       "       [False, False, False, ..., False, False, False],\n",
       "       [False, False, False, ..., False, False, False],\n",
       "       ...,\n",
       "       [False, False, False, ..., False, False, False],\n",
       "       [False, False, False, ..., False, False, False],\n",
       "       [False, False, False, ..., False, False, False]])"
      ]
     },
     "execution_count": 233,
     "metadata": {},
     "output_type": "execute_result"
    }
   ],
   "source": [
    "gt.is_het()\n"
   ]
  },
  {
   "cell_type": "code",
   "execution_count": null,
   "id": "e58e4466",
   "metadata": {},
   "outputs": [],
   "source": [
    "## number of heterozigous per position in my simulation \n",
    "len(gt.count_het(axis=1))\n",
    "het_per_pos = gt.count_het(axis=1)"
   ]
  },
  {
   "cell_type": "code",
   "execution_count": null,
   "id": "99cbbea4",
   "metadata": {},
   "outputs": [
    {
     "data": {
      "text/plain": [
       "<AxesSubplot:ylabel='Count'>"
      ]
     },
     "execution_count": 244,
     "metadata": {},
     "output_type": "execute_result"
    },
    {
     "data": {
      "image/png": "[encoded data removed]",
      "text/plain": [
       "<Figure size 640x480 with 1 Axes>"
      ]
     },
     "metadata": {},
     "output_type": "display_data"
    }
   ],
   "source": [
    "sns.histplot(het_per_pos)"
   ]
  },
  {
   "cell_type": "code",
   "execution_count": 333,
   "id": "28fb11f8",
   "metadata": {},
   "outputs": [],
   "source": [
    "### how to relate the fitness and the number of offspring \n",
    "\n",
    "\n",
    "from scipy.stats import poisson\n",
    "\n",
    "#generate random values from Poisson distribution with mean=3 and sample size=10\n",
    "v = poisson.rvs(mu=2, size=1)"
   ]
  },
  {
   "cell_type": "code",
   "execution_count": 354,
   "id": "488afb27",
   "metadata": {},
   "outputs": [],
   "source": [
    "fitness = np.array(fitness)"
   ]
  },
  {
   "cell_type": "code",
   "execution_count": 356,
   "id": "7e7e0255",
   "metadata": {},
   "outputs": [
    {
     "data": {
      "text/plain": [
       "array([12.6966 , 10.6575 , 10.0849 , 14.9224 ,  7.79436, 16.1183 ,\n",
       "       14.5854 , 12.1587 , 13.5396 , 12.258  , 11.8517 , 13.1451 ,\n",
       "       11.5364 , 13.3351 , 11.1018 , 11.2782 , 12.6917 , 18.8412 ,\n",
       "       10.6595 , 12.3677 , 10.1509 , 11.3001 , 12.6499 ,  9.05024,\n",
       "       11.1095 , 10.5936 , 12.109  , 12.5418 , 11.5789 , 11.4319 ,\n",
       "       13.3566 , 13.9941 , 12.6608 , 18.8412 , 15.1431 , 11.5578 ,\n",
       "       13.5802 , 11.5743 , 11.4843 , 11.7558 , 11.4587 , 11.347  ,\n",
       "       14.103  , 12.3669 , 10.7956 ,  8.08025, 10.4121 , 14.403  ,\n",
       "       18.2383 , 12.4161 , 11.6155 , 10.3975 , 13.1357 , 10.9732 ,\n",
       "       11.7638 , 14.4976 ,  8.23244, 10.392  , 16.1054 , 14.2423 ,\n",
       "        9.64468, 11.3949 , 14.0501 , 14.403  , 11.5897 , 16.697  ,\n",
       "       12.5442 , 12.7203 , 17.7736 , 12.7009 , 12.5301 , 13.0964 ,\n",
       "       12.358  ,  7.38602, 16.6074 , 12.0858 , 11.1043 , 12.1324 ,\n",
       "       11.7557 , 12.6746 , 13.0154 , 14.0475 , 11.61   , 14.4674 ,\n",
       "       11.7629 , 10.3121 , 12.2055 , 17.5894 , 14.7515 , 13.5304 ,\n",
       "       12.2787 ,  8.99457, 10.7057 , 10.4791 , 10.9732 , 10.2642 ,\n",
       "        9.80694, 12.0856 , 10.3479 ,  9.28734, 18.9947 , 14.5354 ,\n",
       "       10.969  , 11.4311 ,  9.15521, 12.0444 , 16.2971 ,  9.01581,\n",
       "       13.6597 , 11.2526 ,  9.80423, 12.1239 , 10.295  , 12.792  ,\n",
       "       10.7736 , 13.0869 ,  9.06049, 16.5495 , 13.0964 , 11.4297 ,\n",
       "       13.1095 , 11.9412 , 13.1422 , 11.9277 ,  8.57881,  9.69496,\n",
       "       10.2173 ,  9.75681, 11.0846 , 14.1249 ,  9.75464, 12.602  ,\n",
       "       12.1592 , 11.7028 , 13.5322 , 12.3865 , 10.8306 , 11.0652 ,\n",
       "       11.7499 ,  9.8621 , 10.2743 , 14.8283 , 15.5649 , 11.9528 ,\n",
       "       12.8064 , 13.7391 , 11.9368 , 12.1066 , 11.4881 , 16.2357 ,\n",
       "       12.6326 , 12.8649 ,  9.48908,  9.30558, 11.8129 , 12.0245 ,\n",
       "       12.4181 , 12.2376 , 13.9955 , 11.1295 , 11.9615 , 14.9618 ,\n",
       "       10.0399 , 14.6666 , 12.5771 , 14.1418 , 13.7535 , 11.5578 ,\n",
       "       11.2974 , 12.5185 , 12.6608 , 10.4121 , 13.4051 , 17.993  ,\n",
       "       10.4009 , 16.8861 , 17.5661 , 10.7831 , 11.1626 , 13.5367 ,\n",
       "        9.87845, 11.673  , 14.2507 , 11.5031 ,  8.91522, 12.401  ,\n",
       "        8.93997,  9.50806, 10.7208 ])"
      ]
     },
     "execution_count": 356,
     "metadata": {},
     "output_type": "execute_result"
    }
   ],
   "source": [
    "fitness * 10"
   ]
  },
  {
   "cell_type": "code",
   "execution_count": 357,
   "id": "b7c338c9",
   "metadata": {},
   "outputs": [
    {
     "data": {
      "text/plain": [
       "189"
      ]
     },
     "execution_count": 357,
     "metadata": {},
     "output_type": "execute_result"
    }
   ],
   "source": [
    "len(fitness)"
   ]
  },
  {
   "cell_type": "code",
   "execution_count": 358,
   "id": "5010e3b8",
   "metadata": {},
   "outputs": [
    {
     "data": {
      "text/plain": [
       "array([1., 1., 1., 1., 1., 1., 1., 1., 1., 1., 1., 1., 1., 1., 1., 1., 1.,\n",
       "       1., 1., 1., 1., 1., 1., 1., 1., 1., 1., 1., 1., 1., 1., 1., 1., 1.,\n",
       "       1., 1., 1., 1., 1., 1., 1., 1., 1., 1., 1., 1., 1., 1., 1., 1., 1.,\n",
       "       1., 1., 1., 1., 1., 1., 1., 1., 1., 1., 1., 1., 1., 1., 1., 1., 1.,\n",
       "       1., 1., 1., 1., 1., 1., 1., 1., 1., 1., 1., 1., 1., 1., 1., 1., 1.,\n",
       "       1., 1., 1., 1., 1., 1., 1., 1., 1., 1., 1., 1., 1., 1., 1., 1., 1.,\n",
       "       1., 1., 1., 1., 1., 1., 1., 1., 1., 1., 1., 1., 1., 1., 1., 1., 1.,\n",
       "       1., 1., 1., 1., 1., 1., 1., 1., 1., 1., 1., 1., 1., 1., 1., 1., 1.,\n",
       "       1., 1., 1., 1., 1., 1., 1., 1., 1., 1., 1., 1., 1., 1., 1., 1., 1.,\n",
       "       1., 1., 1., 1., 1., 1., 1., 1., 1., 1., 1., 1., 1., 1., 1., 1., 1.,\n",
       "       1., 1., 1., 1., 1., 1., 1., 1., 1., 1., 1., 1., 1., 1., 1., 1., 1.,\n",
       "       1., 1.])"
      ]
     },
     "execution_count": 358,
     "metadata": {},
     "output_type": "execute_result"
    }
   ],
   "source": [
    "np.ones(len(fitness))"
   ]
  },
  {
   "cell_type": "code",
   "execution_count": 355,
   "id": "36ef0312",
   "metadata": {},
   "outputs": [
    {
     "ename": "ValueError",
     "evalue": "size does not match the broadcast shape of the parameters. 1, (1,), (189,)",
     "output_type": "error",
     "traceback": [
      "\u001b[0;31m---------------------------------------------------------------------------\u001b[0m",
      "\u001b[0;31mValueError\u001b[0m                                Traceback (most recent call last)",
      "Cell \u001b[0;32mIn[355], line 2\u001b[0m\n\u001b[1;32m      1\u001b[0m expected_offspring \u001b[39m=\u001b[39m fitness \u001b[39m*\u001b[39m \u001b[39m10\u001b[39m\n\u001b[0;32m----> 2\u001b[0m v \u001b[39m=\u001b[39m poisson\u001b[39m.\u001b[39;49mrvs(mu\u001b[39m=\u001b[39;49mexpected_offspring, size\u001b[39m=\u001b[39;49m\u001b[39m1\u001b[39;49m)\n",
      "File \u001b[0;32m~/opt/anaconda3/envs/simulations/lib/python3.10/site-packages/scipy/stats/_distn_infrastructure.py:3335\u001b[0m, in \u001b[0;36mrv_discrete.rvs\u001b[0;34m(self, *args, **kwargs)\u001b[0m\n\u001b[1;32m   3306\u001b[0m \u001b[39m\"\"\"Random variates of given type.\u001b[39;00m\n\u001b[1;32m   3307\u001b[0m \n\u001b[1;32m   3308\u001b[0m \u001b[39mParameters\u001b[39;00m\n\u001b[0;32m   (...)\u001b[0m\n\u001b[1;32m   3332\u001b[0m \n\u001b[1;32m   3333\u001b[0m \u001b[39m\"\"\"\u001b[39;00m\n\u001b[1;32m   3334\u001b[0m kwargs[\u001b[39m'\u001b[39m\u001b[39mdiscrete\u001b[39m\u001b[39m'\u001b[39m] \u001b[39m=\u001b[39m \u001b[39mTrue\u001b[39;00m\n\u001b[0;32m-> 3335\u001b[0m \u001b[39mreturn\u001b[39;00m \u001b[39msuper\u001b[39;49m()\u001b[39m.\u001b[39;49mrvs(\u001b[39m*\u001b[39;49margs, \u001b[39m*\u001b[39;49m\u001b[39m*\u001b[39;49mkwargs)\n",
      "File \u001b[0;32m~/opt/anaconda3/envs/simulations/lib/python3.10/site-packages/scipy/stats/_distn_infrastructure.py:1058\u001b[0m, in \u001b[0;36mrv_generic.rvs\u001b[0;34m(self, *args, **kwds)\u001b[0m\n\u001b[1;32m   1056\u001b[0m discrete \u001b[39m=\u001b[39m kwds\u001b[39m.\u001b[39mpop(\u001b[39m'\u001b[39m\u001b[39mdiscrete\u001b[39m\u001b[39m'\u001b[39m, \u001b[39mNone\u001b[39;00m)\n\u001b[1;32m   1057\u001b[0m rndm \u001b[39m=\u001b[39m kwds\u001b[39m.\u001b[39mpop(\u001b[39m'\u001b[39m\u001b[39mrandom_state\u001b[39m\u001b[39m'\u001b[39m, \u001b[39mNone\u001b[39;00m)\n\u001b[0;32m-> 1058\u001b[0m args, loc, scale, size \u001b[39m=\u001b[39m \u001b[39mself\u001b[39;49m\u001b[39m.\u001b[39;49m_parse_args_rvs(\u001b[39m*\u001b[39;49margs, \u001b[39m*\u001b[39;49m\u001b[39m*\u001b[39;49mkwds)\n\u001b[1;32m   1059\u001b[0m cond \u001b[39m=\u001b[39m logical_and(\u001b[39mself\u001b[39m\u001b[39m.\u001b[39m_argcheck(\u001b[39m*\u001b[39margs), (scale \u001b[39m>\u001b[39m\u001b[39m=\u001b[39m \u001b[39m0\u001b[39m))\n\u001b[1;32m   1060\u001b[0m \u001b[39mif\u001b[39;00m \u001b[39mnot\u001b[39;00m np\u001b[39m.\u001b[39mall(cond):\n",
      "File \u001b[0;32m<string>:6\u001b[0m, in \u001b[0;36m_parse_args_rvs\u001b[0;34m(self, mu, loc, size)\u001b[0m\n",
      "File \u001b[0;32m~/opt/anaconda3/envs/simulations/lib/python3.10/site-packages/scipy/stats/_distn_infrastructure.py:939\u001b[0m, in \u001b[0;36mrv_generic._argcheck_rvs\u001b[0;34m(self, *args, **kwargs)\u001b[0m\n\u001b[1;32m    936\u001b[0m ok \u001b[39m=\u001b[39m \u001b[39mall\u001b[39m([bcdim \u001b[39m==\u001b[39m \u001b[39m1\u001b[39m \u001b[39mor\u001b[39;00m bcdim \u001b[39m==\u001b[39m szdim\n\u001b[1;32m    937\u001b[0m           \u001b[39mfor\u001b[39;00m (bcdim, szdim) \u001b[39min\u001b[39;00m \u001b[39mzip\u001b[39m(bcast_shape, size_)])\n\u001b[1;32m    938\u001b[0m \u001b[39mif\u001b[39;00m \u001b[39mnot\u001b[39;00m ok:\n\u001b[0;32m--> 939\u001b[0m     \u001b[39mraise\u001b[39;00m \u001b[39mValueError\u001b[39;00m(\u001b[39m\"\u001b[39m\u001b[39msize does not match the broadcast shape of \u001b[39m\u001b[39m\"\u001b[39m\n\u001b[1;32m    940\u001b[0m                      \u001b[39m\"\u001b[39m\u001b[39mthe parameters. \u001b[39m\u001b[39m%s\u001b[39;00m\u001b[39m, \u001b[39m\u001b[39m%s\u001b[39;00m\u001b[39m, \u001b[39m\u001b[39m%s\u001b[39;00m\u001b[39m\"\u001b[39m \u001b[39m%\u001b[39m (size, size_,\n\u001b[1;32m    941\u001b[0m                                                      bcast_shape))\n\u001b[1;32m    943\u001b[0m param_bcast \u001b[39m=\u001b[39m all_bcast[:\u001b[39m-\u001b[39m\u001b[39m2\u001b[39m]\n\u001b[1;32m    944\u001b[0m loc_bcast \u001b[39m=\u001b[39m all_bcast[\u001b[39m-\u001b[39m\u001b[39m2\u001b[39m]\n",
      "\u001b[0;31mValueError\u001b[0m: size does not match the broadcast shape of the parameters. 1, (1,), (189,)"
     ]
    }
   ],
   "source": [
    "expected_offspring = fitness * 10\n",
    "v = poisson.rvs(mu=expected_offspring, size=np.ones(len(fitness)))"
   ]
  },
  {
   "cell_type": "code",
   "execution_count": 334,
   "id": "d4a7438f",
   "metadata": {},
   "outputs": [
    {
     "data": {
      "text/plain": [
       "<AxesSubplot:ylabel='Count'>"
      ]
     },
     "execution_count": 334,
     "metadata": {},
     "output_type": "execute_result"
    },
    {
     "data": {
      "image/png": "[encoded data removed]",
      "text/plain": [
       "<Figure size 640x480 with 1 Axes>"
      ]
     },
     "metadata": {},
     "output_type": "display_data"
    }
   ],
   "source": [
    "sns.histplot(v)"
   ]
  },
  {
   "cell_type": "code",
   "execution_count": 346,
   "id": "aa7653d7",
   "metadata": {},
   "outputs": [],
   "source": [
    "fitness = '1.26966 1.06575 1.00849 1.49224 0.779436 1.61183 1.45854 1.21587 1.35396 1.2258 1.18517 1.31451 1.15364 1.33351 1.11018 1.12782 1.26917 1.88412 1.06595 1.23677 1.01509 1.13001 1.26499 0.905024 1.11095 1.05936 1.2109 1.25418 1.15789 1.14319 1.33566 1.39941 1.26608 1.88412 1.51431 1.15578 1.35802 1.15743 1.14843 1.17558 1.14587 1.1347 1.4103 1.23669 1.07956 0.808025 1.04121 1.4403 1.82383 1.24161 1.16155 1.03975 1.31357 1.09732 1.17638 1.44976 0.823244 1.0392 1.61054 1.42423 0.964468 1.13949 1.40501 1.4403 1.15897 1.6697 1.25442 1.27203 1.77736 1.27009 1.25301 1.30964 1.2358 0.738602 1.66074 1.20858 1.11043 1.21324 1.17557 1.26746 1.30154 1.40475 1.161 1.44674 1.17629 1.03121 1.22055 1.75894 1.47515 1.35304 1.22787 0.899457 1.07057 1.04791 1.09732 1.02642 0.980694 1.20856 1.03479 0.928734 1.89947 1.45354 1.0969 1.14311 0.915521 1.20444 1.62971 0.901581 1.36597 1.12526 0.980423 1.21239 1.0295 1.2792 1.07736 1.30869 0.906049 1.65495 1.30964 1.14297 1.31095 1.19412 1.31422 1.19277 0.857881 0.969496 1.02173 0.975681 1.10846 1.41249 0.975464 1.2602 1.21592 1.17028 1.35322 1.23865 1.08306 1.10652 1.17499 0.98621 1.02743 1.48283 1.55649 1.19528 1.28064 1.37391 1.19368 1.21066 1.14881 1.62357 1.26326 1.28649 0.948908 0.930558 1.18129 1.20245 1.24181 1.22376 1.39955 1.11295 1.19615 1.49618 1.00399 1.46666 1.25771 1.41418 1.37535 1.15578 1.12974 1.25185 1.26608 1.04121 1.34051 1.7993 1.04009 1.68861 1.75661 1.07831 1.11626 1.35367 0.987845 1.1673 1.42507 1.15031 0.891522 1.2401 0.893997 0.950806 1.07208'"
   ]
  },
  {
   "cell_type": "code",
   "execution_count": 347,
   "id": "bb9cb9f6",
   "metadata": {},
   "outputs": [],
   "source": [
    "fitness = fitness.split(\" \")\n",
    "\n",
    "fitness = [eval(i) for i in fitness]"
   ]
  },
  {
   "cell_type": "code",
   "execution_count": 348,
   "id": "150fccef",
   "metadata": {},
   "outputs": [
    {
     "data": {
      "text/plain": [
       "[1.26966,\n",
       " 1.06575,\n",
       " 1.00849,\n",
       " 1.49224,\n",
       " 0.779436,\n",
       " 1.61183,\n",
       " 1.45854,\n",
       " 1.21587,\n",
       " 1.35396,\n",
       " 1.2258,\n",
       " 1.18517,\n",
       " 1.31451,\n",
       " 1.15364,\n",
       " 1.33351,\n",
       " 1.11018,\n",
       " 1.12782,\n",
       " 1.26917,\n",
       " 1.88412,\n",
       " 1.06595,\n",
       " 1.23677,\n",
       " 1.01509,\n",
       " 1.13001,\n",
       " 1.26499,\n",
       " 0.905024,\n",
       " 1.11095,\n",
       " 1.05936,\n",
       " 1.2109,\n",
       " 1.25418,\n",
       " 1.15789,\n",
       " 1.14319,\n",
       " 1.33566,\n",
       " 1.39941,\n",
       " 1.26608,\n",
       " 1.88412,\n",
       " 1.51431,\n",
       " 1.15578,\n",
       " 1.35802,\n",
       " 1.15743,\n",
       " 1.14843,\n",
       " 1.17558,\n",
       " 1.14587,\n",
       " 1.1347,\n",
       " 1.4103,\n",
       " 1.23669,\n",
       " 1.07956,\n",
       " 0.808025,\n",
       " 1.04121,\n",
       " 1.4403,\n",
       " 1.82383,\n",
       " 1.24161,\n",
       " 1.16155,\n",
       " 1.03975,\n",
       " 1.31357,\n",
       " 1.09732,\n",
       " 1.17638,\n",
       " 1.44976,\n",
       " 0.823244,\n",
       " 1.0392,\n",
       " 1.61054,\n",
       " 1.42423,\n",
       " 0.964468,\n",
       " 1.13949,\n",
       " 1.40501,\n",
       " 1.4403,\n",
       " 1.15897,\n",
       " 1.6697,\n",
       " 1.25442,\n",
       " 1.27203,\n",
       " 1.77736,\n",
       " 1.27009,\n",
       " 1.25301,\n",
       " 1.30964,\n",
       " 1.2358,\n",
       " 0.738602,\n",
       " 1.66074,\n",
       " 1.20858,\n",
       " 1.11043,\n",
       " 1.21324,\n",
       " 1.17557,\n",
       " 1.26746,\n",
       " 1.30154,\n",
       " 1.40475,\n",
       " 1.161,\n",
       " 1.44674,\n",
       " 1.17629,\n",
       " 1.03121,\n",
       " 1.22055,\n",
       " 1.75894,\n",
       " 1.47515,\n",
       " 1.35304,\n",
       " 1.22787,\n",
       " 0.899457,\n",
       " 1.07057,\n",
       " 1.04791,\n",
       " 1.09732,\n",
       " 1.02642,\n",
       " 0.980694,\n",
       " 1.20856,\n",
       " 1.03479,\n",
       " 0.928734,\n",
       " 1.89947,\n",
       " 1.45354,\n",
       " 1.0969,\n",
       " 1.14311,\n",
       " 0.915521,\n",
       " 1.20444,\n",
       " 1.62971,\n",
       " 0.901581,\n",
       " 1.36597,\n",
       " 1.12526,\n",
       " 0.980423,\n",
       " 1.21239,\n",
       " 1.0295,\n",
       " 1.2792,\n",
       " 1.07736,\n",
       " 1.30869,\n",
       " 0.906049,\n",
       " 1.65495,\n",
       " 1.30964,\n",
       " 1.14297,\n",
       " 1.31095,\n",
       " 1.19412,\n",
       " 1.31422,\n",
       " 1.19277,\n",
       " 0.857881,\n",
       " 0.969496,\n",
       " 1.02173,\n",
       " 0.975681,\n",
       " 1.10846,\n",
       " 1.41249,\n",
       " 0.975464,\n",
       " 1.2602,\n",
       " 1.21592,\n",
       " 1.17028,\n",
       " 1.35322,\n",
       " 1.23865,\n",
       " 1.08306,\n",
       " 1.10652,\n",
       " 1.17499,\n",
       " 0.98621,\n",
       " 1.02743,\n",
       " 1.48283,\n",
       " 1.55649,\n",
       " 1.19528,\n",
       " 1.28064,\n",
       " 1.37391,\n",
       " 1.19368,\n",
       " 1.21066,\n",
       " 1.14881,\n",
       " 1.62357,\n",
       " 1.26326,\n",
       " 1.28649,\n",
       " 0.948908,\n",
       " 0.930558,\n",
       " 1.18129,\n",
       " 1.20245,\n",
       " 1.24181,\n",
       " 1.22376,\n",
       " 1.39955,\n",
       " 1.11295,\n",
       " 1.19615,\n",
       " 1.49618,\n",
       " 1.00399,\n",
       " 1.46666,\n",
       " 1.25771,\n",
       " 1.41418,\n",
       " 1.37535,\n",
       " 1.15578,\n",
       " 1.12974,\n",
       " 1.25185,\n",
       " 1.26608,\n",
       " 1.04121,\n",
       " 1.34051,\n",
       " 1.7993,\n",
       " 1.04009,\n",
       " 1.68861,\n",
       " 1.75661,\n",
       " 1.07831,\n",
       " 1.11626,\n",
       " 1.35367,\n",
       " 0.987845,\n",
       " 1.1673,\n",
       " 1.42507,\n",
       " 1.15031,\n",
       " 0.891522,\n",
       " 1.2401,\n",
       " 0.893997,\n",
       " 0.950806,\n",
       " 1.07208]"
      ]
     },
     "execution_count": 348,
     "metadata": {},
     "output_type": "execute_result"
    }
   ],
   "source": [
    "fitness"
   ]
  },
  {
   "cell_type": "code",
   "execution_count": 366,
   "id": "dc4ded7c",
   "metadata": {},
   "outputs": [
    {
     "data": {
      "text/plain": [
       "array([1.26966 , 1.06575 , 1.00849 , 1.49224 , 0.779436, 1.61183 ,\n",
       "       1.45854 , 1.21587 , 1.35396 , 1.2258  , 1.18517 , 1.31451 ,\n",
       "       1.15364 , 1.33351 , 1.11018 , 1.12782 , 1.26917 , 1.88412 ,\n",
       "       1.06595 , 1.23677 , 1.01509 , 1.13001 , 1.26499 , 0.905024,\n",
       "       1.11095 , 1.05936 , 1.2109  , 1.25418 , 1.15789 , 1.14319 ,\n",
       "       1.33566 , 1.39941 , 1.26608 , 1.88412 , 1.51431 , 1.15578 ,\n",
       "       1.35802 , 1.15743 , 1.14843 , 1.17558 , 1.14587 , 1.1347  ,\n",
       "       1.4103  , 1.23669 , 1.07956 , 0.808025, 1.04121 , 1.4403  ,\n",
       "       1.82383 , 1.24161 , 1.16155 , 1.03975 , 1.31357 , 1.09732 ,\n",
       "       1.17638 , 1.44976 , 0.823244, 1.0392  , 1.61054 , 1.42423 ,\n",
       "       0.964468, 1.13949 , 1.40501 , 1.4403  , 1.15897 , 1.6697  ,\n",
       "       1.25442 , 1.27203 , 1.77736 , 1.27009 , 1.25301 , 1.30964 ,\n",
       "       1.2358  , 0.738602, 1.66074 , 1.20858 , 1.11043 , 1.21324 ,\n",
       "       1.17557 , 1.26746 , 1.30154 , 1.40475 , 1.161   , 1.44674 ,\n",
       "       1.17629 , 1.03121 , 1.22055 , 1.75894 , 1.47515 , 1.35304 ,\n",
       "       1.22787 , 0.899457, 1.07057 , 1.04791 , 1.09732 , 1.02642 ,\n",
       "       0.980694, 1.20856 , 1.03479 , 0.928734, 1.89947 , 1.45354 ,\n",
       "       1.0969  , 1.14311 , 0.915521, 1.20444 , 1.62971 , 0.901581,\n",
       "       1.36597 , 1.12526 , 0.980423, 1.21239 , 1.0295  , 1.2792  ,\n",
       "       1.07736 , 1.30869 , 0.906049, 1.65495 , 1.30964 , 1.14297 ,\n",
       "       1.31095 , 1.19412 , 1.31422 , 1.19277 , 0.857881, 0.969496,\n",
       "       1.02173 , 0.975681, 1.10846 , 1.41249 , 0.975464, 1.2602  ,\n",
       "       1.21592 , 1.17028 , 1.35322 , 1.23865 , 1.08306 , 1.10652 ,\n",
       "       1.17499 , 0.98621 , 1.02743 , 1.48283 , 1.55649 , 1.19528 ,\n",
       "       1.28064 , 1.37391 , 1.19368 , 1.21066 , 1.14881 , 1.62357 ,\n",
       "       1.26326 , 1.28649 , 0.948908, 0.930558, 1.18129 , 1.20245 ,\n",
       "       1.24181 , 1.22376 , 1.39955 , 1.11295 , 1.19615 , 1.49618 ,\n",
       "       1.00399 , 1.46666 , 1.25771 , 1.41418 , 1.37535 , 1.15578 ,\n",
       "       1.12974 , 1.25185 , 1.26608 , 1.04121 , 1.34051 , 1.7993  ,\n",
       "       1.04009 , 1.68861 , 1.75661 , 1.07831 , 1.11626 , 1.35367 ,\n",
       "       0.987845, 1.1673  , 1.42507 , 1.15031 , 0.891522, 1.2401  ,\n",
       "       0.893997, 0.950806, 1.07208 ])"
      ]
     },
     "execution_count": 366,
     "metadata": {},
     "output_type": "execute_result"
    }
   ],
   "source": [
    "fitness"
   ]
  },
  {
   "cell_type": "code",
   "execution_count": 395,
   "id": "eceedd7a",
   "metadata": {},
   "outputs": [],
   "source": [
    "import math\n",
    "import numpy as np\n",
    "\n",
    "\n",
    "log_transform = lambda x: math.log(x + 1.0) + 1.0\n",
    "offspring_counts = np.exp(np.vectorize(log_transform)(fitness))\n"
   ]
  },
  {
   "cell_type": "code",
   "execution_count": 396,
   "id": "31e7a8ba",
   "metadata": {},
   "outputs": [
    {
     "data": {
      "text/plain": [
       "array([6.16957553, 5.61529069, 5.45964187, 6.7746107 , 4.83700854,\n",
       "       7.09969003, 6.68300461, 6.02335916, 6.39872669, 6.05035169,\n",
       "       5.9399079 , 6.29149047, 5.85420048, 6.34313783, 5.73606395,\n",
       "       5.78401444, 6.16824358, 7.83985099, 5.61583434, 6.08017125,\n",
       "       5.47758253, 5.78996748, 6.15688116, 5.17839212, 5.73815703,\n",
       "       5.59792087, 6.00984929, 6.12749653, 5.86575317, 5.82579443,\n",
       "       6.34898214, 6.5222726 , 6.15984409, 7.83985099, 6.83460318,\n",
       "       5.8600176 , 6.40976292, 5.86450277, 5.84003823, 5.91383958,\n",
       "       5.83307943, 5.80271622, 6.55187469, 6.07995378, 5.65283016,\n",
       "       4.9147215 , 5.54858405, 6.63342315, 7.67596578, 6.09332773,\n",
       "       5.87570209, 5.54461536, 6.28893529, 5.70110684, 5.91601421,\n",
       "       6.65913809, 4.95609103, 5.5431203 , 7.09618344, 6.58974036,\n",
       "       5.33997767, 5.81573679, 6.53749498, 6.63342315, 5.86868892,\n",
       "       7.256997  , 6.12814892, 6.17601786, 7.54964722, 6.1707444 ,\n",
       "       6.12431614, 6.27825244, 6.07753451, 4.72601022, 7.23264119,\n",
       "       6.00354288, 5.73674352, 6.01621007, 5.9138124 , 6.16359531,\n",
       "       6.25623436, 6.53678823, 5.87420703, 6.65092888, 5.91576956,\n",
       "       5.52140123, 6.03608071, 7.49957647, 6.72815527, 6.39622587,\n",
       "       6.05597854, 5.16325945, 5.62839281, 5.56679654, 5.70110684,\n",
       "       5.50838066, 5.38408451, 6.00348852, 5.53113268, 5.24284258,\n",
       "       7.88157661, 6.6694132 , 5.69996517, 5.82557697, 5.20692593,\n",
       "       5.99228919, 7.14829291, 5.16903308, 6.43137326, 5.77705564,\n",
       "       5.38334785, 6.01389953, 5.51675297, 6.19550794, 5.64684994,\n",
       "       6.27567007, 5.18117836, 7.21690234, 6.27825244, 5.82519641,\n",
       "       6.28181339, 5.96423653, 6.29070217, 5.96056684, 5.05024416,\n",
       "       5.35364519, 5.49563192, 5.37045776, 5.7313885 , 6.55782773,\n",
       "       5.36986789, 6.14386059, 6.02349507, 5.89943269, 6.39671516,\n",
       "       6.08528162, 5.66234415, 5.72611504, 5.91223579, 5.39907855,\n",
       "       5.51112613, 6.74903167, 6.94926031, 5.96738973, 6.19942227,\n",
       "       6.45295642, 5.96304048, 6.00919691, 5.84107118, 7.13160266,\n",
       "       6.15217853, 6.21532422, 5.2976812 , 5.24780073, 5.92936097,\n",
       "       5.98687981, 6.09387139, 6.0448064 , 6.52265316, 5.74359359,\n",
       "       5.96975464, 6.78532073, 5.4474096 , 6.70507705, 6.13709207,\n",
       "       6.56242162, 6.45687074, 5.8600176 , 5.78923354, 6.12116294,\n",
       "       6.15984409, 5.54858405, 6.3621658 , 7.60928632, 5.54553958,\n",
       "       7.30839971, 7.49324287, 5.64943231, 5.7525911 , 6.39793839,\n",
       "       5.40352294, 5.89133221, 6.59202371, 5.8451486 , 5.14168988,\n",
       "       6.08922312, 5.14841763, 5.3028405 , 5.63249741])"
      ]
     },
     "execution_count": 396,
     "metadata": {},
     "output_type": "execute_result"
    }
   ],
   "source": [
    "offspring_counts"
   ]
  },
  {
   "cell_type": "code",
   "execution_count": 364,
   "id": "5d796c69",
   "metadata": {},
   "outputs": [],
   "source": [
    "offspring = log_offspring_count(fitness)"
   ]
  },
  {
   "cell_type": "code",
   "execution_count": 397,
   "id": "88b97ca1",
   "metadata": {},
   "outputs": [
    {
     "data": {
      "image/png": "[encoded data removed]",
      "text/plain": [
       "<Figure size 640x480 with 1 Axes>"
      ]
     },
     "metadata": {},
     "output_type": "display_data"
    }
   ],
   "source": [
    "# plot data\n",
    "plt.plot(fitness,  offspring_counts) # s controls point size\n",
    "\n",
    "# add y=x line\n",
    "#plt.plot([0,15],[0,15], color='#414242', linestyle='dashed')\n",
    "plt.axis('equal')\n",
    "plt.show()"
   ]
  },
  {
   "cell_type": "code",
   "execution_count": 367,
   "id": "d84a1f72",
   "metadata": {},
   "outputs": [
    {
     "ename": "TypeError",
     "evalue": "only size-1 arrays can be converted to Python scalars",
     "output_type": "error",
     "traceback": [
      "\u001b[0;31m---------------------------------------------------------------------------\u001b[0m",
      "\u001b[0;31mTypeError\u001b[0m                                 Traceback (most recent call last)",
      "Cell \u001b[0;32mIn[367], line 1\u001b[0m\n\u001b[0;32m----> 1\u001b[0m math\u001b[39m.\u001b[39;49mlog(fitness )\n",
      "\u001b[0;31mTypeError\u001b[0m: only size-1 arrays can be converted to Python scalars"
     ]
    }
   ],
   "source": [
    "math.log(fitness ) "
   ]
  },
  {
   "cell_type": "code",
   "execution_count": 379,
   "id": "d403c724",
   "metadata": {},
   "outputs": [],
   "source": [
    "from matplotlib import pyplot as plt\n"
   ]
  },
  {
   "cell_type": "code",
   "execution_count": 386,
   "id": "73058700",
   "metadata": {},
   "outputs": [
    {
     "data": {
      "text/plain": [
       "array([1.26966 , 1.06575 , 1.00849 , 1.49224 , 0.779436, 1.61183 ,\n",
       "       1.45854 , 1.21587 , 1.35396 , 1.2258  , 1.18517 , 1.31451 ,\n",
       "       1.15364 , 1.33351 , 1.11018 , 1.12782 , 1.26917 , 1.88412 ,\n",
       "       1.06595 , 1.23677 , 1.01509 , 1.13001 , 1.26499 , 0.905024,\n",
       "       1.11095 , 1.05936 , 1.2109  , 1.25418 , 1.15789 , 1.14319 ,\n",
       "       1.33566 , 1.39941 , 1.26608 , 1.88412 , 1.51431 , 1.15578 ,\n",
       "       1.35802 , 1.15743 , 1.14843 , 1.17558 , 1.14587 , 1.1347  ,\n",
       "       1.4103  , 1.23669 , 1.07956 , 0.808025, 1.04121 , 1.4403  ,\n",
       "       1.82383 , 1.24161 , 1.16155 , 1.03975 , 1.31357 , 1.09732 ,\n",
       "       1.17638 , 1.44976 , 0.823244, 1.0392  , 1.61054 , 1.42423 ,\n",
       "       0.964468, 1.13949 , 1.40501 , 1.4403  , 1.15897 , 1.6697  ,\n",
       "       1.25442 , 1.27203 , 1.77736 , 1.27009 , 1.25301 , 1.30964 ,\n",
       "       1.2358  , 0.738602, 1.66074 , 1.20858 , 1.11043 , 1.21324 ,\n",
       "       1.17557 , 1.26746 , 1.30154 , 1.40475 , 1.161   , 1.44674 ,\n",
       "       1.17629 , 1.03121 , 1.22055 , 1.75894 , 1.47515 , 1.35304 ,\n",
       "       1.22787 , 0.899457, 1.07057 , 1.04791 , 1.09732 , 1.02642 ,\n",
       "       0.980694, 1.20856 , 1.03479 , 0.928734, 1.89947 , 1.45354 ,\n",
       "       1.0969  , 1.14311 , 0.915521, 1.20444 , 1.62971 , 0.901581,\n",
       "       1.36597 , 1.12526 , 0.980423, 1.21239 , 1.0295  , 1.2792  ,\n",
       "       1.07736 , 1.30869 , 0.906049, 1.65495 , 1.30964 , 1.14297 ,\n",
       "       1.31095 , 1.19412 , 1.31422 , 1.19277 , 0.857881, 0.969496,\n",
       "       1.02173 , 0.975681, 1.10846 , 1.41249 , 0.975464, 1.2602  ,\n",
       "       1.21592 , 1.17028 , 1.35322 , 1.23865 , 1.08306 , 1.10652 ,\n",
       "       1.17499 , 0.98621 , 1.02743 , 1.48283 , 1.55649 , 1.19528 ,\n",
       "       1.28064 , 1.37391 , 1.19368 , 1.21066 , 1.14881 , 1.62357 ,\n",
       "       1.26326 , 1.28649 , 0.948908, 0.930558, 1.18129 , 1.20245 ,\n",
       "       1.24181 , 1.22376 , 1.39955 , 1.11295 , 1.19615 , 1.49618 ,\n",
       "       1.00399 , 1.46666 , 1.25771 , 1.41418 , 1.37535 , 1.15578 ,\n",
       "       1.12974 , 1.25185 , 1.26608 , 1.04121 , 1.34051 , 1.7993  ,\n",
       "       1.04009 , 1.68861 , 1.75661 , 1.07831 , 1.11626 , 1.35367 ,\n",
       "       0.987845, 1.1673  , 1.42507 , 1.15031 , 0.891522, 1.2401  ,\n",
       "       0.893997, 0.950806, 1.07208 ])"
      ]
     },
     "execution_count": 386,
     "metadata": {},
     "output_type": "execute_result"
    }
   ],
   "source": [
    "fitness"
   ]
  },
  {
   "cell_type": "code",
   "execution_count": 387,
   "id": "77f98ab2",
   "metadata": {},
   "outputs": [],
   "source": [
    "offspring = np.exp(np.vectorize(log_transform)(fitness))"
   ]
  },
  {
   "cell_type": "code",
   "execution_count": 389,
   "id": "ba3475f2",
   "metadata": {},
   "outputs": [
    {
     "data": {
      "image/png": "[encoded data removed]",
      "text/plain": [
       "<Figure size 640x480 with 1 Axes>"
      ]
     },
     "metadata": {},
     "output_type": "display_data"
    }
   ],
   "source": [
    "# plot data\n",
    "plt.plot(fitness,  offspring) # s controls point size\n",
    "\n",
    "# add y=x line\n",
    "#plt.plot([0,15],[0,15], color='#414242', linestyle='dashed')\n",
    "plt.axis('equal')\n",
    "plt.show()"
   ]
  },
  {
   "cell_type": "code",
   "execution_count": 398,
   "id": "78ca2fb2",
   "metadata": {},
   "outputs": [
    {
     "data": {
      "text/plain": [
       "<AxesSubplot:ylabel='Count'>"
      ]
     },
     "execution_count": 398,
     "metadata": {},
     "output_type": "execute_result"
    },
    {
     "data": {
      "image/png": "[encoded data removed]",
      "text/plain": [
       "<Figure size 640x480 with 1 Axes>"
      ]
     },
     "metadata": {},
     "output_type": "display_data"
    }
   ],
   "source": [
    "sns.histplot(fitness)"
   ]
  },
  {
   "cell_type": "code",
   "execution_count": 399,
   "id": "f5327d5a",
   "metadata": {},
   "outputs": [
    {
     "data": {
      "text/plain": [
       "<AxesSubplot:ylabel='Count'>"
      ]
     },
     "execution_count": 399,
     "metadata": {},
     "output_type": "execute_result"
    },
    {
     "data": {
      "image/png": "[encoded data removed]",
      "text/plain": [
       "<Figure size 640x480 with 1 Axes>"
      ]
     },
     "metadata": {},
     "output_type": "display_data"
    }
   ],
   "source": [
    "sns.histplot(fitness*20)"
   ]
  },
  {
   "cell_type": "code",
   "execution_count": 403,
   "id": "39488d20",
   "metadata": {},
   "outputs": [
    {
     "data": {
      "text/plain": [
       "<AxesSubplot:ylabel='Count'>"
      ]
     },
     "execution_count": 403,
     "metadata": {},
     "output_type": "execute_result"
    },
    {
     "data": {
      "image/png": "[encoded data removed]",
      "text/plain": [
       "<Figure size 640x480 with 1 Axes>"
      ]
     },
     "metadata": {},
     "output_type": "display_data"
    }
   ],
   "source": [
    "sns.histplot(10**fitness*10)"
   ]
  },
  {
   "cell_type": "code",
   "execution_count": 404,
   "id": "572de070",
   "metadata": {},
   "outputs": [
    {
     "name": "stdout",
     "output_type": "stream",
     "text": [
      "Minimum value: 0\n",
      "Maximum value: 2\n"
     ]
    }
   ],
   "source": [
    "import numpy as np\n",
    "from scipy.stats import truncnorm\n",
    "\n",
    "# Define the parameters of the truncated normal distribution\n",
    "a = (0 - 10) / 2  # Calculate the lower bound\n",
    "b = (1000 - 10) / 2  # Calculate the upper bound\n",
    "mean = 10  # Set the mean\n",
    "std = 2  # Set the standard deviation\n",
    "\n",
    "# Generate a random sample from the truncated normal distribution\n",
    "sample_size = len(fitness)  # Set the sample size to match the length of the fitness vector\n",
    "rvs = truncnorm.rvs(a, b, loc=mean, scale=std, size=sample_size)\n",
    "\n",
    "# Scale the sample to match the fitness values\n",
    "rvs = rvs * fitness / np.mean(rvs * fitness)\n",
    "\n",
    "# Round the sample to the nearest integer\n",
    "rvs = np.round(rvs).astype(int)\n",
    "\n",
    "# Check the minimum and maximum values of the sample\n",
    "print(\"Minimum value:\", np.min(rvs))\n",
    "print(\"Maximum value:\", np.max(rvs))"
   ]
  },
  {
   "cell_type": "code",
   "execution_count": 406,
   "id": "e530b7fc",
   "metadata": {},
   "outputs": [],
   "source": [
    "rvs = truncnorm.rvs(a, b, loc=mean, scale=std, size=sample_size)"
   ]
  },
  {
   "cell_type": "code",
   "execution_count": 407,
   "id": "fc7786d8",
   "metadata": {},
   "outputs": [
    {
     "data": {
      "text/plain": [
       "array([10.96688254, 11.12362516,  8.9536263 , 12.49498802,  4.94160395,\n",
       "        7.57254474,  7.98318032,  7.4386589 , 10.27080984,  7.40156967,\n",
       "       10.60213296, 10.10765367, 11.43950705, 10.02722437, 10.7116061 ,\n",
       "        6.49581928, 10.36968218, 12.78807098, 12.21829987, 11.93901709,\n",
       "       13.23336442, 11.88748388, 10.41451223,  8.49581234,  9.29905748,\n",
       "       10.23787095,  7.07417571,  7.74614582,  7.40145727,  9.02562925,\n",
       "       11.78566277, 11.59660347,  9.08783721, 13.01633231, 13.45970632,\n",
       "       10.25882612, 10.85392421, 12.77408154, 10.4150795 ,  8.48491598,\n",
       "        8.99995724,  9.6404104 ,  7.3603327 , 11.07936498, 13.52478128,\n",
       "       11.3163983 , 11.27872962, 14.17982177, 11.2909923 ,  7.78937008,\n",
       "        7.3977573 ,  8.22852779,  9.97658379, 11.28954546, 10.7129089 ,\n",
       "       13.11351405, 11.50081641,  8.53094753,  7.06973435,  9.74941068,\n",
       "       12.24456852,  8.91116129,  7.96327228,  9.04970488, 10.20656592,\n",
       "       10.85562951, 10.89387964, 11.23499241, 13.62318282,  7.17991098,\n",
       "       10.46975625,  7.75210229, 10.09956442,  9.92730131,  5.23803338,\n",
       "       12.99057287, 12.22927397,  9.50132475, 12.42575125,  8.53546509,\n",
       "       12.55588123,  7.79741495,  8.19624069,  7.30733938, 13.08772619,\n",
       "        5.91544036,  7.78541698,  6.54676332,  9.35090672, 10.39866315,\n",
       "        6.2955357 ,  6.32546041, 11.10633601, 10.81676159,  9.65461121,\n",
       "       14.11206876, 12.5553971 ,  8.91531931,  8.81322401,  9.18017418,\n",
       "        8.92785015, 13.84231814,  8.53665042, 10.97913838, 10.63442469,\n",
       "       11.56681994,  7.87734145, 11.63772785,  8.24017488,  7.27288375,\n",
       "       12.15811036, 11.53738903,  6.68516297,  8.08075075, 11.96972184,\n",
       "        8.11974637, 10.80606942, 13.8923293 ,  9.68787672,  9.62015782,\n",
       "        9.39109402,  9.5615813 , 11.29080248, 12.62628451,  9.86239458,\n",
       "       10.71521974,  8.3768663 , 10.23013496, 11.72396265, 12.19185691,\n",
       "       10.40676814,  8.25042261, 11.57965103,  7.42432988,  7.63573563,\n",
       "       10.68149084, 10.33135356, 13.35618923, 10.58747499,  9.02713695,\n",
       "        9.53738718, 15.14762607, 10.36766282, 10.14540935, 10.09208146,\n",
       "       10.79878425,  5.76935847, 13.78765751,  8.82644554,  7.08007631,\n",
       "        8.99794694,  8.28463343,  7.26311493, 13.40824816,  8.53332246,\n",
       "       12.0360697 , 11.6819071 , 12.26834682, 10.65408441,  9.97038408,\n",
       "        7.64000639,  9.33362333,  7.83602133, 10.28946155, 11.34780345,\n",
       "        9.89432244, 13.62315069,  5.17800682,  5.65864799, 13.77187946,\n",
       "       12.25623442, 11.06193446, 11.17735967, 10.74097855,  8.68847409,\n",
       "       11.51590427, 11.53703551, 11.51664395, 10.08345656,  9.18699815,\n",
       "       10.40762119,  8.75158361,  9.96779228, 12.95159608, 10.31887439,\n",
       "        7.89455797, 11.11966036, 10.0222169 ,  9.02226451])"
      ]
     },
     "execution_count": 407,
     "metadata": {},
     "output_type": "execute_result"
    }
   ],
   "source": [
    "rvs"
   ]
  },
  {
   "cell_type": "code",
   "execution_count": null,
   "id": "82107413",
   "metadata": {},
   "outputs": [],
   "source": []
  },
  {
   "attachments": {},
   "cell_type": "markdown",
   "id": "a2e6b6a2",
   "metadata": {},
   "source": [
    "Here I will calculate the optima based on one individual for the contributing snps"
   ]
  },
  {
   "cell_type": "code",
   "execution_count": 449,
   "id": "068c6910",
   "metadata": {},
   "outputs": [],
   "source": [
    "import allel\n",
    "\n",
    "# Load VCF file\n",
    "## be careful remember this file has multiplied samples\n",
    "\n",
    "\n",
    "\n",
    "vcf = allel.read_vcf('qtl1_contrib.vcf')\n"
   ]
  },
  {
   "cell_type": "code",
   "execution_count": 450,
   "id": "98fa4c28",
   "metadata": {},
   "outputs": [],
   "source": [
    "samples = vcf['samples'].astype(str)"
   ]
  },
  {
   "cell_type": "code",
   "execution_count": 451,
   "id": "0c3fa6c2",
   "metadata": {},
   "outputs": [],
   "source": [
    "symbol_indices = np.char.find(samples, ':')"
   ]
  },
  {
   "cell_type": "code",
   "execution_count": 447,
   "id": "6429849c",
   "metadata": {},
   "outputs": [],
   "source": [
    "samples_original = samples[symbol_indices == -1]\n"
   ]
  },
  {
   "cell_type": "code",
   "execution_count": 452,
   "id": "6d5354a2",
   "metadata": {},
   "outputs": [],
   "source": [
    "## now getting the filtered vcf file with one cotype each time \n",
    "vcf = allel.read_vcf('qtl1_contrib.vcf', samples=samples_original)"
   ]
  },
  {
   "cell_type": "code",
   "execution_count": 453,
   "id": "aa45418b",
   "metadata": {},
   "outputs": [
    {
     "data": {
      "text/html": [
       "<div class=\"allel allel-DisplayAs2D\"><span>&lt;GenotypeArray shape=(196, 225, 2) dtype=int8&gt;</span><table><thead><tr><th></th><th style=\"text-align: center\">0</th><th style=\"text-align: center\">1</th><th style=\"text-align: center\">2</th><th style=\"text-align: center\">3</th><th style=\"text-align: center\">4</th><th style=\"text-align: center\">...</th><th style=\"text-align: center\">220</th><th style=\"text-align: center\">221</th><th style=\"text-align: center\">222</th><th style=\"text-align: center\">223</th><th style=\"text-align: center\">224</th></tr></thead><tbody><tr><th style=\"text-align: center; background-color: white; border-right: 1px solid black; \">0</th><td style=\"text-align: center\">0/0</td><td style=\"text-align: center\">0/0</td><td style=\"text-align: center\">0/0</td><td style=\"text-align: center\">0/0</td><td style=\"text-align: center\">0/0</td><td style=\"text-align: center\">...</td><td style=\"text-align: center\">0/0</td><td style=\"text-align: center\">0/0</td><td style=\"text-align: center\">0/0</td><td style=\"text-align: center\">0/0</td><td style=\"text-align: center\">0/0</td></tr><tr><th style=\"text-align: center; background-color: white; border-right: 1px solid black; \">1</th><td style=\"text-align: center\">0/0</td><td style=\"text-align: center\">0/0</td><td style=\"text-align: center\">0/0</td><td style=\"text-align: center\">0/0</td><td style=\"text-align: center\">0/0</td><td style=\"text-align: center\">...</td><td style=\"text-align: center\">0/0</td><td style=\"text-align: center\">0/0</td><td style=\"text-align: center\">0/0</td><td style=\"text-align: center\">0/0</td><td style=\"text-align: center\">0/0</td></tr><tr><th style=\"text-align: center; background-color: white; border-right: 1px solid black; \">2</th><td style=\"text-align: center\">0/0</td><td style=\"text-align: center\">0/0</td><td style=\"text-align: center\">0/0</td><td style=\"text-align: center\">0/0</td><td style=\"text-align: center\">0/0</td><td style=\"text-align: center\">...</td><td style=\"text-align: center\">0/0</td><td style=\"text-align: center\">0/0</td><td style=\"text-align: center\">0/0</td><td style=\"text-align: center\">0/0</td><td style=\"text-align: center\">0/0</td></tr><tr><th style=\"text-align: center; background-color: white; border-right: 1px solid black; \">...</th><td style=\"text-align: center\" colspan=\"12\">...</td></tr><tr><th style=\"text-align: center; background-color: white; border-right: 1px solid black; \">193</th><td style=\"text-align: center\">0/0</td><td style=\"text-align: center\">0/0</td><td style=\"text-align: center\">0/0</td><td style=\"text-align: center\">0/0</td><td style=\"text-align: center\">0/0</td><td style=\"text-align: center\">...</td><td style=\"text-align: center\">0/0</td><td style=\"text-align: center\">0/0</td><td style=\"text-align: center\">0/0</td><td style=\"text-align: center\">0/0</td><td style=\"text-align: center\">0/0</td></tr><tr><th style=\"text-align: center; background-color: white; border-right: 1px solid black; \">194</th><td style=\"text-align: center\">0/0</td><td style=\"text-align: center\">0/0</td><td style=\"text-align: center\">0/0</td><td style=\"text-align: center\">0/0</td><td style=\"text-align: center\">0/0</td><td style=\"text-align: center\">...</td><td style=\"text-align: center\">0/0</td><td style=\"text-align: center\">0/0</td><td style=\"text-align: center\">0/0</td><td style=\"text-align: center\">0/0</td><td style=\"text-align: center\">0/0</td></tr><tr><th style=\"text-align: center; background-color: white; border-right: 1px solid black; \">195</th><td style=\"text-align: center\">0/0</td><td style=\"text-align: center\">0/0</td><td style=\"text-align: center\">0/0</td><td style=\"text-align: center\">0/0</td><td style=\"text-align: center\">0/0</td><td style=\"text-align: center\">...</td><td style=\"text-align: center\">0/0</td><td style=\"text-align: center\">0/0</td><td style=\"text-align: center\">0/0</td><td style=\"text-align: center\">0/0</td><td style=\"text-align: center\">0/0</td></tr></tbody></table></div>"
      ],
      "text/plain": [
       "<GenotypeArray shape=(196, 225, 2) dtype=int8>\n",
       "0/0 0/0 0/0 0/0 0/0 ... 0/0 0/0 0/0 0/0 0/0\n",
       "0/0 0/0 0/0 0/0 0/0 ... 0/0 0/0 0/0 0/0 0/0\n",
       "0/0 0/0 0/0 0/0 0/0 ... 0/0 0/0 0/0 0/0 0/0\n",
       "...\n",
       "0/0 0/0 0/0 0/0 0/0 ... 0/0 0/0 0/0 0/0 0/0\n",
       "0/0 0/0 0/0 0/0 0/0 ... 0/0 0/0 0/0 0/0 0/0\n",
       "0/0 0/0 0/0 0/0 0/0 ... 0/0 0/0 0/0 0/0 0/0"
      ]
     },
     "execution_count": 453,
     "metadata": {},
     "output_type": "execute_result"
    }
   ],
   "source": [
    "allel.GenotypeArray(vcf['calldata/GT'])"
   ]
  },
  {
   "cell_type": "code",
   "execution_count": 480,
   "id": "b4d02dc6",
   "metadata": {},
   "outputs": [
    {
     "data": {
      "text/plain": [
       "array([0, 0, 0, 0, 0, 0, 0, 0, 0, 0, 0, 0, 0, 0, 0, 0, 0, 0, 0, 0, 0, 0,\n",
       "       0, 0, 0, 0, 0, 0, 0, 0, 0, 0, 0, 0, 0, 0, 0, 0, 0, 0, 3, 0, 0, 0,\n",
       "       0, 0, 0, 0, 0, 0, 0, 0, 0, 0, 0, 0, 0, 0, 0, 0, 0, 0, 0, 0, 0, 0,\n",
       "       0, 0, 0, 0, 0, 0, 0, 0, 0, 0, 1, 0, 0, 0, 0, 0, 0, 0, 0, 0, 0, 0,\n",
       "       0, 0, 0, 0, 0, 0, 0, 0, 0, 0, 0, 0, 0, 0, 0, 0, 0, 0, 0, 0, 0, 0,\n",
       "       0, 0, 0, 0, 0, 0, 0, 0, 0, 0, 0, 0, 0, 0, 0, 0, 0, 0, 0, 0, 0, 0,\n",
       "       0, 0, 0, 0, 0, 0, 0, 0, 0, 0, 0, 0, 0, 0, 0, 0, 0, 0, 0, 0, 0, 0,\n",
       "       0, 0, 0, 0, 0, 0, 0, 0, 0, 0, 0, 0, 0, 3, 0, 0, 0, 0, 0, 0, 0, 0,\n",
       "       0, 0, 0, 0, 0, 0, 0, 0, 0, 0, 0, 0, 0, 0, 0, 0, 0, 0, 0, 0])"
      ]
     },
     "execution_count": 480,
     "metadata": {},
     "output_type": "execute_result"
    }
   ],
   "source": [
    "## sanity ceck i should not see any heteroc variants\n",
    "allel.GenotypeArray(vcf['calldata/GT']).is_het().sum(axis=1)\n",
    "\n",
    "## mhmhm im seeing some heterocygos positions "
   ]
  },
  {
   "cell_type": "code",
   "execution_count": 464,
   "id": "7ade1e39",
   "metadata": {},
   "outputs": [],
   "source": [
    "alt_al_per_ecotype = allel.GenotypeArray(vcf['calldata/GT']).sum(axis=0).sum(axis=1)"
   ]
  },
  {
   "cell_type": "code",
   "execution_count": 465,
   "id": "4a33256c",
   "metadata": {},
   "outputs": [
    {
     "data": {
      "text/plain": [
       "array([18,  8, 16, 18, 18, 20, 26,  8, 12,  8, 10, 22, 12, 20, 16, 12, 14,\n",
       "       18, 12, 26, 22, 10, 18, 10, 18, 24, 24, 14, 26, 10, 24, 12, 18, 10,\n",
       "       12, 16, 14, 12, 18, 22, 18, 14, 12, 16, 12, 14, 16, 18, 18, 18, 18,\n",
       "       16, 16, 10, 22, 16, 12, 16, 18, 10, 20, 10, 22, 16, 14, 16, 14, 10,\n",
       "        6, 10, 20, 10, 16, 10, 16,  6, 12, 16, 24, 12, 12, 22, 18, 22,  8,\n",
       "       16, 18, 12, 16, 22, 12, 14, 20, 12, 18, 12, 10, 14, 16, 12, 16, 18,\n",
       "       18, 21, 18, 14, 14, 20, 24, 14, 10, 20, 22, 16, 22, 22, 12, 14, 16,\n",
       "       18, 14, 16, 18, 22, 18, 14, 18, 14, 14, 20, 22, 16, 18, 20, 10, 12,\n",
       "       14, 22, 22, 22, 16, 16, 12, 18, 22, 21, 18, 20, 14, 12, 10, 20, 24,\n",
       "       20, 20, 22, 26, 24, 28, 14, 12, 14, 14, 12, 11, 12, 10, 13, 14, 12,\n",
       "       18, 16,  4, 14, 14, 12, 15, 12, 14, 16, 16, 12, 11, 14, 14, 18, 12,\n",
       "       12, 18, 14, 14, 26, 14, 18, 18, 30, 22,  6, 14, 12, 16, 10, 16, 14,\n",
       "       12, 16, 22, 32, 14, 14, 12, 18, 20, 22, 11, 18, 16,  8, 18, 20, 14,\n",
       "       18, 10, 12, 14])"
      ]
     },
     "execution_count": 465,
     "metadata": {},
     "output_type": "execute_result"
    }
   ],
   "source": [
    "alt_al_per_ecotype  ## so they actually all have some alterantive allele at the selected positions\n",
    "## that are contributing to the qtl "
   ]
  },
  {
   "cell_type": "code",
   "execution_count": 483,
   "id": "218e0b80",
   "metadata": {},
   "outputs": [
    {
     "data": {
      "text/plain": [
       "array(['9758'], dtype='<U7')"
      ]
     },
     "execution_count": 483,
     "metadata": {},
     "output_type": "execute_result"
    }
   ],
   "source": [
    "np.random.choice(samples_original, 1)"
   ]
  },
  {
   "cell_type": "code",
   "execution_count": 485,
   "id": "41a2b485",
   "metadata": {},
   "outputs": [],
   "source": [
    "## 9758 \n",
    "vcf = allel.read_vcf('qtl1_contrib.vcf', samples=['9758'])"
   ]
  },
  {
   "cell_type": "code",
   "execution_count": 488,
   "id": "bdac8eae",
   "metadata": {},
   "outputs": [],
   "source": [
    "effect_sizes = 'Mutation<0:0.164584> Mutation<1:0.124438> Mutation<2:-0.177748> Mutation<3:-0.0740522> Mutation<4:0.0422788> Mutation<5:0.00532756> Mutation<6:-0.0436742> Mutation<7:0.123559> Mutation<8:-0.0814933> Mutation<9:0.0417087> Mutation<10:-0.127904> Mutation<11:-0.157456> Mutation<12:-0.0527329> Mutation<13:-0.0997102> Mutation<14:0.135568> Mutation<15:-0.11157> Mutation<16:0.0610743> Mutation<17:0.0296972> Mutation<18:0.0153939> Mutation<19:-0.010162> Mutation<20:-0.0542467> Mutation<21:-0.0962193> Mutation<22:0.027491> Mutation<23:0.277699> Mutation<24:-0.0541863> Mutation<25:0.0185635> Mutation<26:-0.117581> Mutation<27:0.113231> Mutation<28:-0.0385288> Mutation<29:-0.0498746> Mutation<30:-0.111884> Mutation<31:-0.0319943> Mutation<32:-0.0365451> Mutation<33:-0.00304521> Mutation<34:-0.0310583> Mutation<35:0.099682> Mutation<36:-0.0110558> Mutation<37:0.04288> Mutation<38:-0.0463132> Mutation<39:0.0090556> Mutation<40:-0.100028> Mutation<41:-0.0356908> Mutation<42:0.0124471> Mutation<43:-0.0992094> Mutation<44:-0.0932425> Mutation<45:0.10824> Mutation<46:0.192339> Mutation<47:-0.0327466> Mutation<48:0.063873> Mutation<49:0.109288> Mutation<50:-0.0713757> Mutation<51:-0.117898> Mutation<52:0.10017> Mutation<53:-0.158185> Mutation<54:-0.104032> Mutation<55:0.0164632> Mutation<56:-0.0232567> Mutation<57:-0.0894403> Mutation<58:-0.0420252> Mutation<59:7.96414e-05> Mutation<60:-0.0872583> Mutation<61:0.00433959> Mutation<62:-0.0248883> Mutation<63:-0.0381848> Mutation<64:0.0090845> Mutation<65:-0.0345845> Mutation<66:0.248673> Mutation<67:0.0294632> Mutation<68:0.0202911> Mutation<69:0.198116> Mutation<70:-0.197909> Mutation<71:0.212226> Mutation<72:-0.00894741> Mutation<73:-0.124033> Mutation<74:-0.115829> Mutation<75:0.182913> Mutation<76:-0.0152041> Mutation<77:0.0166773> Mutation<78:0.0109096> Mutation<79:-0.0170778> Mutation<80:-0.0136941> Mutation<81:-0.0897287> Mutation<82:0.00141085> Mutation<83:-0.109294> Mutation<84:0.0116537> Mutation<85:0.0811803> Mutation<86:-0.063851> Mutation<87:-0.0466222> Mutation<88:0.0288402> Mutation<89:-0.0024095> Mutation<90:0.0819453> Mutation<91:-0.0301591> Mutation<92:0.0277244> Mutation<93:0.0542347> Mutation<94:0.0915827> Mutation<95:-0.0671199> Mutation<96:-0.0489883> Mutation<97:-0.183918> Mutation<98:0.0796153> Mutation<99:-0.0632539> Mutation<100:-0.156448> Mutation<101:-0.0778142> Mutation<102:-0.0164655> Mutation<103:0.0402324> Mutation<104:0.0625098> Mutation<105:0.0214965> Mutation<106:0.0455129> Mutation<107:-0.0586437> Mutation<108:-0.0187321> Mutation<109:-0.217464> Mutation<110:-0.0840918> Mutation<111:-0.00612382> Mutation<112:0.0367146> Mutation<113:0.0621314> Mutation<114:0.190795> Mutation<115:0.166697> Mutation<116:-0.159107> Mutation<117:0.146726> Mutation<118:0.0432925> Mutation<119:0.0935883> Mutation<120:-0.112078> Mutation<121:0.017154> Mutation<122:0.0685679> Mutation<123:0.004695> Mutation<124:-0.032471> Mutation<125:-0.0374844> Mutation<126:-0.0311432> Mutation<127:0.14745> Mutation<128:0.104512> Mutation<129:0.0631346> Mutation<130:-0.00435849> Mutation<131:0.0557941> Mutation<132:0.0958863> Mutation<133:-0.0772008> Mutation<134:0.150061> Mutation<135:-0.11626> Mutation<136:-0.0645383> Mutation<137:-0.0363774> Mutation<138:0.114838> Mutation<139:-0.0729172> Mutation<140:0.10008> Mutation<141:0.341448> Mutation<142:0.0503904> Mutation<143:-0.0153676> Mutation<144:0.0751815> Mutation<145:0.0697619> Mutation<146:-0.0241678> Mutation<147:-0.0165571> Mutation<148:0.062038> Mutation<149:0.0405404> Mutation<150:0.0213076> Mutation<151:-0.0412915> Mutation<152:-0.0378072> Mutation<153:-0.0814438> Mutation<154:-0.0375144> Mutation<155:-0.0734261> Mutation<156:0.1637> Mutation<157:0.076525> Mutation<158:0.0300437> Mutation<159:-0.179221> Mutation<160:-0.0919896> Mutation<161:-0.12174> Mutation<162:0.0437547> Mutation<163:-0.020167> Mutation<164:-0.0600842> Mutation<165:-0.151942> Mutation<166:0.095019> Mutation<167:-0.0525807> Mutation<168:0.0792161> Mutation<169:0.00163499> Mutation<170:-0.0230682> Mutation<171:-0.0512774> Mutation<172:-0.127806> Mutation<173:-0.0733905> Mutation<174:-0.0475261> Mutation<175:0.0308335> Mutation<176:-0.109291> Mutation<177:-0.0842934> Mutation<178:0.0731002> Mutation<179:0.139389> Mutation<180:0.108776> Mutation<181:0.0865347> Mutation<182:-0.128765> Mutation<183:-0.0185034> Mutation<184:0.0712173> Mutation<185:-0.0283266> Mutation<186:0.0228848> Mutation<187:-0.0777548> Mutation<188:-0.0311872> Mutation<189:-0.0437474> Mutation<190:0.00264319> Mutation<191:0.23285> Mutation<192:-0.0652309> Mutation<193:0.00890054> Mutation<194:0.0312116> Mutation<195:-0.128953>'"
   ]
  },
  {
   "cell_type": "code",
   "execution_count": 492,
   "id": "b928998b",
   "metadata": {},
   "outputs": [],
   "source": [
    "import re\n",
    "# Use regular expressions to extract the numbers from the string\n",
    "effect_sizes = re.findall(r'Mutation<\\d+:(.*?)>', effect_sizes)\n",
    "\n",
    "# Convert the numbers to a list of floating-point values\n",
    "effect_sizes = [float(num) for num in numbers]"
   ]
  },
  {
   "cell_type": "code",
   "execution_count": 499,
   "id": "f62b3d80",
   "metadata": {},
   "outputs": [
    {
     "data": {
      "text/html": [
       "<div class=\"allel allel-DisplayAs2D\"><span>&lt;GenotypeArray shape=(196, 1, 2) dtype=int8&gt;</span><table><thead><tr><th></th><th style=\"text-align: center\">0</th></tr></thead><tbody><tr><th style=\"text-align: center; background-color: white; border-right: 1px solid black; \">0</th><td style=\"text-align: center\">0/0</td></tr><tr><th style=\"text-align: center; background-color: white; border-right: 1px solid black; \">1</th><td style=\"text-align: center\">0/0</td></tr><tr><th style=\"text-align: center; background-color: white; border-right: 1px solid black; \">2</th><td style=\"text-align: center\">0/0</td></tr><tr><th style=\"text-align: center; background-color: white; border-right: 1px solid black; \">...</th><td style=\"text-align: center\" colspan=\"2\">...</td></tr><tr><th style=\"text-align: center; background-color: white; border-right: 1px solid black; \">193</th><td style=\"text-align: center\">0/0</td></tr><tr><th style=\"text-align: center; background-color: white; border-right: 1px solid black; \">194</th><td style=\"text-align: center\">0/0</td></tr><tr><th style=\"text-align: center; background-color: white; border-right: 1px solid black; \">195</th><td style=\"text-align: center\">0/0</td></tr></tbody></table></div>"
      ],
      "text/plain": [
       "<GenotypeArray shape=(196, 1, 2) dtype=int8>\n",
       "0/0\n",
       "0/0\n",
       "0/0\n",
       "...\n",
       "0/0\n",
       "0/0\n",
       "0/0"
      ]
     },
     "execution_count": 499,
     "metadata": {},
     "output_type": "execute_result"
    }
   ],
   "source": [
    "allel.GenotypeArray(vcf['calldata/GT'])"
   ]
  },
  {
   "cell_type": "code",
   "execution_count": 508,
   "id": "51bed57c",
   "metadata": {},
   "outputs": [],
   "source": [
    "## for each position this is the number of alterantive variants \n",
    "alt_alleles_per_pos = vcf['calldata/GT'].sum(axis=2)"
   ]
  },
  {
   "cell_type": "code",
   "execution_count": 509,
   "id": "6fa5d303",
   "metadata": {},
   "outputs": [],
   "source": [
    "phenotype = np.multiply(alt_alleles_per_pos, effect_sizes)"
   ]
  },
  {
   "cell_type": "code",
   "execution_count": 512,
   "id": "6d472d26",
   "metadata": {},
   "outputs": [],
   "source": [
    "phenotype = phenotype.sum()"
   ]
  },
  {
   "cell_type": "code",
   "execution_count": 513,
   "id": "44623c55",
   "metadata": {},
   "outputs": [
    {
     "data": {
      "text/plain": [
       "-4.976580034799998"
      ]
     },
     "execution_count": 513,
     "metadata": {},
     "output_type": "execute_result"
    }
   ],
   "source": [
    "## ok so this is the phenotpye of a given ecotype chosen at random. This should be the otpima for a subpop \n",
    "## given the effect sizes, that i should be giving to the program instead of its calculating it \n",
    "\n",
    "phenotype"
   ]
  },
  {
   "cell_type": "code",
   "execution_count": null,
   "id": "5656a7be",
   "metadata": {},
   "outputs": [],
   "source": [
    "phenotype"
   ]
  },
  {
   "cell_type": "code",
   "execution_count": null,
   "id": "8950562d",
   "metadata": {},
   "outputs": [],
   "source": []
  },
  {
   "attachments": {},
   "cell_type": "markdown",
   "id": "639ba951",
   "metadata": {},
   "source": [
    "Creating a bed file with python"
   ]
  },
  {
   "cell_type": "code",
   "execution_count": 517,
   "id": "7961ce28",
   "metadata": {},
   "outputs": [
    {
     "data": {
      "text/plain": [
       "[1, 1, 1, 1, 1, 1, 1, 1]"
      ]
     },
     "execution_count": 517,
     "metadata": {},
     "output_type": "execute_result"
    }
   ],
   "source": [
    "[1] * 8"
   ]
  },
  {
   "cell_type": "code",
   "execution_count": 526,
   "id": "3505d9e7",
   "metadata": {},
   "outputs": [],
   "source": [
    "## to caluclate the positions FROM in a bed file, the fist value is not included\n",
    "positions = [113623, 472939, 511706, 512915, 620146, 710572, 1234970, 1302316]\n",
    "\n",
    "positions_from = [i-1 for i in positions]\n"
   ]
  },
  {
   "cell_type": "code",
   "execution_count": 528,
   "id": "a7d6ac89",
   "metadata": {},
   "outputs": [
    {
     "data": {
      "text/plain": [
       "[113622, 472938, 511705, 512914, 620145, 710571, 1234969, 1302315]"
      ]
     },
     "execution_count": 528,
     "metadata": {},
     "output_type": "execute_result"
    }
   ],
   "source": [
    "positions_from"
   ]
  },
  {
   "cell_type": "code",
   "execution_count": 529,
   "id": "362917de",
   "metadata": {},
   "outputs": [
    {
     "name": "stdout",
     "output_type": "stream",
     "text": [
      "1\t113622\t113623\t0.3\n",
      "1\t472938\t472939\t0.6\n",
      "1\t511705\t511706\t0.1\n",
      "1\t512914\t512915\t0.9\n",
      "1\t620145\t620146\t0.2\n",
      "1\t710571\t710572\t0.6\n",
      "1\t1234969\t1234970\t0.7\n",
      "1\t1302315\t1302316\t0.5\n",
      "\n"
     ]
    }
   ],
   "source": [
    "# Define the positions and values\n",
    "chromosome = [1] * 8\n",
    "#positions_to = [113623, 472939, 511706, 512915, 620146, 710572, 1234970, 1302316]\n",
    "positions_to = [113623, 472939, 511706, 512915, 620146, 710572, 1234970, 1302316]\n",
    "\n",
    "values = [0.3, 0.6, 0.1, 0.9, 0.2, 0.6, 0.7, 0.5]\n",
    "\n",
    "\n",
    "# Create a DataFrame from the positions and values\n",
    "df = pd.DataFrame({'chromosome':chromosome,'positions_from': positions_from, 'positions_to': positions_to, 'value': values})\n",
    "\n",
    "# Write the DataFrame to a BED file\n",
    "df.to_csv('selection_coef_test.bed', sep='\\t', header=False, index=False)\n",
    "\n",
    "# Optionally, print the contents of the BED file\n",
    "with open('selection_coef_test.bed', 'r') as f:\n",
    "    print(f.read())"
   ]
  },
  {
   "cell_type": "code",
   "execution_count": null,
   "id": "ddc3f102",
   "metadata": {},
   "outputs": [],
   "source": [
    "[113623, 472939, 511706, 512915, 620146, 710572, 1234970, 1302316]"
   ]
  },
  {
   "cell_type": "code",
   "execution_count": 530,
   "id": "64a54a01",
   "metadata": {},
   "outputs": [
    {
     "data": {
      "text/plain": [
       "745.0"
      ]
     },
     "execution_count": 530,
     "metadata": {},
     "output_type": "execute_result"
    }
   ],
   "source": [
    "1490/2"
   ]
  },
  {
   "cell_type": "code",
   "execution_count": null,
   "id": "79dcbb95",
   "metadata": {},
   "outputs": [],
   "source": []
  }
 ],
 "metadata": {
  "kernelspec": {
   "display_name": "simulations",
   "language": "python",
   "name": "python3"
  },
  "language_info": {
   "codemirror_mode": {
    "name": "ipython",
    "version": 3
   },
   "file_extension": ".py",
   "mimetype": "text/x-python",
   "name": "python",
   "nbconvert_exporter": "python",
   "pygments_lexer": "ipython3",
   "version": "3.10.9"
  },
  "vscode": {
   "interpreter": {
    "hash": "2c170c2cafb8c65435a744e157724b3d1ad9140b45d60c0c766e814f0b07766e"
   }
  }
 },
 "nbformat": 4,
 "nbformat_minor": 5
}
